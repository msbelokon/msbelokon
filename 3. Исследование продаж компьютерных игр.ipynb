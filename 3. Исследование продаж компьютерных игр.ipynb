{
 "cells": [
  {
   "cell_type": "markdown",
   "id": "1f9142e6",
   "metadata": {},
   "source": [
    "# Исследование продаж игр"
   ]
  },
  {
   "cell_type": "markdown",
   "id": "075fc618",
   "metadata": {},
   "source": [
    "## Оглавление"
   ]
  },
  {
   "cell_type": "markdown",
   "id": "8cfb3472",
   "metadata": {},
   "source": [
    "[Шаг 1. Откройте файл с данными и изучите общую информацию](#read_data)  \n",
    "\n",
    "[Шаг 2. Подготовьте данные](#preparing_data)  \n",
    "\n",
    "[Преобразование данных в нужные типы](#1)  \n",
    "[Пропуски и дубликаты](#2)\n",
    "\n",
    "[Шаг 3. Проведите исследовательский анализ данных](#analyze_data)  \n",
    "\n",
    "[Посмотрите, сколько игр выпускалось в разные годы. Важны ли данные за все периоды?](#3)  \n",
    "[Посмотрите, как менялись продажи по платформам.](#4)  \n",
    "[Выберите платформы с наибольшими суммарными продажами и постройте распределение по годам.](#5)  \n",
    "[За какой характерный срок появляются новые и исчезают старые платформы?](#6)  \n",
    "[Возьмите данные за соответствующий актуальный период.](#7)  \n",
    "[Какие платформы лидируют по продажам, растут или падают?](#8)  \n",
    "[Постройте график «ящик с усами» по глобальным продажам игр в разбивке по платформам.](#9)  \n",
    "[Посмотрите, как влияют на продажи внутри одной популярной платформы отзывы пользователей и критиков](#10)  \n",
    "[Посмотрите на общее распределение игр по жанрам.](#11)  \n",
    "\n",
    "[Шаг 4. Составьте портрет пользователя каждого региона](#client_portrait)  \n",
    "\n",
    "[Самые популярные платформы (топ-5). Опишите различия в долях продаж.](#12)  \n",
    "[Самые популярные жанры (топ-5). Поясните разницу.](#13)  \n",
    "[Влияет ли рейтинг ESRB на продажи в отдельном регионе?](#14)  \n",
    "\n",
    "[Шаг 5. Проверьте гипотезы](#hypothesis)  \n",
    "\n",
    "[Средние пользовательские рейтинги платформ Xbox One и PC одинаковые.](#15)  \n",
    "[Средние пользовательские рейтинги жанров Action (англ. «действие», экшен-игры) и Sports (англ. «спортивные соревнования») разные.](#16)  \n",
    "\n",
    "[Шаг 6. Напишите общий вывод](#conclusion)"
   ]
  },
  {
   "cell_type": "markdown",
   "id": "f0a216ee",
   "metadata": {},
   "source": [
    "Базовые вопросы обозначены 📌   "
   ]
  },
  {
   "cell_type": "markdown",
   "id": "988bf9c8",
   "metadata": {},
   "source": [
    "### Шаг 1. Откройте файл с данными и изучите общую информацию<a name=\"read_data\"></a>"
   ]
  },
  {
   "cell_type": "markdown",
   "id": "9671c3e1",
   "metadata": {},
   "source": [
    "Импорт необходимых библиотек"
   ]
  },
  {
   "cell_type": "code",
   "execution_count": 1,
   "id": "9c5cf9cc",
   "metadata": {},
   "outputs": [],
   "source": [
    "import pandas as pd\n",
    "import numpy as np\n",
    "import matplotlib.pyplot as plt\n",
    "from scipy import stats as st\n",
    "import seaborn as sns"
   ]
  },
  {
   "cell_type": "markdown",
   "id": "309d3f65",
   "metadata": {},
   "source": [
    "Чтение данных"
   ]
  },
  {
   "cell_type": "code",
   "execution_count": 2,
   "id": "fcc89462",
   "metadata": {},
   "outputs": [],
   "source": [
    "try:\n",
    "    df_games = pd.read_csv('/datasets/games.csv')\n",
    "except:\n",
    "    df_games = pd.read_csv('C:/Users/maxbe/Desktop/Яндекс.Практикум/python проекты/py/project5/games.csv')"
   ]
  },
  {
   "cell_type": "markdown",
   "id": "f77e8824",
   "metadata": {},
   "source": [
    "Копия данных для возможных сверок"
   ]
  },
  {
   "cell_type": "code",
   "execution_count": 3,
   "id": "3d57a5a0",
   "metadata": {},
   "outputs": [],
   "source": [
    "data_games = df_games.copy()"
   ]
  },
  {
   "cell_type": "markdown",
   "id": "8f2da368",
   "metadata": {},
   "source": [
    "Информация о данных в таблице"
   ]
  },
  {
   "cell_type": "code",
   "execution_count": 4,
   "id": "8f6aeddc",
   "metadata": {
    "scrolled": true
   },
   "outputs": [
    {
     "name": "stdout",
     "output_type": "stream",
     "text": [
      "<class 'pandas.core.frame.DataFrame'>\n",
      "RangeIndex: 16715 entries, 0 to 16714\n",
      "Data columns (total 11 columns):\n",
      " #   Column           Non-Null Count  Dtype  \n",
      "---  ------           --------------  -----  \n",
      " 0   Name             16713 non-null  object \n",
      " 1   Platform         16715 non-null  object \n",
      " 2   Year_of_Release  16446 non-null  float64\n",
      " 3   Genre            16713 non-null  object \n",
      " 4   NA_sales         16715 non-null  float64\n",
      " 5   EU_sales         16715 non-null  float64\n",
      " 6   JP_sales         16715 non-null  float64\n",
      " 7   Other_sales      16715 non-null  float64\n",
      " 8   Critic_Score     8137 non-null   float64\n",
      " 9   User_Score       10014 non-null  object \n",
      " 10  Rating           9949 non-null   object \n",
      "dtypes: float64(6), object(5)\n",
      "memory usage: 1.4+ MB\n"
     ]
    }
   ],
   "source": [
    "df_games.info()"
   ]
  },
  {
   "cell_type": "markdown",
   "id": "2d6d6543",
   "metadata": {},
   "source": [
    "Униклаьные годы выпуска игры."
   ]
  },
  {
   "cell_type": "code",
   "execution_count": 5,
   "id": "36ced443",
   "metadata": {},
   "outputs": [
    {
     "data": {
      "text/plain": [
       "array([2006., 1985., 2008., 2009., 1996., 1989., 1984., 2005., 1999.,\n",
       "       2007., 2010., 2013., 2004., 1990., 1988., 2002., 2001., 2011.,\n",
       "       1998., 2015., 2012., 2014., 1992., 1997., 1993., 1994., 1982.,\n",
       "       2016., 2003., 1986., 2000.,   nan, 1995., 1991., 1981., 1987.,\n",
       "       1980., 1983.])"
      ]
     },
     "execution_count": 5,
     "metadata": {},
     "output_type": "execute_result"
    }
   ],
   "source": [
    "df_games['Year_of_Release'].unique()"
   ]
  },
  {
   "cell_type": "markdown",
   "id": "b5c6a3ef",
   "metadata": {},
   "source": [
    "Визуальное представление данных"
   ]
  },
  {
   "cell_type": "code",
   "execution_count": 6,
   "id": "56f948eb",
   "metadata": {
    "scrolled": true
   },
   "outputs": [
    {
     "data": {
      "text/html": [
       "<div>\n",
       "<style scoped>\n",
       "    .dataframe tbody tr th:only-of-type {\n",
       "        vertical-align: middle;\n",
       "    }\n",
       "\n",
       "    .dataframe tbody tr th {\n",
       "        vertical-align: top;\n",
       "    }\n",
       "\n",
       "    .dataframe thead th {\n",
       "        text-align: right;\n",
       "    }\n",
       "</style>\n",
       "<table border=\"1\" class=\"dataframe\">\n",
       "  <thead>\n",
       "    <tr style=\"text-align: right;\">\n",
       "      <th></th>\n",
       "      <th>Name</th>\n",
       "      <th>Platform</th>\n",
       "      <th>Year_of_Release</th>\n",
       "      <th>Genre</th>\n",
       "      <th>NA_sales</th>\n",
       "      <th>EU_sales</th>\n",
       "      <th>JP_sales</th>\n",
       "      <th>Other_sales</th>\n",
       "      <th>Critic_Score</th>\n",
       "      <th>User_Score</th>\n",
       "      <th>Rating</th>\n",
       "    </tr>\n",
       "  </thead>\n",
       "  <tbody>\n",
       "    <tr>\n",
       "      <th>0</th>\n",
       "      <td>Wii Sports</td>\n",
       "      <td>Wii</td>\n",
       "      <td>2006.0</td>\n",
       "      <td>Sports</td>\n",
       "      <td>41.36</td>\n",
       "      <td>28.96</td>\n",
       "      <td>3.77</td>\n",
       "      <td>8.45</td>\n",
       "      <td>76.0</td>\n",
       "      <td>8</td>\n",
       "      <td>E</td>\n",
       "    </tr>\n",
       "  </tbody>\n",
       "</table>\n",
       "</div>"
      ],
      "text/plain": [
       "         Name Platform  Year_of_Release   Genre  NA_sales  EU_sales  JP_sales  \\\n",
       "0  Wii Sports      Wii           2006.0  Sports     41.36     28.96      3.77   \n",
       "\n",
       "   Other_sales  Critic_Score User_Score Rating  \n",
       "0         8.45          76.0          8      E  "
      ]
     },
     "execution_count": 6,
     "metadata": {},
     "output_type": "execute_result"
    }
   ],
   "source": [
    "df_games.head(1)"
   ]
  },
  {
   "cell_type": "markdown",
   "id": "8a3e947b",
   "metadata": {},
   "source": [
    "**Выводы по информации в info()**  \n",
    "\n",
    "**Изменение типов данных**  \n",
    "\n",
    "1. Year_of_Release поменяем с float на int  \n",
    "2. User_Score поменяем с float на int  \n",
    "\n",
    "**Пропуски**  \n",
    "\n",
    "Критичное количество пропусков в полях: Critic_Score, User_Score, Rating  \n",
    "Некритичное количество пропусков: Year_of_Release, Name, Genre  \n",
    "\n",
    "Пропуски рейтинга и оценок в столбцах лучше не менять. Скорее всего это значит, что игру не оценивали. Если заполним эти пропуски средним или медианой скорее всего создадим перекос данных в сторону среднего/медианы. То есть превалирующим значением в этом случае станет средняя или медиана.  \n",
    "\n",
    "Пропуски Year_of_Release, Name, Genre можно изучить подробнее и по итогу, заменить или удалить."
   ]
  },
  {
   "cell_type": "markdown",
   "id": "8f7e0dba",
   "metadata": {},
   "source": [
    "Перед изменением типов данных построим таблицу min, max, чтобы понять какой оптимальный тип данных подобрать исходя из мин.макс значений."
   ]
  },
  {
   "cell_type": "code",
   "execution_count": 7,
   "id": "a72e660b",
   "metadata": {
    "scrolled": true
   },
   "outputs": [
    {
     "data": {
      "text/html": [
       "<div>\n",
       "<style scoped>\n",
       "    .dataframe tbody tr th:only-of-type {\n",
       "        vertical-align: middle;\n",
       "    }\n",
       "\n",
       "    .dataframe tbody tr th {\n",
       "        vertical-align: top;\n",
       "    }\n",
       "\n",
       "    .dataframe thead th {\n",
       "        text-align: right;\n",
       "    }\n",
       "</style>\n",
       "<table border=\"1\" class=\"dataframe\">\n",
       "  <thead>\n",
       "    <tr style=\"text-align: right;\">\n",
       "      <th></th>\n",
       "      <th>min</th>\n",
       "      <th>max</th>\n",
       "    </tr>\n",
       "  </thead>\n",
       "  <tbody>\n",
       "    <tr>\n",
       "      <th>Critic_Score</th>\n",
       "      <td>13.0</td>\n",
       "      <td>98.00</td>\n",
       "    </tr>\n",
       "    <tr>\n",
       "      <th>Year_of_Release</th>\n",
       "      <td>1980.0</td>\n",
       "      <td>2016.00</td>\n",
       "    </tr>\n",
       "    <tr>\n",
       "      <th>NA_sales</th>\n",
       "      <td>0.0</td>\n",
       "      <td>41.36</td>\n",
       "    </tr>\n",
       "    <tr>\n",
       "      <th>JP_sales</th>\n",
       "      <td>0.0</td>\n",
       "      <td>10.22</td>\n",
       "    </tr>\n",
       "    <tr>\n",
       "      <th>Other_sales</th>\n",
       "      <td>0.0</td>\n",
       "      <td>10.57</td>\n",
       "    </tr>\n",
       "    <tr>\n",
       "      <th>Critic_Score</th>\n",
       "      <td>13.0</td>\n",
       "      <td>98.00</td>\n",
       "    </tr>\n",
       "  </tbody>\n",
       "</table>\n",
       "</div>"
      ],
      "text/plain": [
       "                    min      max\n",
       "Critic_Score       13.0    98.00\n",
       "Year_of_Release  1980.0  2016.00\n",
       "NA_sales            0.0    41.36\n",
       "JP_sales            0.0    10.22\n",
       "Other_sales         0.0    10.57\n",
       "Critic_Score       13.0    98.00"
      ]
     },
     "execution_count": 7,
     "metadata": {},
     "output_type": "execute_result"
    }
   ],
   "source": [
    "df_games[['Critic_Score', 'Year_of_Release', 'NA_sales', 'JP_sales', 'Other_sales', 'Critic_Score', 'User_Score']].describe(\n",
    "    ).loc[['min', 'max']].T"
   ]
  },
  {
   "cell_type": "markdown",
   "id": "f609d318",
   "metadata": {},
   "source": [
    "Числа в столбцах небольшие, можем заменить на типы данных float16 и uint16 для экономии памяти."
   ]
  },
  {
   "cell_type": "markdown",
   "id": "ce571e1a",
   "metadata": {},
   "source": [
    "## Шаг 2. Подготовьте данные<a name=\"preparing_data\"></a>"
   ]
  },
  {
   "cell_type": "markdown",
   "id": "9363edf1",
   "metadata": {},
   "source": [
    "#### Заменить названия столбцов (приведите к нижнему регистру)"
   ]
  },
  {
   "cell_type": "code",
   "execution_count": 8,
   "id": "6557a1e2",
   "metadata": {},
   "outputs": [
    {
     "data": {
      "text/plain": [
       "Index(['name', 'platform', 'year_of_release', 'genre', 'na_sales', 'eu_sales',\n",
       "       'jp_sales', 'other_sales', 'critic_score', 'user_score', 'rating'],\n",
       "      dtype='object')"
      ]
     },
     "execution_count": 8,
     "metadata": {},
     "output_type": "execute_result"
    }
   ],
   "source": [
    "#df_games.columns = map(str.lower, df_games.columns)\n",
    "df_games.columns = df_games.columns.str.lower()\n",
    "df_games.columns"
   ]
  },
  {
   "cell_type": "code",
   "execution_count": 9,
   "id": "79674073",
   "metadata": {},
   "outputs": [
    {
     "data": {
      "text/plain": [
       "Index(['name', 'platform', 'year_of_release', 'genre', 'na_sales', 'eu_sales',\n",
       "       'jp_sales', 'other_sales', 'critic_score', 'user_score', 'rating'],\n",
       "      dtype='object')"
      ]
     },
     "execution_count": 9,
     "metadata": {},
     "output_type": "execute_result"
    }
   ],
   "source": [
    "df_games.columns"
   ]
  },
  {
   "cell_type": "markdown",
   "id": "e2be5802",
   "metadata": {},
   "source": [
    "📌  \n",
    "#### Преобразование данных в нужные типы<a name=\"1\"></a>"
   ]
  },
  {
   "cell_type": "markdown",
   "id": "50039466",
   "metadata": {},
   "source": [
    "При попытке конвертации user_score в тип данных float выскакивает ошибка, что нельзя конвертировать 'tbd' в float.  \n",
    "Проверим количество значений 'tbd'"
   ]
  },
  {
   "cell_type": "code",
   "execution_count": 10,
   "id": "537d8ac0",
   "metadata": {
    "scrolled": false
   },
   "outputs": [
    {
     "data": {
      "text/plain": [
       "2424"
      ]
     },
     "execution_count": 10,
     "metadata": {},
     "output_type": "execute_result"
    }
   ],
   "source": [
    "df_games.query('user_score==\"tbd\"').shape[0]"
   ]
  },
  {
   "cell_type": "markdown",
   "id": "482e2e3d",
   "metadata": {},
   "source": [
    "Таких значений много, а расшифровка tbd = to be determined (подлежит уточнению).  \n",
    "Заменим значения 'tbd' на Na, т.к. уточнить сейчас не можем."
   ]
  },
  {
   "cell_type": "code",
   "execution_count": 11,
   "id": "dd753ad7",
   "metadata": {},
   "outputs": [],
   "source": [
    "df_games.loc[df_games['user_score']=='tbd', 'user_score'] = np.nan"
   ]
  },
  {
   "cell_type": "code",
   "execution_count": 12,
   "id": "d4fabaf2",
   "metadata": {},
   "outputs": [
    {
     "data": {
      "text/plain": [
       "0"
      ]
     },
     "execution_count": 12,
     "metadata": {},
     "output_type": "execute_result"
    }
   ],
   "source": [
    "df_games.query('user_score==\"tbd\"').shape[0]"
   ]
  },
  {
   "cell_type": "markdown",
   "id": "58cff4d3",
   "metadata": {},
   "source": [
    "Конвертация float64 в float32 с помощью работы со списком for."
   ]
  },
  {
   "cell_type": "code",
   "execution_count": 13,
   "id": "d927e6ae",
   "metadata": {},
   "outputs": [
    {
     "data": {
      "text/plain": [
       "Index(['na_sales', 'eu_sales', 'jp_sales', 'other_sales', 'critic_score'], dtype='object')"
      ]
     },
     "execution_count": 13,
     "metadata": {},
     "output_type": "execute_result"
    }
   ],
   "source": [
    "df_games.columns[4:9]"
   ]
  },
  {
   "cell_type": "code",
   "execution_count": 14,
   "id": "af734732",
   "metadata": {},
   "outputs": [],
   "source": [
    "for i in df_games.columns[4:9]:\n",
    "    df_games[i] = df_games[i].astype('float32')"
   ]
  },
  {
   "cell_type": "markdown",
   "id": "b7180299",
   "metadata": {},
   "source": [
    "Конвертация 'year_of_release' в int32, 'user_score' в float32"
   ]
  },
  {
   "cell_type": "code",
   "execution_count": 15,
   "id": "0ba78e8a",
   "metadata": {},
   "outputs": [],
   "source": [
    "df_games['year_of_release'] = np.array(df_games['year_of_release'], np.uint16)\n",
    "df_games['user_score'] = np.array(df_games['user_score'], np.float32)"
   ]
  },
  {
   "cell_type": "markdown",
   "id": "661bc833",
   "metadata": {},
   "source": [
    "Проверка преобразования типов"
   ]
  },
  {
   "cell_type": "code",
   "execution_count": 16,
   "id": "3af6559f",
   "metadata": {
    "scrolled": true
   },
   "outputs": [
    {
     "data": {
      "text/plain": [
       "name                object\n",
       "platform            object\n",
       "year_of_release     uint16\n",
       "genre               object\n",
       "na_sales           float32\n",
       "eu_sales           float32\n",
       "jp_sales           float32\n",
       "other_sales        float32\n",
       "critic_score       float32\n",
       "user_score         float32\n",
       "rating              object\n",
       "dtype: object"
      ]
     },
     "execution_count": 16,
     "metadata": {},
     "output_type": "execute_result"
    }
   ],
   "source": [
    "df_games.dtypes"
   ]
  },
  {
   "cell_type": "markdown",
   "id": "80403dfe",
   "metadata": {},
   "source": [
    "📌  \n",
    "#### Пропуски и дубликаты<a name=\"2\"></a>"
   ]
  },
  {
   "cell_type": "markdown",
   "id": "a0beea1c",
   "metadata": {},
   "source": [
    "☑️ Посмотрим % пропусков по столбцам."
   ]
  },
  {
   "cell_type": "code",
   "execution_count": 17,
   "id": "200f7209",
   "metadata": {},
   "outputs": [
    {
     "name": "stdout",
     "output_type": "stream",
     "text": [
      "☑️\n"
     ]
    },
    {
     "data": {
      "text/plain": [
       "user_score         54.59\n",
       "critic_score       51.32\n",
       "rating             40.48\n",
       "name                0.01\n",
       "genre               0.01\n",
       "platform            0.00\n",
       "year_of_release     0.00\n",
       "na_sales            0.00\n",
       "eu_sales            0.00\n",
       "jp_sales            0.00\n",
       "other_sales         0.00\n",
       "dtype: float64"
      ]
     },
     "execution_count": 17,
     "metadata": {},
     "output_type": "execute_result"
    }
   ],
   "source": [
    "print('☑️')\n",
    "round(df_games.isna().sum() * 100 / len(df_games), 2).sort_values(ascending=False)"
   ]
  },
  {
   "cell_type": "markdown",
   "id": "e1ea1376",
   "metadata": {},
   "source": [
    "Посмотрим другие пропуски Year_of_Release, Name, Genre."
   ]
  },
  {
   "cell_type": "markdown",
   "id": "eb4ad6c8",
   "metadata": {},
   "source": [
    "**Year_of_Release, Name, Genre**"
   ]
  },
  {
   "cell_type": "markdown",
   "id": "3461aae0",
   "metadata": {},
   "source": [
    "Проверка Na в 'name'"
   ]
  },
  {
   "cell_type": "code",
   "execution_count": 18,
   "id": "02f63ee8",
   "metadata": {
    "scrolled": true
   },
   "outputs": [
    {
     "data": {
      "text/plain": [
       "2"
      ]
     },
     "execution_count": 18,
     "metadata": {},
     "output_type": "execute_result"
    }
   ],
   "source": [
    "df_games.loc[df_games['name'].isna()==True].shape[0]"
   ]
  },
  {
   "cell_type": "markdown",
   "id": "65cd9eea",
   "metadata": {},
   "source": [
    "Значений мало = 2 и они плохо заполнены (нет жанра, рейтинга), их можно удалить."
   ]
  },
  {
   "cell_type": "code",
   "execution_count": 19,
   "id": "bd0c0c81",
   "metadata": {},
   "outputs": [],
   "source": [
    "df_games = df_games.dropna(subset=['name']);"
   ]
  },
  {
   "cell_type": "markdown",
   "id": "5f8b72fa",
   "metadata": {},
   "source": [
    "☑️Проверка, что Na значения 'name' удалены."
   ]
  },
  {
   "cell_type": "code",
   "execution_count": 20,
   "id": "1daf14cf",
   "metadata": {},
   "outputs": [
    {
     "name": "stdout",
     "output_type": "stream",
     "text": [
      "☑️\n"
     ]
    },
    {
     "data": {
      "text/plain": [
       "0"
      ]
     },
     "execution_count": 20,
     "metadata": {},
     "output_type": "execute_result"
    }
   ],
   "source": [
    "print('☑️')\n",
    "df_games.loc[df_games['name'].isna()==True].shape[0]"
   ]
  },
  {
   "cell_type": "markdown",
   "id": "8fb8906f",
   "metadata": {},
   "source": [
    "Проверка Na в 'year_of_release'"
   ]
  },
  {
   "cell_type": "code",
   "execution_count": 21,
   "id": "82dc24db",
   "metadata": {},
   "outputs": [
    {
     "data": {
      "text/plain": [
       "0"
      ]
     },
     "execution_count": 21,
     "metadata": {},
     "output_type": "execute_result"
    }
   ],
   "source": [
    "df_games.loc[df_games['year_of_release'].isna()==True].shape[0]"
   ]
  },
  {
   "cell_type": "markdown",
   "id": "b5d763d6",
   "metadata": {},
   "source": [
    "После преобразования типов значения Na в столбце год размещения заменились на 0."
   ]
  },
  {
   "cell_type": "code",
   "execution_count": 22,
   "id": "14e19033",
   "metadata": {},
   "outputs": [
    {
     "data": {
      "text/plain": [
       "array([2006, 1985, 2008, 2009, 1996, 1989, 1984, 2005, 1999, 2007, 2010,\n",
       "       2013, 2004, 1990, 1988, 2002, 2001, 2011, 1998, 2015, 2012, 2014,\n",
       "       1992, 1997, 1993, 1994, 1982, 2016, 2003, 1986, 2000,    0, 1995,\n",
       "       1991, 1981, 1987, 1980, 1983], dtype=uint16)"
      ]
     },
     "execution_count": 22,
     "metadata": {},
     "output_type": "execute_result"
    }
   ],
   "source": [
    "df_games['year_of_release'].unique()"
   ]
  },
  {
   "cell_type": "markdown",
   "id": "c98d34ea",
   "metadata": {},
   "source": [
    "Первые 5 пропусков года выпуска."
   ]
  },
  {
   "cell_type": "code",
   "execution_count": 23,
   "id": "546c2818",
   "metadata": {
    "scrolled": false
   },
   "outputs": [
    {
     "data": {
      "text/html": [
       "<div>\n",
       "<style scoped>\n",
       "    .dataframe tbody tr th:only-of-type {\n",
       "        vertical-align: middle;\n",
       "    }\n",
       "\n",
       "    .dataframe tbody tr th {\n",
       "        vertical-align: top;\n",
       "    }\n",
       "\n",
       "    .dataframe thead th {\n",
       "        text-align: right;\n",
       "    }\n",
       "</style>\n",
       "<table border=\"1\" class=\"dataframe\">\n",
       "  <thead>\n",
       "    <tr style=\"text-align: right;\">\n",
       "      <th></th>\n",
       "      <th>name</th>\n",
       "      <th>platform</th>\n",
       "      <th>year_of_release</th>\n",
       "      <th>genre</th>\n",
       "      <th>na_sales</th>\n",
       "      <th>eu_sales</th>\n",
       "      <th>jp_sales</th>\n",
       "      <th>other_sales</th>\n",
       "      <th>critic_score</th>\n",
       "      <th>user_score</th>\n",
       "      <th>rating</th>\n",
       "    </tr>\n",
       "  </thead>\n",
       "  <tbody>\n",
       "    <tr>\n",
       "      <th>183</th>\n",
       "      <td>Madden NFL 2004</td>\n",
       "      <td>PS2</td>\n",
       "      <td>0</td>\n",
       "      <td>Sports</td>\n",
       "      <td>4.26</td>\n",
       "      <td>0.26</td>\n",
       "      <td>0.01</td>\n",
       "      <td>0.71</td>\n",
       "      <td>94.0</td>\n",
       "      <td>8.5</td>\n",
       "      <td>E</td>\n",
       "    </tr>\n",
       "    <tr>\n",
       "      <th>377</th>\n",
       "      <td>FIFA Soccer 2004</td>\n",
       "      <td>PS2</td>\n",
       "      <td>0</td>\n",
       "      <td>Sports</td>\n",
       "      <td>0.59</td>\n",
       "      <td>2.36</td>\n",
       "      <td>0.04</td>\n",
       "      <td>0.51</td>\n",
       "      <td>84.0</td>\n",
       "      <td>6.4</td>\n",
       "      <td>E</td>\n",
       "    </tr>\n",
       "    <tr>\n",
       "      <th>456</th>\n",
       "      <td>LEGO Batman: The Videogame</td>\n",
       "      <td>Wii</td>\n",
       "      <td>0</td>\n",
       "      <td>Action</td>\n",
       "      <td>1.80</td>\n",
       "      <td>0.97</td>\n",
       "      <td>0.00</td>\n",
       "      <td>0.29</td>\n",
       "      <td>74.0</td>\n",
       "      <td>7.9</td>\n",
       "      <td>E10+</td>\n",
       "    </tr>\n",
       "    <tr>\n",
       "      <th>475</th>\n",
       "      <td>wwe Smackdown vs. Raw 2006</td>\n",
       "      <td>PS2</td>\n",
       "      <td>0</td>\n",
       "      <td>Fighting</td>\n",
       "      <td>1.57</td>\n",
       "      <td>1.02</td>\n",
       "      <td>0.00</td>\n",
       "      <td>0.41</td>\n",
       "      <td>NaN</td>\n",
       "      <td>NaN</td>\n",
       "      <td>NaN</td>\n",
       "    </tr>\n",
       "    <tr>\n",
       "      <th>609</th>\n",
       "      <td>Space Invaders</td>\n",
       "      <td>2600</td>\n",
       "      <td>0</td>\n",
       "      <td>Shooter</td>\n",
       "      <td>2.36</td>\n",
       "      <td>0.14</td>\n",
       "      <td>0.00</td>\n",
       "      <td>0.03</td>\n",
       "      <td>NaN</td>\n",
       "      <td>NaN</td>\n",
       "      <td>NaN</td>\n",
       "    </tr>\n",
       "  </tbody>\n",
       "</table>\n",
       "</div>"
      ],
      "text/plain": [
       "                           name platform  year_of_release     genre  na_sales  \\\n",
       "183             Madden NFL 2004      PS2                0    Sports      4.26   \n",
       "377            FIFA Soccer 2004      PS2                0    Sports      0.59   \n",
       "456  LEGO Batman: The Videogame      Wii                0    Action      1.80   \n",
       "475  wwe Smackdown vs. Raw 2006      PS2                0  Fighting      1.57   \n",
       "609              Space Invaders     2600                0   Shooter      2.36   \n",
       "\n",
       "     eu_sales  jp_sales  other_sales  critic_score  user_score rating  \n",
       "183      0.26      0.01         0.71          94.0         8.5      E  \n",
       "377      2.36      0.04         0.51          84.0         6.4      E  \n",
       "456      0.97      0.00         0.29          74.0         7.9   E10+  \n",
       "475      1.02      0.00         0.41           NaN         NaN    NaN  \n",
       "609      0.14      0.00         0.03           NaN         NaN    NaN  "
      ]
     },
     "execution_count": 23,
     "metadata": {},
     "output_type": "execute_result"
    }
   ],
   "source": [
    "df_games.query('year_of_release==0').head(5)"
   ]
  },
  {
   "cell_type": "markdown",
   "id": "24f71e62",
   "metadata": {},
   "source": [
    "Есть две идеи замены года:  \n",
    "1. Возможно есть дубликаты игр с названием игры , где указан год. Например, игра могла выйти на разных платформах.  \n",
    "2. Год есть в названии, можно заполнить из названия (но тут могут быть различия; например, релиз на год раньше года игры).  \n",
    "\n",
    "В первую очередь проверим дубликаты."
   ]
  },
  {
   "cell_type": "markdown",
   "id": "75de634d",
   "metadata": {},
   "source": [
    "Уникальных значений 'name'"
   ]
  },
  {
   "cell_type": "code",
   "execution_count": 24,
   "id": "4ae32710",
   "metadata": {
    "scrolled": true
   },
   "outputs": [
    {
     "data": {
      "text/plain": [
       "11559"
      ]
     },
     "execution_count": 24,
     "metadata": {},
     "output_type": "execute_result"
    }
   ],
   "source": [
    "len(df_games['name'].unique())"
   ]
  },
  {
   "cell_type": "markdown",
   "id": "137dba6e",
   "metadata": {},
   "source": [
    "Дубликатов 'name'"
   ]
  },
  {
   "cell_type": "code",
   "execution_count": 25,
   "id": "751f4a05",
   "metadata": {
    "scrolled": true
   },
   "outputs": [
    {
     "data": {
      "text/plain": [
       "5154"
      ]
     },
     "execution_count": 25,
     "metadata": {},
     "output_type": "execute_result"
    }
   ],
   "source": [
    "df_games[df_games['name'].duplicated()==True].shape[0]"
   ]
  },
  {
   "cell_type": "markdown",
   "id": "5b92c1ad",
   "metadata": {},
   "source": [
    "Сформируем уникальные значения дуликатов 'name', 'year_of_release'"
   ]
  },
  {
   "cell_type": "code",
   "execution_count": 26,
   "id": "5aa1f5d4",
   "metadata": {
    "scrolled": true
   },
   "outputs": [],
   "source": [
    "name_year = df_games.loc[(df_games['name'].duplicated()==True) & (\n",
    "    df_games['year_of_release']!=0)][['name', 'year_of_release']]"
   ]
  },
  {
   "cell_type": "markdown",
   "id": "92673139",
   "metadata": {},
   "source": [
    "Запись имен с пустым значением года в переменную 'name_na_year'"
   ]
  },
  {
   "cell_type": "code",
   "execution_count": 27,
   "id": "4bf55129",
   "metadata": {},
   "outputs": [],
   "source": [
    "name_na_year = df_games.query('year_of_release==0')['name'].to_frame()"
   ]
  },
  {
   "cell_type": "markdown",
   "id": "888ad42b",
   "metadata": {},
   "source": [
    "Добавим значения года к именам без года с помощью merge"
   ]
  },
  {
   "cell_type": "code",
   "execution_count": 28,
   "id": "ff633337",
   "metadata": {},
   "outputs": [],
   "source": [
    "name_na_year = name_na_year.merge(name_year, on='name', how='left')"
   ]
  },
  {
   "cell_type": "markdown",
   "id": "4f0af42f",
   "metadata": {},
   "source": [
    "Удалим дубликаты в созданной таблице."
   ]
  },
  {
   "cell_type": "code",
   "execution_count": 29,
   "id": "1293d73e",
   "metadata": {
    "scrolled": true
   },
   "outputs": [],
   "source": [
    "name_na_year = name_na_year.drop_duplicates().reset_index(drop=True);"
   ]
  },
  {
   "cell_type": "code",
   "execution_count": 30,
   "id": "dadb8c57",
   "metadata": {},
   "outputs": [],
   "source": [
    "name_na_year = name_na_year.loc[name_na_year['year_of_release'].isna()==False]"
   ]
  },
  {
   "cell_type": "code",
   "execution_count": 31,
   "id": "c9105cb1",
   "metadata": {},
   "outputs": [],
   "source": [
    "df_games = df_games.merge(name_na_year, on='name', how='left')"
   ]
  },
  {
   "cell_type": "markdown",
   "id": "db7be8bb",
   "metadata": {},
   "source": [
    "Значений без года до замены"
   ]
  },
  {
   "cell_type": "code",
   "execution_count": 32,
   "id": "3ca49d9b",
   "metadata": {},
   "outputs": [
    {
     "data": {
      "text/plain": [
       "278"
      ]
     },
     "execution_count": 32,
     "metadata": {},
     "output_type": "execute_result"
    }
   ],
   "source": [
    "df_games.loc[df_games['year_of_release_x']==0].shape[0]"
   ]
  },
  {
   "cell_type": "code",
   "execution_count": 33,
   "id": "15ecd598",
   "metadata": {},
   "outputs": [],
   "source": [
    "df_games.loc[df_games['year_of_release_x']==0, 'year_of_release_x'] = df_games.loc[\n",
    "    df_games['year_of_release_x']==0, 'year_of_release_y']"
   ]
  },
  {
   "cell_type": "markdown",
   "id": "44afbda9",
   "metadata": {},
   "source": [
    "Значений без года после замены"
   ]
  },
  {
   "cell_type": "code",
   "execution_count": 34,
   "id": "4647d32f",
   "metadata": {
    "scrolled": true
   },
   "outputs": [
    {
     "data": {
      "text/plain": [
       "176"
      ]
     },
     "execution_count": 34,
     "metadata": {},
     "output_type": "execute_result"
    }
   ],
   "source": [
    "df_games.loc[df_games['year_of_release_x'].isna()==True].shape[0]"
   ]
  },
  {
   "cell_type": "markdown",
   "id": "4c29a9c3",
   "metadata": {},
   "source": [
    "% пустых значений в годе выпуска"
   ]
  },
  {
   "cell_type": "code",
   "execution_count": 35,
   "id": "60c012a6",
   "metadata": {
    "scrolled": true
   },
   "outputs": [
    {
     "data": {
      "text/plain": [
       "1.0507462686567164"
      ]
     },
     "execution_count": 35,
     "metadata": {},
     "output_type": "execute_result"
    }
   ],
   "source": [
    "df_games.loc[df_games['year_of_release_x'].isna()==True].shape[0] / len(df_games['year_of_release_x']) * 100"
   ]
  },
  {
   "cell_type": "markdown",
   "id": "04f32eaa",
   "metadata": {},
   "source": [
    "Часть значений удалось сохранить, но осталось еще 176 значений Na по году выпуска.  \n",
    "Год выпуска в нашей работе значимое поле, а пропусков в нем мало 1%.  \n",
    "Удалим оставшиеся 176 пустых значений и приведем таблицу в первоначальный вид."
   ]
  },
  {
   "cell_type": "code",
   "execution_count": 36,
   "id": "1f24ff86",
   "metadata": {},
   "outputs": [],
   "source": [
    "df_games.pop('year_of_release_y');"
   ]
  },
  {
   "cell_type": "code",
   "execution_count": 37,
   "id": "9a69cc2b",
   "metadata": {},
   "outputs": [],
   "source": [
    "df_games = df_games.dropna(subset=['year_of_release_x'])"
   ]
  },
  {
   "cell_type": "code",
   "execution_count": 38,
   "id": "927d2a7b",
   "metadata": {},
   "outputs": [],
   "source": [
    "df_games = df_games.rename(columns={'year_of_release_x': 'year_of_release'})"
   ]
  },
  {
   "cell_type": "code",
   "execution_count": 39,
   "id": "f54b3ab0",
   "metadata": {},
   "outputs": [],
   "source": [
    "df_games['year_of_release'] = np.array(df_games['year_of_release'], np.uint16)"
   ]
  },
  {
   "cell_type": "markdown",
   "id": "20c464f1",
   "metadata": {},
   "source": [
    "☑️\n",
    "Пропуски в столбцах 'user_score', 'critic_score' не заполнены по причине отсутсвтия оценок критиками или пользователями.  Такие пропуски объекивны, удалять такие пропуски не будем, чтобы не терять данные в других столбцах.\n",
    "\n",
    "Entertainment Software Rating Board - это рейтинг Американского рейтинового агентства, скорее всего данный рейтинг не присваивался играм выпущенным в других странах. Достоврено не можем знать какой был бы рейтинг в случае оценки, поэтому заменим пропуски игр с таким рейтингом на подлежит уточнению, 'tbd' = to be determined."
   ]
  },
  {
   "cell_type": "code",
   "execution_count": 40,
   "id": "8f86e746",
   "metadata": {},
   "outputs": [
    {
     "name": "stdout",
     "output_type": "stream",
     "text": [
      "☑️\n"
     ]
    }
   ],
   "source": [
    "print('☑️')\n",
    "df_games['rating'] = df_games['rating'].fillna('tbd')"
   ]
  },
  {
   "cell_type": "code",
   "execution_count": 41,
   "id": "f19c1426",
   "metadata": {},
   "outputs": [
    {
     "name": "stdout",
     "output_type": "stream",
     "text": [
      "☑️\n"
     ]
    },
    {
     "data": {
      "text/plain": [
       "6706"
      ]
     },
     "execution_count": 41,
     "metadata": {},
     "output_type": "execute_result"
    }
   ],
   "source": [
    "print('☑️')\n",
    "df_games[df_games['rating']=='tbd']['rating'].count()"
   ]
  },
  {
   "cell_type": "markdown",
   "id": "14bce47a",
   "metadata": {},
   "source": [
    "**Посчитайте суммарные продажи во всех регионах и запишите их в отдельный столбец**"
   ]
  },
  {
   "cell_type": "markdown",
   "id": "69943289",
   "metadata": {},
   "source": [
    "Визуально оценим таблицу после предобработки"
   ]
  },
  {
   "cell_type": "code",
   "execution_count": 42,
   "id": "61c12913",
   "metadata": {},
   "outputs": [
    {
     "data": {
      "text/html": [
       "<div>\n",
       "<style scoped>\n",
       "    .dataframe tbody tr th:only-of-type {\n",
       "        vertical-align: middle;\n",
       "    }\n",
       "\n",
       "    .dataframe tbody tr th {\n",
       "        vertical-align: top;\n",
       "    }\n",
       "\n",
       "    .dataframe thead th {\n",
       "        text-align: right;\n",
       "    }\n",
       "</style>\n",
       "<table border=\"1\" class=\"dataframe\">\n",
       "  <thead>\n",
       "    <tr style=\"text-align: right;\">\n",
       "      <th></th>\n",
       "      <th>name</th>\n",
       "      <th>platform</th>\n",
       "      <th>year_of_release</th>\n",
       "      <th>genre</th>\n",
       "      <th>na_sales</th>\n",
       "      <th>eu_sales</th>\n",
       "      <th>jp_sales</th>\n",
       "      <th>other_sales</th>\n",
       "      <th>critic_score</th>\n",
       "      <th>user_score</th>\n",
       "      <th>rating</th>\n",
       "    </tr>\n",
       "  </thead>\n",
       "  <tbody>\n",
       "    <tr>\n",
       "      <th>0</th>\n",
       "      <td>Wii Sports</td>\n",
       "      <td>Wii</td>\n",
       "      <td>2006</td>\n",
       "      <td>Sports</td>\n",
       "      <td>41.360001</td>\n",
       "      <td>28.959999</td>\n",
       "      <td>3.77</td>\n",
       "      <td>8.45</td>\n",
       "      <td>76.0</td>\n",
       "      <td>8.0</td>\n",
       "      <td>E</td>\n",
       "    </tr>\n",
       "  </tbody>\n",
       "</table>\n",
       "</div>"
      ],
      "text/plain": [
       "         name platform  year_of_release   genre   na_sales   eu_sales  \\\n",
       "0  Wii Sports      Wii             2006  Sports  41.360001  28.959999   \n",
       "\n",
       "   jp_sales  other_sales  critic_score  user_score rating  \n",
       "0      3.77         8.45          76.0         8.0      E  "
      ]
     },
     "execution_count": 42,
     "metadata": {},
     "output_type": "execute_result"
    }
   ],
   "source": [
    "df_games.head(1)"
   ]
  },
  {
   "cell_type": "markdown",
   "id": "3cd84aa4",
   "metadata": {},
   "source": [
    "Суммируем продажи по регионам в 'sales_amount'"
   ]
  },
  {
   "cell_type": "code",
   "execution_count": 43,
   "id": "c6c1240c",
   "metadata": {},
   "outputs": [],
   "source": [
    "df_games['sales_amount'] = df_games['na_sales'] + df_games['eu_sales'] + df_games['jp_sales'] + df_games['other_sales']"
   ]
  },
  {
   "cell_type": "markdown",
   "id": "91ceaac6",
   "metadata": {},
   "source": [
    "Удалим строки с пустыми общими продажами, т.к. продажи в год это ключевой показатель."
   ]
  },
  {
   "cell_type": "markdown",
   "id": "78e7d4e1",
   "metadata": {},
   "source": [
    "Строк с пустыми продажами"
   ]
  },
  {
   "cell_type": "code",
   "execution_count": 44,
   "id": "8b16a7a4",
   "metadata": {
    "scrolled": true
   },
   "outputs": [
    {
     "data": {
      "text/plain": [
       "2"
      ]
     },
     "execution_count": 44,
     "metadata": {},
     "output_type": "execute_result"
    }
   ],
   "source": [
    "df_games[df_games['sales_amount']==0.0].shape[0]"
   ]
  },
  {
   "cell_type": "code",
   "execution_count": 45,
   "id": "a9ed1f99",
   "metadata": {
    "scrolled": true
   },
   "outputs": [],
   "source": [
    "df_games = df_games[df_games['sales_amount']!=0.0]"
   ]
  },
  {
   "cell_type": "markdown",
   "id": "745bfd4b",
   "metadata": {},
   "source": [
    "**Удаление дубликатов**"
   ]
  },
  {
   "cell_type": "code",
   "execution_count": 46,
   "id": "bb92a880",
   "metadata": {},
   "outputs": [
    {
     "data": {
      "text/plain": [
       "28"
      ]
     },
     "execution_count": 46,
     "metadata": {},
     "output_type": "execute_result"
    }
   ],
   "source": [
    "df_games.duplicated().sum()"
   ]
  },
  {
   "cell_type": "code",
   "execution_count": 47,
   "id": "ba3b53b6",
   "metadata": {},
   "outputs": [],
   "source": [
    "df_games = df_games.drop_duplicates().reset_index(drop=True)"
   ]
  },
  {
   "cell_type": "code",
   "execution_count": 48,
   "id": "1c44724e",
   "metadata": {},
   "outputs": [
    {
     "data": {
      "text/plain": [
       "0"
      ]
     },
     "execution_count": 48,
     "metadata": {},
     "output_type": "execute_result"
    }
   ],
   "source": [
    "df_games.duplicated().sum()"
   ]
  },
  {
   "cell_type": "markdown",
   "id": "5b55da9b",
   "metadata": {},
   "source": [
    "☑️ т.к. уникальная сущность платформа - игра, то проверим дубликаты по значению игра - платформа.  \n",
    "*Игра не уникальна , т.к. может быть выпущена неколькими платформами."
   ]
  },
  {
   "cell_type": "code",
   "execution_count": 49,
   "id": "2655905f",
   "metadata": {
    "scrolled": true
   },
   "outputs": [
    {
     "name": "stdout",
     "output_type": "stream",
     "text": [
      "☑️\n"
     ]
    },
    {
     "data": {
      "text/plain": [
       "13"
      ]
     },
     "execution_count": 49,
     "metadata": {},
     "output_type": "execute_result"
    }
   ],
   "source": [
    "print('☑️')\n",
    "df_games.duplicated(subset=['name', 'platform']).sum()"
   ]
  },
  {
   "cell_type": "markdown",
   "id": "63afd82c",
   "metadata": {},
   "source": [
    "☑️ т.к. дубликатов платформы немного (всего 13) , просто удалим их , это не должно существенно повлиять на результаты исследования."
   ]
  },
  {
   "cell_type": "code",
   "execution_count": 50,
   "id": "793efff2",
   "metadata": {
    "scrolled": true
   },
   "outputs": [
    {
     "name": "stdout",
     "output_type": "stream",
     "text": [
      "☑️\n"
     ]
    }
   ],
   "source": [
    "print('☑️')\n",
    "df_games = df_games.drop(df_games.index[[16228, 5971, 4127, 1591]])"
   ]
  },
  {
   "cell_type": "code",
   "execution_count": 51,
   "id": "d745b001",
   "metadata": {
    "scrolled": true
   },
   "outputs": [
    {
     "name": "stdout",
     "output_type": "stream",
     "text": [
      "☑️\n"
     ]
    },
    {
     "data": {
      "text/plain": [
       "13"
      ]
     },
     "execution_count": 51,
     "metadata": {},
     "output_type": "execute_result"
    }
   ],
   "source": [
    "print('☑️')\n",
    "df_games.duplicated(subset=['name', 'platform']).sum()"
   ]
  },
  {
   "cell_type": "code",
   "execution_count": 52,
   "id": "561284da",
   "metadata": {},
   "outputs": [],
   "source": [
    "df_games = df_games.drop_duplicates(subset=['name', 'platform']).reset_index(drop=True) "
   ]
  },
  {
   "cell_type": "markdown",
   "id": "258e1796",
   "metadata": {},
   "source": [
    "**Заменим рейтинг K-A на E, т.к. это K-A устаревшее обозначение**"
   ]
  },
  {
   "cell_type": "code",
   "execution_count": 53,
   "id": "4072347a",
   "metadata": {
    "scrolled": true
   },
   "outputs": [],
   "source": [
    "df_games.loc[df_games['rating']=='K-A', 'rating'] = 'E'"
   ]
  },
  {
   "cell_type": "code",
   "execution_count": 54,
   "id": "eec46ffd",
   "metadata": {},
   "outputs": [
    {
     "data": {
      "text/plain": [
       "0"
      ]
     },
     "execution_count": 54,
     "metadata": {},
     "output_type": "execute_result"
    }
   ],
   "source": [
    "df_games[df_games.duplicated(subset=['name', 'platform'])==True].shape[0]"
   ]
  },
  {
   "cell_type": "markdown",
   "id": "a6b6fb7e",
   "metadata": {},
   "source": [
    "### Шаг 3. Проведите исследовательский анализ данных<a name=\"analyze_data\"></a>"
   ]
  },
  {
   "cell_type": "markdown",
   "id": "04e0005f",
   "metadata": {},
   "source": [
    "📌  \n",
    "Посмотрите, сколько игр выпускалось в разные годы. Важны ли данные за все периоды?<a name=\"3\"></a>"
   ]
  },
  {
   "cell_type": "markdown",
   "id": "d8a0eb16",
   "metadata": {},
   "source": [
    "Выпуски игр в табличной форме"
   ]
  },
  {
   "cell_type": "code",
   "execution_count": 55,
   "id": "c62a669f",
   "metadata": {},
   "outputs": [
    {
     "data": {
      "text/plain": [
       "year_of_release\n",
       "1980       9\n",
       "1981      46\n",
       "1982      36\n",
       "1983      17\n",
       "1984      14\n",
       "1985      14\n",
       "1986      21\n",
       "1987      16\n",
       "1988      15\n",
       "1989      17\n",
       "1990      16\n",
       "1991      41\n",
       "1992      43\n",
       "1993      60\n",
       "1994     122\n",
       "1995     219\n",
       "1996     263\n",
       "1997     289\n",
       "1998     379\n",
       "1999     338\n",
       "2000     351\n",
       "2001     484\n",
       "2002     840\n",
       "2003     784\n",
       "2004     763\n",
       "2005     944\n",
       "2006    1017\n",
       "2007    1200\n",
       "2008    1434\n",
       "2009    1428\n",
       "2010    1266\n",
       "2011    1146\n",
       "2012     659\n",
       "2013     547\n",
       "2014     581\n",
       "2015     606\n",
       "2016     502\n",
       "Name: year_of_release, dtype: int64"
      ]
     },
     "execution_count": 55,
     "metadata": {},
     "output_type": "execute_result"
    }
   ],
   "source": [
    "df_games.groupby('year_of_release')['year_of_release'].count()"
   ]
  },
  {
   "cell_type": "markdown",
   "id": "8b58eb92",
   "metadata": {},
   "source": [
    "График выпуска игр по годам"
   ]
  },
  {
   "cell_type": "code",
   "execution_count": 56,
   "id": "460e5002",
   "metadata": {
    "scrolled": true
   },
   "outputs": [
    {
     "data": {
      "image/png": "[encoded data removed]",
      "text/plain": [
       "<Figure size 1152x288 with 1 Axes>"
      ]
     },
     "metadata": {
      "needs_background": "light"
     },
     "output_type": "display_data"
    }
   ],
   "source": [
    "df_games.groupby('year_of_release')['name'].count().plot(kind=\"bar\", figsize=(16, 4), grid=True);\n",
    "plt.xlabel('Год выпуска');\n",
    "plt.ylabel('Количество выпущенных игр');\n",
    "plt.title('Количество выпущенных игр по году выпуска');"
   ]
  },
  {
   "cell_type": "markdown",
   "id": "ec6decc8",
   "metadata": {},
   "source": [
    "**Вывод**  \n",
    "Больше всего игры было выпущено в 2008 и 2009 годах.  \n",
    "До 2009 был рост количества игр, В 2012 произошел резкий спад.\n",
    "___________________________________________________________________________________________"
   ]
  },
  {
   "cell_type": "markdown",
   "id": "29cb1574",
   "metadata": {},
   "source": [
    "☑️**Вывод**\n",
    "\n",
    "Важны ли данные за все периоды?  \n",
    "Зависит от целей.\n",
    "\n",
    "Например, чтобы понять росло или падало количество выпускаемых игр (насыщение рынка) нам важны данные за большой промежуток времени.\n",
    "\n",
    "Наша цель: Вам нужно выявить определяющие успешность игры закономерности.  \n",
    "Для такой большое период скорее является излишним, т.к. среда конкурентная, популярность игр, консолей и даже жанров быстрое меняется.  \n",
    "\n",
    "Поэтому работа с данными за выбранный актуальный период несколько лет \n",
    "___________________________________________________________________________________________"
   ]
  },
  {
   "cell_type": "markdown",
   "id": "ef1d22b1",
   "metadata": {},
   "source": [
    "📌  \n",
    "Посмотрите, как менялись продажи по платформам.<a name=\"4\"></a>"
   ]
  },
  {
   "cell_type": "markdown",
   "id": "e68a4319",
   "metadata": {},
   "source": [
    "Посмотрим платформы с самыми высокими продажами."
   ]
  },
  {
   "cell_type": "markdown",
   "id": "2c966629",
   "metadata": {},
   "source": [
    "Сгруппируем платформы по сумме продаж и % продаж от общей суммы."
   ]
  },
  {
   "cell_type": "code",
   "execution_count": 57,
   "id": "f811520f",
   "metadata": {},
   "outputs": [],
   "source": [
    "df_platform_groupped = df_games.groupby(\n",
    "    'platform')['sales_amount'].agg(['sum']).sort_values(by='sum', ascending=False).reset_index()"
   ]
  },
  {
   "cell_type": "markdown",
   "id": "83caef98",
   "metadata": {},
   "source": [
    "Запием долю продаж в поле 'mean'"
   ]
  },
  {
   "cell_type": "code",
   "execution_count": 58,
   "id": "80841c93",
   "metadata": {},
   "outputs": [],
   "source": [
    "df_platform_groupped['mean'] = df_platform_groupped['sum'] / sum(df_platform_groupped['sum']) * 100"
   ]
  },
  {
   "cell_type": "markdown",
   "id": "8a9d4f89",
   "metadata": {},
   "source": [
    "Сгруппируем маленькие платформы с долей продаж меньше 3% в категорию 'other_platform'"
   ]
  },
  {
   "cell_type": "code",
   "execution_count": 59,
   "id": "baa49d2c",
   "metadata": {},
   "outputs": [],
   "source": [
    "df_platform_groupped['sales_group'] = np.where(\n",
    "    df_platform_groupped['mean']<3, 'other_platform', df_platform_groupped['platform'])"
   ]
  },
  {
   "cell_type": "markdown",
   "id": "9126eb1f",
   "metadata": {},
   "source": [
    "Выведем топ 10 платформы по доле продаж"
   ]
  },
  {
   "cell_type": "code",
   "execution_count": 60,
   "id": "47bacd60",
   "metadata": {
    "scrolled": true
   },
   "outputs": [
    {
     "data": {
      "text/html": [
       "<div>\n",
       "<style scoped>\n",
       "    .dataframe tbody tr th:only-of-type {\n",
       "        vertical-align: middle;\n",
       "    }\n",
       "\n",
       "    .dataframe tbody tr th {\n",
       "        vertical-align: top;\n",
       "    }\n",
       "\n",
       "    .dataframe thead th {\n",
       "        text-align: right;\n",
       "    }\n",
       "</style>\n",
       "<table border=\"1\" class=\"dataframe\">\n",
       "  <thead>\n",
       "    <tr style=\"text-align: right;\">\n",
       "      <th></th>\n",
       "      <th>platform</th>\n",
       "      <th>sum</th>\n",
       "      <th>mean</th>\n",
       "      <th>sales_group</th>\n",
       "    </tr>\n",
       "  </thead>\n",
       "  <tbody>\n",
       "    <tr>\n",
       "      <th>0</th>\n",
       "      <td>PS2</td>\n",
       "      <td>1247.030029</td>\n",
       "      <td>14.073338</td>\n",
       "      <td>PS2</td>\n",
       "    </tr>\n",
       "    <tr>\n",
       "      <th>1</th>\n",
       "      <td>X360</td>\n",
       "      <td>964.710022</td>\n",
       "      <td>10.887219</td>\n",
       "      <td>X360</td>\n",
       "    </tr>\n",
       "    <tr>\n",
       "      <th>2</th>\n",
       "      <td>PS3</td>\n",
       "      <td>933.869995</td>\n",
       "      <td>10.539175</td>\n",
       "      <td>PS3</td>\n",
       "    </tr>\n",
       "    <tr>\n",
       "      <th>3</th>\n",
       "      <td>Wii</td>\n",
       "      <td>902.049988</td>\n",
       "      <td>10.180070</td>\n",
       "      <td>Wii</td>\n",
       "    </tr>\n",
       "    <tr>\n",
       "      <th>4</th>\n",
       "      <td>DS</td>\n",
       "      <td>802.900024</td>\n",
       "      <td>9.061115</td>\n",
       "      <td>DS</td>\n",
       "    </tr>\n",
       "    <tr>\n",
       "      <th>5</th>\n",
       "      <td>PS</td>\n",
       "      <td>727.580017</td>\n",
       "      <td>8.211093</td>\n",
       "      <td>PS</td>\n",
       "    </tr>\n",
       "    <tr>\n",
       "      <th>6</th>\n",
       "      <td>PS4</td>\n",
       "      <td>314.140015</td>\n",
       "      <td>3.545222</td>\n",
       "      <td>PS4</td>\n",
       "    </tr>\n",
       "    <tr>\n",
       "      <th>7</th>\n",
       "      <td>GBA</td>\n",
       "      <td>313.730011</td>\n",
       "      <td>3.540595</td>\n",
       "      <td>GBA</td>\n",
       "    </tr>\n",
       "    <tr>\n",
       "      <th>8</th>\n",
       "      <td>PSP</td>\n",
       "      <td>293.309998</td>\n",
       "      <td>3.310145</td>\n",
       "      <td>PSP</td>\n",
       "    </tr>\n",
       "    <tr>\n",
       "      <th>9</th>\n",
       "      <td>PC</td>\n",
       "      <td>258.730011</td>\n",
       "      <td>2.919893</td>\n",
       "      <td>other_platform</td>\n",
       "    </tr>\n",
       "  </tbody>\n",
       "</table>\n",
       "</div>"
      ],
      "text/plain": [
       "  platform          sum       mean     sales_group\n",
       "0      PS2  1247.030029  14.073338             PS2\n",
       "1     X360   964.710022  10.887219            X360\n",
       "2      PS3   933.869995  10.539175             PS3\n",
       "3      Wii   902.049988  10.180070             Wii\n",
       "4       DS   802.900024   9.061115              DS\n",
       "5       PS   727.580017   8.211093              PS\n",
       "6      PS4   314.140015   3.545222             PS4\n",
       "7      GBA   313.730011   3.540595             GBA\n",
       "8      PSP   293.309998   3.310145             PSP\n",
       "9       PC   258.730011   2.919893  other_platform"
      ]
     },
     "execution_count": 60,
     "metadata": {},
     "output_type": "execute_result"
    }
   ],
   "source": [
    "df_platform_groupped.sort_values(by='sum', ascending=False).head(10)"
   ]
  },
  {
   "cell_type": "markdown",
   "id": "fa79976b",
   "metadata": {},
   "source": [
    "Построим круговую гистограмму с учетом того, что платформы с долей продаж меньше 3% определены в \"other_platform\""
   ]
  },
  {
   "cell_type": "code",
   "execution_count": 61,
   "id": "4da28eb4",
   "metadata": {},
   "outputs": [
    {
     "data": {
      "image/png": "[encoded data removed]",
      "text/plain": [
       "<Figure size 432x432 with 1 Axes>"
      ]
     },
     "metadata": {},
     "output_type": "display_data"
    }
   ],
   "source": [
    "df_platform_groupped.groupby('sales_group')['sum'].sum().plot.pie(\n",
    "    figsize=(6, 6), subplots=True, center=(\n",
    "        10, 50), title='Сумма продаж по платформам', labeldistance=1.3, autopct='%1.1f%%');\n",
    "plt.show();"
   ]
  },
  {
   "cell_type": "markdown",
   "id": "2b507154",
   "metadata": {},
   "source": [
    "Посмотрим продажи платформ в разрез года выпуска с помощзью scatterplot. Для этого сгруппируем значения по году."
   ]
  },
  {
   "cell_type": "code",
   "execution_count": 62,
   "id": "ba051c7b",
   "metadata": {},
   "outputs": [],
   "source": [
    "df_platform_year_groupped = df_games.groupby(\n",
    "    ['platform', 'year_of_release'])['sales_amount'].agg(['sum']).sort_values(by='sum', ascending=False).reset_index()"
   ]
  },
  {
   "cell_type": "markdown",
   "id": "fe1ded75",
   "metadata": {},
   "source": [
    "Построим scatterplot по платформам в разрезе года выпуска, чтобы наглядно посмотреть динамику продаж по платформам в разрезе периода."
   ]
  },
  {
   "cell_type": "code",
   "execution_count": 63,
   "id": "d9deba5e",
   "metadata": {},
   "outputs": [
    {
     "data": {
      "image/png": "[encoded data removed]",
      "text/plain": [
       "<Figure size 1080x576 with 1 Axes>"
      ]
     },
     "metadata": {},
     "output_type": "display_data"
    }
   ],
   "source": [
    "sns.set(rc = {'figure.figsize':(15,8)})\n",
    "g = sns.scatterplot(data = df_platform_year_groupped, x='year_of_release', y='platform', size='sum', sizes=(20, 500), hue='sum');\n"
   ]
  },
  {
   "cell_type": "markdown",
   "id": "5b6b25f7",
   "metadata": {},
   "source": [
    "**Вывод**  \n",
    "Самые высокие продажи у платформ PS2 и X360.  \n",
    "Суммарно 8 самых больших платформы имеют долю продаж больше 60%.  \n",
    "То есть большие платформы имеют отрыв в продажах от маленьких конкурентов.  \n",
    "В тоже время большая доля продаж распределена между небольшими платформами и составляет свыше 26%.  \n",
    "\n",
    "На графике с периодом видно, что платформы как правило не популярны постоянно.  \n",
    "Средний срок жизни платформы существенно меньше общего периода.  \n",
    "\n",
    "Видно, что платформы набирают популярность , выходят на пик, спустя некоторое время перестают быть популярными.   \n",
    "Им на сменту приходят новые продукты.  \n",
    "\n",
    "Например, платформа DS начала набирать популярность 2004, вышла на пик в 2007-2008, в 2011 началось снижение и в 2014 продаж уже не было.\n",
    "______________________________________________________________________"
   ]
  },
  {
   "cell_type": "markdown",
   "id": "f5ab234e",
   "metadata": {},
   "source": [
    "📌  \n",
    "Выберите платформы с наибольшими суммарными продажами и постройте распределение по годам.  <a name=\"5\"></a>"
   ]
  },
  {
   "cell_type": "markdown",
   "id": "23c23bf1",
   "metadata": {},
   "source": [
    "Построим распределения по году выпуска для топ 5 платформ."
   ]
  },
  {
   "cell_type": "markdown",
   "id": "a994d3b8",
   "metadata": {},
   "source": [
    "Запишем названия топ5 платформ в список."
   ]
  },
  {
   "cell_type": "code",
   "execution_count": 64,
   "id": "71e4486e",
   "metadata": {},
   "outputs": [],
   "source": [
    "names = list(df_platform_groupped.sort_values(by='mean', ascending=False)['platform'].head(5))"
   ]
  },
  {
   "cell_type": "code",
   "execution_count": 65,
   "id": "4afbebd1",
   "metadata": {},
   "outputs": [
    {
     "data": {
      "text/plain": [
       "['PS2', 'X360', 'PS3', 'Wii', 'DS']"
      ]
     },
     "execution_count": 65,
     "metadata": {},
     "output_type": "execute_result"
    }
   ],
   "source": [
    "names"
   ]
  },
  {
   "cell_type": "markdown",
   "id": "951579ae",
   "metadata": {},
   "source": [
    "Списком выведем гистограммы для этих платформ."
   ]
  },
  {
   "cell_type": "code",
   "execution_count": 66,
   "id": "921fadf8",
   "metadata": {},
   "outputs": [
    {
     "data": {
      "image/png": "[encoded data removed]",
      "text/plain": [
       "<Figure size 1152x216 with 1 Axes>"
      ]
     },
     "metadata": {},
     "output_type": "display_data"
    },
    {
     "data": {
      "image/png": "[encoded data removed]",
      "text/plain": [
       "<Figure size 1152x216 with 1 Axes>"
      ]
     },
     "metadata": {},
     "output_type": "display_data"
    },
    {
     "data": {
      "image/png": "[encoded data removed]",
      "text/plain": [
       "<Figure size 1152x216 with 1 Axes>"
      ]
     },
     "metadata": {},
     "output_type": "display_data"
    },
    {
     "data": {
      "image/png": "[encoded data removed]",
      "text/plain": [
       "<Figure size 1152x216 with 1 Axes>"
      ]
     },
     "metadata": {},
     "output_type": "display_data"
    },
    {
     "data": {
      "image/png": "[encoded data removed]",
      "text/plain": [
       "<Figure size 1152x216 with 1 Axes>"
      ]
     },
     "metadata": {},
     "output_type": "display_data"
    }
   ],
   "source": [
    "for i in range(0,len(names)):\n",
    "    a = df_platform_year_groupped.loc[df_platform_year_groupped['platform']==names[i]][['year_of_release','sum']]\n",
    "    x = a['year_of_release']\n",
    "    y = a['sum']\n",
    "    plt.figure(figsize=(16,3));\n",
    "    plt.bar(x, y, align='center');\n",
    "    plt.xlabel('Год выпуска');\n",
    "    plt.grid(True)\n",
    "    plt.xticks(np.arange(min(x), max(x)+1, step=1))\n",
    "    plt.ylabel('Млн. копий');\n",
    "    plt.title(f'Платформа {names[i]}');"
   ]
  },
  {
   "cell_type": "markdown",
   "id": "6ab0054e",
   "metadata": {},
   "source": [
    "**Вывод**  \n",
    "Распределения платформ очень похожи между собой и имеют форму нормальных.  \n",
    "Зачастую платформа набирает популярность, выходит на пик, после чего продажи платформы снижаются.  \n",
    "Топ5 платформ за все время: 'PS2', 'X360', 'PS3', 'Wii', 'DS'\n",
    "___________________________________________________________________________________________"
   ]
  },
  {
   "cell_type": "markdown",
   "id": "b955b8e1",
   "metadata": {},
   "source": [
    "📌  \n",
    "За какой характерный срок появляются новые и исчезают старые платформы?<a name=\"6\"></a>"
   ]
  },
  {
   "cell_type": "markdown",
   "id": "fe83ea95",
   "metadata": {},
   "source": [
    "**Посмотрим как часто появляются новые платформы.**"
   ]
  },
  {
   "cell_type": "markdown",
   "id": "2b4d03da",
   "metadata": {},
   "source": [
    "Группируем по платформе и году выпуска, сортировка по возрастанию"
   ]
  },
  {
   "cell_type": "code",
   "execution_count": 67,
   "id": "8be2ab17",
   "metadata": {},
   "outputs": [],
   "source": [
    "new_platform = df_platform_year_groupped.sort_values(by=['platform','year_of_release'], ascending=True)"
   ]
  },
  {
   "cell_type": "markdown",
   "id": "713d2ceb",
   "metadata": {},
   "source": [
    "Находим минимальный год выпуска для каждой платформы.  \n",
    "Этот год будем считать годом начала работы платформы."
   ]
  },
  {
   "cell_type": "code",
   "execution_count": 68,
   "id": "9e3dbcc8",
   "metadata": {},
   "outputs": [],
   "source": [
    "new_platform = new_platform.groupby('platform')['year_of_release'].min()"
   ]
  },
  {
   "cell_type": "code",
   "execution_count": 69,
   "id": "f149195c",
   "metadata": {},
   "outputs": [],
   "source": [
    "new_platform = new_platform.reset_index()"
   ]
  },
  {
   "cell_type": "markdown",
   "id": "1c157af5",
   "metadata": {},
   "source": [
    "Сгруппируем кол-во новых платформ по году начала работы платформы."
   ]
  },
  {
   "cell_type": "code",
   "execution_count": 70,
   "id": "7aa222b1",
   "metadata": {},
   "outputs": [],
   "source": [
    "new_platform = new_platform.groupby('year_of_release')['platform'].count()"
   ]
  },
  {
   "cell_type": "code",
   "execution_count": 71,
   "id": "d25090fa",
   "metadata": {},
   "outputs": [],
   "source": [
    "new_platform = new_platform.reset_index()"
   ]
  },
  {
   "cell_type": "code",
   "execution_count": 72,
   "id": "7626b3a6",
   "metadata": {},
   "outputs": [],
   "source": [
    "new_platform = new_platform.rename(columns={'platform': 'new_platforms'})"
   ]
  },
  {
   "cell_type": "markdown",
   "id": "3ef66b8f",
   "metadata": {},
   "source": [
    "Построим график количества новых платформ по году начала работы платформы."
   ]
  },
  {
   "cell_type": "code",
   "execution_count": 73,
   "id": "38b86761",
   "metadata": {
    "scrolled": true
   },
   "outputs": [
    {
     "data": {
      "image/png": "[encoded data removed]",
      "text/plain": [
       "<Figure size 1296x288 with 1 Axes>"
      ]
     },
     "metadata": {},
     "output_type": "display_data"
    }
   ],
   "source": [
    "x = new_platform['year_of_release']\n",
    "y = new_platform['new_platforms']\n",
    "plt.figure(figsize=(18,4));\n",
    "plt.bar(x, y, align='center');\n",
    "plt.xticks(np.arange(min(x), 2017, step=1))\n",
    "plt.xlabel('Год выпуска');\n",
    "plt.ylabel('Новых платформ');\n",
    "plt.title('Создано новых платформ');"
   ]
  },
  {
   "cell_type": "markdown",
   "id": "36f7a2cd",
   "metadata": {},
   "source": [
    "Из графика видно, что наиболее частое появление новых платформ было с 1992 по 2001.  \n",
    "Чтобы ответить на вопрос как часто появляются новые платформы:  \n",
    "1. посчитаем сумму лет между появлением новых платформ  \n",
    "2. Разделим на общее кол-во лет  \n",
    "\n",
    "Получим метрику, которая показывает как часто в среднем появляются новые платформы.  \n",
    "Нужно понимать, что значения средние.  \n",
    "\n",
    "Есть периоды , когда платформа выпускается каждый год, а есть когда не выпускается 3 года.\n",
    "___________________________________________________________________________________________"
   ]
  },
  {
   "cell_type": "markdown",
   "id": "b32bc6f3",
   "metadata": {},
   "source": [
    "Создадим два списка:  \n",
    "1. Все годы исследуемого периода  \n",
    "2. Только годы появления платформ."
   ]
  },
  {
   "cell_type": "code",
   "execution_count": 74,
   "id": "1d3fdac8",
   "metadata": {},
   "outputs": [],
   "source": [
    "years_all = sorted(df_platform_year_groupped['year_of_release'].unique(), reverse=False)\n",
    "years_new_platform = sorted(list(new_platform['year_of_release']), reverse=False)"
   ]
  },
  {
   "cell_type": "markdown",
   "id": "2accf646",
   "metadata": {},
   "source": [
    "Создадим список лет между появлением платформы."
   ]
  },
  {
   "cell_type": "code",
   "execution_count": 75,
   "id": "e69de00a",
   "metadata": {},
   "outputs": [],
   "source": [
    "between_year_release = []\n",
    "a = 0\n",
    "for i in years_all:\n",
    "    if i in years_new_platform:\n",
    "        a = 0\n",
    "    else:\n",
    "        a += 1\n",
    "    between_year_release.append(a)"
   ]
  },
  {
   "cell_type": "markdown",
   "id": "fac781c1",
   "metadata": {},
   "source": [
    "Посчитаем среднее кол-во дней между появлением новой платформы."
   ]
  },
  {
   "cell_type": "code",
   "execution_count": 76,
   "id": "0b37e431",
   "metadata": {},
   "outputs": [
    {
     "name": "stdout",
     "output_type": "stream",
     "text": [
      "В среднем новая платформа появляется раз в 286 дней\n"
     ]
    }
   ],
   "source": [
    "print(f'В среднем новая платформа появляется раз в ' +\n",
    "      f'{int(round(sum(between_year_release) / len(between_year_release) * 365,0))} дней')"
   ]
  },
  {
   "cell_type": "markdown",
   "id": "ff012c45",
   "metadata": {},
   "source": [
    "Посмотрим как часто исчезают платформы.  \n",
    "Для этого построим таблицу платформа - год окончания работы.  \n",
    "За год окончания работы примем последний успешный выпуск игры."
   ]
  },
  {
   "cell_type": "code",
   "execution_count": 77,
   "id": "daf48667",
   "metadata": {},
   "outputs": [],
   "source": [
    "closed_platform = df_platform_year_groupped.sort_values(by=['platform','year_of_release'], ascending=True)"
   ]
  },
  {
   "cell_type": "markdown",
   "id": "ab68cd9f",
   "metadata": {},
   "source": [
    "Находим максимальный год выпуска для каждой платформы."
   ]
  },
  {
   "cell_type": "code",
   "execution_count": 78,
   "id": "9305442e",
   "metadata": {},
   "outputs": [],
   "source": [
    "closed_platform = closed_platform.groupby('platform')['year_of_release'].max()"
   ]
  },
  {
   "cell_type": "code",
   "execution_count": 79,
   "id": "b3456692",
   "metadata": {},
   "outputs": [],
   "source": [
    "closed_platform = closed_platform.reset_index()"
   ]
  },
  {
   "cell_type": "markdown",
   "id": "a6b7771b",
   "metadata": {},
   "source": [
    "Сгруппируем кол-во ушедших платформ по году окончания работы."
   ]
  },
  {
   "cell_type": "code",
   "execution_count": 80,
   "id": "79629660",
   "metadata": {},
   "outputs": [],
   "source": [
    "closed_platform  = closed_platform .groupby('year_of_release')['platform'].count()"
   ]
  },
  {
   "cell_type": "code",
   "execution_count": 81,
   "id": "6f3d6de9",
   "metadata": {},
   "outputs": [],
   "source": [
    "closed_platform = closed_platform.reset_index()"
   ]
  },
  {
   "cell_type": "code",
   "execution_count": 82,
   "id": "42831fb7",
   "metadata": {},
   "outputs": [],
   "source": [
    "closed_platform = closed_platform.rename(columns={'platform': 'closed_platforms'})"
   ]
  },
  {
   "cell_type": "markdown",
   "id": "eed39baa",
   "metadata": {},
   "source": [
    "Построим график количества ушедших платформ по год окончания работы."
   ]
  },
  {
   "cell_type": "code",
   "execution_count": 83,
   "id": "9b5542ab",
   "metadata": {
    "scrolled": true
   },
   "outputs": [
    {
     "data": {
      "image/png": "[encoded data removed]",
      "text/plain": [
       "<Figure size 1296x288 with 1 Axes>"
      ]
     },
     "metadata": {},
     "output_type": "display_data"
    }
   ],
   "source": [
    "x = closed_platform['year_of_release']\n",
    "y = closed_platform['closed_platforms']\n",
    "plt.figure(figsize=(18,4));\n",
    "plt.bar(x, y, align='center');\n",
    "plt.xticks(np.arange(1980, 2017, step=1))\n",
    "plt.xlabel('Год выпуска');\n",
    "plt.ylabel('Ушло платформ');\n",
    "plt.title('Создано новых платформ');"
   ]
  },
  {
   "cell_type": "markdown",
   "id": "a074d6f1",
   "metadata": {},
   "source": [
    "**Тут нужно учесть, что 2016 не является годом завершения работы платформы.  \n",
    "Это последний год с данными.  \n",
    "Учтем это при подсчете времени между уходом платформ.**"
   ]
  },
  {
   "cell_type": "code",
   "execution_count": 84,
   "id": "150c2868",
   "metadata": {},
   "outputs": [],
   "source": [
    "years_closed_platform = sorted(list(closed_platform['year_of_release']), reverse=False)\n",
    "years_to_2015 = years_all[0:len(years_all)-1]"
   ]
  },
  {
   "cell_type": "code",
   "execution_count": 85,
   "id": "72c4b400",
   "metadata": {},
   "outputs": [],
   "source": [
    "between_years_closed = []\n",
    "c = 0\n",
    "for i in years_to_2015:\n",
    "    if i in years_closed_platform:\n",
    "        c = 0\n",
    "    else:\n",
    "        c += 1\n",
    "    between_years_closed.append(c)"
   ]
  },
  {
   "cell_type": "code",
   "execution_count": 86,
   "id": "1619755c",
   "metadata": {},
   "outputs": [],
   "source": [
    "years_between = round(sum(between_years_closed) / len(between_years_closed),2)"
   ]
  },
  {
   "cell_type": "code",
   "execution_count": 87,
   "id": "b6689f9c",
   "metadata": {},
   "outputs": [
    {
     "name": "stdout",
     "output_type": "stream",
     "text": [
      "В среднем платформы уходят с рынка раз в 2 года 222 дня\n"
     ]
    }
   ],
   "source": [
    "print(f'В среднем платформы уходят с рынка раз в {int(years_between)} года ' +\n",
    "      f'{int(years_between%int(years_between)*365)} дня')"
   ]
  },
  {
   "cell_type": "markdown",
   "id": "cbbfb848",
   "metadata": {},
   "source": [
    "Дополнительно посчитаем средний срок жизни платформ и построим график срока жизни платформ исходя из мин. и макс. года выпуска игры.  "
   ]
  },
  {
   "cell_type": "code",
   "execution_count": 88,
   "id": "551d3124",
   "metadata": {},
   "outputs": [],
   "source": [
    "lt_platform = df_platform_year_groupped.groupby('platform')['year_of_release'].count().sort_values(ascending=False)"
   ]
  },
  {
   "cell_type": "code",
   "execution_count": 89,
   "id": "b4f9d7ba",
   "metadata": {},
   "outputs": [
    {
     "name": "stdout",
     "output_type": "stream",
     "text": [
      "В среднем одна платформа существует 7 лет 282 дня\n"
     ]
    }
   ],
   "source": [
    "print(f'В среднем одна платформа существует {int(lt_platform.mean())} лет ' +\n",
    "      f'{int(lt_platform.mean()%int(lt_platform.mean())*365)} дня')"
   ]
  },
  {
   "cell_type": "markdown",
   "id": "54d9d6be",
   "metadata": {},
   "source": [
    "График средней жизни платформы."
   ]
  },
  {
   "cell_type": "code",
   "execution_count": 90,
   "id": "b778cc77",
   "metadata": {},
   "outputs": [
    {
     "data": {
      "image/png": "[encoded data removed]",
      "text/plain": [
       "<Figure size 1152x288 with 1 Axes>"
      ]
     },
     "metadata": {},
     "output_type": "display_data"
    }
   ],
   "source": [
    "lt_platform.plot(kind=\"bar\", figsize=(16, 4), grid=True, color='green');\n",
    "plt.legend(loc='upper right');\n",
    "plt.xlabel('Платформа');\n",
    "plt.ylabel('Лет жизни');\n",
    "plt.title('Срок жизни платформ по убыванию');"
   ]
  },
  {
   "cell_type": "markdown",
   "id": "a0e4811c",
   "metadata": {},
   "source": [
    "📌  \n",
    "Возьмите данные за соответствующий актуальный период.<a name=\"7\"></a>  "
   ]
  },
  {
   "cell_type": "markdown",
   "id": "f6076db6",
   "metadata": {},
   "source": [
    "Рыночная ситуация меняется быстро.  \n",
    "Игры стремительно набирают и теряют популярность, а платформы имеют ограниченный срок существования, поэтому для прогноза лучшим из вариантов будет использовать данные за последние 3 достоверных года, а именно за именно **2014-2016**.\n",
    "___________________________________________________________________________________________"
   ]
  },
  {
   "cell_type": "markdown",
   "id": "159e63bf",
   "metadata": {},
   "source": [
    "📌   \n",
    "Какие платформы лидируют по продажам, растут или падают?<a name=\"8\"></a>  "
   ]
  },
  {
   "cell_type": "markdown",
   "id": "993db826",
   "metadata": {},
   "source": [
    "Чтобы понять какие-платформы растут или падают нужно:\n",
    "1. Сгруппировать продажи по платформам  \n",
    "2. Добавить динамику продаж к предыдущему году: 2016 к 2015."
   ]
  },
  {
   "cell_type": "markdown",
   "id": "7622e963",
   "metadata": {},
   "source": [
    "Данные в полном виде только за 2014-2016."
   ]
  },
  {
   "cell_type": "code",
   "execution_count": 91,
   "id": "39b1ef65",
   "metadata": {},
   "outputs": [],
   "source": [
    "df_games_14_16 = df_games.loc[(df_games['year_of_release']>=2014)]"
   ]
  },
  {
   "cell_type": "markdown",
   "id": "3ac0b5f1",
   "metadata": {},
   "source": [
    "Группировка 2014-2016 по платформам."
   ]
  },
  {
   "cell_type": "code",
   "execution_count": 92,
   "id": "b8eb9929",
   "metadata": {},
   "outputs": [],
   "source": [
    "df_games_14_16_platfrom = df_games_14_16.pivot_table(\n",
    "    index=['platform'], values=['sales_amount', 'user_score', 'critic_score'], aggfunc={\\\n",
    "        'sales_amount': 'sum', 'user_score': 'mean', 'critic_score': 'mean'}).reset_index()"
   ]
  },
  {
   "cell_type": "markdown",
   "id": "1385d4a3",
   "metadata": {},
   "source": [
    "☑️\n",
    "Данные за 2014 - 2016 годы отдельно для подсчета динамики 2016 к 2015."
   ]
  },
  {
   "cell_type": "code",
   "execution_count": 93,
   "id": "1c04d9f9",
   "metadata": {},
   "outputs": [],
   "source": [
    "df_games_14_16_sales = df_games_14_16.pivot_table(\n",
    "    index=['platform'], columns=['year_of_release'], values=['sales_amount'], aggfunc={'sales_amount': 'sum'}).reset_index()"
   ]
  },
  {
   "cell_type": "code",
   "execution_count": 94,
   "id": "fcd19f1d",
   "metadata": {},
   "outputs": [],
   "source": [
    "df_games_14_16_sales = df_games_14_16_sales.droplevel(1, axis=1) "
   ]
  },
  {
   "cell_type": "code",
   "execution_count": 95,
   "id": "17557a51",
   "metadata": {
    "scrolled": true
   },
   "outputs": [
    {
     "data": {
      "text/html": [
       "<div>\n",
       "<style scoped>\n",
       "    .dataframe tbody tr th:only-of-type {\n",
       "        vertical-align: middle;\n",
       "    }\n",
       "\n",
       "    .dataframe tbody tr th {\n",
       "        vertical-align: top;\n",
       "    }\n",
       "\n",
       "    .dataframe thead th {\n",
       "        text-align: right;\n",
       "    }\n",
       "</style>\n",
       "<table border=\"1\" class=\"dataframe\">\n",
       "  <thead>\n",
       "    <tr style=\"text-align: right;\">\n",
       "      <th></th>\n",
       "      <th>platform</th>\n",
       "      <th>sales_amount</th>\n",
       "      <th>sales_amount</th>\n",
       "      <th>sales_amount</th>\n",
       "    </tr>\n",
       "  </thead>\n",
       "  <tbody>\n",
       "    <tr>\n",
       "      <th>0</th>\n",
       "      <td>3DS</td>\n",
       "      <td>43.759998</td>\n",
       "      <td>27.780001</td>\n",
       "      <td>15.14</td>\n",
       "    </tr>\n",
       "    <tr>\n",
       "      <th>1</th>\n",
       "      <td>PC</td>\n",
       "      <td>13.280001</td>\n",
       "      <td>8.520000</td>\n",
       "      <td>5.25</td>\n",
       "    </tr>\n",
       "  </tbody>\n",
       "</table>\n",
       "</div>"
      ],
      "text/plain": [
       "  platform  sales_amount  sales_amount  sales_amount\n",
       "0      3DS     43.759998     27.780001         15.14\n",
       "1       PC     13.280001      8.520000          5.25"
      ]
     },
     "execution_count": 95,
     "metadata": {},
     "output_type": "execute_result"
    }
   ],
   "source": [
    "df_games_14_16_sales.head(2)"
   ]
  },
  {
   "cell_type": "code",
   "execution_count": 96,
   "id": "b3f1539f",
   "metadata": {},
   "outputs": [],
   "source": [
    "df_games_14_16_sales.columns.values[1] = \"2014\"\n",
    "df_games_14_16_sales.columns.values[2] = \"2015\"\n",
    "df_games_14_16_sales.columns.values[3] = \"2016\""
   ]
  },
  {
   "cell_type": "markdown",
   "id": "61d90bd3",
   "metadata": {},
   "source": [
    "Новый столбец."
   ]
  },
  {
   "cell_type": "code",
   "execution_count": 97,
   "id": "93f124f1",
   "metadata": {},
   "outputs": [],
   "source": [
    "df_games_14_16_sales['2016/2015'] = round(((\n",
    "    df_games_14_16_sales['2016']-df_games_14_16_sales['2015'])/df_games_14_16_sales['2015']*100),0)"
   ]
  },
  {
   "cell_type": "code",
   "execution_count": 98,
   "id": "2e564329",
   "metadata": {},
   "outputs": [],
   "source": [
    "df_games_14_16_platfrom  = df_games_14_16_platfrom.merge(\n",
    "    df_games_14_16_sales[['platform', '2016/2015']], on='platform', how='left')"
   ]
  },
  {
   "cell_type": "code",
   "execution_count": 99,
   "id": "00e3bc5c",
   "metadata": {},
   "outputs": [],
   "source": [
    "df_games_14_16_platfrom['sales_amount_mean'] = df_games_14_16_platfrom['sales_amount'] / sum(\n",
    "    df_games_14_16_platfrom['sales_amount']) * 100"
   ]
  },
  {
   "cell_type": "markdown",
   "id": "51601d2d",
   "metadata": {},
   "source": [
    "Группировка по платформе с динамикой 2016 к 2015 и общими продажами за 2014-2016\n",
    "- sales_amount_mean - доля продаж за 2014-2016 год  \n",
    "- 2016/2015 - динамика 2016 к 2015 в %"
   ]
  },
  {
   "cell_type": "code",
   "execution_count": 100,
   "id": "81401974",
   "metadata": {},
   "outputs": [
    {
     "data": {
      "text/html": [
       "<div>\n",
       "<style scoped>\n",
       "    .dataframe tbody tr th:only-of-type {\n",
       "        vertical-align: middle;\n",
       "    }\n",
       "\n",
       "    .dataframe tbody tr th {\n",
       "        vertical-align: top;\n",
       "    }\n",
       "\n",
       "    .dataframe thead th {\n",
       "        text-align: right;\n",
       "    }\n",
       "</style>\n",
       "<table border=\"1\" class=\"dataframe\">\n",
       "  <thead>\n",
       "    <tr style=\"text-align: right;\">\n",
       "      <th></th>\n",
       "      <th>platform</th>\n",
       "      <th>critic_score</th>\n",
       "      <th>sales_amount</th>\n",
       "      <th>user_score</th>\n",
       "      <th>2016/2015</th>\n",
       "      <th>sales_amount_mean</th>\n",
       "    </tr>\n",
       "  </thead>\n",
       "  <tbody>\n",
       "    <tr>\n",
       "      <th>3</th>\n",
       "      <td>PS4</td>\n",
       "      <td>72.164558</td>\n",
       "      <td>288.149994</td>\n",
       "      <td>6.828099</td>\n",
       "      <td>-42.0</td>\n",
       "      <td>39.502365</td>\n",
       "    </tr>\n",
       "    <tr>\n",
       "      <th>9</th>\n",
       "      <td>XOne</td>\n",
       "      <td>73.793549</td>\n",
       "      <td>140.360001</td>\n",
       "      <td>6.594545</td>\n",
       "      <td>-57.0</td>\n",
       "      <td>19.241896</td>\n",
       "    </tr>\n",
       "    <tr>\n",
       "      <th>0</th>\n",
       "      <td>3DS</td>\n",
       "      <td>68.980392</td>\n",
       "      <td>86.680000</td>\n",
       "      <td>7.138182</td>\n",
       "      <td>-46.0</td>\n",
       "      <td>11.882925</td>\n",
       "    </tr>\n",
       "    <tr>\n",
       "      <th>2</th>\n",
       "      <td>PS3</td>\n",
       "      <td>66.555557</td>\n",
       "      <td>68.180000</td>\n",
       "      <td>6.014286</td>\n",
       "      <td>-79.0</td>\n",
       "      <td>9.346768</td>\n",
       "    </tr>\n",
       "    <tr>\n",
       "      <th>8</th>\n",
       "      <td>X360</td>\n",
       "      <td>63.730770</td>\n",
       "      <td>48.220001</td>\n",
       "      <td>5.771084</td>\n",
       "      <td>-87.0</td>\n",
       "      <td>6.610460</td>\n",
       "    </tr>\n",
       "    <tr>\n",
       "      <th>7</th>\n",
       "      <td>WiiU</td>\n",
       "      <td>71.186043</td>\n",
       "      <td>42.980000</td>\n",
       "      <td>7.087500</td>\n",
       "      <td>-72.0</td>\n",
       "      <td>5.892110</td>\n",
       "    </tr>\n",
       "    <tr>\n",
       "      <th>1</th>\n",
       "      <td>PC</td>\n",
       "      <td>76.215515</td>\n",
       "      <td>27.050001</td>\n",
       "      <td>6.298361</td>\n",
       "      <td>-38.0</td>\n",
       "      <td>3.708274</td>\n",
       "    </tr>\n",
       "    <tr>\n",
       "      <th>5</th>\n",
       "      <td>PSV</td>\n",
       "      <td>72.259262</td>\n",
       "      <td>22.400000</td>\n",
       "      <td>7.656165</td>\n",
       "      <td>-32.0</td>\n",
       "      <td>3.070807</td>\n",
       "    </tr>\n",
       "    <tr>\n",
       "      <th>6</th>\n",
       "      <td>Wii</td>\n",
       "      <td>NaN</td>\n",
       "      <td>5.070000</td>\n",
       "      <td>6.350000</td>\n",
       "      <td>-84.0</td>\n",
       "      <td>0.695044</td>\n",
       "    </tr>\n",
       "    <tr>\n",
       "      <th>4</th>\n",
       "      <td>PSP</td>\n",
       "      <td>NaN</td>\n",
       "      <td>0.360000</td>\n",
       "      <td>NaN</td>\n",
       "      <td>NaN</td>\n",
       "      <td>0.049352</td>\n",
       "    </tr>\n",
       "  </tbody>\n",
       "</table>\n",
       "</div>"
      ],
      "text/plain": [
       "  platform  critic_score  sales_amount  user_score  2016/2015  \\\n",
       "3      PS4     72.164558    288.149994    6.828099      -42.0   \n",
       "9     XOne     73.793549    140.360001    6.594545      -57.0   \n",
       "0      3DS     68.980392     86.680000    7.138182      -46.0   \n",
       "2      PS3     66.555557     68.180000    6.014286      -79.0   \n",
       "8     X360     63.730770     48.220001    5.771084      -87.0   \n",
       "7     WiiU     71.186043     42.980000    7.087500      -72.0   \n",
       "1       PC     76.215515     27.050001    6.298361      -38.0   \n",
       "5      PSV     72.259262     22.400000    7.656165      -32.0   \n",
       "6      Wii           NaN      5.070000    6.350000      -84.0   \n",
       "4      PSP           NaN      0.360000         NaN        NaN   \n",
       "\n",
       "   sales_amount_mean  \n",
       "3          39.502365  \n",
       "9          19.241896  \n",
       "0          11.882925  \n",
       "2           9.346768  \n",
       "8           6.610460  \n",
       "7           5.892110  \n",
       "1           3.708274  \n",
       "5           3.070807  \n",
       "6           0.695044  \n",
       "4           0.049352  "
      ]
     },
     "execution_count": 100,
     "metadata": {},
     "output_type": "execute_result"
    }
   ],
   "source": [
    "df_games_14_16_platfrom.sort_values(by=['sales_amount','2016/2015'], ascending=False)"
   ]
  },
  {
   "cell_type": "markdown",
   "id": "7626d49e",
   "metadata": {},
   "source": [
    "**Вывод**  \n",
    "В 2016 году к 2015 все платформы упали в продажах новых выпусков.  \n",
    "Меньше всего падение у платформ PSV\tна 32% и PC на 38%.  \n",
    "\n",
    "Лучшие продажи у PS4 и XOne.  \n",
    "Платформы являются лидерами продаж с большим отрывом, суммарно обе платформы имеют свыше 58% продаж за 2014-2016.  \n",
    "Высокий % падения у платформ: X360\t = 87% и Wii = 84%.\n",
    "\n",
    "Потенциально прибыльные платформы, показывающие рост продаж: PS4, Xone, т.к. они генерируют свыше 58% продаж.  \n",
    "По динамик продаж интересные платформы PC и PSV.\n",
    "___________________________________________________________________________________________"
   ]
  },
  {
   "cell_type": "markdown",
   "id": "8640d6e2",
   "metadata": {},
   "source": [
    "📌   \n",
    "Постройте график «ящик с усами» по глобальным продажам игр в разбивке по платформам.<a name=\"9\"></a>"
   ]
  },
  {
   "cell_type": "markdown",
   "id": "ee7c5ace",
   "metadata": {},
   "source": [
    "Названия платформ для графика списком."
   ]
  },
  {
   "cell_type": "code",
   "execution_count": 101,
   "id": "d8f1731d",
   "metadata": {},
   "outputs": [
    {
     "data": {
      "text/plain": [
       "array(['3DS', 'PC', 'PS3', 'PS4', 'PSP', 'PSV', 'Wii', 'WiiU', 'X360',\n",
       "       'XOne'], dtype=object)"
      ]
     },
     "execution_count": 101,
     "metadata": {},
     "output_type": "execute_result"
    }
   ],
   "source": [
    "pl_names = df_games_14_16_platfrom ['platform'].unique()\n",
    "pl_names"
   ]
  },
  {
   "cell_type": "markdown",
   "id": "1af0ac98",
   "metadata": {},
   "source": [
    "☑️Сгрупируем игры по платформам, аггрегируемым значением будут продажи.  \n",
    "Такая таблица нужна для boxplot на одно графике."
   ]
  },
  {
   "cell_type": "code",
   "execution_count": 102,
   "id": "48c73f41",
   "metadata": {},
   "outputs": [],
   "source": [
    "df_games_14_16_platfrom_for_box = df_games_14_16.pivot_table(\n",
    "    index=['name'], columns=['platform'], values=['sales_amount'], aggfunc={'sales_amount': 'sum'}).reset_index()"
   ]
  },
  {
   "cell_type": "code",
   "execution_count": 103,
   "id": "a26f4935",
   "metadata": {},
   "outputs": [],
   "source": [
    "df_games_14_16_platfrom_for_box = df_games_14_16_platfrom_for_box.droplevel(1, axis=1)"
   ]
  },
  {
   "cell_type": "markdown",
   "id": "9bd475c7",
   "metadata": {},
   "source": [
    "Обработаем столбцы , перименуем."
   ]
  },
  {
   "cell_type": "code",
   "execution_count": 104,
   "id": "043a8b46",
   "metadata": {},
   "outputs": [],
   "source": [
    "df_games_14_16_platfrom_for_box.columns.values[1] = \"3DS\"\n",
    "df_games_14_16_platfrom_for_box.columns.values[2] = \"PC\"\n",
    "df_games_14_16_platfrom_for_box.columns.values[3] = \"PS3\"\n",
    "df_games_14_16_platfrom_for_box.columns.values[4] = \"PS4\"\n",
    "df_games_14_16_platfrom_for_box.columns.values[5] = \"PSP\"\n",
    "df_games_14_16_platfrom_for_box.columns.values[6] = \"PSV\"\n",
    "df_games_14_16_platfrom_for_box.columns.values[7] = \"Wii\"\n",
    "df_games_14_16_platfrom_for_box.columns.values[8] = \"WiiU\"\n",
    "df_games_14_16_platfrom_for_box.columns.values[9] = \"X360\"\n",
    "df_games_14_16_platfrom_for_box.columns.values[10] = \"XOne\""
   ]
  },
  {
   "cell_type": "code",
   "execution_count": 105,
   "id": "00a21ff2",
   "metadata": {},
   "outputs": [],
   "source": [
    "names_for_box = df_games_14_16_platfrom_for_box.columns[1:len(df_games_14_16_platfrom_for_box)]"
   ]
  },
  {
   "cell_type": "code",
   "execution_count": 106,
   "id": "8be795cd",
   "metadata": {},
   "outputs": [
    {
     "data": {
      "text/plain": [
       "Index(['3DS', 'PC', 'PS3', 'PS4', 'PSP', 'PSV', 'Wii', 'WiiU', 'X360', 'XOne'], dtype='object')"
      ]
     },
     "execution_count": 106,
     "metadata": {},
     "output_type": "execute_result"
    }
   ],
   "source": [
    "names_for_box"
   ]
  },
  {
   "cell_type": "markdown",
   "id": "9f0997a9",
   "metadata": {},
   "source": [
    "☑️Выведем график Boxplot"
   ]
  },
  {
   "cell_type": "code",
   "execution_count": 107,
   "id": "e34a7cb0",
   "metadata": {},
   "outputs": [
    {
     "data": {
      "image/png": "[encoded data removed]",
      "text/plain": [
       "<Figure size 1152x288 with 1 Axes>"
      ]
     },
     "metadata": {},
     "output_type": "display_data"
    }
   ],
   "source": [
    "df_games_14_16_platfrom_for_box[names_for_box].plot(\n",
    "    kind='box', title='Ящик с усами для платформ за 2014-2016', label='sales_amount', figsize=(16, 4));\n",
    "plt.xlabel('sales_amount');\n",
    "plt.show();"
   ]
  },
  {
   "cell_type": "markdown",
   "id": "f03c1287",
   "metadata": {},
   "source": [
    "☑️Приблизим значения, чтобы лучшем было видно медиану и квартили."
   ]
  },
  {
   "cell_type": "code",
   "execution_count": 108,
   "id": "6d49f4e0",
   "metadata": {},
   "outputs": [
    {
     "data": {
      "image/png": "[encoded data removed]",
      "text/plain": [
       "<Figure size 1152x288 with 1 Axes>"
      ]
     },
     "metadata": {},
     "output_type": "display_data"
    }
   ],
   "source": [
    "df_games_14_16_platfrom_for_box[names_for_box].plot(\n",
    "    kind='box', title='Ящик с усами для платформ за 2014-2016', label='sales_amount', figsize=(16, 4));\n",
    "plt.xlabel('sales_amount');\n",
    "plt.ylim([0, 2])\n",
    "plt.show();"
   ]
  },
  {
   "cell_type": "markdown",
   "id": "b09e842c",
   "metadata": {},
   "source": [
    "Построим метод описательную статистику в дополнение к boxplot() для каждой платформы."
   ]
  },
  {
   "cell_type": "code",
   "execution_count": 109,
   "id": "29bc3afd",
   "metadata": {},
   "outputs": [
    {
     "data": {
      "text/html": [
       "<div>\n",
       "<style scoped>\n",
       "    .dataframe tbody tr th:only-of-type {\n",
       "        vertical-align: middle;\n",
       "    }\n",
       "\n",
       "    .dataframe tbody tr th {\n",
       "        vertical-align: top;\n",
       "    }\n",
       "\n",
       "    .dataframe thead th {\n",
       "        text-align: right;\n",
       "    }\n",
       "</style>\n",
       "<table border=\"1\" class=\"dataframe\">\n",
       "  <thead>\n",
       "    <tr style=\"text-align: right;\">\n",
       "      <th></th>\n",
       "      <th>count</th>\n",
       "      <th>mean</th>\n",
       "      <th>std</th>\n",
       "      <th>min</th>\n",
       "      <th>25%</th>\n",
       "      <th>50%</th>\n",
       "      <th>75%</th>\n",
       "      <th>max</th>\n",
       "    </tr>\n",
       "  </thead>\n",
       "  <tbody>\n",
       "    <tr>\n",
       "      <th>3DS</th>\n",
       "      <td>212.0</td>\n",
       "      <td>0.408868</td>\n",
       "      <td>1.188368</td>\n",
       "      <td>0.01</td>\n",
       "      <td>0.0300</td>\n",
       "      <td>0.090</td>\n",
       "      <td>0.2500</td>\n",
       "      <td>11.68</td>\n",
       "    </tr>\n",
       "    <tr>\n",
       "      <th>PC</th>\n",
       "      <td>151.0</td>\n",
       "      <td>0.179139</td>\n",
       "      <td>0.329359</td>\n",
       "      <td>0.01</td>\n",
       "      <td>0.0200</td>\n",
       "      <td>0.060</td>\n",
       "      <td>0.2000</td>\n",
       "      <td>3.05</td>\n",
       "    </tr>\n",
       "    <tr>\n",
       "      <th>PS3</th>\n",
       "      <td>219.0</td>\n",
       "      <td>0.311324</td>\n",
       "      <td>0.633059</td>\n",
       "      <td>0.01</td>\n",
       "      <td>0.0400</td>\n",
       "      <td>0.110</td>\n",
       "      <td>0.3250</td>\n",
       "      <td>5.27</td>\n",
       "    </tr>\n",
       "    <tr>\n",
       "      <th>PS4</th>\n",
       "      <td>376.0</td>\n",
       "      <td>0.766356</td>\n",
       "      <td>1.614969</td>\n",
       "      <td>0.01</td>\n",
       "      <td>0.0575</td>\n",
       "      <td>0.185</td>\n",
       "      <td>0.6900</td>\n",
       "      <td>14.63</td>\n",
       "    </tr>\n",
       "    <tr>\n",
       "      <th>PSP</th>\n",
       "      <td>13.0</td>\n",
       "      <td>0.027692</td>\n",
       "      <td>0.027735</td>\n",
       "      <td>0.01</td>\n",
       "      <td>0.0100</td>\n",
       "      <td>0.020</td>\n",
       "      <td>0.0200</td>\n",
       "      <td>0.09</td>\n",
       "    </tr>\n",
       "    <tr>\n",
       "      <th>PSV</th>\n",
       "      <td>295.0</td>\n",
       "      <td>0.075932</td>\n",
       "      <td>0.141591</td>\n",
       "      <td>0.01</td>\n",
       "      <td>0.0200</td>\n",
       "      <td>0.040</td>\n",
       "      <td>0.0900</td>\n",
       "      <td>1.96</td>\n",
       "    </tr>\n",
       "    <tr>\n",
       "      <th>Wii</th>\n",
       "      <td>11.0</td>\n",
       "      <td>0.460909</td>\n",
       "      <td>0.625451</td>\n",
       "      <td>0.01</td>\n",
       "      <td>0.0350</td>\n",
       "      <td>0.180</td>\n",
       "      <td>0.7550</td>\n",
       "      <td>2.01</td>\n",
       "    </tr>\n",
       "    <tr>\n",
       "      <th>WiiU</th>\n",
       "      <td>73.0</td>\n",
       "      <td>0.588767</td>\n",
       "      <td>1.161467</td>\n",
       "      <td>0.01</td>\n",
       "      <td>0.0500</td>\n",
       "      <td>0.190</td>\n",
       "      <td>0.5700</td>\n",
       "      <td>7.09</td>\n",
       "    </tr>\n",
       "    <tr>\n",
       "      <th>X360</th>\n",
       "      <td>111.0</td>\n",
       "      <td>0.434414</td>\n",
       "      <td>0.628967</td>\n",
       "      <td>0.01</td>\n",
       "      <td>0.0700</td>\n",
       "      <td>0.180</td>\n",
       "      <td>0.5050</td>\n",
       "      <td>4.28</td>\n",
       "    </tr>\n",
       "    <tr>\n",
       "      <th>XOne</th>\n",
       "      <td>228.0</td>\n",
       "      <td>0.615614</td>\n",
       "      <td>1.046513</td>\n",
       "      <td>0.01</td>\n",
       "      <td>0.0500</td>\n",
       "      <td>0.205</td>\n",
       "      <td>0.6325</td>\n",
       "      <td>7.39</td>\n",
       "    </tr>\n",
       "  </tbody>\n",
       "</table>\n",
       "</div>"
      ],
      "text/plain": [
       "      count      mean       std   min     25%    50%     75%    max\n",
       "3DS   212.0  0.408868  1.188368  0.01  0.0300  0.090  0.2500  11.68\n",
       "PC    151.0  0.179139  0.329359  0.01  0.0200  0.060  0.2000   3.05\n",
       "PS3   219.0  0.311324  0.633059  0.01  0.0400  0.110  0.3250   5.27\n",
       "PS4   376.0  0.766356  1.614969  0.01  0.0575  0.185  0.6900  14.63\n",
       "PSP    13.0  0.027692  0.027735  0.01  0.0100  0.020  0.0200   0.09\n",
       "PSV   295.0  0.075932  0.141591  0.01  0.0200  0.040  0.0900   1.96\n",
       "Wii    11.0  0.460909  0.625451  0.01  0.0350  0.180  0.7550   2.01\n",
       "WiiU   73.0  0.588767  1.161467  0.01  0.0500  0.190  0.5700   7.09\n",
       "X360  111.0  0.434414  0.628967  0.01  0.0700  0.180  0.5050   4.28\n",
       "XOne  228.0  0.615614  1.046513  0.01  0.0500  0.205  0.6325   7.39"
      ]
     },
     "execution_count": 109,
     "metadata": {},
     "output_type": "execute_result"
    }
   ],
   "source": [
    "df_games_14_16_platfrom_for_box[names_for_box].describe().T"
   ]
  },
  {
   "cell_type": "markdown",
   "id": "ab79fc60",
   "metadata": {},
   "source": [
    "**Вывод**  \n",
    "Из boxplot и describe видно, что большая часть значений лежит близко к 0.  \n",
    "Выручка каждой выпущенной игры варьируется от 10 тыс. до нескольких млн. копий.  \n",
    "При этом видно, что есть игры, которые становятся хитами и собирают большую часть выручки новых запусков.  \n",
    "Так, например, по платформе PS4 тянется длинный хвост, а самые большие продажи игры составляют 14,63 млн. копий.  \n",
    "При этом медианное значение составляет всего 185 тыс.копий.  \n",
    "\n",
    "Также видно, что чем больше игр-хитов на платформе, тем больше стандартное отклонение и тем более усатый наш график :)\n",
    "\n",
    "То есть основные продажи приносят \"игры-хиты\", а большая часть игр не приносят больших продаж.\n",
    "___________________________________________________________________________________________"
   ]
  },
  {
   "cell_type": "markdown",
   "id": "519cdf64",
   "metadata": {},
   "source": [
    "📌   \n",
    "Посмотрите, как влияют на продажи внутри одной популярной платформы отзывы пользователей и критиков.<a name=\"10\"></a>  \n",
    "Постройте диаграмму рассеяния и посчитайте корреляцию между отзывами и продажами. "
   ]
  },
  {
   "cell_type": "markdown",
   "id": "2c13fe85",
   "metadata": {},
   "source": [
    "Возьмем самую популярную платформу по продажам PS4."
   ]
  },
  {
   "cell_type": "code",
   "execution_count": 110,
   "id": "ae22de4e",
   "metadata": {},
   "outputs": [],
   "source": [
    "df_games_14_16_PS4 = df_games_14_16.loc[(df_games['platform']=='PS4')]"
   ]
  },
  {
   "cell_type": "markdown",
   "id": "fc251067",
   "metadata": {},
   "source": [
    "Сгруппируем проддажи и оценки критиков в одной таблице."
   ]
  },
  {
   "cell_type": "code",
   "execution_count": 111,
   "id": "219c3583",
   "metadata": {
    "scrolled": true
   },
   "outputs": [
    {
     "data": {
      "text/html": [
       "<div>\n",
       "<style scoped>\n",
       "    .dataframe tbody tr th:only-of-type {\n",
       "        vertical-align: middle;\n",
       "    }\n",
       "\n",
       "    .dataframe tbody tr th {\n",
       "        vertical-align: top;\n",
       "    }\n",
       "\n",
       "    .dataframe thead th {\n",
       "        text-align: right;\n",
       "    }\n",
       "</style>\n",
       "<table border=\"1\" class=\"dataframe\">\n",
       "  <thead>\n",
       "    <tr style=\"text-align: right;\">\n",
       "      <th></th>\n",
       "      <th>critic_score</th>\n",
       "      <th>user_score</th>\n",
       "      <th>sales_amount</th>\n",
       "    </tr>\n",
       "  </thead>\n",
       "  <tbody>\n",
       "    <tr>\n",
       "      <th>31</th>\n",
       "      <td>NaN</td>\n",
       "      <td>NaN</td>\n",
       "      <td>14.630000</td>\n",
       "    </tr>\n",
       "    <tr>\n",
       "      <th>42</th>\n",
       "      <td>97.0</td>\n",
       "      <td>8.3</td>\n",
       "      <td>12.620001</td>\n",
       "    </tr>\n",
       "    <tr>\n",
       "      <th>77</th>\n",
       "      <td>82.0</td>\n",
       "      <td>4.3</td>\n",
       "      <td>8.580000</td>\n",
       "    </tr>\n",
       "    <tr>\n",
       "      <th>87</th>\n",
       "      <td>NaN</td>\n",
       "      <td>NaN</td>\n",
       "      <td>7.980000</td>\n",
       "    </tr>\n",
       "    <tr>\n",
       "      <th>92</th>\n",
       "      <td>83.0</td>\n",
       "      <td>5.7</td>\n",
       "      <td>7.660000</td>\n",
       "    </tr>\n",
       "    <tr>\n",
       "      <th>...</th>\n",
       "      <td>...</td>\n",
       "      <td>...</td>\n",
       "      <td>...</td>\n",
       "    </tr>\n",
       "    <tr>\n",
       "      <th>16315</th>\n",
       "      <td>69.0</td>\n",
       "      <td>7.5</td>\n",
       "      <td>0.010000</td>\n",
       "    </tr>\n",
       "    <tr>\n",
       "      <th>16318</th>\n",
       "      <td>NaN</td>\n",
       "      <td>NaN</td>\n",
       "      <td>0.010000</td>\n",
       "    </tr>\n",
       "    <tr>\n",
       "      <th>16340</th>\n",
       "      <td>61.0</td>\n",
       "      <td>7.9</td>\n",
       "      <td>0.010000</td>\n",
       "    </tr>\n",
       "    <tr>\n",
       "      <th>16344</th>\n",
       "      <td>51.0</td>\n",
       "      <td>5.5</td>\n",
       "      <td>0.010000</td>\n",
       "    </tr>\n",
       "    <tr>\n",
       "      <th>16399</th>\n",
       "      <td>NaN</td>\n",
       "      <td>NaN</td>\n",
       "      <td>0.010000</td>\n",
       "    </tr>\n",
       "  </tbody>\n",
       "</table>\n",
       "<p>376 rows × 3 columns</p>\n",
       "</div>"
      ],
      "text/plain": [
       "       critic_score  user_score  sales_amount\n",
       "31              NaN         NaN     14.630000\n",
       "42             97.0         8.3     12.620001\n",
       "77             82.0         4.3      8.580000\n",
       "87              NaN         NaN      7.980000\n",
       "92             83.0         5.7      7.660000\n",
       "...             ...         ...           ...\n",
       "16315          69.0         7.5      0.010000\n",
       "16318           NaN         NaN      0.010000\n",
       "16340          61.0         7.9      0.010000\n",
       "16344          51.0         5.5      0.010000\n",
       "16399           NaN         NaN      0.010000\n",
       "\n",
       "[376 rows x 3 columns]"
      ]
     },
     "execution_count": 111,
     "metadata": {},
     "output_type": "execute_result"
    }
   ],
   "source": [
    "df_games_14_16_PS4[['critic_score', 'user_score', 'sales_amount']]"
   ]
  },
  {
   "cell_type": "markdown",
   "id": "8a844284",
   "metadata": {},
   "source": [
    "Корреляци между отзывами и продажами"
   ]
  },
  {
   "cell_type": "code",
   "execution_count": 112,
   "id": "61ef9b07",
   "metadata": {},
   "outputs": [],
   "source": [
    "corr_critics = round(df_games_14_16_PS4[[\n",
    "    'critic_score', 'user_score', 'sales_amount']].corr()['sales_amount'][0], 3)\n",
    "corr_users = round(df_games_14_16_PS4[[\n",
    "    'critic_score', 'user_score', 'sales_amount']].corr()['sales_amount'][1], 3)"
   ]
  },
  {
   "cell_type": "code",
   "execution_count": 113,
   "id": "7169b53a",
   "metadata": {},
   "outputs": [
    {
     "name": "stdout",
     "output_type": "stream",
     "text": [
      "Коэффициент корреляции продаж от оценки критиков: 0.403. Зависимость прямая линейная.\n",
      "Коэффициент корреляции продаж от оценки критиков: -0.04. Зависимость отсутствует.\n"
     ]
    }
   ],
   "source": [
    "print(\n",
    "    f'Коэффициент корреляции продаж от оценки критиков: {corr_critics}. Зависимость прямая линейная.'\n",
    ")\n",
    "print(\n",
    "    f'Коэффициент корреляции продаж от оценки критиков: {corr_users}. Зависимость отсутствует.'\n",
    ")      "
   ]
  },
  {
   "cell_type": "markdown",
   "id": "d09aaf46",
   "metadata": {},
   "source": [
    "Диаграмма рассеяния по продажам к оценкам критиков и оценки пользователей"
   ]
  },
  {
   "cell_type": "code",
   "execution_count": 114,
   "id": "9c55eb07",
   "metadata": {},
   "outputs": [
    {
     "data": {
      "image/png": "[encoded data removed]",
      "text/plain": [
       "<Figure size 1152x288 with 2 Axes>"
      ]
     },
     "metadata": {},
     "output_type": "display_data"
    }
   ],
   "source": [
    "fig, axs = plt.subplots(1,2)\n",
    "df_games_14_16_PS4.plot(x = 'critic_score', y='sales_amount', kind='scatter', ax=axs[0], figsize=(\n",
    "    16, 4), color='blue', label='critic_score', grid=True);\n",
    "axs[0].set(title='Диаграмма рассеивания оценка критиков');\n",
    "\n",
    "df_games_14_16_PS4.plot(x = 'user_score', y='sales_amount', kind='scatter', ax=axs[1], figsize=(\n",
    "    16, 4), color='red', label='user_score', grid=True);\n",
    "axs[1].set(title='Диаграмма рассеивания оценка пользователей');"
   ]
  },
  {
   "cell_type": "markdown",
   "id": "f429117b",
   "metadata": {},
   "source": [
    "По диаграмме видно, что разброс значений оценок пользователей действтельно более хаотичный."
   ]
  },
  {
   "cell_type": "markdown",
   "id": "cc330167",
   "metadata": {},
   "source": [
    "**Вывод**  \n",
    "Для платформы PS4:  \n",
    "\n",
    "- Есть прямая линейная зависимость суммы продаж от оценок критиков, коэф.корреляции 0,403 говорит о наличии прямой линейной зависимости, сила зависиомости ниже среднего (1 макс, 0 мин).  \n",
    "\n",
    "- Есть слабая обратная зависимость продаж от оценок пользователей, коэф.корреляции -0,04 говорит о том, что зависимость практически отсутствует (-1 макс, 0 мин).  \n",
    "\n",
    "Обратная зависимость от оценок пользователей очень сложно объяснима, возможно пользователи чаще ставят плохие оценки, чем хорошие и, т.к. у нас данные продж в год выпуска, возможно количество продаж в этот год больше зависит от рекламного бюджета, чем от отзывов. \n",
    "___________________________________________________________________________________________"
   ]
  },
  {
   "cell_type": "markdown",
   "id": "fd31eb91",
   "metadata": {},
   "source": [
    "📌   \n",
    "Посмотрите на общее распределение игр по жанрам.<a name=\"11\"></a>  \n",
    "Что можно сказать о самых прибыльных жанрах?  \n",
    "Выделяются ли жанры с высокими и низкими продажами?"
   ]
  },
  {
   "cell_type": "markdown",
   "id": "9023a40c",
   "metadata": {},
   "source": [
    "В этом блоке посмотрим на популярные игры за весь период и за актуальный период."
   ]
  },
  {
   "cell_type": "markdown",
   "id": "13e6232a",
   "metadata": {},
   "source": [
    "**Популярные игры за весь период.**"
   ]
  },
  {
   "cell_type": "markdown",
   "id": "e1f57d81",
   "metadata": {},
   "source": [
    "Построим группировку по продажам и количеству выпущенных игр , отсортируем по убыванию продаж."
   ]
  },
  {
   "cell_type": "code",
   "execution_count": 115,
   "id": "b8c03552",
   "metadata": {
    "scrolled": true
   },
   "outputs": [],
   "source": [
    "df_games_genre_groupped = df_games.groupby('genre').agg(\n",
    "    {'sales_amount': 'sum', 'name': 'count'}).sort_values(by='sales_amount', ascending=False).reset_index() "
   ]
  },
  {
   "cell_type": "code",
   "execution_count": 116,
   "id": "b9297bbe",
   "metadata": {},
   "outputs": [],
   "source": [
    "df_games_genre_groupped = df_games_genre_groupped.rename(columns={'name': 'games_amount'})"
   ]
  },
  {
   "cell_type": "markdown",
   "id": "1743e880",
   "metadata": {},
   "source": [
    "Добавим столбец продаж на одну выпущенную игру."
   ]
  },
  {
   "cell_type": "code",
   "execution_count": 117,
   "id": "d0db1b96",
   "metadata": {},
   "outputs": [],
   "source": [
    "df_games_genre_groupped['sales_per_game'] = df_games_genre_groupped['sales_amount'] / df_games_genre_groupped['games_amount']"
   ]
  },
  {
   "cell_type": "code",
   "execution_count": 118,
   "id": "b1341da0",
   "metadata": {},
   "outputs": [
    {
     "data": {
      "text/html": [
       "<div>\n",
       "<style scoped>\n",
       "    .dataframe tbody tr th:only-of-type {\n",
       "        vertical-align: middle;\n",
       "    }\n",
       "\n",
       "    .dataframe tbody tr th {\n",
       "        vertical-align: top;\n",
       "    }\n",
       "\n",
       "    .dataframe thead th {\n",
       "        text-align: right;\n",
       "    }\n",
       "</style>\n",
       "<table border=\"1\" class=\"dataframe\">\n",
       "  <thead>\n",
       "    <tr style=\"text-align: right;\">\n",
       "      <th></th>\n",
       "      <th>genre</th>\n",
       "      <th>sales_amount</th>\n",
       "      <th>games_amount</th>\n",
       "      <th>sales_per_game</th>\n",
       "    </tr>\n",
       "  </thead>\n",
       "  <tbody>\n",
       "    <tr>\n",
       "      <th>4</th>\n",
       "      <td>Platform</td>\n",
       "      <td>825.549988</td>\n",
       "      <td>878</td>\n",
       "      <td>0.940262</td>\n",
       "    </tr>\n",
       "    <tr>\n",
       "      <th>2</th>\n",
       "      <td>Shooter</td>\n",
       "      <td>1049.000000</td>\n",
       "      <td>1306</td>\n",
       "      <td>0.803216</td>\n",
       "    </tr>\n",
       "    <tr>\n",
       "      <th>3</th>\n",
       "      <td>Role-Playing</td>\n",
       "      <td>931.390015</td>\n",
       "      <td>1482</td>\n",
       "      <td>0.628468</td>\n",
       "    </tr>\n",
       "    <tr>\n",
       "      <th>6</th>\n",
       "      <td>Racing</td>\n",
       "      <td>724.489990</td>\n",
       "      <td>1233</td>\n",
       "      <td>0.587583</td>\n",
       "    </tr>\n",
       "    <tr>\n",
       "      <th>1</th>\n",
       "      <td>Sports</td>\n",
       "      <td>1325.869995</td>\n",
       "      <td>2325</td>\n",
       "      <td>0.570267</td>\n",
       "    </tr>\n",
       "    <tr>\n",
       "      <th>7</th>\n",
       "      <td>Fighting</td>\n",
       "      <td>443.470001</td>\n",
       "      <td>841</td>\n",
       "      <td>0.527313</td>\n",
       "    </tr>\n",
       "    <tr>\n",
       "      <th>0</th>\n",
       "      <td>Action</td>\n",
       "      <td>1733.390015</td>\n",
       "      <td>3333</td>\n",
       "      <td>0.520069</td>\n",
       "    </tr>\n",
       "    <tr>\n",
       "      <th>5</th>\n",
       "      <td>Misc</td>\n",
       "      <td>792.979980</td>\n",
       "      <td>1730</td>\n",
       "      <td>0.458370</td>\n",
       "    </tr>\n",
       "    <tr>\n",
       "      <th>8</th>\n",
       "      <td>Simulation</td>\n",
       "      <td>387.880005</td>\n",
       "      <td>858</td>\n",
       "      <td>0.452075</td>\n",
       "    </tr>\n",
       "    <tr>\n",
       "      <th>9</th>\n",
       "      <td>Puzzle</td>\n",
       "      <td>240.539993</td>\n",
       "      <td>573</td>\n",
       "      <td>0.419791</td>\n",
       "    </tr>\n",
       "    <tr>\n",
       "      <th>11</th>\n",
       "      <td>Strategy</td>\n",
       "      <td>173.050003</td>\n",
       "      <td>675</td>\n",
       "      <td>0.256370</td>\n",
       "    </tr>\n",
       "    <tr>\n",
       "      <th>10</th>\n",
       "      <td>Adventure</td>\n",
       "      <td>233.330002</td>\n",
       "      <td>1293</td>\n",
       "      <td>0.180456</td>\n",
       "    </tr>\n",
       "  </tbody>\n",
       "</table>\n",
       "</div>"
      ],
      "text/plain": [
       "           genre  sales_amount  games_amount  sales_per_game\n",
       "4       Platform    825.549988           878        0.940262\n",
       "2        Shooter   1049.000000          1306        0.803216\n",
       "3   Role-Playing    931.390015          1482        0.628468\n",
       "6         Racing    724.489990          1233        0.587583\n",
       "1         Sports   1325.869995          2325        0.570267\n",
       "7       Fighting    443.470001           841        0.527313\n",
       "0         Action   1733.390015          3333        0.520069\n",
       "5           Misc    792.979980          1730        0.458370\n",
       "8     Simulation    387.880005           858        0.452075\n",
       "9         Puzzle    240.539993           573        0.419791\n",
       "11      Strategy    173.050003           675        0.256370\n",
       "10     Adventure    233.330002          1293        0.180456"
      ]
     },
     "execution_count": 118,
     "metadata": {},
     "output_type": "execute_result"
    }
   ],
   "source": [
    "df_games_genre_groupped.sort_values(by='sales_per_game', ascending=False)"
   ]
  },
  {
   "cell_type": "markdown",
   "id": "35003396",
   "metadata": {},
   "source": [
    "**Вывод**  \n",
    "Наиболее популярными жанрами по продажам игр являются 'Action' и 'Sports'.  \n",
    "При этом наибольшая выручка в среднем на игру в жанрах: 'Platform' и 'Shooter'.  \n",
    "Возможно эти жанры недооценены.\n",
    "___________________________________________________________________________________________"
   ]
  },
  {
   "cell_type": "markdown",
   "id": "6b2e5efd",
   "metadata": {},
   "source": [
    "**Популярные игры за актуальный период.**"
   ]
  },
  {
   "cell_type": "markdown",
   "id": "9c7ffb18",
   "metadata": {},
   "source": [
    "Построим группировку по продажам и количеству выпущенных игр , отсортируем по убыванию продаж."
   ]
  },
  {
   "cell_type": "code",
   "execution_count": 119,
   "id": "a09d67e6",
   "metadata": {},
   "outputs": [],
   "source": [
    "df_games_genre_groupped_14_16 = df_games_14_16.groupby('genre').agg(\n",
    "    {'sales_amount': 'sum', 'name': 'count'}).sort_values(by='sales_amount', ascending=False).reset_index() "
   ]
  },
  {
   "cell_type": "code",
   "execution_count": 120,
   "id": "19dac59a",
   "metadata": {},
   "outputs": [],
   "source": [
    "df_games_genre_groupped_14_16 = df_games_genre_groupped_14_16.rename(columns={'name': 'games_amount'})"
   ]
  },
  {
   "cell_type": "markdown",
   "id": "9b1478c4",
   "metadata": {},
   "source": [
    "Добавим столбец продаж на одну выпущенную игру."
   ]
  },
  {
   "cell_type": "code",
   "execution_count": 121,
   "id": "c9a42cdf",
   "metadata": {},
   "outputs": [],
   "source": [
    "df_games_genre_groupped_14_16['sales_per_game'] = df_games_genre_groupped_14_16[\n",
    "    'sales_amount'] / df_games_genre_groupped_14_16['games_amount']"
   ]
  },
  {
   "cell_type": "code",
   "execution_count": 122,
   "id": "53a8db9b",
   "metadata": {},
   "outputs": [
    {
     "data": {
      "text/html": [
       "<div>\n",
       "<style scoped>\n",
       "    .dataframe tbody tr th:only-of-type {\n",
       "        vertical-align: middle;\n",
       "    }\n",
       "\n",
       "    .dataframe tbody tr th {\n",
       "        vertical-align: top;\n",
       "    }\n",
       "\n",
       "    .dataframe thead th {\n",
       "        text-align: right;\n",
       "    }\n",
       "</style>\n",
       "<table border=\"1\" class=\"dataframe\">\n",
       "  <thead>\n",
       "    <tr style=\"text-align: right;\">\n",
       "      <th></th>\n",
       "      <th>genre</th>\n",
       "      <th>sales_amount</th>\n",
       "      <th>games_amount</th>\n",
       "      <th>sales_per_game</th>\n",
       "    </tr>\n",
       "  </thead>\n",
       "  <tbody>\n",
       "    <tr>\n",
       "      <th>1</th>\n",
       "      <td>Shooter</td>\n",
       "      <td>170.940002</td>\n",
       "      <td>128</td>\n",
       "      <td>1.335469</td>\n",
       "    </tr>\n",
       "    <tr>\n",
       "      <th>2</th>\n",
       "      <td>Sports</td>\n",
       "      <td>109.480003</td>\n",
       "      <td>161</td>\n",
       "      <td>0.680000</td>\n",
       "    </tr>\n",
       "    <tr>\n",
       "      <th>7</th>\n",
       "      <td>Platform</td>\n",
       "      <td>18.090000</td>\n",
       "      <td>38</td>\n",
       "      <td>0.476053</td>\n",
       "    </tr>\n",
       "    <tr>\n",
       "      <th>5</th>\n",
       "      <td>Fighting</td>\n",
       "      <td>28.219999</td>\n",
       "      <td>60</td>\n",
       "      <td>0.470333</td>\n",
       "    </tr>\n",
       "    <tr>\n",
       "      <th>3</th>\n",
       "      <td>Role-Playing</td>\n",
       "      <td>101.440002</td>\n",
       "      <td>221</td>\n",
       "      <td>0.459005</td>\n",
       "    </tr>\n",
       "    <tr>\n",
       "      <th>6</th>\n",
       "      <td>Racing</td>\n",
       "      <td>27.520000</td>\n",
       "      <td>69</td>\n",
       "      <td>0.398841</td>\n",
       "    </tr>\n",
       "    <tr>\n",
       "      <th>4</th>\n",
       "      <td>Misc</td>\n",
       "      <td>37.549999</td>\n",
       "      <td>113</td>\n",
       "      <td>0.332301</td>\n",
       "    </tr>\n",
       "    <tr>\n",
       "      <th>0</th>\n",
       "      <td>Action</td>\n",
       "      <td>199.360001</td>\n",
       "      <td>619</td>\n",
       "      <td>0.322068</td>\n",
       "    </tr>\n",
       "    <tr>\n",
       "      <th>9</th>\n",
       "      <td>Simulation</td>\n",
       "      <td>13.130000</td>\n",
       "      <td>44</td>\n",
       "      <td>0.298409</td>\n",
       "    </tr>\n",
       "    <tr>\n",
       "      <th>11</th>\n",
       "      <td>Puzzle</td>\n",
       "      <td>2.210000</td>\n",
       "      <td>14</td>\n",
       "      <td>0.157857</td>\n",
       "    </tr>\n",
       "    <tr>\n",
       "      <th>10</th>\n",
       "      <td>Strategy</td>\n",
       "      <td>3.960000</td>\n",
       "      <td>37</td>\n",
       "      <td>0.107027</td>\n",
       "    </tr>\n",
       "    <tr>\n",
       "      <th>8</th>\n",
       "      <td>Adventure</td>\n",
       "      <td>17.549999</td>\n",
       "      <td>185</td>\n",
       "      <td>0.094865</td>\n",
       "    </tr>\n",
       "  </tbody>\n",
       "</table>\n",
       "</div>"
      ],
      "text/plain": [
       "           genre  sales_amount  games_amount  sales_per_game\n",
       "1        Shooter    170.940002           128        1.335469\n",
       "2         Sports    109.480003           161        0.680000\n",
       "7       Platform     18.090000            38        0.476053\n",
       "5       Fighting     28.219999            60        0.470333\n",
       "3   Role-Playing    101.440002           221        0.459005\n",
       "6         Racing     27.520000            69        0.398841\n",
       "4           Misc     37.549999           113        0.332301\n",
       "0         Action    199.360001           619        0.322068\n",
       "9     Simulation     13.130000            44        0.298409\n",
       "11        Puzzle      2.210000            14        0.157857\n",
       "10      Strategy      3.960000            37        0.107027\n",
       "8      Adventure     17.549999           185        0.094865"
      ]
     },
     "execution_count": 122,
     "metadata": {},
     "output_type": "execute_result"
    }
   ],
   "source": [
    "df_games_genre_groupped_14_16.sort_values(by='sales_per_game', ascending=False)"
   ]
  },
  {
   "cell_type": "markdown",
   "id": "74ede7eb",
   "metadata": {},
   "source": [
    "**Дополнительно построим график продаж жанров по годам.**"
   ]
  },
  {
   "cell_type": "code",
   "execution_count": 123,
   "id": "01a77e00",
   "metadata": {},
   "outputs": [],
   "source": [
    "genre_year_groupped = df_games.groupby(['genre', 'year_of_release'])['sales_amount'].sum().reset_index()"
   ]
  },
  {
   "cell_type": "code",
   "execution_count": 124,
   "id": "0df16729",
   "metadata": {},
   "outputs": [
    {
     "data": {
      "text/html": [
       "<div>\n",
       "<style scoped>\n",
       "    .dataframe tbody tr th:only-of-type {\n",
       "        vertical-align: middle;\n",
       "    }\n",
       "\n",
       "    .dataframe tbody tr th {\n",
       "        vertical-align: top;\n",
       "    }\n",
       "\n",
       "    .dataframe thead th {\n",
       "        text-align: right;\n",
       "    }\n",
       "</style>\n",
       "<table border=\"1\" class=\"dataframe\">\n",
       "  <thead>\n",
       "    <tr style=\"text-align: right;\">\n",
       "      <th></th>\n",
       "      <th>genre</th>\n",
       "      <th>year_of_release</th>\n",
       "      <th>sales_amount</th>\n",
       "    </tr>\n",
       "  </thead>\n",
       "  <tbody>\n",
       "    <tr>\n",
       "      <th>0</th>\n",
       "      <td>Action</td>\n",
       "      <td>1980</td>\n",
       "      <td>0.34</td>\n",
       "    </tr>\n",
       "    <tr>\n",
       "      <th>1</th>\n",
       "      <td>Action</td>\n",
       "      <td>1981</td>\n",
       "      <td>14.79</td>\n",
       "    </tr>\n",
       "  </tbody>\n",
       "</table>\n",
       "</div>"
      ],
      "text/plain": [
       "    genre  year_of_release  sales_amount\n",
       "0  Action             1980          0.34\n",
       "1  Action             1981         14.79"
      ]
     },
     "execution_count": 124,
     "metadata": {},
     "output_type": "execute_result"
    }
   ],
   "source": [
    "genre_year_groupped.head(2)"
   ]
  },
  {
   "cell_type": "markdown",
   "id": "8ccbbe3d",
   "metadata": {},
   "source": [
    "scatterplot о том, как менялась популярность жанров по выпуску новинок и их продажам."
   ]
  },
  {
   "cell_type": "code",
   "execution_count": 125,
   "id": "159334df",
   "metadata": {},
   "outputs": [
    {
     "data": {
      "image/png": "[encoded data removed]",
      "text/plain": [
       "<Figure size 1080x576 with 1 Axes>"
      ]
     },
     "metadata": {},
     "output_type": "display_data"
    }
   ],
   "source": [
    "sns.set(rc = {'figure.figsize':(15,8)})\n",
    "\n",
    "sns.scatterplot(\n",
    "    data = genre_year_groupped, x='year_of_release', y='genre', size='sales_amount', sizes=(\n",
    "        20, 500), hue='sales_amount').set_title('Диаграмма продаж жанров по годам выпуска игры');\n"
   ]
  },
  {
   "cell_type": "markdown",
   "id": "4062d7f3",
   "metadata": {},
   "source": [
    "**Вывод**  \n",
    "Наиболее популярными жанрами в 2014-2016 по продажам новых игр являются 'Action' и 'Shooter'.  \n",
    "На эти жарны приходится больше всего продаж новых выпусков в 2014-2016. \n",
    "Похоже, что жанр Shooter - это тренд последних лет, в отличие от многих других жанров он набирал популярность, а также у этого жанра лучший показатель продаж в расчете на выпущенную игру.  \n",
    "\n",
    "Популярными жанрами в последние годы с наибольшим числом успешных запусков были 'Action' и 'Shooter'.\n",
    "___________________________________________________________________________________________"
   ]
  },
  {
   "cell_type": "markdown",
   "id": "ab63a28f",
   "metadata": {},
   "source": [
    "**Общий вывод**  \n",
    "\n",
    "✔️ Новые платформы появляются в среднем чаще чем раз в год, в среднем прекращают существование немного чаще чем раз в 2,5 года, а срок жизни платформы составляет чуть больше 7 лет. Конкуренция растет, платформ становится все больше.  \n",
    "\n",
    "✔️ Игры имеют очень большой разброс значений проданных копий. Есть много провальных игр, которые приносят мало денег и игры-хиты, которые собирают большую часть продаж.\n",
    "\n",
    "✔️Платформами с наибольшими суммарными продажами по выпускам игр за всё время являются 'PS2' и 'X360'. В актуальном периоде на основе 2014-2016 годаов набольшей популярностью пользуются платформы: PS4 и Xone. Обе платформы показали падение к предыдущему году, но на долю этих двух платформ приходится свыше 53% суммарных продаж запусков игр.  \n",
    "\n",
    "✔️На основе популярной платформы PS4 можно сделать вывод, что есть зависимость продаж новых выпусков от оценки критиков и нет зависимости продаж новых игр от оценки пользователей. Чем выше оценка критиков, тем выше продажи.  \n",
    "\n",
    "✔️Наиболее популярными жанрами в 2014-2016 являются 'Action' и 'Shooter', при этом наибольшие продажи на один запуск приносят жанры 'Shooter' и 'Sports'.  \n",
    "___________________________________________________________________________________________"
   ]
  },
  {
   "cell_type": "markdown",
   "id": "37080bd2",
   "metadata": {},
   "source": [
    "### Шаг 4. Составьте портрет пользователя каждого региона<a name=\"client_portrait\"></a>"
   ]
  },
  {
   "cell_type": "markdown",
   "id": "9d48ecc4",
   "metadata": {},
   "source": [
    "❗️ Все данные этого блока за актуальный период **2016**"
   ]
  },
  {
   "cell_type": "markdown",
   "id": "de2b1f14",
   "metadata": {},
   "source": [
    "📌  \n",
    "Самые популярные платформы (топ-5). Опишите различия в долях продаж.<a name=\"12\"></a>"
   ]
  },
  {
   "cell_type": "code",
   "execution_count": 126,
   "id": "ad4362fc",
   "metadata": {},
   "outputs": [
    {
     "data": {
      "text/html": [
       "<div>\n",
       "<style scoped>\n",
       "    .dataframe tbody tr th:only-of-type {\n",
       "        vertical-align: middle;\n",
       "    }\n",
       "\n",
       "    .dataframe tbody tr th {\n",
       "        vertical-align: top;\n",
       "    }\n",
       "\n",
       "    .dataframe thead th {\n",
       "        text-align: right;\n",
       "    }\n",
       "</style>\n",
       "<table border=\"1\" class=\"dataframe\">\n",
       "  <thead>\n",
       "    <tr style=\"text-align: right;\">\n",
       "      <th></th>\n",
       "      <th>platform</th>\n",
       "      <th>critic_score</th>\n",
       "      <th>sales_amount</th>\n",
       "      <th>user_score</th>\n",
       "      <th>2016/2015</th>\n",
       "      <th>sales_amount_mean</th>\n",
       "    </tr>\n",
       "  </thead>\n",
       "  <tbody>\n",
       "    <tr>\n",
       "      <th>3</th>\n",
       "      <td>PS4</td>\n",
       "      <td>72.164558</td>\n",
       "      <td>288.149994</td>\n",
       "      <td>6.828099</td>\n",
       "      <td>-42.0</td>\n",
       "      <td>39.502365</td>\n",
       "    </tr>\n",
       "    <tr>\n",
       "      <th>9</th>\n",
       "      <td>XOne</td>\n",
       "      <td>73.793549</td>\n",
       "      <td>140.360001</td>\n",
       "      <td>6.594545</td>\n",
       "      <td>-57.0</td>\n",
       "      <td>19.241896</td>\n",
       "    </tr>\n",
       "    <tr>\n",
       "      <th>0</th>\n",
       "      <td>3DS</td>\n",
       "      <td>68.980392</td>\n",
       "      <td>86.680000</td>\n",
       "      <td>7.138182</td>\n",
       "      <td>-46.0</td>\n",
       "      <td>11.882925</td>\n",
       "    </tr>\n",
       "    <tr>\n",
       "      <th>2</th>\n",
       "      <td>PS3</td>\n",
       "      <td>66.555557</td>\n",
       "      <td>68.180000</td>\n",
       "      <td>6.014286</td>\n",
       "      <td>-79.0</td>\n",
       "      <td>9.346768</td>\n",
       "    </tr>\n",
       "    <tr>\n",
       "      <th>8</th>\n",
       "      <td>X360</td>\n",
       "      <td>63.730770</td>\n",
       "      <td>48.220001</td>\n",
       "      <td>5.771084</td>\n",
       "      <td>-87.0</td>\n",
       "      <td>6.610460</td>\n",
       "    </tr>\n",
       "  </tbody>\n",
       "</table>\n",
       "</div>"
      ],
      "text/plain": [
       "  platform  critic_score  sales_amount  user_score  2016/2015  \\\n",
       "3      PS4     72.164558    288.149994    6.828099      -42.0   \n",
       "9     XOne     73.793549    140.360001    6.594545      -57.0   \n",
       "0      3DS     68.980392     86.680000    7.138182      -46.0   \n",
       "2      PS3     66.555557     68.180000    6.014286      -79.0   \n",
       "8     X360     63.730770     48.220001    5.771084      -87.0   \n",
       "\n",
       "   sales_amount_mean  \n",
       "3          39.502365  \n",
       "9          19.241896  \n",
       "0          11.882925  \n",
       "2           9.346768  \n",
       "8           6.610460  "
      ]
     },
     "execution_count": 126,
     "metadata": {},
     "output_type": "execute_result"
    }
   ],
   "source": [
    "df_games_14_16_platfrom .sort_values(by=['sales_amount','2016/2015'], ascending=False).head(5)"
   ]
  },
  {
   "cell_type": "markdown",
   "id": "a9f52e68",
   "metadata": {},
   "source": [
    "**Вывод**  \n",
    "\n",
    "PS4 является наиболее популярной платформой, ее доля продаж составляет 39%.  \n",
    "Ближайший конкурент XOne имеет долю 19%.  \n",
    "Остальные 3 платформы имеют долю продаж новых выпусков от 6 до 12%.  \n",
    "\n",
    "Существует большой отрыв лидера PS4 от конкурентов, а также 2 платформы (XOne) от остальных платформ.\n",
    "___________________________________________________________________________________________"
   ]
  },
  {
   "cell_type": "markdown",
   "id": "b5373e32",
   "metadata": {},
   "source": [
    "📌  \n",
    "Самые популярные жанры (топ-5). Поясните разницу.<a name=\"13\"></a>"
   ]
  },
  {
   "cell_type": "code",
   "execution_count": 127,
   "id": "f085b830",
   "metadata": {
    "scrolled": true
   },
   "outputs": [
    {
     "data": {
      "text/html": [
       "<div>\n",
       "<style scoped>\n",
       "    .dataframe tbody tr th:only-of-type {\n",
       "        vertical-align: middle;\n",
       "    }\n",
       "\n",
       "    .dataframe tbody tr th {\n",
       "        vertical-align: top;\n",
       "    }\n",
       "\n",
       "    .dataframe thead th {\n",
       "        text-align: right;\n",
       "    }\n",
       "</style>\n",
       "<table border=\"1\" class=\"dataframe\">\n",
       "  <thead>\n",
       "    <tr style=\"text-align: right;\">\n",
       "      <th></th>\n",
       "      <th>genre</th>\n",
       "      <th>sales_amount</th>\n",
       "      <th>games_amount</th>\n",
       "      <th>sales_per_game</th>\n",
       "    </tr>\n",
       "  </thead>\n",
       "  <tbody>\n",
       "    <tr>\n",
       "      <th>0</th>\n",
       "      <td>Action</td>\n",
       "      <td>199.360001</td>\n",
       "      <td>619</td>\n",
       "      <td>0.322068</td>\n",
       "    </tr>\n",
       "    <tr>\n",
       "      <th>1</th>\n",
       "      <td>Shooter</td>\n",
       "      <td>170.940002</td>\n",
       "      <td>128</td>\n",
       "      <td>1.335469</td>\n",
       "    </tr>\n",
       "    <tr>\n",
       "      <th>2</th>\n",
       "      <td>Sports</td>\n",
       "      <td>109.480003</td>\n",
       "      <td>161</td>\n",
       "      <td>0.680000</td>\n",
       "    </tr>\n",
       "    <tr>\n",
       "      <th>3</th>\n",
       "      <td>Role-Playing</td>\n",
       "      <td>101.440002</td>\n",
       "      <td>221</td>\n",
       "      <td>0.459005</td>\n",
       "    </tr>\n",
       "    <tr>\n",
       "      <th>4</th>\n",
       "      <td>Misc</td>\n",
       "      <td>37.549999</td>\n",
       "      <td>113</td>\n",
       "      <td>0.332301</td>\n",
       "    </tr>\n",
       "  </tbody>\n",
       "</table>\n",
       "</div>"
      ],
      "text/plain": [
       "          genre  sales_amount  games_amount  sales_per_game\n",
       "0        Action    199.360001           619        0.322068\n",
       "1       Shooter    170.940002           128        1.335469\n",
       "2        Sports    109.480003           161        0.680000\n",
       "3  Role-Playing    101.440002           221        0.459005\n",
       "4          Misc     37.549999           113        0.332301"
      ]
     },
     "execution_count": 127,
     "metadata": {},
     "output_type": "execute_result"
    }
   ],
   "source": [
    "df_games_genre_groupped_14_16.sort_values(by='sales_amount', ascending=False).head(5)"
   ]
  },
  {
   "cell_type": "markdown",
   "id": "042004cd",
   "metadata": {},
   "source": [
    "**Вывод**  \n",
    "\n",
    "Наиболее популярными жанрами по числу проданных копий являются:  \n",
    "'Action', 'Shooter', 'Sports', 'Role-Playing', 'Misc'.  \n",
    "Первые два жанра 'Shooter' и 'Action' идут с отрывом от конкурентных жанров 'Sports' и 'Role-Playing', а последний жанр 'Misc' сильно отстает.  \n",
    "Похоже, что пользователям нравится \"экшн\" и \"стрелялки\", они по-прежнеему в тренде.\n",
    "___________________________________________________________________________________________"
   ]
  },
  {
   "cell_type": "markdown",
   "id": "fba97920",
   "metadata": {},
   "source": [
    "📌  \n",
    "Влияет ли рейтинг ESRB на продажи в отдельном регионе?<a name=\"14\"></a>  "
   ]
  },
  {
   "cell_type": "markdown",
   "id": "ff0b1718",
   "metadata": {},
   "source": [
    "Построим таблицу с продажами по регионам с разрезе рейтинга."
   ]
  },
  {
   "cell_type": "code",
   "execution_count": 128,
   "id": "eb4e197a",
   "metadata": {},
   "outputs": [
    {
     "data": {
      "text/html": [
       "<div>\n",
       "<style scoped>\n",
       "    .dataframe tbody tr th:only-of-type {\n",
       "        vertical-align: middle;\n",
       "    }\n",
       "\n",
       "    .dataframe tbody tr th {\n",
       "        vertical-align: top;\n",
       "    }\n",
       "\n",
       "    .dataframe thead th {\n",
       "        text-align: right;\n",
       "    }\n",
       "</style>\n",
       "<table border=\"1\" class=\"dataframe\">\n",
       "  <thead>\n",
       "    <tr style=\"text-align: right;\">\n",
       "      <th></th>\n",
       "      <th>name</th>\n",
       "      <th>platform</th>\n",
       "      <th>year_of_release</th>\n",
       "      <th>genre</th>\n",
       "      <th>na_sales</th>\n",
       "      <th>eu_sales</th>\n",
       "      <th>jp_sales</th>\n",
       "      <th>other_sales</th>\n",
       "      <th>critic_score</th>\n",
       "      <th>user_score</th>\n",
       "      <th>rating</th>\n",
       "      <th>sales_amount</th>\n",
       "    </tr>\n",
       "  </thead>\n",
       "  <tbody>\n",
       "    <tr>\n",
       "      <th>31</th>\n",
       "      <td>Call of Duty: Black Ops 3</td>\n",
       "      <td>PS4</td>\n",
       "      <td>2015</td>\n",
       "      <td>Shooter</td>\n",
       "      <td>6.03</td>\n",
       "      <td>5.86</td>\n",
       "      <td>0.36</td>\n",
       "      <td>2.38</td>\n",
       "      <td>NaN</td>\n",
       "      <td>NaN</td>\n",
       "      <td>tbd</td>\n",
       "      <td>14.630000</td>\n",
       "    </tr>\n",
       "    <tr>\n",
       "      <th>42</th>\n",
       "      <td>Grand Theft Auto V</td>\n",
       "      <td>PS4</td>\n",
       "      <td>2014</td>\n",
       "      <td>Action</td>\n",
       "      <td>3.96</td>\n",
       "      <td>6.31</td>\n",
       "      <td>0.38</td>\n",
       "      <td>1.97</td>\n",
       "      <td>97.0</td>\n",
       "      <td>8.3</td>\n",
       "      <td>M</td>\n",
       "      <td>12.620001</td>\n",
       "    </tr>\n",
       "    <tr>\n",
       "      <th>47</th>\n",
       "      <td>Pokemon Omega Ruby/Pokemon Alpha Sapphire</td>\n",
       "      <td>3DS</td>\n",
       "      <td>2014</td>\n",
       "      <td>Role-Playing</td>\n",
       "      <td>4.35</td>\n",
       "      <td>3.49</td>\n",
       "      <td>3.10</td>\n",
       "      <td>0.74</td>\n",
       "      <td>NaN</td>\n",
       "      <td>NaN</td>\n",
       "      <td>tbd</td>\n",
       "      <td>11.680000</td>\n",
       "    </tr>\n",
       "    <tr>\n",
       "      <th>77</th>\n",
       "      <td>FIFA 16</td>\n",
       "      <td>PS4</td>\n",
       "      <td>2015</td>\n",
       "      <td>Sports</td>\n",
       "      <td>1.12</td>\n",
       "      <td>6.12</td>\n",
       "      <td>0.06</td>\n",
       "      <td>1.28</td>\n",
       "      <td>82.0</td>\n",
       "      <td>4.3</td>\n",
       "      <td>E</td>\n",
       "      <td>8.580000</td>\n",
       "    </tr>\n",
       "    <tr>\n",
       "      <th>87</th>\n",
       "      <td>Star Wars Battlefront (2015)</td>\n",
       "      <td>PS4</td>\n",
       "      <td>2015</td>\n",
       "      <td>Shooter</td>\n",
       "      <td>2.99</td>\n",
       "      <td>3.49</td>\n",
       "      <td>0.22</td>\n",
       "      <td>1.28</td>\n",
       "      <td>NaN</td>\n",
       "      <td>NaN</td>\n",
       "      <td>tbd</td>\n",
       "      <td>7.980000</td>\n",
       "    </tr>\n",
       "    <tr>\n",
       "      <th>...</th>\n",
       "      <td>...</td>\n",
       "      <td>...</td>\n",
       "      <td>...</td>\n",
       "      <td>...</td>\n",
       "      <td>...</td>\n",
       "      <td>...</td>\n",
       "      <td>...</td>\n",
       "      <td>...</td>\n",
       "      <td>...</td>\n",
       "      <td>...</td>\n",
       "      <td>...</td>\n",
       "      <td>...</td>\n",
       "    </tr>\n",
       "    <tr>\n",
       "      <th>16516</th>\n",
       "      <td>Strawberry Nauts</td>\n",
       "      <td>PSV</td>\n",
       "      <td>2016</td>\n",
       "      <td>Adventure</td>\n",
       "      <td>0.00</td>\n",
       "      <td>0.00</td>\n",
       "      <td>0.01</td>\n",
       "      <td>0.00</td>\n",
       "      <td>NaN</td>\n",
       "      <td>NaN</td>\n",
       "      <td>tbd</td>\n",
       "      <td>0.010000</td>\n",
       "    </tr>\n",
       "    <tr>\n",
       "      <th>16520</th>\n",
       "      <td>Aiyoku no Eustia</td>\n",
       "      <td>PSV</td>\n",
       "      <td>2014</td>\n",
       "      <td>Misc</td>\n",
       "      <td>0.00</td>\n",
       "      <td>0.00</td>\n",
       "      <td>0.01</td>\n",
       "      <td>0.00</td>\n",
       "      <td>NaN</td>\n",
       "      <td>NaN</td>\n",
       "      <td>tbd</td>\n",
       "      <td>0.010000</td>\n",
       "    </tr>\n",
       "    <tr>\n",
       "      <th>16522</th>\n",
       "      <td>Samurai Warriors: Sanada Maru</td>\n",
       "      <td>PS3</td>\n",
       "      <td>2016</td>\n",
       "      <td>Action</td>\n",
       "      <td>0.00</td>\n",
       "      <td>0.00</td>\n",
       "      <td>0.01</td>\n",
       "      <td>0.00</td>\n",
       "      <td>NaN</td>\n",
       "      <td>NaN</td>\n",
       "      <td>tbd</td>\n",
       "      <td>0.010000</td>\n",
       "    </tr>\n",
       "    <tr>\n",
       "      <th>16524</th>\n",
       "      <td>Haitaka no Psychedelica</td>\n",
       "      <td>PSV</td>\n",
       "      <td>2016</td>\n",
       "      <td>Adventure</td>\n",
       "      <td>0.00</td>\n",
       "      <td>0.00</td>\n",
       "      <td>0.01</td>\n",
       "      <td>0.00</td>\n",
       "      <td>NaN</td>\n",
       "      <td>NaN</td>\n",
       "      <td>tbd</td>\n",
       "      <td>0.010000</td>\n",
       "    </tr>\n",
       "    <tr>\n",
       "      <th>16526</th>\n",
       "      <td>Winning Post 8 2016</td>\n",
       "      <td>PSV</td>\n",
       "      <td>2016</td>\n",
       "      <td>Simulation</td>\n",
       "      <td>0.00</td>\n",
       "      <td>0.00</td>\n",
       "      <td>0.01</td>\n",
       "      <td>0.00</td>\n",
       "      <td>NaN</td>\n",
       "      <td>NaN</td>\n",
       "      <td>tbd</td>\n",
       "      <td>0.010000</td>\n",
       "    </tr>\n",
       "  </tbody>\n",
       "</table>\n",
       "<p>1689 rows × 12 columns</p>\n",
       "</div>"
      ],
      "text/plain": [
       "                                            name platform  year_of_release  \\\n",
       "31                     Call of Duty: Black Ops 3      PS4             2015   \n",
       "42                            Grand Theft Auto V      PS4             2014   \n",
       "47     Pokemon Omega Ruby/Pokemon Alpha Sapphire      3DS             2014   \n",
       "77                                       FIFA 16      PS4             2015   \n",
       "87                  Star Wars Battlefront (2015)      PS4             2015   \n",
       "...                                          ...      ...              ...   \n",
       "16516                           Strawberry Nauts      PSV             2016   \n",
       "16520                           Aiyoku no Eustia      PSV             2014   \n",
       "16522              Samurai Warriors: Sanada Maru      PS3             2016   \n",
       "16524                    Haitaka no Psychedelica      PSV             2016   \n",
       "16526                        Winning Post 8 2016      PSV             2016   \n",
       "\n",
       "              genre  na_sales  eu_sales  jp_sales  other_sales  critic_score  \\\n",
       "31          Shooter      6.03      5.86      0.36         2.38           NaN   \n",
       "42           Action      3.96      6.31      0.38         1.97          97.0   \n",
       "47     Role-Playing      4.35      3.49      3.10         0.74           NaN   \n",
       "77           Sports      1.12      6.12      0.06         1.28          82.0   \n",
       "87          Shooter      2.99      3.49      0.22         1.28           NaN   \n",
       "...             ...       ...       ...       ...          ...           ...   \n",
       "16516     Adventure      0.00      0.00      0.01         0.00           NaN   \n",
       "16520          Misc      0.00      0.00      0.01         0.00           NaN   \n",
       "16522        Action      0.00      0.00      0.01         0.00           NaN   \n",
       "16524     Adventure      0.00      0.00      0.01         0.00           NaN   \n",
       "16526    Simulation      0.00      0.00      0.01         0.00           NaN   \n",
       "\n",
       "       user_score rating  sales_amount  \n",
       "31            NaN    tbd     14.630000  \n",
       "42            8.3      M     12.620001  \n",
       "47            NaN    tbd     11.680000  \n",
       "77            4.3      E      8.580000  \n",
       "87            NaN    tbd      7.980000  \n",
       "...           ...    ...           ...  \n",
       "16516         NaN    tbd      0.010000  \n",
       "16520         NaN    tbd      0.010000  \n",
       "16522         NaN    tbd      0.010000  \n",
       "16524         NaN    tbd      0.010000  \n",
       "16526         NaN    tbd      0.010000  \n",
       "\n",
       "[1689 rows x 12 columns]"
      ]
     },
     "execution_count": 128,
     "metadata": {},
     "output_type": "execute_result"
    }
   ],
   "source": [
    "df_games_14_16"
   ]
  },
  {
   "cell_type": "code",
   "execution_count": 129,
   "id": "869179cb",
   "metadata": {},
   "outputs": [
    {
     "data": {
      "text/html": [
       "<div>\n",
       "<style scoped>\n",
       "    .dataframe tbody tr th:only-of-type {\n",
       "        vertical-align: middle;\n",
       "    }\n",
       "\n",
       "    .dataframe tbody tr th {\n",
       "        vertical-align: top;\n",
       "    }\n",
       "\n",
       "    .dataframe thead th {\n",
       "        text-align: right;\n",
       "    }\n",
       "</style>\n",
       "<table border=\"1\" class=\"dataframe\">\n",
       "  <thead>\n",
       "    <tr style=\"text-align: right;\">\n",
       "      <th></th>\n",
       "      <th>rating</th>\n",
       "      <th>na_sales</th>\n",
       "      <th>eu_sales</th>\n",
       "      <th>jp_sales</th>\n",
       "      <th>other_sales</th>\n",
       "      <th>sales_amount</th>\n",
       "    </tr>\n",
       "  </thead>\n",
       "  <tbody>\n",
       "    <tr>\n",
       "      <th>0</th>\n",
       "      <td>E</td>\n",
       "      <td>50.740002</td>\n",
       "      <td>58.060001</td>\n",
       "      <td>8.940000</td>\n",
       "      <td>15.39</td>\n",
       "      <td>133.130005</td>\n",
       "    </tr>\n",
       "    <tr>\n",
       "      <th>1</th>\n",
       "      <td>E10+</td>\n",
       "      <td>33.230000</td>\n",
       "      <td>26.160000</td>\n",
       "      <td>4.460000</td>\n",
       "      <td>7.83</td>\n",
       "      <td>71.680000</td>\n",
       "    </tr>\n",
       "    <tr>\n",
       "      <th>2</th>\n",
       "      <td>M</td>\n",
       "      <td>96.419998</td>\n",
       "      <td>93.440002</td>\n",
       "      <td>8.010000</td>\n",
       "      <td>28.67</td>\n",
       "      <td>226.539993</td>\n",
       "    </tr>\n",
       "    <tr>\n",
       "      <th>3</th>\n",
       "      <td>T</td>\n",
       "      <td>38.950001</td>\n",
       "      <td>34.070000</td>\n",
       "      <td>14.780000</td>\n",
       "      <td>11.33</td>\n",
       "      <td>99.129997</td>\n",
       "    </tr>\n",
       "    <tr>\n",
       "      <th>4</th>\n",
       "      <td>tbd</td>\n",
       "      <td>64.720001</td>\n",
       "      <td>58.950001</td>\n",
       "      <td>56.900002</td>\n",
       "      <td>18.40</td>\n",
       "      <td>198.970001</td>\n",
       "    </tr>\n",
       "  </tbody>\n",
       "</table>\n",
       "</div>"
      ],
      "text/plain": [
       "  rating   na_sales   eu_sales   jp_sales  other_sales  sales_amount\n",
       "0      E  50.740002  58.060001   8.940000        15.39    133.130005\n",
       "1   E10+  33.230000  26.160000   4.460000         7.83     71.680000\n",
       "2      M  96.419998  93.440002   8.010000        28.67    226.539993\n",
       "3      T  38.950001  34.070000  14.780000        11.33     99.129997\n",
       "4    tbd  64.720001  58.950001  56.900002        18.40    198.970001"
      ]
     },
     "execution_count": 129,
     "metadata": {},
     "output_type": "execute_result"
    }
   ],
   "source": [
    "sales_by_rating_14_16 = df_games_14_16.groupby(\n",
    "    'rating').agg(\n",
    "        {'na_sales' : 'sum', 'eu_sales' : 'sum', 'jp_sales' : 'sum', 'other_sales' : 'sum', 'sales_amount' : 'sum'}).reset_index()\n",
    "sales_by_rating_14_16"
   ]
  },
  {
   "cell_type": "markdown",
   "id": "e4548f74",
   "metadata": {},
   "source": [
    "Сделаем таблицу с долей продаж (% продаж) каждого рейтинга по регионам."
   ]
  },
  {
   "cell_type": "code",
   "execution_count": 130,
   "id": "145e87e9",
   "metadata": {},
   "outputs": [
    {
     "data": {
      "text/plain": [
       "Index(['na_sales', 'eu_sales', 'jp_sales', 'other_sales', 'sales_amount'], dtype='object')"
      ]
     },
     "execution_count": 130,
     "metadata": {},
     "output_type": "execute_result"
    }
   ],
   "source": [
    "names_regions = sales_by_rating_14_16.columns[1:len(sales_by_rating_14_16.columns)]\n",
    "names_regions"
   ]
  },
  {
   "cell_type": "code",
   "execution_count": 131,
   "id": "a1229f9c",
   "metadata": {},
   "outputs": [],
   "source": [
    "for i in names_regions:\n",
    "    sales_by_rating_14_16[i] = sales_by_rating_14_16[i] / sales_by_rating_14_16['sales_amount'] * 100\n",
    "    sales_by_rating_14_16[i] = [round(x, 2) for x in sales_by_rating_14_16[i]]"
   ]
  },
  {
   "cell_type": "markdown",
   "id": "8a80d10f",
   "metadata": {},
   "source": [
    "Получили % продаж в разрезе категорий по регионам."
   ]
  },
  {
   "cell_type": "code",
   "execution_count": 132,
   "id": "11dbb951",
   "metadata": {},
   "outputs": [
    {
     "data": {
      "text/html": [
       "<div>\n",
       "<style scoped>\n",
       "    .dataframe tbody tr th:only-of-type {\n",
       "        vertical-align: middle;\n",
       "    }\n",
       "\n",
       "    .dataframe tbody tr th {\n",
       "        vertical-align: top;\n",
       "    }\n",
       "\n",
       "    .dataframe thead th {\n",
       "        text-align: right;\n",
       "    }\n",
       "</style>\n",
       "<table border=\"1\" class=\"dataframe\">\n",
       "  <thead>\n",
       "    <tr style=\"text-align: right;\">\n",
       "      <th></th>\n",
       "      <th>rating</th>\n",
       "      <th>na_sales</th>\n",
       "      <th>eu_sales</th>\n",
       "      <th>jp_sales</th>\n",
       "      <th>other_sales</th>\n",
       "      <th>sales_amount</th>\n",
       "    </tr>\n",
       "  </thead>\n",
       "  <tbody>\n",
       "    <tr>\n",
       "      <th>0</th>\n",
       "      <td>E</td>\n",
       "      <td>38.11</td>\n",
       "      <td>43.61</td>\n",
       "      <td>6.72</td>\n",
       "      <td>11.56</td>\n",
       "      <td>100.0</td>\n",
       "    </tr>\n",
       "    <tr>\n",
       "      <th>1</th>\n",
       "      <td>E10+</td>\n",
       "      <td>46.36</td>\n",
       "      <td>36.50</td>\n",
       "      <td>6.22</td>\n",
       "      <td>10.92</td>\n",
       "      <td>100.0</td>\n",
       "    </tr>\n",
       "    <tr>\n",
       "      <th>2</th>\n",
       "      <td>M</td>\n",
       "      <td>42.56</td>\n",
       "      <td>41.25</td>\n",
       "      <td>3.54</td>\n",
       "      <td>12.66</td>\n",
       "      <td>100.0</td>\n",
       "    </tr>\n",
       "    <tr>\n",
       "      <th>3</th>\n",
       "      <td>T</td>\n",
       "      <td>39.29</td>\n",
       "      <td>34.37</td>\n",
       "      <td>14.91</td>\n",
       "      <td>11.43</td>\n",
       "      <td>100.0</td>\n",
       "    </tr>\n",
       "    <tr>\n",
       "      <th>4</th>\n",
       "      <td>tbd</td>\n",
       "      <td>32.53</td>\n",
       "      <td>29.63</td>\n",
       "      <td>28.60</td>\n",
       "      <td>9.25</td>\n",
       "      <td>100.0</td>\n",
       "    </tr>\n",
       "  </tbody>\n",
       "</table>\n",
       "</div>"
      ],
      "text/plain": [
       "  rating  na_sales  eu_sales  jp_sales  other_sales  sales_amount\n",
       "0      E     38.11     43.61      6.72        11.56         100.0\n",
       "1   E10+     46.36     36.50      6.22        10.92         100.0\n",
       "2      M     42.56     41.25      3.54        12.66         100.0\n",
       "3      T     39.29     34.37     14.91        11.43         100.0\n",
       "4    tbd     32.53     29.63     28.60         9.25         100.0"
      ]
     },
     "execution_count": 132,
     "metadata": {},
     "output_type": "execute_result"
    }
   ],
   "source": [
    "sales_by_rating_14_16"
   ]
  },
  {
   "cell_type": "markdown",
   "id": "3c78a5c5",
   "metadata": {},
   "source": [
    "**Вывод**  \n",
    "По рейтингу ESRB действительно есть небольшая специфика:  \n",
    "- В Северной америке большая популярность рейтинга «E10+» («Everyone 10 and older») и «M» («Mature») — «Для взрослых»; а рейтинг «T» («Teen») — «Подросткам» не пользуется популярностью;\n",
    "- В ЕС большей популярностью пользуются игры с рейтингом «E» («Everyone») и рейтинг «M» («Mature») — «Для взрослых»;  \n",
    "- В Японии самый популярный рейтинг «T» («Teen») — «Подросткам».\n",
    "___________________________________________________________________________________________"
   ]
  },
  {
   "cell_type": "markdown",
   "id": "d69cd607",
   "metadata": {},
   "source": [
    "### Шаг 5. Проверьте гипотезы<a name=\"hypothesis\"></a>"
   ]
  },
  {
   "cell_type": "markdown",
   "id": "880a287a",
   "metadata": {},
   "source": [
    "📌  \n",
    "• Средние пользовательские рейтинги платформ Xbox One и PC одинаковые;  \n",
    "• Средние пользовательские рейтинги жанров Action (англ. «действие», экшен-игры) и Sports (англ. «спортивные соревнования») разные.\n"
   ]
  },
  {
   "cell_type": "markdown",
   "id": "000daca2",
   "metadata": {},
   "source": [
    "📌  \n",
    "#### Средние пользовательские рейтинги платформ Xbox One и PC одинаковые.<a name=\"15\"></a>   "
   ]
  },
  {
   "cell_type": "markdown",
   "id": "34a944b9",
   "metadata": {},
   "source": [
    "☑️\n",
    "Сначала проверим количество заполненных оценок по платформам за актуальный период 2016."
   ]
  },
  {
   "cell_type": "code",
   "execution_count": 133,
   "id": "55081e2f",
   "metadata": {
    "scrolled": true
   },
   "outputs": [
    {
     "name": "stdout",
     "output_type": "stream",
     "text": [
      "Оценок XOne: 165\n",
      "Оценок PC: 122\n"
     ]
    }
   ],
   "source": [
    "print('Оценок XOne:', df_games_14_16.query('platform==\"XOne\"')['user_score'].count())\n",
    "print('Оценок PC:', df_games_14_16.query('platform==\"PC\"')['user_score'].count())"
   ]
  },
  {
   "cell_type": "markdown",
   "id": "7656f8c4",
   "metadata": {},
   "source": [
    "Оставим только заполненные оценки и оставим только столбцы 'platform', 'name', 'year_of_release', 'user_score'."
   ]
  },
  {
   "cell_type": "code",
   "execution_count": 134,
   "id": "3386c1aa",
   "metadata": {},
   "outputs": [],
   "source": [
    "df_games_14_16_pl_score = df_games_14_16[df_games_14_16['user_score'].isna()==False]\\\n",
    "    [['platform', 'name', 'year_of_release', 'user_score']];"
   ]
  },
  {
   "cell_type": "markdown",
   "id": "ee3fb250",
   "metadata": {},
   "source": [
    "Выведем среднюю оценку платформы за несколько лет для каждой игры.  \n",
    "Так, если в 2014 была оценка 10, в 2015 = 9, в 2014 = 8. Средняя оценка будет 9."
   ]
  },
  {
   "cell_type": "code",
   "execution_count": 135,
   "id": "4b045288",
   "metadata": {},
   "outputs": [],
   "source": [
    "df_games_14_16_pl_score = df_games_14_16.groupby(['platform', 'name']).agg({'user_score': 'mean'}).reset_index()"
   ]
  },
  {
   "cell_type": "code",
   "execution_count": 136,
   "id": "ea3e4680",
   "metadata": {},
   "outputs": [
    {
     "data": {
      "text/html": [
       "<div>\n",
       "<style scoped>\n",
       "    .dataframe tbody tr th:only-of-type {\n",
       "        vertical-align: middle;\n",
       "    }\n",
       "\n",
       "    .dataframe tbody tr th {\n",
       "        vertical-align: top;\n",
       "    }\n",
       "\n",
       "    .dataframe thead th {\n",
       "        text-align: right;\n",
       "    }\n",
       "</style>\n",
       "<table border=\"1\" class=\"dataframe\">\n",
       "  <thead>\n",
       "    <tr style=\"text-align: right;\">\n",
       "      <th></th>\n",
       "      <th>platform</th>\n",
       "      <th>name</th>\n",
       "      <th>user_score</th>\n",
       "    </tr>\n",
       "  </thead>\n",
       "  <tbody>\n",
       "    <tr>\n",
       "      <th>0</th>\n",
       "      <td>3DS</td>\n",
       "      <td>Beyblade Burst</td>\n",
       "      <td>NaN</td>\n",
       "    </tr>\n",
       "    <tr>\n",
       "      <th>1</th>\n",
       "      <td>3DS</td>\n",
       "      <td>Fire Emblem Fates</td>\n",
       "      <td>NaN</td>\n",
       "    </tr>\n",
       "    <tr>\n",
       "      <th>2</th>\n",
       "      <td>3DS</td>\n",
       "      <td>Haikyu!! Cross Team Match!</td>\n",
       "      <td>NaN</td>\n",
       "    </tr>\n",
       "  </tbody>\n",
       "</table>\n",
       "</div>"
      ],
      "text/plain": [
       "  platform                         name  user_score\n",
       "0      3DS               Beyblade Burst         NaN\n",
       "1      3DS            Fire Emblem Fates         NaN\n",
       "2      3DS   Haikyu!! Cross Team Match!         NaN"
      ]
     },
     "execution_count": 136,
     "metadata": {},
     "output_type": "execute_result"
    }
   ],
   "source": [
    "df_games_14_16_pl_score.head(3)"
   ]
  },
  {
   "cell_type": "markdown",
   "id": "88f7c372",
   "metadata": {},
   "source": [
    "Добавим функцию для подсчета среднего , дисперсии , стандартного отклонения, границ доверительных интервалов"
   ]
  },
  {
   "cell_type": "code",
   "execution_count": 137,
   "id": "5de8f524",
   "metadata": {},
   "outputs": [],
   "source": [
    "def statistics(data, name, groupby, metric):\n",
    "    print(name.center(30))\n",
    "    x_mean = round(data[data[groupby]==name][metric].mean(), 2)\n",
    "    x_variance = round(np.var(data[data[groupby]==name][metric], ddof=1), 2)\n",
    "    x_std = round(np.sqrt(x_variance), 2)\n",
    "    x_bottom_1std = round(x_mean - 1 * x_std, 2)\n",
    "    x_top_1std = round(x_mean + 1 * x_std, 2)\n",
    "    res = print('Среднее значение выборки:', x_mean, '\\n' 'Дисперсия:', x_variance, '\\n' 'Стандартное отклонение:', x_std, '\\n' f'В среднем 68% ставят оценку от {x_bottom_1std} до {x_top_1std}')\n",
    "    return res"
   ]
  },
  {
   "cell_type": "code",
   "execution_count": 138,
   "id": "e15c586e",
   "metadata": {},
   "outputs": [],
   "source": [
    "names_pl_14_16 = ['XOne', 'PC']"
   ]
  },
  {
   "cell_type": "code",
   "execution_count": 139,
   "id": "461f2604",
   "metadata": {},
   "outputs": [
    {
     "name": "stdout",
     "output_type": "stream",
     "text": [
      "             XOne             \n",
      "Среднее значение выборки: 6.59 \n",
      "Дисперсия: 1.89 \n",
      "Стандартное отклонение: 1.37 \n",
      "В среднем 68% ставят оценку от 5.22 до 7.96\n",
      "              PC              \n",
      "Среднее значение выборки: 6.3 \n",
      "Дисперсия: 2.9 \n",
      "Стандартное отклонение: 1.7 \n",
      "В среднем 68% ставят оценку от 4.6 до 8.0\n"
     ]
    }
   ],
   "source": [
    "for i in names_pl_14_16:\n",
    "    statistics(df_games_14_16, i, 'platform', 'user_score')"
   ]
  },
  {
   "cell_type": "markdown",
   "id": "2f65c855",
   "metadata": {},
   "source": [
    "Сформулируем нулевую гипотезу:  \n",
    "H0 - cредние пользовательские рейтинги платформ Xbox One и PC на основе изучаемой выборки не отличаются.\n",
    "\n",
    "Сформируем альтернативную гипотезу:  \n",
    "H1 -  cредние пользовательские рейтинги платформ Xbox One и PC на основе изучаемой выборки отличаются."
   ]
  },
  {
   "cell_type": "markdown",
   "id": "db11359d",
   "metadata": {},
   "source": [
    "Используем двухсторонний st.ttest_ind, который проеряет гипотезу о равенстве двух генеральных совокупностей по выборкам.  \n",
    "Выборки в нашем случае независимые.  \n",
    "Дисперсии отличаются, но не так сильно, поэтому оставим equal_var с параметром по умолчанию True."
   ]
  },
  {
   "cell_type": "markdown",
   "id": "85b26ea6",
   "metadata": {},
   "source": [
    "Готовим данные для теста."
   ]
  },
  {
   "cell_type": "code",
   "execution_count": 140,
   "id": "4ce23ec4",
   "metadata": {},
   "outputs": [],
   "source": [
    "df_XOne = df_games_14_16_pl_score[df_games_14_16_pl_score['platform']=='XOne']['user_score']\n",
    "df_PC = df_games_14_16_pl_score[df_games_14_16_pl_score['platform']=='PC']['user_score']"
   ]
  },
  {
   "cell_type": "code",
   "execution_count": 141,
   "id": "78fb8af2",
   "metadata": {},
   "outputs": [
    {
     "name": "stdout",
     "output_type": "stream",
     "text": [
      "p-значение: nan\n",
      "Не получилось отвергнуть нулевую гипотезу\n"
     ]
    }
   ],
   "source": [
    "alpha = .05 # критический уровень статистической значимости. Если p-value окажется меньше него - отвергнем гипотезу\n",
    "\n",
    "results = st.ttest_ind(\n",
    "    df_XOne, df_PC)\n",
    "\n",
    "print('p-значение:', results.pvalue)\n",
    "\n",
    "if results.pvalue < alpha:\n",
    "    print(\"Отвергаем нулевую гипотезу\")\n",
    "else:\n",
    "    print(\"Не получилось отвергнуть нулевую гипотезу\")"
   ]
  },
  {
   "cell_type": "markdown",
   "id": "c30214c8",
   "metadata": {},
   "source": [
    "**Вывод**  \n",
    "Полученное значение p-value говорит о том, что вероятность получить одинаковые значения достаточно большая, а именно 10%.  \n",
    "Такая вероятность выше целевых 5% (p-value), чтобы делать вывод об различии между средними пользовательскими оценками платформ 'XOne', 'PC'.    \n",
    "\n",
    "Изначальное предположение верное, справедлива нулевая гипотеза, которая говорит следующее:  \n",
    "\n",
    "**Есть основания полагать, что cредние пользовательские рейтинги платформ Xbox One и PC на основе изучаемой выборки не отличаются**\n",
    "___________________________________________________________________________________________"
   ]
  },
  {
   "cell_type": "markdown",
   "id": "33cba065",
   "metadata": {},
   "source": [
    "📌  \n",
    "#### Средние пользовательские рейтинги жанров Action (англ. «действие», экшен-игры) и Sports (англ. «спортивные соревнования») разные.<a name=\"16\"></a> "
   ]
  },
  {
   "cell_type": "markdown",
   "id": "e4877ac2",
   "metadata": {},
   "source": [
    "Возьмем данные пользовательских оценок в разрезе жанров за период 2014-2016 год."
   ]
  },
  {
   "cell_type": "code",
   "execution_count": 142,
   "id": "ee461071",
   "metadata": {},
   "outputs": [],
   "source": [
    "df_games_14_16_genre = df_games_14_16[df_games_14_16['user_score'].isna()==False]\\\n",
    "    [['genre', 'name', 'year_of_release', 'user_score']];"
   ]
  },
  {
   "cell_type": "code",
   "execution_count": 143,
   "id": "218f69ba",
   "metadata": {},
   "outputs": [],
   "source": [
    "df_games_14_16_genre = df_games_14_16_genre.groupby(['genre', 'name']).agg({'user_score': 'mean'}).reset_index()"
   ]
  },
  {
   "cell_type": "code",
   "execution_count": 144,
   "id": "e71e2b94",
   "metadata": {},
   "outputs": [
    {
     "data": {
      "text/html": [
       "<div>\n",
       "<style scoped>\n",
       "    .dataframe tbody tr th:only-of-type {\n",
       "        vertical-align: middle;\n",
       "    }\n",
       "\n",
       "    .dataframe tbody tr th {\n",
       "        vertical-align: top;\n",
       "    }\n",
       "\n",
       "    .dataframe thead th {\n",
       "        text-align: right;\n",
       "    }\n",
       "</style>\n",
       "<table border=\"1\" class=\"dataframe\">\n",
       "  <thead>\n",
       "    <tr style=\"text-align: right;\">\n",
       "      <th></th>\n",
       "      <th>genre</th>\n",
       "      <th>name</th>\n",
       "      <th>user_score</th>\n",
       "    </tr>\n",
       "  </thead>\n",
       "  <tbody>\n",
       "    <tr>\n",
       "      <th>0</th>\n",
       "      <td>Action</td>\n",
       "      <td>7 Days to Die</td>\n",
       "      <td>5.55</td>\n",
       "    </tr>\n",
       "    <tr>\n",
       "      <th>1</th>\n",
       "      <td>Action</td>\n",
       "      <td>Adventure Time: The Secret of the Nameless Kin...</td>\n",
       "      <td>6.55</td>\n",
       "    </tr>\n",
       "    <tr>\n",
       "      <th>2</th>\n",
       "      <td>Action</td>\n",
       "      <td>Aegis of Earth: Protonovus Assault</td>\n",
       "      <td>8.05</td>\n",
       "    </tr>\n",
       "  </tbody>\n",
       "</table>\n",
       "</div>"
      ],
      "text/plain": [
       "    genre                                               name  user_score\n",
       "0  Action                                      7 Days to Die        5.55\n",
       "1  Action  Adventure Time: The Secret of the Nameless Kin...        6.55\n",
       "2  Action                 Aegis of Earth: Protonovus Assault        8.05"
      ]
     },
     "execution_count": 144,
     "metadata": {},
     "output_type": "execute_result"
    }
   ],
   "source": [
    "df_games_14_16_genre.head(3)"
   ]
  },
  {
   "cell_type": "markdown",
   "id": "2fa8ef24",
   "metadata": {},
   "source": [
    "Используем ранее добавленную функцию для подсчета среднего , дисперсии , стандартного отклонения, границ доверительных интервалов"
   ]
  },
  {
   "cell_type": "code",
   "execution_count": 145,
   "id": "db3812a9",
   "metadata": {},
   "outputs": [],
   "source": [
    "names_genre_14_16 = ['Action', 'Sports']"
   ]
  },
  {
   "cell_type": "code",
   "execution_count": 146,
   "id": "9f36f861",
   "metadata": {},
   "outputs": [
    {
     "name": "stdout",
     "output_type": "stream",
     "text": [
      "            Action            \n",
      "Среднее значение выборки: 6.82 \n",
      "Дисперсия: 1.88 \n",
      "Стандартное отклонение: 1.37 \n",
      "В среднем 68% ставят оценку от 5.45 до 8.19\n",
      "            Sports            \n",
      "Среднее значение выборки: 5.4 \n",
      "Дисперсия: 2.27 \n",
      "Стандартное отклонение: 1.51 \n",
      "В среднем 68% ставят оценку от 3.89 до 6.91\n"
     ]
    }
   ],
   "source": [
    "for i in names_genre_14_16:\n",
    "    statistics(df_games_14_16_genre, i, 'genre', 'user_score')"
   ]
  },
  {
   "cell_type": "markdown",
   "id": "8effcaee",
   "metadata": {},
   "source": [
    "Сформулируем нулевую гипотезу:  \n",
    "H0 - cредние пользовательские рейтинги платформ жанров Action и Sports на основе изучаемой выборки не отличаются.\n",
    "\n",
    "Сформируем альтернативную гипотезу:  \n",
    "H1 -  cредние пользовательские рейтинги платформ жанров Action и Sports на основе изучаемой выборки отличаются."
   ]
  },
  {
   "cell_type": "markdown",
   "id": "2a7b9cdf",
   "metadata": {},
   "source": [
    "Используем двухсторонний st.ttest_ind, который проеряет гипотезу о равенстве двух генеральных совокупностей по выборкам.  \n",
    "Выборки в нашем случае независимые.  \n",
    "Дисперсии отличаются, но не так сильно, поэтому оставим equal_var с параметром по умолчанию True."
   ]
  },
  {
   "cell_type": "markdown",
   "id": "a4755426",
   "metadata": {},
   "source": [
    "Готовим данные на вход."
   ]
  },
  {
   "cell_type": "code",
   "execution_count": 147,
   "id": "f5e47430",
   "metadata": {},
   "outputs": [],
   "source": [
    "df_Action = df_games_14_16_genre[df_games_14_16_genre['genre']=='Action']['user_score']\n",
    "df_Sports = df_games_14_16_genre[df_games_14_16_genre['genre']=='Sports']['user_score']"
   ]
  },
  {
   "cell_type": "code",
   "execution_count": 148,
   "id": "eb81cfb6",
   "metadata": {},
   "outputs": [
    {
     "name": "stdout",
     "output_type": "stream",
     "text": [
      "p-значение: 2.4239640595692565e-08\n",
      "Отвергаем нулевую гипотезу\n"
     ]
    }
   ],
   "source": [
    "alpha = .05 # критический уровень статистической значимости. Если p-value окажется меньше него - отвергнем гипотезу\n",
    "\n",
    "results = st.ttest_ind(\n",
    "    df_Action, df_Sports)\n",
    "\n",
    "print('p-значение:', results.pvalue)\n",
    "\n",
    "if results.pvalue < alpha:\n",
    "    print(\"Отвергаем нулевую гипотезу\")\n",
    "else:\n",
    "    print(\"Не получилось отвергнуть нулевую гипотезу\")"
   ]
  },
  {
   "cell_type": "markdown",
   "id": "3c0c6e91",
   "metadata": {},
   "source": [
    "**Вывод**  \n",
    "Полученное значение p-value говорит о том, что вероятность получить одинаковые значения очень маленькая, а именно 1.94e-08.  \n",
    "Такая вероятность существенно меньше целевых 5%, чтобы делать вывод об отсутствии различия между средними пользовательскими по жанрам Action и Sports.  \n",
    "\n",
    "Изначальное предположение было верное, справедлива альтернативная гипотеза, которая говорит следующее:  \n",
    "**Есть основания полагать, что cредние пользовательские рейтинги жанров 'Action' и 'Sports' на основе изучаемой выборки отличаются**"
   ]
  },
  {
   "cell_type": "markdown",
   "id": "81c1818b",
   "metadata": {},
   "source": [
    "### Шаг 6. Напишите общий вывод <a name=\"conclusion\"></a>"
   ]
  },
  {
   "cell_type": "markdown",
   "id": "aec29135",
   "metadata": {},
   "source": [
    "**Общий вывод**  \n",
    "Определяющие успешность игры закономерности:\n",
    "    \n",
    "✔️ Высокий рейтинг критиков позитивно влияет на продажи. Чем выше рейтинг, тем выше обычно продажи копий игры.  \n",
    "Перед запуском игры стоит внимательно изучить оценки экспертов.\n",
    "\n",
    "✔️ Ключевыми жанрами с высокими продажами являются: 'Shooter', 'Action', 'Sports'.  \n",
    "Также нужно отметить, что жанр 'Shooter' последние годы набирал популярность, а также в расчете на выпущенную игру продажи в этом жанре самые высокие.  \n",
    "\n",
    "✔️ Ключевыми платформами в периоде 2014-2016 были PS4 и XOne, на них продилось свыше 53% продаж.  \n",
    "Этим платформам необходимо уделить больше внимания, как основополагающим успешного запуска.  \n",
    "\n",
    "Также интересны платформы PSV и PC , динамика их показателей по продажам новых игр к прошлому периоду лучше, чем у других платформ.  \n",
    "\n",
    "✔️ Чтобы добиться успеха на определнных рынках необходимо сделать акцент:\n",
    "- В Северной америке большая популярность рейтинга «E10+» («Everyone 10 and older») и «M» («Mature») — «Для взрослых»; а рейтинг «T» («Teen») — «Подросткам» не пользуется популярностью;\n",
    "- В ЕС большей популярностью пользуются игры с рейтингом «E» («Everyone») и рейтинг «M» («Mature») — «Для взрослых»;\n",
    "- В Японии самый популярный рейтинг «T» («Teen») — «Подросткам».\n",
    "\n",
    "Наиболее популярным рейтингом для игры является «M» («Mature»).\n",
    "\n",
    "✔️ Нужно помнить, что редкая игра становятся хитом, но именно эти игры приносят большую часть продаж.  \n",
    "Ищем \"звезды\" и не забываем, что платформы могут устаревать.  \n",
    "Технологии развиваются и популярные сегодня платформы могут смениться новыми завтра.  \n",
    "Важно не упустить этот момент."
   ]
  }
 ],
 "metadata": {
  "ExecuteTimeLog": [
   {
    "duration": 1559,
    "start_time": "2022-05-16T15:05:11.431Z"
   },
   {
    "duration": 52,
    "start_time": "2022-05-16T15:05:12.993Z"
   },
   {
    "duration": 5,
    "start_time": "2022-05-16T15:05:13.047Z"
   },
   {
    "duration": 35,
    "start_time": "2022-05-16T15:05:13.055Z"
   },
   {
    "duration": 10,
    "start_time": "2022-05-16T15:05:13.092Z"
   },
   {
    "duration": 38,
    "start_time": "2022-05-16T15:05:13.104Z"
   },
   {
    "duration": 40,
    "start_time": "2022-05-16T15:05:13.145Z"
   },
   {
    "duration": 9,
    "start_time": "2022-05-16T15:05:13.187Z"
   },
   {
    "duration": 30,
    "start_time": "2022-05-16T15:05:13.198Z"
   },
   {
    "duration": 29,
    "start_time": "2022-05-16T15:05:13.232Z"
   },
   {
    "duration": 9,
    "start_time": "2022-05-16T15:05:13.263Z"
   },
   {
    "duration": 20,
    "start_time": "2022-05-16T15:05:13.274Z"
   },
   {
    "duration": 26,
    "start_time": "2022-05-16T15:05:13.296Z"
   },
   {
    "duration": 21,
    "start_time": "2022-05-16T15:05:13.324Z"
   },
   {
    "duration": 26,
    "start_time": "2022-05-16T15:05:13.347Z"
   },
   {
    "duration": 24,
    "start_time": "2022-05-16T15:05:13.376Z"
   },
   {
    "duration": 34,
    "start_time": "2022-05-16T15:05:13.403Z"
   },
   {
    "duration": 10,
    "start_time": "2022-05-16T15:05:13.440Z"
   },
   {
    "duration": 18,
    "start_time": "2022-05-16T15:05:13.452Z"
   },
   {
    "duration": 10,
    "start_time": "2022-05-16T15:05:13.472Z"
   },
   {
    "duration": 51,
    "start_time": "2022-05-16T15:05:13.485Z"
   },
   {
    "duration": 14,
    "start_time": "2022-05-16T15:05:13.538Z"
   },
   {
    "duration": 13,
    "start_time": "2022-05-16T15:05:13.555Z"
   },
   {
    "duration": 26,
    "start_time": "2022-05-16T15:05:13.570Z"
   },
   {
    "duration": 31,
    "start_time": "2022-05-16T15:05:13.599Z"
   },
   {
    "duration": 28,
    "start_time": "2022-05-16T15:05:13.632Z"
   },
   {
    "duration": 6,
    "start_time": "2022-05-16T15:05:13.663Z"
   },
   {
    "duration": 5,
    "start_time": "2022-05-16T15:05:13.677Z"
   },
   {
    "duration": 25,
    "start_time": "2022-05-16T15:05:13.684Z"
   },
   {
    "duration": 20,
    "start_time": "2022-05-16T15:05:13.711Z"
   },
   {
    "duration": 7,
    "start_time": "2022-05-16T15:05:13.734Z"
   },
   {
    "duration": 23,
    "start_time": "2022-05-16T15:05:13.743Z"
   },
   {
    "duration": 8,
    "start_time": "2022-05-16T15:05:13.768Z"
   },
   {
    "duration": 8,
    "start_time": "2022-05-16T15:05:13.778Z"
   },
   {
    "duration": 41,
    "start_time": "2022-05-16T15:05:13.789Z"
   },
   {
    "duration": 14,
    "start_time": "2022-05-16T15:05:13.832Z"
   },
   {
    "duration": 15,
    "start_time": "2022-05-16T15:05:13.848Z"
   },
   {
    "duration": 25,
    "start_time": "2022-05-16T15:05:13.865Z"
   },
   {
    "duration": 25,
    "start_time": "2022-05-16T15:05:13.893Z"
   },
   {
    "duration": 13,
    "start_time": "2022-05-16T15:05:13.920Z"
   },
   {
    "duration": 21,
    "start_time": "2022-05-16T15:05:13.936Z"
   },
   {
    "duration": 31,
    "start_time": "2022-05-16T15:05:13.960Z"
   },
   {
    "duration": 25,
    "start_time": "2022-05-16T15:05:13.993Z"
   },
   {
    "duration": 7,
    "start_time": "2022-05-16T15:05:14.025Z"
   },
   {
    "duration": 27,
    "start_time": "2022-05-16T15:05:14.034Z"
   },
   {
    "duration": 9,
    "start_time": "2022-05-16T15:05:14.064Z"
   },
   {
    "duration": 573,
    "start_time": "2022-05-16T15:05:14.075Z"
   },
   {
    "duration": 11,
    "start_time": "2022-05-16T15:05:14.650Z"
   },
   {
    "duration": 9,
    "start_time": "2022-05-16T15:05:14.663Z"
   },
   {
    "duration": 10,
    "start_time": "2022-05-16T15:05:14.674Z"
   },
   {
    "duration": 40,
    "start_time": "2022-05-16T15:05:14.686Z"
   },
   {
    "duration": 247,
    "start_time": "2022-05-16T15:05:14.728Z"
   },
   {
    "duration": 14,
    "start_time": "2022-05-16T15:05:14.977Z"
   },
   {
    "duration": 729,
    "start_time": "2022-05-16T15:05:14.993Z"
   },
   {
    "duration": 6,
    "start_time": "2022-05-16T15:05:15.724Z"
   },
   {
    "duration": 23,
    "start_time": "2022-05-16T15:05:15.732Z"
   },
   {
    "duration": 1743,
    "start_time": "2022-05-16T15:05:15.758Z"
   },
   {
    "duration": 8,
    "start_time": "2022-05-16T15:05:17.504Z"
   },
   {
    "duration": 13,
    "start_time": "2022-05-16T15:05:17.524Z"
   },
   {
    "duration": 13,
    "start_time": "2022-05-16T15:05:17.539Z"
   },
   {
    "duration": 13,
    "start_time": "2022-05-16T15:05:17.554Z"
   },
   {
    "duration": 10,
    "start_time": "2022-05-16T15:05:17.569Z"
   },
   {
    "duration": 9,
    "start_time": "2022-05-16T15:05:17.581Z"
   },
   {
    "duration": 705,
    "start_time": "2022-05-16T15:05:17.592Z"
   },
   {
    "duration": 5,
    "start_time": "2022-05-16T15:05:18.299Z"
   },
   {
    "duration": 20,
    "start_time": "2022-05-16T15:05:18.307Z"
   },
   {
    "duration": 10,
    "start_time": "2022-05-16T15:05:18.330Z"
   },
   {
    "duration": 11,
    "start_time": "2022-05-16T15:05:18.342Z"
   },
   {
    "duration": 10,
    "start_time": "2022-05-16T15:05:18.356Z"
   },
   {
    "duration": 10,
    "start_time": "2022-05-16T15:05:18.368Z"
   },
   {
    "duration": 44,
    "start_time": "2022-05-16T15:05:18.381Z"
   },
   {
    "duration": 6,
    "start_time": "2022-05-16T15:05:18.427Z"
   },
   {
    "duration": 9,
    "start_time": "2022-05-16T15:05:18.435Z"
   },
   {
    "duration": 987,
    "start_time": "2022-05-16T15:05:18.447Z"
   },
   {
    "duration": 6,
    "start_time": "2022-05-16T15:05:19.437Z"
   },
   {
    "duration": 10,
    "start_time": "2022-05-16T15:05:19.446Z"
   },
   {
    "duration": 6,
    "start_time": "2022-05-16T15:05:19.459Z"
   },
   {
    "duration": 9,
    "start_time": "2022-05-16T15:05:19.467Z"
   },
   {
    "duration": 46,
    "start_time": "2022-05-16T15:05:19.479Z"
   },
   {
    "duration": 6,
    "start_time": "2022-05-16T15:05:19.528Z"
   },
   {
    "duration": 566,
    "start_time": "2022-05-16T15:05:19.536Z"
   },
   {
    "duration": 15,
    "start_time": "2022-05-16T15:05:20.113Z"
   },
   {
    "duration": 20,
    "start_time": "2022-05-16T15:05:20.130Z"
   },
   {
    "duration": 9,
    "start_time": "2022-05-16T15:05:20.152Z"
   },
   {
    "duration": 69,
    "start_time": "2022-05-16T15:05:20.164Z"
   },
   {
    "duration": 5,
    "start_time": "2022-05-16T15:05:20.235Z"
   },
   {
    "duration": 17,
    "start_time": "2022-05-16T15:05:20.242Z"
   },
   {
    "duration": 23,
    "start_time": "2022-05-16T15:05:20.261Z"
   },
   {
    "duration": 13,
    "start_time": "2022-05-16T15:05:20.286Z"
   },
   {
    "duration": 32,
    "start_time": "2022-05-16T15:05:20.301Z"
   },
   {
    "duration": 9,
    "start_time": "2022-05-16T15:05:20.335Z"
   },
   {
    "duration": 10,
    "start_time": "2022-05-16T15:05:20.346Z"
   },
   {
    "duration": 13,
    "start_time": "2022-05-16T15:05:20.359Z"
   },
   {
    "duration": 12,
    "start_time": "2022-05-16T15:05:20.374Z"
   },
   {
    "duration": 52,
    "start_time": "2022-05-16T15:05:20.388Z"
   },
   {
    "duration": 12,
    "start_time": "2022-05-16T15:05:20.442Z"
   },
   {
    "duration": 2395,
    "start_time": "2022-05-16T15:05:20.457Z"
   },
   {
    "duration": 27,
    "start_time": "2022-05-16T15:05:22.855Z"
   },
   {
    "duration": 103,
    "start_time": "2022-05-16T15:05:22.885Z"
   },
   {
    "duration": 10,
    "start_time": "2022-05-16T15:05:22.991Z"
   },
   {
    "duration": 41,
    "start_time": "2022-05-16T15:05:23.004Z"
   },
   {
    "duration": 29,
    "start_time": "2022-05-16T15:05:23.048Z"
   },
   {
    "duration": 24,
    "start_time": "2022-05-16T15:05:23.080Z"
   },
   {
    "duration": 611,
    "start_time": "2022-05-16T15:05:23.106Z"
   },
   {
    "duration": 13,
    "start_time": "2022-05-16T15:05:23.719Z"
   },
   {
    "duration": 5,
    "start_time": "2022-05-16T15:05:23.734Z"
   },
   {
    "duration": 14,
    "start_time": "2022-05-16T15:05:23.741Z"
   },
   {
    "duration": 18,
    "start_time": "2022-05-16T15:05:23.757Z"
   },
   {
    "duration": 13,
    "start_time": "2022-05-16T15:05:23.777Z"
   },
   {
    "duration": 6,
    "start_time": "2022-05-16T15:05:23.824Z"
   },
   {
    "duration": 10,
    "start_time": "2022-05-16T15:05:23.832Z"
   },
   {
    "duration": 18,
    "start_time": "2022-05-16T15:05:23.844Z"
   },
   {
    "duration": 11,
    "start_time": "2022-05-16T15:05:23.864Z"
   },
   {
    "duration": 51,
    "start_time": "2022-05-16T15:05:23.878Z"
   },
   {
    "duration": 641,
    "start_time": "2022-05-16T15:05:23.931Z"
   },
   {
    "duration": 18,
    "start_time": "2022-05-16T15:05:24.574Z"
   },
   {
    "duration": 36,
    "start_time": "2022-05-16T15:05:24.595Z"
   },
   {
    "duration": 25,
    "start_time": "2022-05-16T15:05:24.633Z"
   },
   {
    "duration": 6,
    "start_time": "2022-05-16T15:05:24.660Z"
   },
   {
    "duration": 57,
    "start_time": "2022-05-16T15:05:24.668Z"
   },
   {
    "duration": 22,
    "start_time": "2022-05-16T15:05:24.727Z"
   },
   {
    "duration": 40,
    "start_time": "2022-05-16T15:05:24.752Z"
   },
   {
    "duration": 13,
    "start_time": "2022-05-16T15:05:24.795Z"
   },
   {
    "duration": 21,
    "start_time": "2022-05-16T15:05:24.811Z"
   },
   {
    "duration": 31,
    "start_time": "2022-05-16T15:05:24.835Z"
   },
   {
    "duration": 17,
    "start_time": "2022-05-16T15:05:24.869Z"
   },
   {
    "duration": 15,
    "start_time": "2022-05-16T15:05:24.889Z"
   },
   {
    "duration": 19,
    "start_time": "2022-05-16T15:05:24.907Z"
   },
   {
    "duration": 27,
    "start_time": "2022-05-16T15:05:24.929Z"
   },
   {
    "duration": 14,
    "start_time": "2022-05-16T15:05:24.959Z"
   },
   {
    "duration": 11,
    "start_time": "2022-05-16T15:05:24.976Z"
   },
   {
    "duration": 13,
    "start_time": "2022-05-16T15:05:24.990Z"
   },
   {
    "duration": 23,
    "start_time": "2022-05-16T15:05:25.006Z"
   },
   {
    "duration": 21,
    "start_time": "2022-05-16T15:05:25.031Z"
   },
   {
    "duration": 12,
    "start_time": "2022-05-16T15:05:25.054Z"
   },
   {
    "duration": 12,
    "start_time": "2022-05-16T15:05:25.069Z"
   },
   {
    "duration": 18,
    "start_time": "2022-05-16T15:05:25.084Z"
   },
   {
    "duration": 28,
    "start_time": "2022-05-16T15:05:25.105Z"
   },
   {
    "duration": 7,
    "start_time": "2022-05-16T15:05:25.135Z"
   },
   {
    "duration": 20,
    "start_time": "2022-05-16T15:05:25.144Z"
   },
   {
    "duration": 86,
    "start_time": "2022-05-16T18:05:52.066Z"
   },
   {
    "duration": 1833,
    "start_time": "2022-05-16T18:05:57.328Z"
   },
   {
    "duration": 49,
    "start_time": "2022-05-16T18:05:59.164Z"
   },
   {
    "duration": 5,
    "start_time": "2022-05-16T18:05:59.215Z"
   },
   {
    "duration": 44,
    "start_time": "2022-05-16T18:05:59.224Z"
   },
   {
    "duration": 10,
    "start_time": "2022-05-16T18:05:59.271Z"
   },
   {
    "duration": 23,
    "start_time": "2022-05-16T18:05:59.284Z"
   },
   {
    "duration": 69,
    "start_time": "2022-05-16T18:05:59.310Z"
   },
   {
    "duration": 4,
    "start_time": "2022-05-16T18:05:59.382Z"
   },
   {
    "duration": 8,
    "start_time": "2022-05-16T18:05:59.389Z"
   },
   {
    "duration": 14,
    "start_time": "2022-05-16T18:05:59.401Z"
   },
   {
    "duration": 39,
    "start_time": "2022-05-16T18:05:59.417Z"
   },
   {
    "duration": 11,
    "start_time": "2022-05-16T18:05:59.459Z"
   },
   {
    "duration": 7,
    "start_time": "2022-05-16T18:05:59.472Z"
   },
   {
    "duration": 10,
    "start_time": "2022-05-16T18:05:59.481Z"
   },
   {
    "duration": 7,
    "start_time": "2022-05-16T18:05:59.493Z"
   },
   {
    "duration": 8,
    "start_time": "2022-05-16T18:05:59.502Z"
   },
   {
    "duration": 58,
    "start_time": "2022-05-16T18:05:59.512Z"
   },
   {
    "duration": 10,
    "start_time": "2022-05-16T18:05:59.573Z"
   },
   {
    "duration": 8,
    "start_time": "2022-05-16T18:05:59.585Z"
   },
   {
    "duration": 6,
    "start_time": "2022-05-16T18:05:59.596Z"
   },
   {
    "duration": 65,
    "start_time": "2022-05-16T18:05:59.605Z"
   },
   {
    "duration": 17,
    "start_time": "2022-05-16T18:05:59.673Z"
   },
   {
    "duration": 13,
    "start_time": "2022-05-16T18:05:59.692Z"
   },
   {
    "duration": 24,
    "start_time": "2022-05-16T18:05:59.708Z"
   },
   {
    "duration": 18,
    "start_time": "2022-05-16T18:05:59.735Z"
   },
   {
    "duration": 17,
    "start_time": "2022-05-16T18:05:59.755Z"
   },
   {
    "duration": 19,
    "start_time": "2022-05-16T18:05:59.774Z"
   },
   {
    "duration": 14,
    "start_time": "2022-05-16T18:05:59.800Z"
   },
   {
    "duration": 22,
    "start_time": "2022-05-16T18:05:59.817Z"
   },
   {
    "duration": 18,
    "start_time": "2022-05-16T18:05:59.841Z"
   },
   {
    "duration": 15,
    "start_time": "2022-05-16T18:05:59.862Z"
   },
   {
    "duration": 16,
    "start_time": "2022-05-16T18:05:59.880Z"
   },
   {
    "duration": 14,
    "start_time": "2022-05-16T18:05:59.898Z"
   },
   {
    "duration": 7,
    "start_time": "2022-05-16T18:05:59.915Z"
   },
   {
    "duration": 17,
    "start_time": "2022-05-16T18:05:59.925Z"
   },
   {
    "duration": 14,
    "start_time": "2022-05-16T18:05:59.944Z"
   },
   {
    "duration": 10,
    "start_time": "2022-05-16T18:05:59.960Z"
   },
   {
    "duration": 35,
    "start_time": "2022-05-16T18:05:59.972Z"
   },
   {
    "duration": 10,
    "start_time": "2022-05-16T18:06:00.010Z"
   },
   {
    "duration": 17,
    "start_time": "2022-05-16T18:06:00.023Z"
   },
   {
    "duration": 12,
    "start_time": "2022-05-16T18:06:00.042Z"
   },
   {
    "duration": 26,
    "start_time": "2022-05-16T18:06:00.056Z"
   },
   {
    "duration": 24,
    "start_time": "2022-05-16T18:06:00.084Z"
   },
   {
    "duration": 6,
    "start_time": "2022-05-16T18:06:00.110Z"
   },
   {
    "duration": 50,
    "start_time": "2022-05-16T18:06:00.118Z"
   },
   {
    "duration": 29,
    "start_time": "2022-05-16T18:06:00.170Z"
   },
   {
    "duration": 1777,
    "start_time": "2022-05-16T20:02:00.066Z"
   },
   {
    "duration": 60,
    "start_time": "2022-05-16T20:02:01.846Z"
   },
   {
    "duration": 6,
    "start_time": "2022-05-16T20:02:02.575Z"
   },
   {
    "duration": 21,
    "start_time": "2022-05-16T20:02:04.045Z"
   },
   {
    "duration": 9,
    "start_time": "2022-05-16T20:02:04.996Z"
   },
   {
    "duration": 20,
    "start_time": "2022-05-16T20:02:06.294Z"
   },
   {
    "duration": 58,
    "start_time": "2022-05-16T20:02:08.133Z"
   },
   {
    "duration": 148,
    "start_time": "2022-05-16T20:02:12.451Z"
   },
   {
    "duration": 10,
    "start_time": "2022-05-16T20:02:31.524Z"
   },
   {
    "duration": 11,
    "start_time": "2022-05-16T20:02:59.666Z"
   },
   {
    "duration": 5,
    "start_time": "2022-05-16T20:03:09.946Z"
   },
   {
    "duration": 9,
    "start_time": "2022-05-16T20:03:17.126Z"
   },
   {
    "duration": 5,
    "start_time": "2022-05-16T20:10:52.494Z"
   },
   {
    "duration": 4,
    "start_time": "2022-05-16T20:11:14.677Z"
   },
   {
    "duration": 5,
    "start_time": "2022-05-16T20:11:20.825Z"
   },
   {
    "duration": 5,
    "start_time": "2022-05-16T20:11:32.193Z"
   },
   {
    "duration": 5,
    "start_time": "2022-05-16T20:11:38.419Z"
   },
   {
    "duration": 50,
    "start_time": "2022-05-16T20:13:51.282Z"
   },
   {
    "duration": 15,
    "start_time": "2022-05-16T20:14:35.619Z"
   },
   {
    "duration": 117,
    "start_time": "2022-05-16T20:15:39.593Z"
   },
   {
    "duration": 17,
    "start_time": "2022-05-16T20:15:43.197Z"
   },
   {
    "duration": 17,
    "start_time": "2022-05-16T20:15:46.756Z"
   },
   {
    "duration": 9,
    "start_time": "2022-05-16T20:17:07.976Z"
   },
   {
    "duration": 10,
    "start_time": "2022-05-16T20:17:15.388Z"
   },
   {
    "duration": 13,
    "start_time": "2022-05-16T20:17:19.635Z"
   },
   {
    "duration": 8,
    "start_time": "2022-05-16T20:17:22.963Z"
   },
   {
    "duration": 9,
    "start_time": "2022-05-16T20:18:10.887Z"
   },
   {
    "duration": 130,
    "start_time": "2022-05-16T20:19:16.346Z"
   },
   {
    "duration": 15,
    "start_time": "2022-05-16T20:37:26.725Z"
   },
   {
    "duration": 136,
    "start_time": "2022-05-16T20:37:48.980Z"
   },
   {
    "duration": 12,
    "start_time": "2022-05-16T20:37:58.212Z"
   },
   {
    "duration": 7,
    "start_time": "2022-05-16T20:38:57.012Z"
   },
   {
    "duration": 31,
    "start_time": "2022-05-16T20:40:34.515Z"
   },
   {
    "duration": 16,
    "start_time": "2022-05-16T20:40:50.840Z"
   },
   {
    "duration": 31,
    "start_time": "2022-05-16T20:51:31.840Z"
   },
   {
    "duration": 6,
    "start_time": "2022-05-16T21:06:14.298Z"
   },
   {
    "duration": 15,
    "start_time": "2022-05-16T21:07:10.261Z"
   },
   {
    "duration": 11,
    "start_time": "2022-05-16T21:07:22.413Z"
   },
   {
    "duration": 16,
    "start_time": "2022-05-16T21:09:47.722Z"
   },
   {
    "duration": 13,
    "start_time": "2022-05-16T21:12:30.853Z"
   },
   {
    "duration": 17,
    "start_time": "2022-05-16T21:12:32.452Z"
   },
   {
    "duration": 9,
    "start_time": "2022-05-16T21:12:35.308Z"
   },
   {
    "duration": 11,
    "start_time": "2022-05-16T21:12:41.237Z"
   },
   {
    "duration": 7,
    "start_time": "2022-05-16T21:12:42.767Z"
   },
   {
    "duration": 36,
    "start_time": "2022-05-16T21:12:44.210Z"
   },
   {
    "duration": 17,
    "start_time": "2022-05-16T21:14:50.372Z"
   },
   {
    "duration": 12,
    "start_time": "2022-05-16T21:14:58.771Z"
   },
   {
    "duration": 10,
    "start_time": "2022-05-16T21:16:52.000Z"
   },
   {
    "duration": 1917,
    "start_time": "2022-05-16T21:19:14.981Z"
   },
   {
    "duration": 14,
    "start_time": "2022-05-16T21:19:26.003Z"
   },
   {
    "duration": 13,
    "start_time": "2022-05-16T21:20:19.661Z"
   },
   {
    "duration": 32,
    "start_time": "2022-05-16T21:22:02.453Z"
   },
   {
    "duration": 13,
    "start_time": "2022-05-16T21:23:25.501Z"
   },
   {
    "duration": 29,
    "start_time": "2022-05-16T21:23:26.622Z"
   },
   {
    "duration": 31,
    "start_time": "2022-05-16T21:24:44.505Z"
   },
   {
    "duration": 22,
    "start_time": "2022-05-16T21:27:53.574Z"
   },
   {
    "duration": 16,
    "start_time": "2022-05-16T21:28:16.947Z"
   },
   {
    "duration": 23,
    "start_time": "2022-05-16T21:28:25.773Z"
   },
   {
    "duration": 26,
    "start_time": "2022-05-16T21:28:51.869Z"
   },
   {
    "duration": 13,
    "start_time": "2022-05-16T21:29:07.120Z"
   },
   {
    "duration": 23,
    "start_time": "2022-05-16T21:29:50.480Z"
   },
   {
    "duration": 28,
    "start_time": "2022-05-16T21:30:26.216Z"
   },
   {
    "duration": 28,
    "start_time": "2022-05-16T21:32:04.764Z"
   },
   {
    "duration": 36,
    "start_time": "2022-05-16T21:37:31.939Z"
   },
   {
    "duration": 34,
    "start_time": "2022-05-16T21:37:53.108Z"
   },
   {
    "duration": 24,
    "start_time": "2022-05-16T21:38:13.465Z"
   },
   {
    "duration": 23,
    "start_time": "2022-05-16T21:38:25.870Z"
   },
   {
    "duration": 131,
    "start_time": "2022-05-16T21:45:41.181Z"
   },
   {
    "duration": 21,
    "start_time": "2022-05-16T21:45:48.094Z"
   },
   {
    "duration": 37,
    "start_time": "2022-05-16T21:47:59.609Z"
   },
   {
    "duration": 9,
    "start_time": "2022-05-16T21:49:11.646Z"
   },
   {
    "duration": 14,
    "start_time": "2022-05-16T21:49:12.805Z"
   },
   {
    "duration": 26,
    "start_time": "2022-05-16T21:49:40.146Z"
   },
   {
    "duration": 1813,
    "start_time": "2022-05-17T04:36:46.557Z"
   },
   {
    "duration": 84,
    "start_time": "2022-05-17T04:36:48.373Z"
   },
   {
    "duration": 28,
    "start_time": "2022-05-17T04:36:48.460Z"
   },
   {
    "duration": 76,
    "start_time": "2022-05-17T04:36:48.507Z"
   },
   {
    "duration": 9,
    "start_time": "2022-05-17T04:36:48.585Z"
   },
   {
    "duration": 21,
    "start_time": "2022-05-17T04:36:48.961Z"
   },
   {
    "duration": 42,
    "start_time": "2022-05-17T04:36:49.554Z"
   },
   {
    "duration": 6,
    "start_time": "2022-05-17T04:36:50.281Z"
   },
   {
    "duration": 6,
    "start_time": "2022-05-17T04:36:50.841Z"
   },
   {
    "duration": 18,
    "start_time": "2022-05-17T04:36:51.418Z"
   },
   {
    "duration": 7,
    "start_time": "2022-05-17T04:36:51.791Z"
   },
   {
    "duration": 9,
    "start_time": "2022-05-17T04:36:52.012Z"
   },
   {
    "duration": 5,
    "start_time": "2022-05-17T04:36:52.393Z"
   },
   {
    "duration": 7,
    "start_time": "2022-05-17T04:36:52.578Z"
   },
   {
    "duration": 7,
    "start_time": "2022-05-17T04:36:52.951Z"
   },
   {
    "duration": 7,
    "start_time": "2022-05-17T04:36:53.339Z"
   },
   {
    "duration": 17,
    "start_time": "2022-05-17T04:36:53.967Z"
   },
   {
    "duration": 9,
    "start_time": "2022-05-17T04:36:54.812Z"
   },
   {
    "duration": 10,
    "start_time": "2022-05-17T04:36:55.212Z"
   },
   {
    "duration": 10,
    "start_time": "2022-05-17T04:36:56.440Z"
   },
   {
    "duration": 8,
    "start_time": "2022-05-17T04:36:56.893Z"
   },
   {
    "duration": 7,
    "start_time": "2022-05-17T04:36:57.441Z"
   },
   {
    "duration": 24,
    "start_time": "2022-05-17T04:36:58.038Z"
   },
   {
    "duration": 17,
    "start_time": "2022-05-17T04:36:59.821Z"
   },
   {
    "duration": 12,
    "start_time": "2022-05-17T04:37:00.540Z"
   },
   {
    "duration": 11,
    "start_time": "2022-05-17T04:37:00.938Z"
   },
   {
    "duration": 9,
    "start_time": "2022-05-17T04:37:01.338Z"
   },
   {
    "duration": 10,
    "start_time": "2022-05-17T04:37:02.108Z"
   },
   {
    "duration": 7,
    "start_time": "2022-05-17T04:37:02.699Z"
   },
   {
    "duration": 6,
    "start_time": "2022-05-17T04:37:15.247Z"
   },
   {
    "duration": 21,
    "start_time": "2022-05-17T04:37:15.445Z"
   },
   {
    "duration": 10,
    "start_time": "2022-05-17T04:37:15.881Z"
   },
   {
    "duration": 7,
    "start_time": "2022-05-17T04:37:16.075Z"
   },
   {
    "duration": 9,
    "start_time": "2022-05-17T04:37:16.517Z"
   },
   {
    "duration": 7,
    "start_time": "2022-05-17T04:37:17.880Z"
   },
   {
    "duration": 5,
    "start_time": "2022-05-17T04:37:20.401Z"
   },
   {
    "duration": 10,
    "start_time": "2022-05-17T04:37:20.707Z"
   },
   {
    "duration": 6,
    "start_time": "2022-05-17T04:37:21.099Z"
   },
   {
    "duration": 5,
    "start_time": "2022-05-17T04:37:21.439Z"
   },
   {
    "duration": 8,
    "start_time": "2022-05-17T04:37:23.859Z"
   },
   {
    "duration": 12,
    "start_time": "2022-05-17T04:37:24.471Z"
   },
   {
    "duration": 18,
    "start_time": "2022-05-17T04:37:26.038Z"
   },
   {
    "duration": 6,
    "start_time": "2022-05-17T04:37:27.207Z"
   },
   {
    "duration": 9,
    "start_time": "2022-05-17T04:37:30.579Z"
   },
   {
    "duration": 8,
    "start_time": "2022-05-17T04:37:31.139Z"
   },
   {
    "duration": 26,
    "start_time": "2022-05-17T04:37:35.079Z"
   },
   {
    "duration": 23,
    "start_time": "2022-05-17T04:38:12.279Z"
   },
   {
    "duration": 15,
    "start_time": "2022-05-17T04:38:14.240Z"
   },
   {
    "duration": 22,
    "start_time": "2022-05-17T04:38:38.440Z"
   },
   {
    "duration": 4,
    "start_time": "2022-05-17T04:38:47.542Z"
   },
   {
    "duration": 44,
    "start_time": "2022-05-17T04:38:47.946Z"
   },
   {
    "duration": 6,
    "start_time": "2022-05-17T04:38:48.705Z"
   },
   {
    "duration": 19,
    "start_time": "2022-05-17T04:38:49.372Z"
   },
   {
    "duration": 6,
    "start_time": "2022-05-17T04:38:49.780Z"
   },
   {
    "duration": 18,
    "start_time": "2022-05-17T04:38:50.152Z"
   },
   {
    "duration": 45,
    "start_time": "2022-05-17T04:38:50.700Z"
   },
   {
    "duration": 6,
    "start_time": "2022-05-17T04:38:51.438Z"
   },
   {
    "duration": 7,
    "start_time": "2022-05-17T04:38:52.012Z"
   },
   {
    "duration": 13,
    "start_time": "2022-05-17T04:38:52.620Z"
   },
   {
    "duration": 6,
    "start_time": "2022-05-17T04:38:53.041Z"
   },
   {
    "duration": 10,
    "start_time": "2022-05-17T04:38:53.253Z"
   },
   {
    "duration": 5,
    "start_time": "2022-05-17T04:38:53.653Z"
   },
   {
    "duration": 8,
    "start_time": "2022-05-17T04:38:53.873Z"
   },
   {
    "duration": 7,
    "start_time": "2022-05-17T04:38:54.282Z"
   },
   {
    "duration": 7,
    "start_time": "2022-05-17T04:38:54.738Z"
   },
   {
    "duration": 17,
    "start_time": "2022-05-17T04:38:55.348Z"
   },
   {
    "duration": 10,
    "start_time": "2022-05-17T04:38:56.192Z"
   },
   {
    "duration": 11,
    "start_time": "2022-05-17T04:38:56.612Z"
   },
   {
    "duration": 12,
    "start_time": "2022-05-17T04:38:57.840Z"
   },
   {
    "duration": 10,
    "start_time": "2022-05-17T04:38:58.220Z"
   },
   {
    "duration": 6,
    "start_time": "2022-05-17T04:38:58.638Z"
   },
   {
    "duration": 25,
    "start_time": "2022-05-17T04:38:59.060Z"
   },
   {
    "duration": 9,
    "start_time": "2022-05-17T04:39:00.500Z"
   },
   {
    "duration": 11,
    "start_time": "2022-05-17T04:39:01.460Z"
   },
   {
    "duration": 11,
    "start_time": "2022-05-17T04:39:02.460Z"
   },
   {
    "duration": 9,
    "start_time": "2022-05-17T04:39:03.072Z"
   },
   {
    "duration": 10,
    "start_time": "2022-05-17T04:39:03.792Z"
   },
   {
    "duration": 7,
    "start_time": "2022-05-17T04:39:04.860Z"
   },
   {
    "duration": 6,
    "start_time": "2022-05-17T04:39:05.072Z"
   },
   {
    "duration": 20,
    "start_time": "2022-05-17T04:39:05.252Z"
   },
   {
    "duration": 9,
    "start_time": "2022-05-17T04:39:05.653Z"
   },
   {
    "duration": 7,
    "start_time": "2022-05-17T04:39:05.838Z"
   },
   {
    "duration": 8,
    "start_time": "2022-05-17T04:39:06.941Z"
   },
   {
    "duration": 7,
    "start_time": "2022-05-17T04:39:09.440Z"
   },
   {
    "duration": 5,
    "start_time": "2022-05-17T04:39:10.565Z"
   },
   {
    "duration": 9,
    "start_time": "2022-05-17T04:39:11.068Z"
   },
   {
    "duration": 6,
    "start_time": "2022-05-17T04:39:11.286Z"
   },
   {
    "duration": 5,
    "start_time": "2022-05-17T04:39:11.776Z"
   },
   {
    "duration": 8,
    "start_time": "2022-05-17T04:39:14.038Z"
   },
   {
    "duration": 11,
    "start_time": "2022-05-17T04:39:14.538Z"
   },
   {
    "duration": 17,
    "start_time": "2022-05-17T04:39:16.201Z"
   },
   {
    "duration": 7,
    "start_time": "2022-05-17T04:39:17.420Z"
   },
   {
    "duration": 8,
    "start_time": "2022-05-17T04:39:19.363Z"
   },
   {
    "duration": 7,
    "start_time": "2022-05-17T04:39:19.738Z"
   },
   {
    "duration": 24,
    "start_time": "2022-05-17T04:39:20.537Z"
   },
   {
    "duration": 36,
    "start_time": "2022-05-17T04:39:21.160Z"
   },
   {
    "duration": 32,
    "start_time": "2022-05-17T04:39:22.092Z"
   },
   {
    "duration": 13,
    "start_time": "2022-05-17T04:39:26.756Z"
   },
   {
    "duration": 35,
    "start_time": "2022-05-17T04:39:37.240Z"
   },
   {
    "duration": 35,
    "start_time": "2022-05-17T04:44:25.552Z"
   },
   {
    "duration": 13,
    "start_time": "2022-05-17T04:46:54.258Z"
   },
   {
    "duration": 22,
    "start_time": "2022-05-17T04:47:23.280Z"
   },
   {
    "duration": 15,
    "start_time": "2022-05-17T04:47:31.594Z"
   },
   {
    "duration": 4,
    "start_time": "2022-05-17T04:47:37.199Z"
   },
   {
    "duration": 45,
    "start_time": "2022-05-17T04:47:37.538Z"
   },
   {
    "duration": 5,
    "start_time": "2022-05-17T04:47:38.051Z"
   },
   {
    "duration": 23,
    "start_time": "2022-05-17T04:47:38.611Z"
   },
   {
    "duration": 7,
    "start_time": "2022-05-17T04:47:38.971Z"
   },
   {
    "duration": 20,
    "start_time": "2022-05-17T04:47:39.323Z"
   },
   {
    "duration": 42,
    "start_time": "2022-05-17T04:47:39.920Z"
   },
   {
    "duration": 7,
    "start_time": "2022-05-17T04:47:40.638Z"
   },
   {
    "duration": 6,
    "start_time": "2022-05-17T04:47:41.211Z"
   },
   {
    "duration": 11,
    "start_time": "2022-05-17T04:47:41.771Z"
   },
   {
    "duration": 7,
    "start_time": "2022-05-17T04:47:42.171Z"
   },
   {
    "duration": 9,
    "start_time": "2022-05-17T04:47:42.338Z"
   },
   {
    "duration": 6,
    "start_time": "2022-05-17T04:47:42.711Z"
   },
   {
    "duration": 8,
    "start_time": "2022-05-17T04:47:42.891Z"
   },
   {
    "duration": 8,
    "start_time": "2022-05-17T04:47:43.299Z"
   },
   {
    "duration": 7,
    "start_time": "2022-05-17T04:47:43.646Z"
   },
   {
    "duration": 18,
    "start_time": "2022-05-17T04:47:44.211Z"
   },
   {
    "duration": 9,
    "start_time": "2022-05-17T04:47:44.971Z"
   },
   {
    "duration": 10,
    "start_time": "2022-05-17T04:47:45.371Z"
   },
   {
    "duration": 9,
    "start_time": "2022-05-17T04:47:46.740Z"
   },
   {
    "duration": 8,
    "start_time": "2022-05-17T04:47:47.160Z"
   },
   {
    "duration": 6,
    "start_time": "2022-05-17T04:47:47.594Z"
   },
   {
    "duration": 24,
    "start_time": "2022-05-17T04:47:48.176Z"
   },
   {
    "duration": 9,
    "start_time": "2022-05-17T04:47:48.822Z"
   },
   {
    "duration": 12,
    "start_time": "2022-05-17T04:47:49.360Z"
   },
   {
    "duration": 10,
    "start_time": "2022-05-17T04:47:49.812Z"
   },
   {
    "duration": 8,
    "start_time": "2022-05-17T04:47:50.214Z"
   },
   {
    "duration": 10,
    "start_time": "2022-05-17T04:47:50.560Z"
   },
   {
    "duration": 7,
    "start_time": "2022-05-17T04:47:51.012Z"
   },
   {
    "duration": 6,
    "start_time": "2022-05-17T04:47:51.204Z"
   },
   {
    "duration": 23,
    "start_time": "2022-05-17T04:47:51.513Z"
   },
   {
    "duration": 9,
    "start_time": "2022-05-17T04:47:51.912Z"
   },
   {
    "duration": 7,
    "start_time": "2022-05-17T04:47:52.076Z"
   },
   {
    "duration": 9,
    "start_time": "2022-05-17T04:47:52.507Z"
   },
   {
    "duration": 8,
    "start_time": "2022-05-17T04:47:53.320Z"
   },
   {
    "duration": 4,
    "start_time": "2022-05-17T04:47:54.073Z"
   },
   {
    "duration": 9,
    "start_time": "2022-05-17T04:47:54.252Z"
   },
   {
    "duration": 5,
    "start_time": "2022-05-17T04:47:54.453Z"
   },
   {
    "duration": 5,
    "start_time": "2022-05-17T04:47:54.653Z"
   },
   {
    "duration": 6,
    "start_time": "2022-05-17T04:47:55.438Z"
   },
   {
    "duration": 12,
    "start_time": "2022-05-17T04:47:55.640Z"
   },
   {
    "duration": 18,
    "start_time": "2022-05-17T04:47:57.739Z"
   },
   {
    "duration": 7,
    "start_time": "2022-05-17T04:47:59.119Z"
   },
   {
    "duration": 8,
    "start_time": "2022-05-17T04:48:00.411Z"
   },
   {
    "duration": 8,
    "start_time": "2022-05-17T04:48:01.740Z"
   },
   {
    "duration": 7,
    "start_time": "2022-05-17T04:48:06.073Z"
   },
   {
    "duration": 8,
    "start_time": "2022-05-17T04:48:06.242Z"
   },
   {
    "duration": 23,
    "start_time": "2022-05-17T04:48:07.236Z"
   },
   {
    "duration": 23,
    "start_time": "2022-05-17T04:48:09.435Z"
   },
   {
    "duration": 23,
    "start_time": "2022-05-17T04:48:09.571Z"
   },
   {
    "duration": 14,
    "start_time": "2022-05-17T04:48:10.891Z"
   },
   {
    "duration": 8,
    "start_time": "2022-05-17T04:48:34.779Z"
   },
   {
    "duration": 15,
    "start_time": "2022-05-17T04:48:35.393Z"
   },
   {
    "duration": 16,
    "start_time": "2022-05-17T04:48:37.419Z"
   },
   {
    "duration": 24,
    "start_time": "2022-05-17T04:48:37.971Z"
   },
   {
    "duration": 6,
    "start_time": "2022-05-17T04:48:51.280Z"
   },
   {
    "duration": 15,
    "start_time": "2022-05-17T04:48:51.852Z"
   },
   {
    "duration": 254,
    "start_time": "2022-05-17T17:40:28.980Z"
   },
   {
    "duration": 1960,
    "start_time": "2022-05-17T17:41:06.889Z"
   },
   {
    "duration": 73,
    "start_time": "2022-05-17T17:41:08.853Z"
   },
   {
    "duration": 5,
    "start_time": "2022-05-17T17:41:08.930Z"
   },
   {
    "duration": 26,
    "start_time": "2022-05-17T17:41:08.939Z"
   },
   {
    "duration": 13,
    "start_time": "2022-05-17T17:41:08.968Z"
   },
   {
    "duration": 28,
    "start_time": "2022-05-17T17:41:08.984Z"
   },
   {
    "duration": 68,
    "start_time": "2022-05-17T17:41:09.015Z"
   },
   {
    "duration": 7,
    "start_time": "2022-05-17T17:41:09.085Z"
   },
   {
    "duration": 7,
    "start_time": "2022-05-17T17:41:09.094Z"
   },
   {
    "duration": 59,
    "start_time": "2022-05-17T17:41:09.105Z"
   },
   {
    "duration": 8,
    "start_time": "2022-05-17T17:41:09.165Z"
   },
   {
    "duration": 13,
    "start_time": "2022-05-17T17:41:09.175Z"
   },
   {
    "duration": 7,
    "start_time": "2022-05-17T17:41:09.190Z"
   },
   {
    "duration": 16,
    "start_time": "2022-05-17T17:41:09.199Z"
   },
   {
    "duration": 29,
    "start_time": "2022-05-17T17:41:09.218Z"
   },
   {
    "duration": 10,
    "start_time": "2022-05-17T17:41:09.250Z"
   },
   {
    "duration": 19,
    "start_time": "2022-05-17T17:41:09.262Z"
   },
   {
    "duration": 10,
    "start_time": "2022-05-17T17:41:09.284Z"
   },
   {
    "duration": 48,
    "start_time": "2022-05-17T17:41:09.297Z"
   },
   {
    "duration": 11,
    "start_time": "2022-05-17T17:41:09.349Z"
   },
   {
    "duration": 10,
    "start_time": "2022-05-17T17:41:09.363Z"
   },
   {
    "duration": 8,
    "start_time": "2022-05-17T17:41:09.375Z"
   },
   {
    "duration": 74,
    "start_time": "2022-05-17T17:41:09.385Z"
   },
   {
    "duration": 11,
    "start_time": "2022-05-17T17:41:09.463Z"
   },
   {
    "duration": 15,
    "start_time": "2022-05-17T17:41:09.477Z"
   },
   {
    "duration": 12,
    "start_time": "2022-05-17T17:41:09.495Z"
   },
   {
    "duration": 39,
    "start_time": "2022-05-17T17:41:09.510Z"
   },
   {
    "duration": 10,
    "start_time": "2022-05-17T17:41:09.561Z"
   },
   {
    "duration": 12,
    "start_time": "2022-05-17T17:41:09.573Z"
   },
   {
    "duration": 8,
    "start_time": "2022-05-17T17:41:09.587Z"
   },
   {
    "duration": 47,
    "start_time": "2022-05-17T17:41:09.598Z"
   },
   {
    "duration": 9,
    "start_time": "2022-05-17T17:41:09.648Z"
   },
   {
    "duration": 7,
    "start_time": "2022-05-17T17:41:09.660Z"
   },
   {
    "duration": 13,
    "start_time": "2022-05-17T17:41:09.668Z"
   },
   {
    "duration": 8,
    "start_time": "2022-05-17T17:41:09.683Z"
   },
   {
    "duration": 5,
    "start_time": "2022-05-17T17:41:09.693Z"
   },
   {
    "duration": 11,
    "start_time": "2022-05-17T17:41:09.745Z"
   },
   {
    "duration": 7,
    "start_time": "2022-05-17T17:41:09.758Z"
   },
   {
    "duration": 5,
    "start_time": "2022-05-17T17:41:09.768Z"
   },
   {
    "duration": 9,
    "start_time": "2022-05-17T17:41:09.775Z"
   },
   {
    "duration": 14,
    "start_time": "2022-05-17T17:41:09.786Z"
   },
   {
    "duration": 17,
    "start_time": "2022-05-17T17:41:09.846Z"
   },
   {
    "duration": 9,
    "start_time": "2022-05-17T17:41:09.865Z"
   },
   {
    "duration": 12,
    "start_time": "2022-05-17T17:41:09.876Z"
   },
   {
    "duration": 6,
    "start_time": "2022-05-17T17:41:09.890Z"
   },
   {
    "duration": 59,
    "start_time": "2022-05-17T17:41:09.898Z"
   },
   {
    "duration": 24,
    "start_time": "2022-05-17T17:41:09.960Z"
   },
   {
    "duration": 24,
    "start_time": "2022-05-17T17:41:09.986Z"
   },
   {
    "duration": 40,
    "start_time": "2022-05-17T17:41:10.012Z"
   },
   {
    "duration": 8,
    "start_time": "2022-05-17T17:41:10.055Z"
   },
   {
    "duration": 17,
    "start_time": "2022-05-17T17:41:10.066Z"
   },
   {
    "duration": 15,
    "start_time": "2022-05-17T17:41:10.085Z"
   },
   {
    "duration": 8,
    "start_time": "2022-05-17T17:41:10.146Z"
   },
   {
    "duration": 17,
    "start_time": "2022-05-17T17:41:10.156Z"
   },
   {
    "duration": 9,
    "start_time": "2022-05-17T17:41:10.176Z"
   },
   {
    "duration": 650,
    "start_time": "2022-05-17T17:41:10.188Z"
   },
   {
    "duration": 12,
    "start_time": "2022-05-17T17:41:10.840Z"
   },
   {
    "duration": 7,
    "start_time": "2022-05-17T17:41:10.854Z"
   },
   {
    "duration": 9,
    "start_time": "2022-05-17T17:41:10.863Z"
   },
   {
    "duration": 18,
    "start_time": "2022-05-17T17:41:10.874Z"
   },
   {
    "duration": 265,
    "start_time": "2022-05-17T17:41:10.894Z"
   },
   {
    "duration": 16,
    "start_time": "2022-05-17T17:41:11.161Z"
   },
   {
    "duration": 874,
    "start_time": "2022-05-17T17:41:11.180Z"
   },
   {
    "duration": 7,
    "start_time": "2022-05-17T17:41:12.057Z"
   },
   {
    "duration": 9,
    "start_time": "2022-05-17T17:41:12.066Z"
   },
   {
    "duration": 1852,
    "start_time": "2022-05-17T17:41:12.077Z"
   },
   {
    "duration": 16,
    "start_time": "2022-05-17T17:41:13.931Z"
   },
   {
    "duration": 11,
    "start_time": "2022-05-17T17:41:13.949Z"
   },
   {
    "duration": 7,
    "start_time": "2022-05-17T17:41:13.962Z"
   },
   {
    "duration": 8,
    "start_time": "2022-05-17T17:41:13.971Z"
   },
   {
    "duration": 12,
    "start_time": "2022-05-17T17:41:13.981Z"
   },
   {
    "duration": 9,
    "start_time": "2022-05-17T17:41:13.995Z"
   },
   {
    "duration": 686,
    "start_time": "2022-05-17T17:41:14.006Z"
   },
   {
    "duration": 5,
    "start_time": "2022-05-17T17:41:14.694Z"
   },
   {
    "duration": 7,
    "start_time": "2022-05-17T17:41:14.701Z"
   },
   {
    "duration": 8,
    "start_time": "2022-05-17T17:41:14.710Z"
   },
   {
    "duration": 8,
    "start_time": "2022-05-17T17:41:14.744Z"
   },
   {
    "duration": 9,
    "start_time": "2022-05-17T17:41:14.754Z"
   },
   {
    "duration": 9,
    "start_time": "2022-05-17T17:41:14.765Z"
   },
   {
    "duration": 7,
    "start_time": "2022-05-17T17:41:14.777Z"
   },
   {
    "duration": 12,
    "start_time": "2022-05-17T17:41:14.787Z"
   },
   {
    "duration": 34,
    "start_time": "2022-05-17T17:41:14.811Z"
   },
   {
    "duration": 563,
    "start_time": "2022-05-17T17:41:14.847Z"
   },
   {
    "duration": 5,
    "start_time": "2022-05-17T17:41:15.412Z"
   },
   {
    "duration": 26,
    "start_time": "2022-05-17T17:41:15.420Z"
   },
   {
    "duration": 9,
    "start_time": "2022-05-17T17:41:15.448Z"
   },
   {
    "duration": 7,
    "start_time": "2022-05-17T17:41:15.461Z"
   },
   {
    "duration": 11,
    "start_time": "2022-05-17T17:41:15.470Z"
   },
   {
    "duration": 7,
    "start_time": "2022-05-17T17:41:15.484Z"
   },
   {
    "duration": 566,
    "start_time": "2022-05-17T17:41:15.494Z"
   },
   {
    "duration": 6,
    "start_time": "2022-05-17T17:42:26.403Z"
   },
   {
    "duration": 6,
    "start_time": "2022-05-17T17:43:00.638Z"
   },
   {
    "duration": 145,
    "start_time": "2022-05-17T17:43:31.789Z"
   },
   {
    "duration": 6,
    "start_time": "2022-05-17T17:43:34.569Z"
   },
   {
    "duration": 18,
    "start_time": "2022-05-17T17:43:35.853Z"
   },
   {
    "duration": 13,
    "start_time": "2022-05-17T17:51:31.641Z"
   },
   {
    "duration": 23,
    "start_time": "2022-05-17T17:52:40.007Z"
   },
   {
    "duration": 34,
    "start_time": "2022-05-17T17:53:10.771Z"
   },
   {
    "duration": 26,
    "start_time": "2022-05-17T17:56:36.152Z"
   },
   {
    "duration": 12,
    "start_time": "2022-05-17T17:56:51.537Z"
   },
   {
    "duration": 5,
    "start_time": "2022-05-17T17:57:02.359Z"
   },
   {
    "duration": 20,
    "start_time": "2022-05-17T17:57:09.652Z"
   },
   {
    "duration": 5,
    "start_time": "2022-05-17T17:58:40.074Z"
   },
   {
    "duration": 13,
    "start_time": "2022-05-17T17:58:42.886Z"
   },
   {
    "duration": 12,
    "start_time": "2022-05-17T18:00:00.526Z"
   },
   {
    "duration": 8,
    "start_time": "2022-05-17T18:00:52.699Z"
   },
   {
    "duration": 11,
    "start_time": "2022-05-17T18:03:10.398Z"
   },
   {
    "duration": 6,
    "start_time": "2022-05-17T18:03:24.471Z"
   },
   {
    "duration": 19,
    "start_time": "2022-05-17T18:03:39.368Z"
   },
   {
    "duration": 6,
    "start_time": "2022-05-17T18:05:26.491Z"
   },
   {
    "duration": 15,
    "start_time": "2022-05-17T18:13:55.937Z"
   },
   {
    "duration": 23,
    "start_time": "2022-05-17T18:15:21.763Z"
   },
   {
    "duration": 23,
    "start_time": "2022-05-17T18:15:48.610Z"
   },
   {
    "duration": 22,
    "start_time": "2022-05-17T18:15:56.034Z"
   },
   {
    "duration": 5,
    "start_time": "2022-05-17T18:15:56.213Z"
   },
   {
    "duration": 12,
    "start_time": "2022-05-17T18:15:56.375Z"
   },
   {
    "duration": 5,
    "start_time": "2022-05-17T18:15:56.567Z"
   },
   {
    "duration": 9,
    "start_time": "2022-05-17T18:15:56.902Z"
   },
   {
    "duration": 10,
    "start_time": "2022-05-17T18:15:57.081Z"
   },
   {
    "duration": 6,
    "start_time": "2022-05-17T18:15:57.265Z"
   },
   {
    "duration": 18,
    "start_time": "2022-05-17T18:15:57.910Z"
   },
   {
    "duration": 6,
    "start_time": "2022-05-17T18:16:07.994Z"
   },
   {
    "duration": 18,
    "start_time": "2022-05-17T18:16:08.537Z"
   },
   {
    "duration": 21,
    "start_time": "2022-05-17T18:16:09.073Z"
   },
   {
    "duration": 4,
    "start_time": "2022-05-17T18:16:09.250Z"
   },
   {
    "duration": 12,
    "start_time": "2022-05-17T18:16:09.421Z"
   },
   {
    "duration": 4,
    "start_time": "2022-05-17T18:16:09.614Z"
   },
   {
    "duration": 9,
    "start_time": "2022-05-17T18:16:09.991Z"
   },
   {
    "duration": 10,
    "start_time": "2022-05-17T18:16:10.508Z"
   },
   {
    "duration": 5,
    "start_time": "2022-05-17T18:16:11.169Z"
   },
   {
    "duration": 21,
    "start_time": "2022-05-17T18:16:11.904Z"
   },
   {
    "duration": 45,
    "start_time": "2022-05-17T18:16:19.932Z"
   },
   {
    "duration": 21,
    "start_time": "2022-05-17T18:17:32.240Z"
   },
   {
    "duration": 30,
    "start_time": "2022-05-17T18:17:59.916Z"
   },
   {
    "duration": 10,
    "start_time": "2022-05-17T18:29:06.158Z"
   },
   {
    "duration": 6,
    "start_time": "2022-05-17T18:29:10.893Z"
   },
   {
    "duration": 20,
    "start_time": "2022-05-17T18:31:50.325Z"
   },
   {
    "duration": 17,
    "start_time": "2022-05-17T18:31:55.942Z"
   },
   {
    "duration": 43,
    "start_time": "2022-05-17T18:33:51.219Z"
   },
   {
    "duration": 23,
    "start_time": "2022-05-17T18:34:55.429Z"
   },
   {
    "duration": 29,
    "start_time": "2022-05-17T18:35:02.306Z"
   },
   {
    "duration": 5,
    "start_time": "2022-05-17T18:35:59.765Z"
   },
   {
    "duration": 25,
    "start_time": "2022-05-17T18:36:12.363Z"
   },
   {
    "duration": 23,
    "start_time": "2022-05-17T18:36:30.191Z"
   },
   {
    "duration": 28,
    "start_time": "2022-05-17T18:36:33.693Z"
   },
   {
    "duration": 4,
    "start_time": "2022-05-17T18:39:06.817Z"
   },
   {
    "duration": 24,
    "start_time": "2022-05-17T18:39:08.918Z"
   },
   {
    "duration": 6,
    "start_time": "2022-05-17T18:42:09.460Z"
   },
   {
    "duration": 6,
    "start_time": "2022-05-17T18:43:26.377Z"
   },
   {
    "duration": 6,
    "start_time": "2022-05-17T18:43:41.565Z"
   },
   {
    "duration": 5,
    "start_time": "2022-05-17T18:44:07.240Z"
   },
   {
    "duration": 229,
    "start_time": "2022-05-17T18:45:06.261Z"
   },
   {
    "duration": 271,
    "start_time": "2022-05-17T18:45:24.707Z"
   },
   {
    "duration": 6,
    "start_time": "2022-05-17T18:45:46.353Z"
   },
   {
    "duration": 303,
    "start_time": "2022-05-17T18:46:08.129Z"
   },
   {
    "duration": 436,
    "start_time": "2022-05-17T18:46:30.894Z"
   },
   {
    "duration": 417,
    "start_time": "2022-05-17T18:46:40.030Z"
   },
   {
    "duration": 28,
    "start_time": "2022-05-17T18:47:01.559Z"
   },
   {
    "duration": 295,
    "start_time": "2022-05-17T18:47:37.614Z"
   },
   {
    "duration": 217,
    "start_time": "2022-05-17T18:48:00.279Z"
   },
   {
    "duration": 695,
    "start_time": "2022-05-17T18:49:33.771Z"
   },
   {
    "duration": 405,
    "start_time": "2022-05-17T18:51:18.906Z"
   },
   {
    "duration": 410,
    "start_time": "2022-05-17T18:51:33.162Z"
   },
   {
    "duration": 417,
    "start_time": "2022-05-17T18:51:48.719Z"
   },
   {
    "duration": 756,
    "start_time": "2022-05-17T18:52:06.721Z"
   },
   {
    "duration": 661,
    "start_time": "2022-05-17T18:52:16.149Z"
   },
   {
    "duration": 430,
    "start_time": "2022-05-17T18:52:37.161Z"
   },
   {
    "duration": 423,
    "start_time": "2022-05-17T18:55:12.948Z"
   },
   {
    "duration": 447,
    "start_time": "2022-05-17T18:55:24.348Z"
   },
   {
    "duration": 400,
    "start_time": "2022-05-17T18:55:56.384Z"
   },
   {
    "duration": 501,
    "start_time": "2022-05-17T18:56:01.632Z"
   },
   {
    "duration": 393,
    "start_time": "2022-05-17T18:58:06.213Z"
   },
   {
    "duration": 466,
    "start_time": "2022-05-17T18:58:12.981Z"
   },
   {
    "duration": 395,
    "start_time": "2022-05-17T18:58:30.640Z"
   },
   {
    "duration": 409,
    "start_time": "2022-05-17T18:58:39.980Z"
   },
   {
    "duration": 17,
    "start_time": "2022-05-17T18:59:19.481Z"
   },
   {
    "duration": 19,
    "start_time": "2022-05-17T19:08:14.659Z"
   },
   {
    "duration": 49,
    "start_time": "2022-05-17T19:10:48.242Z"
   },
   {
    "duration": 52,
    "start_time": "2022-05-17T19:11:06.890Z"
   },
   {
    "duration": 49,
    "start_time": "2022-05-17T19:18:42.387Z"
   },
   {
    "duration": 7,
    "start_time": "2022-05-17T19:18:54.353Z"
   },
   {
    "duration": 8,
    "start_time": "2022-05-17T19:19:06.859Z"
   },
   {
    "duration": 7,
    "start_time": "2022-05-17T19:19:12.991Z"
   },
   {
    "duration": 16,
    "start_time": "2022-05-17T19:19:13.703Z"
   },
   {
    "duration": 14,
    "start_time": "2022-05-17T19:19:28.350Z"
   },
   {
    "duration": 9,
    "start_time": "2022-05-17T19:19:56.305Z"
   },
   {
    "duration": 5,
    "start_time": "2022-05-17T19:20:05.847Z"
   },
   {
    "duration": 253,
    "start_time": "2022-05-17T19:20:53.716Z"
   },
   {
    "duration": 591,
    "start_time": "2022-05-17T19:21:01.312Z"
   },
   {
    "duration": 14,
    "start_time": "2022-05-17T19:25:12.072Z"
   },
   {
    "duration": 5,
    "start_time": "2022-05-17T19:25:13.757Z"
   },
   {
    "duration": 6,
    "start_time": "2022-05-17T19:25:14.822Z"
   },
   {
    "duration": 15,
    "start_time": "2022-05-17T19:25:15.672Z"
   },
   {
    "duration": 12,
    "start_time": "2022-05-17T19:26:10.927Z"
   },
   {
    "duration": 5,
    "start_time": "2022-05-17T19:26:11.529Z"
   },
   {
    "duration": 6,
    "start_time": "2022-05-17T19:26:20.500Z"
   },
   {
    "duration": 16,
    "start_time": "2022-05-17T19:26:24.936Z"
   },
   {
    "duration": 13,
    "start_time": "2022-05-17T19:26:41.070Z"
   },
   {
    "duration": 11,
    "start_time": "2022-05-17T19:26:41.794Z"
   },
   {
    "duration": 676,
    "start_time": "2022-05-17T19:26:51.660Z"
   },
   {
    "duration": 1616,
    "start_time": "2022-05-19T17:17:22.501Z"
   },
   {
    "duration": 201,
    "start_time": "2022-05-19T17:17:24.119Z"
   },
   {
    "duration": 4,
    "start_time": "2022-05-19T17:17:24.322Z"
   },
   {
    "duration": 17,
    "start_time": "2022-05-19T17:17:24.328Z"
   },
   {
    "duration": 8,
    "start_time": "2022-05-19T17:17:24.347Z"
   },
   {
    "duration": 17,
    "start_time": "2022-05-19T17:17:24.356Z"
   },
   {
    "duration": 29,
    "start_time": "2022-05-19T17:17:24.375Z"
   },
   {
    "duration": 4,
    "start_time": "2022-05-19T17:17:24.405Z"
   },
   {
    "duration": 7,
    "start_time": "2022-05-19T17:17:24.410Z"
   },
   {
    "duration": 9,
    "start_time": "2022-05-19T17:17:24.419Z"
   },
   {
    "duration": 4,
    "start_time": "2022-05-19T17:17:24.429Z"
   },
   {
    "duration": 14,
    "start_time": "2022-05-19T17:17:24.434Z"
   },
   {
    "duration": 27,
    "start_time": "2022-05-19T17:17:24.450Z"
   },
   {
    "duration": 12,
    "start_time": "2022-05-19T17:17:24.479Z"
   },
   {
    "duration": 21,
    "start_time": "2022-05-19T17:17:24.493Z"
   },
   {
    "duration": 7,
    "start_time": "2022-05-19T17:17:24.516Z"
   },
   {
    "duration": 13,
    "start_time": "2022-05-19T17:17:24.524Z"
   },
   {
    "duration": 6,
    "start_time": "2022-05-19T17:17:24.538Z"
   },
   {
    "duration": 9,
    "start_time": "2022-05-19T17:17:24.545Z"
   },
   {
    "duration": 21,
    "start_time": "2022-05-19T17:17:24.555Z"
   },
   {
    "duration": 5,
    "start_time": "2022-05-19T17:17:24.577Z"
   },
   {
    "duration": 6,
    "start_time": "2022-05-19T17:17:24.583Z"
   },
   {
    "duration": 17,
    "start_time": "2022-05-19T17:17:24.590Z"
   },
   {
    "duration": 5,
    "start_time": "2022-05-19T17:17:24.608Z"
   },
   {
    "duration": 11,
    "start_time": "2022-05-19T17:17:24.615Z"
   },
   {
    "duration": 8,
    "start_time": "2022-05-19T17:17:24.628Z"
   },
   {
    "duration": 6,
    "start_time": "2022-05-19T17:17:24.637Z"
   },
   {
    "duration": 7,
    "start_time": "2022-05-19T17:17:24.674Z"
   },
   {
    "duration": 6,
    "start_time": "2022-05-19T17:17:24.682Z"
   },
   {
    "duration": 7,
    "start_time": "2022-05-19T17:17:24.689Z"
   },
   {
    "duration": 13,
    "start_time": "2022-05-19T17:17:24.698Z"
   },
   {
    "duration": 7,
    "start_time": "2022-05-19T17:17:24.713Z"
   },
   {
    "duration": 4,
    "start_time": "2022-05-19T17:17:24.722Z"
   },
   {
    "duration": 6,
    "start_time": "2022-05-19T17:17:24.728Z"
   },
   {
    "duration": 5,
    "start_time": "2022-05-19T17:17:24.735Z"
   },
   {
    "duration": 3,
    "start_time": "2022-05-19T17:17:24.775Z"
   },
   {
    "duration": 9,
    "start_time": "2022-05-19T17:17:24.779Z"
   },
   {
    "duration": 5,
    "start_time": "2022-05-19T17:17:24.789Z"
   },
   {
    "duration": 5,
    "start_time": "2022-05-19T17:17:24.795Z"
   },
   {
    "duration": 6,
    "start_time": "2022-05-19T17:17:24.802Z"
   },
   {
    "duration": 13,
    "start_time": "2022-05-19T17:17:24.810Z"
   },
   {
    "duration": 15,
    "start_time": "2022-05-19T17:17:24.825Z"
   },
   {
    "duration": 7,
    "start_time": "2022-05-19T17:17:24.875Z"
   },
   {
    "duration": 7,
    "start_time": "2022-05-19T17:17:24.884Z"
   },
   {
    "duration": 5,
    "start_time": "2022-05-19T17:17:24.893Z"
   },
   {
    "duration": 23,
    "start_time": "2022-05-19T17:17:24.900Z"
   },
   {
    "duration": 15,
    "start_time": "2022-05-19T17:17:24.925Z"
   },
   {
    "duration": 39,
    "start_time": "2022-05-19T17:17:24.942Z"
   },
   {
    "duration": 8,
    "start_time": "2022-05-19T17:17:24.983Z"
   },
   {
    "duration": 8,
    "start_time": "2022-05-19T17:17:24.992Z"
   },
   {
    "duration": 11,
    "start_time": "2022-05-19T17:17:25.001Z"
   },
   {
    "duration": 8,
    "start_time": "2022-05-19T17:17:25.014Z"
   },
   {
    "duration": 5,
    "start_time": "2022-05-19T17:17:25.024Z"
   },
   {
    "duration": 45,
    "start_time": "2022-05-19T17:17:25.030Z"
   },
   {
    "duration": 5,
    "start_time": "2022-05-19T17:17:25.077Z"
   },
   {
    "duration": 426,
    "start_time": "2022-05-19T17:17:25.084Z"
   },
   {
    "duration": 8,
    "start_time": "2022-05-19T17:17:25.511Z"
   },
   {
    "duration": 4,
    "start_time": "2022-05-19T17:17:25.521Z"
   },
   {
    "duration": 7,
    "start_time": "2022-05-19T17:17:25.526Z"
   },
   {
    "duration": 12,
    "start_time": "2022-05-19T17:17:25.535Z"
   },
   {
    "duration": 168,
    "start_time": "2022-05-19T17:17:25.548Z"
   },
   {
    "duration": 8,
    "start_time": "2022-05-19T17:17:25.718Z"
   },
   {
    "duration": 446,
    "start_time": "2022-05-19T17:17:25.727Z"
   },
   {
    "duration": 3,
    "start_time": "2022-05-19T17:17:26.175Z"
   },
   {
    "duration": 7,
    "start_time": "2022-05-19T17:17:26.180Z"
   },
   {
    "duration": 1076,
    "start_time": "2022-05-19T17:17:26.189Z"
   },
   {
    "duration": 9,
    "start_time": "2022-05-19T17:17:27.267Z"
   },
   {
    "duration": 9,
    "start_time": "2022-05-19T17:17:27.278Z"
   },
   {
    "duration": 9,
    "start_time": "2022-05-19T17:17:27.288Z"
   },
   {
    "duration": 7,
    "start_time": "2022-05-19T17:17:27.298Z"
   },
   {
    "duration": 7,
    "start_time": "2022-05-19T17:17:27.307Z"
   },
   {
    "duration": 6,
    "start_time": "2022-05-19T17:17:27.315Z"
   },
   {
    "duration": 380,
    "start_time": "2022-05-19T17:17:27.323Z"
   },
   {
    "duration": 4,
    "start_time": "2022-05-19T17:17:27.704Z"
   },
   {
    "duration": 9,
    "start_time": "2022-05-19T17:17:27.709Z"
   },
   {
    "duration": 5,
    "start_time": "2022-05-19T17:17:27.720Z"
   },
   {
    "duration": 6,
    "start_time": "2022-05-19T17:17:27.727Z"
   },
   {
    "duration": 5,
    "start_time": "2022-05-19T17:17:27.735Z"
   },
   {
    "duration": 7,
    "start_time": "2022-05-19T17:17:27.741Z"
   },
   {
    "duration": 5,
    "start_time": "2022-05-19T17:17:27.750Z"
   },
   {
    "duration": 21,
    "start_time": "2022-05-19T17:17:27.756Z"
   },
   {
    "duration": 4,
    "start_time": "2022-05-19T17:17:27.784Z"
   },
   {
    "duration": 373,
    "start_time": "2022-05-19T17:17:27.790Z"
   },
   {
    "duration": 3,
    "start_time": "2022-05-19T17:17:28.164Z"
   },
   {
    "duration": 10,
    "start_time": "2022-05-19T17:17:28.175Z"
   },
   {
    "duration": 10,
    "start_time": "2022-05-19T17:17:28.186Z"
   },
   {
    "duration": 6,
    "start_time": "2022-05-19T17:17:28.197Z"
   },
   {
    "duration": 10,
    "start_time": "2022-05-19T17:17:28.205Z"
   },
   {
    "duration": 6,
    "start_time": "2022-05-19T17:17:28.217Z"
   },
   {
    "duration": 347,
    "start_time": "2022-05-19T17:17:28.224Z"
   },
   {
    "duration": 4,
    "start_time": "2022-05-19T17:17:28.575Z"
   },
   {
    "duration": 14,
    "start_time": "2022-05-19T17:17:28.581Z"
   },
   {
    "duration": 14,
    "start_time": "2022-05-19T17:17:28.596Z"
   },
   {
    "duration": 3,
    "start_time": "2022-05-19T17:17:28.611Z"
   },
   {
    "duration": 12,
    "start_time": "2022-05-19T17:17:28.616Z"
   },
   {
    "duration": 5,
    "start_time": "2022-05-19T17:17:28.629Z"
   },
   {
    "duration": 7,
    "start_time": "2022-05-19T17:17:28.636Z"
   },
   {
    "duration": 30,
    "start_time": "2022-05-19T17:17:28.645Z"
   },
   {
    "duration": 7,
    "start_time": "2022-05-19T17:17:28.677Z"
   },
   {
    "duration": 14,
    "start_time": "2022-05-19T17:17:28.686Z"
   },
   {
    "duration": 6,
    "start_time": "2022-05-19T17:17:28.701Z"
   },
   {
    "duration": 128,
    "start_time": "2022-05-19T17:17:28.708Z"
   },
   {
    "duration": 3,
    "start_time": "2022-05-19T17:17:28.838Z"
   },
   {
    "duration": 5,
    "start_time": "2022-05-19T17:17:28.843Z"
   },
   {
    "duration": 5,
    "start_time": "2022-05-19T17:17:28.850Z"
   },
   {
    "duration": 18,
    "start_time": "2022-05-19T17:17:28.857Z"
   },
   {
    "duration": 259,
    "start_time": "2022-05-19T17:17:28.877Z"
   },
   {
    "duration": 272,
    "start_time": "2022-05-19T17:17:29.138Z"
   },
   {
    "duration": 38,
    "start_time": "2022-05-19T17:17:29.412Z"
   },
   {
    "duration": 5,
    "start_time": "2022-05-19T17:17:29.451Z"
   },
   {
    "duration": 15,
    "start_time": "2022-05-19T17:17:29.475Z"
   },
   {
    "duration": 8,
    "start_time": "2022-05-19T17:17:29.491Z"
   },
   {
    "duration": 3,
    "start_time": "2022-05-19T17:17:29.501Z"
   },
   {
    "duration": 427,
    "start_time": "2022-05-19T17:17:29.506Z"
   },
   {
    "duration": 11,
    "start_time": "2022-05-19T17:17:29.935Z"
   },
   {
    "duration": 7,
    "start_time": "2022-05-19T17:17:29.947Z"
   },
   {
    "duration": 19,
    "start_time": "2022-05-19T17:17:29.956Z"
   },
   {
    "duration": 13,
    "start_time": "2022-05-19T17:17:29.977Z"
   },
   {
    "duration": 8,
    "start_time": "2022-05-19T17:17:29.991Z"
   },
   {
    "duration": 6,
    "start_time": "2022-05-19T17:17:30.001Z"
   },
   {
    "duration": 19,
    "start_time": "2022-05-19T17:17:30.009Z"
   },
   {
    "duration": 15,
    "start_time": "2022-05-19T17:17:30.030Z"
   },
   {
    "duration": 18,
    "start_time": "2022-05-19T17:17:30.047Z"
   },
   {
    "duration": 12,
    "start_time": "2022-05-19T17:17:30.066Z"
   },
   {
    "duration": 415,
    "start_time": "2022-05-19T17:17:30.080Z"
   },
   {
    "duration": 119,
    "start_time": "2022-05-19T17:17:30.497Z"
   },
   {
    "duration": 0,
    "start_time": "2022-05-19T17:17:30.617Z"
   },
   {
    "duration": 8,
    "start_time": "2022-05-19T17:18:21.450Z"
   },
   {
    "duration": 409,
    "start_time": "2022-05-19T17:18:23.212Z"
   },
   {
    "duration": 12,
    "start_time": "2022-05-19T17:18:28.635Z"
   },
   {
    "duration": 13,
    "start_time": "2022-05-19T17:18:42.378Z"
   },
   {
    "duration": 10,
    "start_time": "2022-05-19T17:19:03.131Z"
   },
   {
    "duration": 9,
    "start_time": "2022-05-19T17:22:45.500Z"
   },
   {
    "duration": 12,
    "start_time": "2022-05-19T17:27:43.450Z"
   },
   {
    "duration": 9,
    "start_time": "2022-05-19T17:29:08.635Z"
   },
   {
    "duration": 22,
    "start_time": "2022-05-19T17:29:42.275Z"
   },
   {
    "duration": 15,
    "start_time": "2022-05-19T17:31:34.665Z"
   },
   {
    "duration": 14,
    "start_time": "2022-05-19T17:36:32.601Z"
   },
   {
    "duration": 27,
    "start_time": "2022-05-19T17:38:11.936Z"
   },
   {
    "duration": 15,
    "start_time": "2022-05-19T17:38:45.341Z"
   },
   {
    "duration": 117,
    "start_time": "2022-05-19T17:40:35.286Z"
   },
   {
    "duration": 9,
    "start_time": "2022-05-19T17:42:16.079Z"
   },
   {
    "duration": 4,
    "start_time": "2022-05-19T17:42:27.025Z"
   },
   {
    "duration": 7,
    "start_time": "2022-05-19T17:43:07.462Z"
   },
   {
    "duration": 8,
    "start_time": "2022-05-19T17:43:09.996Z"
   },
   {
    "duration": 13,
    "start_time": "2022-05-19T17:43:16.689Z"
   },
   {
    "duration": 40,
    "start_time": "2022-05-19T17:57:17.687Z"
   },
   {
    "duration": 12,
    "start_time": "2022-05-19T17:58:21.318Z"
   },
   {
    "duration": 3,
    "start_time": "2022-05-19T18:04:38.375Z"
   },
   {
    "duration": 12,
    "start_time": "2022-05-19T18:05:15.783Z"
   },
   {
    "duration": 7,
    "start_time": "2022-05-19T18:05:20.857Z"
   },
   {
    "duration": 12,
    "start_time": "2022-05-19T18:07:01.880Z"
   },
   {
    "duration": 16,
    "start_time": "2022-05-19T18:07:02.759Z"
   },
   {
    "duration": 11,
    "start_time": "2022-05-19T18:07:07.715Z"
   },
   {
    "duration": 6,
    "start_time": "2022-05-19T18:08:57.354Z"
   },
   {
    "duration": 3,
    "start_time": "2022-05-19T18:09:06.648Z"
   },
   {
    "duration": 17,
    "start_time": "2022-05-19T18:09:14.068Z"
   },
   {
    "duration": 11,
    "start_time": "2022-05-19T18:10:28.361Z"
   },
   {
    "duration": 6,
    "start_time": "2022-05-19T18:10:36.027Z"
   },
   {
    "duration": 5,
    "start_time": "2022-05-19T18:11:31.252Z"
   },
   {
    "duration": 3,
    "start_time": "2022-05-19T18:11:42.130Z"
   },
   {
    "duration": 10,
    "start_time": "2022-05-19T18:11:42.951Z"
   },
   {
    "duration": 5,
    "start_time": "2022-05-19T18:11:51.159Z"
   },
   {
    "duration": 6,
    "start_time": "2022-05-19T18:11:51.873Z"
   },
   {
    "duration": 9,
    "start_time": "2022-05-19T18:14:56.348Z"
   },
   {
    "duration": 10,
    "start_time": "2022-05-19T18:14:56.514Z"
   },
   {
    "duration": 14,
    "start_time": "2022-05-19T18:18:15.592Z"
   },
   {
    "duration": 15,
    "start_time": "2022-05-19T18:18:30.588Z"
   },
   {
    "duration": 9,
    "start_time": "2022-05-19T18:19:28.769Z"
   },
   {
    "duration": 6,
    "start_time": "2022-05-19T18:19:57.508Z"
   },
   {
    "duration": 5,
    "start_time": "2022-05-19T18:20:00.453Z"
   },
   {
    "duration": 3,
    "start_time": "2022-05-19T18:20:14.858Z"
   },
   {
    "duration": 53,
    "start_time": "2022-05-19T18:20:14.863Z"
   },
   {
    "duration": 4,
    "start_time": "2022-05-19T18:20:14.918Z"
   },
   {
    "duration": 18,
    "start_time": "2022-05-19T18:20:14.924Z"
   },
   {
    "duration": 5,
    "start_time": "2022-05-19T18:20:14.944Z"
   },
   {
    "duration": 25,
    "start_time": "2022-05-19T18:20:14.951Z"
   },
   {
    "duration": 39,
    "start_time": "2022-05-19T18:20:14.977Z"
   },
   {
    "duration": 6,
    "start_time": "2022-05-19T18:20:15.018Z"
   },
   {
    "duration": 10,
    "start_time": "2022-05-19T18:20:15.026Z"
   },
   {
    "duration": 41,
    "start_time": "2022-05-19T18:20:15.038Z"
   },
   {
    "duration": 4,
    "start_time": "2022-05-19T18:20:15.082Z"
   },
   {
    "duration": 11,
    "start_time": "2022-05-19T18:20:15.088Z"
   },
   {
    "duration": 8,
    "start_time": "2022-05-19T18:20:15.101Z"
   },
   {
    "duration": 9,
    "start_time": "2022-05-19T18:20:15.112Z"
   },
   {
    "duration": 7,
    "start_time": "2022-05-19T18:20:15.123Z"
   },
   {
    "duration": 17,
    "start_time": "2022-05-19T18:20:15.132Z"
   },
   {
    "duration": 48,
    "start_time": "2022-05-19T18:20:15.150Z"
   },
   {
    "duration": 12,
    "start_time": "2022-05-19T18:20:15.200Z"
   },
   {
    "duration": 9,
    "start_time": "2022-05-19T18:20:15.213Z"
   },
   {
    "duration": 9,
    "start_time": "2022-05-19T18:20:15.223Z"
   },
   {
    "duration": 11,
    "start_time": "2022-05-19T18:20:15.233Z"
   },
   {
    "duration": 33,
    "start_time": "2022-05-19T18:20:15.245Z"
   },
   {
    "duration": 18,
    "start_time": "2022-05-19T18:20:15.279Z"
   },
   {
    "duration": 10,
    "start_time": "2022-05-19T18:20:15.298Z"
   },
   {
    "duration": 14,
    "start_time": "2022-05-19T18:20:15.310Z"
   },
   {
    "duration": 12,
    "start_time": "2022-05-19T18:20:15.326Z"
   },
   {
    "duration": 38,
    "start_time": "2022-05-19T18:20:15.339Z"
   },
   {
    "duration": 6,
    "start_time": "2022-05-19T18:20:15.379Z"
   },
   {
    "duration": 9,
    "start_time": "2022-05-19T18:20:15.389Z"
   },
   {
    "duration": 8,
    "start_time": "2022-05-19T18:20:15.400Z"
   },
   {
    "duration": 20,
    "start_time": "2022-05-19T18:20:15.410Z"
   },
   {
    "duration": 9,
    "start_time": "2022-05-19T18:20:15.432Z"
   },
   {
    "duration": 32,
    "start_time": "2022-05-19T18:20:15.443Z"
   },
   {
    "duration": 9,
    "start_time": "2022-05-19T18:20:15.477Z"
   },
   {
    "duration": 7,
    "start_time": "2022-05-19T18:20:15.487Z"
   },
   {
    "duration": 5,
    "start_time": "2022-05-19T18:20:15.496Z"
   },
   {
    "duration": 11,
    "start_time": "2022-05-19T18:20:15.503Z"
   },
   {
    "duration": 7,
    "start_time": "2022-05-19T18:20:15.516Z"
   },
   {
    "duration": 6,
    "start_time": "2022-05-19T18:20:15.525Z"
   },
   {
    "duration": 9,
    "start_time": "2022-05-19T18:20:15.533Z"
   },
   {
    "duration": 40,
    "start_time": "2022-05-19T18:20:15.544Z"
   },
   {
    "duration": 15,
    "start_time": "2022-05-19T18:20:15.587Z"
   },
   {
    "duration": 12,
    "start_time": "2022-05-19T18:20:15.604Z"
   },
   {
    "duration": 10,
    "start_time": "2022-05-19T18:20:15.617Z"
   },
   {
    "duration": 7,
    "start_time": "2022-05-19T18:20:15.628Z"
   },
   {
    "duration": 46,
    "start_time": "2022-05-19T18:20:15.636Z"
   },
   {
    "duration": 21,
    "start_time": "2022-05-19T18:20:15.684Z"
   },
   {
    "duration": 16,
    "start_time": "2022-05-19T18:20:15.707Z"
   },
   {
    "duration": 10,
    "start_time": "2022-05-19T18:20:15.725Z"
   },
   {
    "duration": 38,
    "start_time": "2022-05-19T18:20:15.737Z"
   },
   {
    "duration": 10,
    "start_time": "2022-05-19T18:20:15.776Z"
   },
   {
    "duration": 12,
    "start_time": "2022-05-19T18:20:15.787Z"
   },
   {
    "duration": 6,
    "start_time": "2022-05-19T18:20:15.801Z"
   },
   {
    "duration": 18,
    "start_time": "2022-05-19T18:20:15.809Z"
   },
   {
    "duration": 7,
    "start_time": "2022-05-19T18:20:15.828Z"
   },
   {
    "duration": 447,
    "start_time": "2022-05-19T18:20:15.837Z"
   },
   {
    "duration": 9,
    "start_time": "2022-05-19T18:20:16.286Z"
   },
   {
    "duration": 5,
    "start_time": "2022-05-19T18:20:16.297Z"
   },
   {
    "duration": 9,
    "start_time": "2022-05-19T18:20:16.303Z"
   },
   {
    "duration": 16,
    "start_time": "2022-05-19T18:20:16.314Z"
   },
   {
    "duration": 208,
    "start_time": "2022-05-19T18:20:16.332Z"
   },
   {
    "duration": 12,
    "start_time": "2022-05-19T18:20:16.541Z"
   },
   {
    "duration": 459,
    "start_time": "2022-05-19T18:20:16.555Z"
   },
   {
    "duration": 5,
    "start_time": "2022-05-19T18:20:17.016Z"
   },
   {
    "duration": 8,
    "start_time": "2022-05-19T18:20:17.022Z"
   },
   {
    "duration": 1156,
    "start_time": "2022-05-19T18:20:17.032Z"
   },
   {
    "duration": 6,
    "start_time": "2022-05-19T18:20:18.190Z"
   },
   {
    "duration": 18,
    "start_time": "2022-05-19T18:20:18.198Z"
   },
   {
    "duration": 10,
    "start_time": "2022-05-19T18:20:18.218Z"
   },
   {
    "duration": 11,
    "start_time": "2022-05-19T18:20:18.230Z"
   },
   {
    "duration": 10,
    "start_time": "2022-05-19T18:20:18.243Z"
   },
   {
    "duration": 9,
    "start_time": "2022-05-19T18:20:18.256Z"
   },
   {
    "duration": 366,
    "start_time": "2022-05-19T18:20:18.267Z"
   },
   {
    "duration": 3,
    "start_time": "2022-05-19T18:20:18.635Z"
   },
   {
    "duration": 7,
    "start_time": "2022-05-19T18:20:18.640Z"
   },
   {
    "duration": 6,
    "start_time": "2022-05-19T18:20:18.649Z"
   },
   {
    "duration": 4,
    "start_time": "2022-05-19T18:20:18.676Z"
   },
   {
    "duration": 9,
    "start_time": "2022-05-19T18:20:18.682Z"
   },
   {
    "duration": 7,
    "start_time": "2022-05-19T18:20:18.693Z"
   },
   {
    "duration": 10,
    "start_time": "2022-05-19T18:20:18.701Z"
   },
   {
    "duration": 13,
    "start_time": "2022-05-19T18:20:18.713Z"
   },
   {
    "duration": 8,
    "start_time": "2022-05-19T18:20:18.728Z"
   },
   {
    "duration": 398,
    "start_time": "2022-05-19T18:20:18.738Z"
   },
   {
    "duration": 4,
    "start_time": "2022-05-19T18:20:19.137Z"
   },
   {
    "duration": 9,
    "start_time": "2022-05-19T18:20:19.143Z"
   },
   {
    "duration": 6,
    "start_time": "2022-05-19T18:20:19.153Z"
   },
   {
    "duration": 15,
    "start_time": "2022-05-19T18:20:19.160Z"
   },
   {
    "duration": 4,
    "start_time": "2022-05-19T18:20:19.177Z"
   },
   {
    "duration": 11,
    "start_time": "2022-05-19T18:20:19.182Z"
   },
   {
    "duration": 373,
    "start_time": "2022-05-19T18:20:19.195Z"
   },
   {
    "duration": 7,
    "start_time": "2022-05-19T18:20:19.570Z"
   },
   {
    "duration": 16,
    "start_time": "2022-05-19T18:20:19.578Z"
   },
   {
    "duration": 19,
    "start_time": "2022-05-19T18:20:19.595Z"
   },
   {
    "duration": 3,
    "start_time": "2022-05-19T18:20:19.616Z"
   },
   {
    "duration": 22,
    "start_time": "2022-05-19T18:20:19.620Z"
   },
   {
    "duration": 17,
    "start_time": "2022-05-19T18:20:19.644Z"
   },
   {
    "duration": 12,
    "start_time": "2022-05-19T18:20:19.663Z"
   },
   {
    "duration": 9,
    "start_time": "2022-05-19T18:20:19.677Z"
   },
   {
    "duration": 4,
    "start_time": "2022-05-19T18:20:19.688Z"
   },
   {
    "duration": 17,
    "start_time": "2022-05-19T18:20:19.694Z"
   },
   {
    "duration": 8,
    "start_time": "2022-05-19T18:20:19.712Z"
   },
   {
    "duration": 21,
    "start_time": "2022-05-19T18:20:19.721Z"
   },
   {
    "duration": 3,
    "start_time": "2022-05-19T18:20:19.743Z"
   },
   {
    "duration": 29,
    "start_time": "2022-05-19T18:20:19.747Z"
   },
   {
    "duration": 6,
    "start_time": "2022-05-19T18:20:19.778Z"
   },
   {
    "duration": 10,
    "start_time": "2022-05-19T18:20:19.786Z"
   },
   {
    "duration": 287,
    "start_time": "2022-05-19T18:20:19.797Z"
   },
   {
    "duration": 378,
    "start_time": "2022-05-19T18:20:20.086Z"
   },
   {
    "duration": 52,
    "start_time": "2022-05-19T18:20:20.466Z"
   },
   {
    "duration": 6,
    "start_time": "2022-05-19T18:20:20.520Z"
   },
   {
    "duration": 19,
    "start_time": "2022-05-19T18:20:20.527Z"
   },
   {
    "duration": 10,
    "start_time": "2022-05-19T18:20:20.548Z"
   },
   {
    "duration": 4,
    "start_time": "2022-05-19T18:20:20.575Z"
   },
   {
    "duration": 410,
    "start_time": "2022-05-19T18:20:20.581Z"
   },
   {
    "duration": 8,
    "start_time": "2022-05-19T18:20:20.993Z"
   },
   {
    "duration": 9,
    "start_time": "2022-05-19T18:20:21.003Z"
   },
   {
    "duration": 13,
    "start_time": "2022-05-19T18:20:21.013Z"
   },
   {
    "duration": 16,
    "start_time": "2022-05-19T18:20:21.028Z"
   },
   {
    "duration": 12,
    "start_time": "2022-05-19T18:20:21.046Z"
   },
   {
    "duration": 4,
    "start_time": "2022-05-19T18:20:21.059Z"
   },
   {
    "duration": 4,
    "start_time": "2022-05-19T18:20:21.075Z"
   },
   {
    "duration": 17,
    "start_time": "2022-05-19T18:20:21.080Z"
   },
   {
    "duration": 12,
    "start_time": "2022-05-19T18:20:21.099Z"
   },
   {
    "duration": 14,
    "start_time": "2022-05-19T18:20:21.113Z"
   },
   {
    "duration": 410,
    "start_time": "2022-05-19T18:20:21.128Z"
   },
   {
    "duration": 14,
    "start_time": "2022-05-19T18:20:21.540Z"
   },
   {
    "duration": 25,
    "start_time": "2022-05-19T18:20:21.555Z"
   },
   {
    "duration": 24,
    "start_time": "2022-05-19T18:20:21.581Z"
   },
   {
    "duration": 15,
    "start_time": "2022-05-19T18:20:21.607Z"
   },
   {
    "duration": 12,
    "start_time": "2022-05-19T18:20:21.624Z"
   },
   {
    "duration": 13,
    "start_time": "2022-05-19T18:20:21.638Z"
   },
   {
    "duration": 35,
    "start_time": "2022-05-19T18:20:21.653Z"
   },
   {
    "duration": 17,
    "start_time": "2022-05-19T18:20:21.690Z"
   },
   {
    "duration": 13,
    "start_time": "2022-05-19T18:20:21.709Z"
   },
   {
    "duration": 13,
    "start_time": "2022-05-19T18:20:21.724Z"
   },
   {
    "duration": 15,
    "start_time": "2022-05-19T18:20:21.739Z"
   },
   {
    "duration": 8,
    "start_time": "2022-05-19T18:20:21.756Z"
   },
   {
    "duration": 11,
    "start_time": "2022-05-19T18:20:21.766Z"
   },
   {
    "duration": 10,
    "start_time": "2022-05-19T18:20:21.779Z"
   },
   {
    "duration": 15,
    "start_time": "2022-05-19T18:20:21.790Z"
   },
   {
    "duration": 10,
    "start_time": "2022-05-19T18:20:21.806Z"
   },
   {
    "duration": 12,
    "start_time": "2022-05-19T18:20:21.818Z"
   },
   {
    "duration": 18,
    "start_time": "2022-05-19T18:20:37.950Z"
   },
   {
    "duration": 14,
    "start_time": "2022-05-19T18:20:49.742Z"
   },
   {
    "duration": 4,
    "start_time": "2022-05-19T18:22:03.351Z"
   },
   {
    "duration": 68,
    "start_time": "2022-05-19T18:22:03.359Z"
   },
   {
    "duration": 4,
    "start_time": "2022-05-19T18:22:03.429Z"
   },
   {
    "duration": 32,
    "start_time": "2022-05-19T18:22:03.435Z"
   },
   {
    "duration": 5,
    "start_time": "2022-05-19T18:22:03.470Z"
   },
   {
    "duration": 15,
    "start_time": "2022-05-19T18:22:03.476Z"
   },
   {
    "duration": 30,
    "start_time": "2022-05-19T18:22:03.492Z"
   },
   {
    "duration": 4,
    "start_time": "2022-05-19T18:22:03.523Z"
   },
   {
    "duration": 11,
    "start_time": "2022-05-19T18:22:03.529Z"
   },
   {
    "duration": 8,
    "start_time": "2022-05-19T18:22:03.541Z"
   },
   {
    "duration": 25,
    "start_time": "2022-05-19T18:22:03.552Z"
   },
   {
    "duration": 15,
    "start_time": "2022-05-19T18:22:03.578Z"
   },
   {
    "duration": 14,
    "start_time": "2022-05-19T18:22:03.595Z"
   },
   {
    "duration": 8,
    "start_time": "2022-05-19T18:22:03.610Z"
   },
   {
    "duration": 7,
    "start_time": "2022-05-19T18:22:03.619Z"
   },
   {
    "duration": 8,
    "start_time": "2022-05-19T18:22:03.628Z"
   },
   {
    "duration": 42,
    "start_time": "2022-05-19T18:22:03.638Z"
   },
   {
    "duration": 8,
    "start_time": "2022-05-19T18:22:03.682Z"
   },
   {
    "duration": 11,
    "start_time": "2022-05-19T18:22:03.692Z"
   },
   {
    "duration": 12,
    "start_time": "2022-05-19T18:22:03.705Z"
   },
   {
    "duration": 7,
    "start_time": "2022-05-19T18:22:03.718Z"
   },
   {
    "duration": 13,
    "start_time": "2022-05-19T18:22:03.726Z"
   },
   {
    "duration": 60,
    "start_time": "2022-05-19T18:22:03.741Z"
   },
   {
    "duration": 7,
    "start_time": "2022-05-19T18:22:03.803Z"
   },
   {
    "duration": 15,
    "start_time": "2022-05-19T18:22:03.812Z"
   },
   {
    "duration": 36,
    "start_time": "2022-05-19T18:22:03.832Z"
   },
   {
    "duration": 9,
    "start_time": "2022-05-19T18:22:03.869Z"
   },
   {
    "duration": 10,
    "start_time": "2022-05-19T18:22:03.880Z"
   },
   {
    "duration": 9,
    "start_time": "2022-05-19T18:22:03.892Z"
   },
   {
    "duration": 8,
    "start_time": "2022-05-19T18:22:03.902Z"
   },
   {
    "duration": 22,
    "start_time": "2022-05-19T18:22:03.912Z"
   },
   {
    "duration": 7,
    "start_time": "2022-05-19T18:22:03.936Z"
   },
   {
    "duration": 8,
    "start_time": "2022-05-19T18:22:03.945Z"
   },
   {
    "duration": 24,
    "start_time": "2022-05-19T18:22:03.955Z"
   },
   {
    "duration": 6,
    "start_time": "2022-05-19T18:22:03.981Z"
   },
   {
    "duration": 7,
    "start_time": "2022-05-19T18:22:03.988Z"
   },
   {
    "duration": 13,
    "start_time": "2022-05-19T18:22:03.997Z"
   },
   {
    "duration": 8,
    "start_time": "2022-05-19T18:22:04.011Z"
   },
   {
    "duration": 11,
    "start_time": "2022-05-19T18:22:04.021Z"
   },
   {
    "duration": 9,
    "start_time": "2022-05-19T18:22:04.033Z"
   },
   {
    "duration": 12,
    "start_time": "2022-05-19T18:22:04.044Z"
   },
   {
    "duration": 13,
    "start_time": "2022-05-19T18:22:04.075Z"
   },
   {
    "duration": 6,
    "start_time": "2022-05-19T18:22:04.090Z"
   },
   {
    "duration": 6,
    "start_time": "2022-05-19T18:22:04.097Z"
   },
   {
    "duration": 4,
    "start_time": "2022-05-19T18:22:04.105Z"
   },
   {
    "duration": 15,
    "start_time": "2022-05-19T18:22:04.111Z"
   },
   {
    "duration": 12,
    "start_time": "2022-05-19T18:22:04.128Z"
   },
   {
    "duration": 14,
    "start_time": "2022-05-19T18:22:04.175Z"
   },
   {
    "duration": 9,
    "start_time": "2022-05-19T18:22:04.191Z"
   },
   {
    "duration": 8,
    "start_time": "2022-05-19T18:22:04.201Z"
   },
   {
    "duration": 15,
    "start_time": "2022-05-19T18:22:04.211Z"
   },
   {
    "duration": 14,
    "start_time": "2022-05-19T18:22:04.228Z"
   },
   {
    "duration": 6,
    "start_time": "2022-05-19T18:22:04.276Z"
   },
   {
    "duration": 27,
    "start_time": "2022-05-19T18:22:04.284Z"
   },
   {
    "duration": 7,
    "start_time": "2022-05-19T18:22:04.313Z"
   },
   {
    "duration": 377,
    "start_time": "2022-05-19T18:22:04.321Z"
   },
   {
    "duration": 7,
    "start_time": "2022-05-19T18:22:04.700Z"
   },
   {
    "duration": 4,
    "start_time": "2022-05-19T18:22:04.708Z"
   },
   {
    "duration": 7,
    "start_time": "2022-05-19T18:22:04.713Z"
   },
   {
    "duration": 13,
    "start_time": "2022-05-19T18:22:04.721Z"
   },
   {
    "duration": 170,
    "start_time": "2022-05-19T18:22:04.735Z"
   },
   {
    "duration": 8,
    "start_time": "2022-05-19T18:22:04.907Z"
   },
   {
    "duration": 426,
    "start_time": "2022-05-19T18:22:04.917Z"
   },
   {
    "duration": 5,
    "start_time": "2022-05-19T18:22:05.345Z"
   },
   {
    "duration": 11,
    "start_time": "2022-05-19T18:22:05.351Z"
   },
   {
    "duration": 1023,
    "start_time": "2022-05-19T18:22:05.363Z"
   },
   {
    "duration": 6,
    "start_time": "2022-05-19T18:22:06.388Z"
   },
   {
    "duration": 9,
    "start_time": "2022-05-19T18:22:06.396Z"
   },
   {
    "duration": 5,
    "start_time": "2022-05-19T18:22:06.566Z"
   },
   {
    "duration": 5,
    "start_time": "2022-05-19T18:22:06.575Z"
   },
   {
    "duration": 7,
    "start_time": "2022-05-19T18:22:06.581Z"
   },
   {
    "duration": 8,
    "start_time": "2022-05-19T18:22:06.590Z"
   },
   {
    "duration": 377,
    "start_time": "2022-05-19T18:22:06.601Z"
   },
   {
    "duration": 3,
    "start_time": "2022-05-19T18:22:06.980Z"
   },
   {
    "duration": 6,
    "start_time": "2022-05-19T18:22:06.984Z"
   },
   {
    "duration": 6,
    "start_time": "2022-05-19T18:22:06.991Z"
   },
   {
    "duration": 7,
    "start_time": "2022-05-19T18:22:06.999Z"
   },
   {
    "duration": 6,
    "start_time": "2022-05-19T18:22:07.007Z"
   },
   {
    "duration": 8,
    "start_time": "2022-05-19T18:22:07.015Z"
   },
   {
    "duration": 8,
    "start_time": "2022-05-19T18:22:07.025Z"
   },
   {
    "duration": 5,
    "start_time": "2022-05-19T18:22:07.035Z"
   },
   {
    "duration": 10,
    "start_time": "2022-05-19T18:22:07.042Z"
   },
   {
    "duration": 360,
    "start_time": "2022-05-19T18:22:07.055Z"
   },
   {
    "duration": 3,
    "start_time": "2022-05-19T18:22:07.416Z"
   },
   {
    "duration": 7,
    "start_time": "2022-05-19T18:22:07.421Z"
   },
   {
    "duration": 5,
    "start_time": "2022-05-19T18:22:07.430Z"
   },
   {
    "duration": 6,
    "start_time": "2022-05-19T18:22:07.436Z"
   },
   {
    "duration": 7,
    "start_time": "2022-05-19T18:22:07.443Z"
   },
   {
    "duration": 23,
    "start_time": "2022-05-19T18:22:07.452Z"
   },
   {
    "duration": 329,
    "start_time": "2022-05-19T18:22:07.477Z"
   },
   {
    "duration": 5,
    "start_time": "2022-05-19T18:22:07.808Z"
   },
   {
    "duration": 17,
    "start_time": "2022-05-19T18:22:07.814Z"
   },
   {
    "duration": 16,
    "start_time": "2022-05-19T18:22:07.832Z"
   },
   {
    "duration": 3,
    "start_time": "2022-05-19T18:22:07.850Z"
   },
   {
    "duration": 31,
    "start_time": "2022-05-19T18:22:07.854Z"
   },
   {
    "duration": 6,
    "start_time": "2022-05-19T18:22:07.886Z"
   },
   {
    "duration": 8,
    "start_time": "2022-05-19T18:22:07.894Z"
   },
   {
    "duration": 9,
    "start_time": "2022-05-19T18:22:07.903Z"
   },
   {
    "duration": 8,
    "start_time": "2022-05-19T18:22:07.914Z"
   },
   {
    "duration": 35,
    "start_time": "2022-05-19T18:22:07.923Z"
   },
   {
    "duration": 10,
    "start_time": "2022-05-19T18:22:07.960Z"
   },
   {
    "duration": 24,
    "start_time": "2022-05-19T18:22:07.972Z"
   },
   {
    "duration": 3,
    "start_time": "2022-05-19T18:22:07.997Z"
   },
   {
    "duration": 5,
    "start_time": "2022-05-19T18:22:08.002Z"
   },
   {
    "duration": 6,
    "start_time": "2022-05-19T18:22:08.009Z"
   },
   {
    "duration": 8,
    "start_time": "2022-05-19T18:22:08.017Z"
   },
   {
    "duration": 278,
    "start_time": "2022-05-19T18:22:08.026Z"
   },
   {
    "duration": 284,
    "start_time": "2022-05-19T18:22:08.306Z"
   },
   {
    "duration": 35,
    "start_time": "2022-05-19T18:22:08.592Z"
   },
   {
    "duration": 5,
    "start_time": "2022-05-19T18:22:08.628Z"
   },
   {
    "duration": 12,
    "start_time": "2022-05-19T18:22:08.634Z"
   },
   {
    "duration": 27,
    "start_time": "2022-05-19T18:22:08.648Z"
   },
   {
    "duration": 3,
    "start_time": "2022-05-19T18:22:08.677Z"
   },
   {
    "duration": 376,
    "start_time": "2022-05-19T18:22:08.682Z"
   },
   {
    "duration": 15,
    "start_time": "2022-05-19T18:22:09.060Z"
   },
   {
    "duration": 3,
    "start_time": "2022-05-19T18:22:09.077Z"
   },
   {
    "duration": 16,
    "start_time": "2022-05-19T18:22:09.082Z"
   },
   {
    "duration": 24,
    "start_time": "2022-05-19T18:22:09.100Z"
   },
   {
    "duration": 14,
    "start_time": "2022-05-19T18:22:09.126Z"
   },
   {
    "duration": 3,
    "start_time": "2022-05-19T18:22:09.142Z"
   },
   {
    "duration": 7,
    "start_time": "2022-05-19T18:22:09.147Z"
   },
   {
    "duration": 20,
    "start_time": "2022-05-19T18:22:09.156Z"
   },
   {
    "duration": 11,
    "start_time": "2022-05-19T18:22:09.178Z"
   },
   {
    "duration": 12,
    "start_time": "2022-05-19T18:22:09.190Z"
   },
   {
    "duration": 368,
    "start_time": "2022-05-19T18:22:09.204Z"
   },
   {
    "duration": 12,
    "start_time": "2022-05-19T18:22:09.575Z"
   },
   {
    "duration": 17,
    "start_time": "2022-05-19T18:22:09.589Z"
   },
   {
    "duration": 21,
    "start_time": "2022-05-19T18:22:09.608Z"
   },
   {
    "duration": 15,
    "start_time": "2022-05-19T18:22:09.631Z"
   },
   {
    "duration": 3,
    "start_time": "2022-05-19T18:22:09.648Z"
   },
   {
    "duration": 9,
    "start_time": "2022-05-19T18:22:09.675Z"
   },
   {
    "duration": 13,
    "start_time": "2022-05-19T18:22:09.686Z"
   },
   {
    "duration": 11,
    "start_time": "2022-05-19T18:22:09.701Z"
   },
   {
    "duration": 4,
    "start_time": "2022-05-19T18:22:09.714Z"
   },
   {
    "duration": 10,
    "start_time": "2022-05-19T18:22:09.719Z"
   },
   {
    "duration": 126,
    "start_time": "2022-05-19T18:22:09.730Z"
   },
   {
    "duration": 17,
    "start_time": "2022-05-19T18:22:09.858Z"
   },
   {
    "duration": 10,
    "start_time": "2022-05-19T18:22:09.877Z"
   },
   {
    "duration": 9,
    "start_time": "2022-05-19T18:22:09.889Z"
   },
   {
    "duration": 15,
    "start_time": "2022-05-19T18:22:09.899Z"
   },
   {
    "duration": 11,
    "start_time": "2022-05-19T18:22:09.915Z"
   },
   {
    "duration": 7,
    "start_time": "2022-05-19T18:22:09.927Z"
   },
   {
    "duration": 5,
    "start_time": "2022-05-19T18:22:19.013Z"
   },
   {
    "duration": 12,
    "start_time": "2022-05-19T18:22:41.708Z"
   },
   {
    "duration": 10,
    "start_time": "2022-05-19T18:22:43.269Z"
   },
   {
    "duration": 3,
    "start_time": "2022-05-19T18:24:21.750Z"
   },
   {
    "duration": 10,
    "start_time": "2022-05-19T18:24:22.771Z"
   },
   {
    "duration": 652,
    "start_time": "2022-05-19T18:24:28.142Z"
   },
   {
    "duration": 6,
    "start_time": "2022-05-19T18:26:09.905Z"
   },
   {
    "duration": 3,
    "start_time": "2022-05-19T18:26:10.727Z"
   },
   {
    "duration": 10,
    "start_time": "2022-05-19T18:26:11.343Z"
   },
   {
    "duration": 3,
    "start_time": "2022-05-19T18:26:34.702Z"
   },
   {
    "duration": 8,
    "start_time": "2022-05-19T18:26:38.177Z"
   },
   {
    "duration": 5,
    "start_time": "2022-05-19T18:27:12.483Z"
   },
   {
    "duration": 4,
    "start_time": "2022-05-19T18:27:14.263Z"
   },
   {
    "duration": 37,
    "start_time": "2022-05-19T18:32:43.459Z"
   },
   {
    "duration": 3,
    "start_time": "2022-05-19T19:05:32.173Z"
   },
   {
    "duration": 56,
    "start_time": "2022-05-19T19:05:32.181Z"
   },
   {
    "duration": 4,
    "start_time": "2022-05-19T19:05:32.238Z"
   },
   {
    "duration": 33,
    "start_time": "2022-05-19T19:05:32.243Z"
   },
   {
    "duration": 4,
    "start_time": "2022-05-19T19:05:32.278Z"
   },
   {
    "duration": 21,
    "start_time": "2022-05-19T19:05:32.284Z"
   },
   {
    "duration": 35,
    "start_time": "2022-05-19T19:05:32.307Z"
   },
   {
    "duration": 4,
    "start_time": "2022-05-19T19:05:32.344Z"
   },
   {
    "duration": 6,
    "start_time": "2022-05-19T19:05:32.350Z"
   },
   {
    "duration": 7,
    "start_time": "2022-05-19T19:05:32.375Z"
   },
   {
    "duration": 9,
    "start_time": "2022-05-19T19:05:32.384Z"
   },
   {
    "duration": 15,
    "start_time": "2022-05-19T19:05:32.395Z"
   },
   {
    "duration": 4,
    "start_time": "2022-05-19T19:05:32.411Z"
   },
   {
    "duration": 7,
    "start_time": "2022-05-19T19:05:32.416Z"
   },
   {
    "duration": 6,
    "start_time": "2022-05-19T19:05:32.425Z"
   },
   {
    "duration": 8,
    "start_time": "2022-05-19T19:05:32.433Z"
   },
   {
    "duration": 40,
    "start_time": "2022-05-19T19:05:32.443Z"
   },
   {
    "duration": 9,
    "start_time": "2022-05-19T19:05:32.503Z"
   },
   {
    "duration": 7,
    "start_time": "2022-05-19T19:05:32.514Z"
   },
   {
    "duration": 8,
    "start_time": "2022-05-19T19:05:32.549Z"
   },
   {
    "duration": 10,
    "start_time": "2022-05-19T19:05:32.559Z"
   },
   {
    "duration": 6,
    "start_time": "2022-05-19T19:05:32.570Z"
   },
   {
    "duration": 26,
    "start_time": "2022-05-19T19:05:32.578Z"
   },
   {
    "duration": 9,
    "start_time": "2022-05-19T19:05:32.606Z"
   },
   {
    "duration": 8,
    "start_time": "2022-05-19T19:05:32.616Z"
   },
   {
    "duration": 13,
    "start_time": "2022-05-19T19:05:32.625Z"
   },
   {
    "duration": 7,
    "start_time": "2022-05-19T19:05:32.640Z"
   },
   {
    "duration": 32,
    "start_time": "2022-05-19T19:05:32.648Z"
   },
   {
    "duration": 5,
    "start_time": "2022-05-19T19:05:32.684Z"
   },
   {
    "duration": 10,
    "start_time": "2022-05-19T19:05:32.691Z"
   },
   {
    "duration": 18,
    "start_time": "2022-05-19T19:05:32.703Z"
   },
   {
    "duration": 13,
    "start_time": "2022-05-19T19:05:32.723Z"
   },
   {
    "duration": 16,
    "start_time": "2022-05-19T19:05:32.738Z"
   },
   {
    "duration": 16,
    "start_time": "2022-05-19T19:05:32.756Z"
   },
   {
    "duration": 17,
    "start_time": "2022-05-19T19:05:32.775Z"
   },
   {
    "duration": 10,
    "start_time": "2022-05-19T19:05:32.794Z"
   },
   {
    "duration": 10,
    "start_time": "2022-05-19T19:05:32.807Z"
   },
   {
    "duration": 5,
    "start_time": "2022-05-19T19:05:32.819Z"
   },
   {
    "duration": 25,
    "start_time": "2022-05-19T19:05:32.827Z"
   },
   {
    "duration": 28,
    "start_time": "2022-05-19T19:05:32.853Z"
   },
   {
    "duration": 20,
    "start_time": "2022-05-19T19:05:32.883Z"
   },
   {
    "duration": 19,
    "start_time": "2022-05-19T19:05:32.904Z"
   },
   {
    "duration": 12,
    "start_time": "2022-05-19T19:05:32.925Z"
   },
   {
    "duration": 10,
    "start_time": "2022-05-19T19:05:32.938Z"
   },
   {
    "duration": 13,
    "start_time": "2022-05-19T19:05:32.950Z"
   },
   {
    "duration": 27,
    "start_time": "2022-05-19T19:05:32.965Z"
   },
   {
    "duration": 25,
    "start_time": "2022-05-19T19:05:32.994Z"
   },
   {
    "duration": 25,
    "start_time": "2022-05-19T19:05:33.022Z"
   },
   {
    "duration": 11,
    "start_time": "2022-05-19T19:05:33.048Z"
   },
   {
    "duration": 18,
    "start_time": "2022-05-19T19:05:33.061Z"
   },
   {
    "duration": 11,
    "start_time": "2022-05-19T19:05:33.081Z"
   },
   {
    "duration": 10,
    "start_time": "2022-05-19T19:05:33.094Z"
   },
   {
    "duration": 7,
    "start_time": "2022-05-19T19:05:33.106Z"
   },
   {
    "duration": 15,
    "start_time": "2022-05-19T19:05:33.115Z"
   },
   {
    "duration": 6,
    "start_time": "2022-05-19T19:05:33.193Z"
   },
   {
    "duration": 410,
    "start_time": "2022-05-19T19:05:33.201Z"
   },
   {
    "duration": 10,
    "start_time": "2022-05-19T19:05:33.613Z"
   },
   {
    "duration": 12,
    "start_time": "2022-05-19T19:05:33.625Z"
   },
   {
    "duration": 9,
    "start_time": "2022-05-19T19:05:33.640Z"
   },
   {
    "duration": 14,
    "start_time": "2022-05-19T19:05:33.650Z"
   },
   {
    "duration": 200,
    "start_time": "2022-05-19T19:05:33.666Z"
   },
   {
    "duration": 14,
    "start_time": "2022-05-19T19:05:33.868Z"
   },
   {
    "duration": 509,
    "start_time": "2022-05-19T19:05:33.884Z"
   },
   {
    "duration": 5,
    "start_time": "2022-05-19T19:05:34.395Z"
   },
   {
    "duration": 6,
    "start_time": "2022-05-19T19:05:34.402Z"
   },
   {
    "duration": 1016,
    "start_time": "2022-05-19T19:05:34.410Z"
   },
   {
    "duration": 5,
    "start_time": "2022-05-19T19:05:35.427Z"
   },
   {
    "duration": 10,
    "start_time": "2022-05-19T19:05:35.434Z"
   },
   {
    "duration": 12,
    "start_time": "2022-05-19T19:05:35.446Z"
   },
   {
    "duration": 7,
    "start_time": "2022-05-19T19:05:35.460Z"
   },
   {
    "duration": 10,
    "start_time": "2022-05-19T19:05:35.468Z"
   },
   {
    "duration": 11,
    "start_time": "2022-05-19T19:05:35.479Z"
   },
   {
    "duration": 347,
    "start_time": "2022-05-19T19:05:35.491Z"
   },
   {
    "duration": 3,
    "start_time": "2022-05-19T19:05:35.839Z"
   },
   {
    "duration": 10,
    "start_time": "2022-05-19T19:05:35.844Z"
   },
   {
    "duration": 9,
    "start_time": "2022-05-19T19:05:35.855Z"
   },
   {
    "duration": 13,
    "start_time": "2022-05-19T19:05:35.866Z"
   },
   {
    "duration": 7,
    "start_time": "2022-05-19T19:05:35.881Z"
   },
   {
    "duration": 7,
    "start_time": "2022-05-19T19:05:35.889Z"
   },
   {
    "duration": 9,
    "start_time": "2022-05-19T19:05:35.897Z"
   },
   {
    "duration": 8,
    "start_time": "2022-05-19T19:05:35.907Z"
   },
   {
    "duration": 5,
    "start_time": "2022-05-19T19:05:35.916Z"
   },
   {
    "duration": 338,
    "start_time": "2022-05-19T19:05:35.925Z"
   },
   {
    "duration": 3,
    "start_time": "2022-05-19T19:05:36.265Z"
   },
   {
    "duration": 11,
    "start_time": "2022-05-19T19:05:36.269Z"
   },
   {
    "duration": 6,
    "start_time": "2022-05-19T19:05:36.282Z"
   },
   {
    "duration": 6,
    "start_time": "2022-05-19T19:05:36.289Z"
   },
   {
    "duration": 6,
    "start_time": "2022-05-19T19:05:36.297Z"
   },
   {
    "duration": 6,
    "start_time": "2022-05-19T19:05:36.305Z"
   },
   {
    "duration": 446,
    "start_time": "2022-05-19T19:05:36.312Z"
   },
   {
    "duration": 15,
    "start_time": "2022-05-19T19:05:36.760Z"
   },
   {
    "duration": 11,
    "start_time": "2022-05-19T19:05:36.776Z"
   },
   {
    "duration": 16,
    "start_time": "2022-05-19T19:05:36.789Z"
   },
   {
    "duration": 7,
    "start_time": "2022-05-19T19:05:36.806Z"
   },
   {
    "duration": 27,
    "start_time": "2022-05-19T19:05:36.814Z"
   },
   {
    "duration": 38,
    "start_time": "2022-05-19T19:05:36.842Z"
   },
   {
    "duration": 27,
    "start_time": "2022-05-19T19:05:36.882Z"
   },
   {
    "duration": 22,
    "start_time": "2022-05-19T19:05:36.910Z"
   },
   {
    "duration": 19,
    "start_time": "2022-05-19T19:05:36.933Z"
   },
   {
    "duration": 15,
    "start_time": "2022-05-19T19:05:36.954Z"
   },
   {
    "duration": 17,
    "start_time": "2022-05-19T19:05:36.971Z"
   },
   {
    "duration": 23,
    "start_time": "2022-05-19T19:05:36.989Z"
   },
   {
    "duration": 2,
    "start_time": "2022-05-19T19:05:37.014Z"
   },
   {
    "duration": 26,
    "start_time": "2022-05-19T19:05:37.018Z"
   },
   {
    "duration": 9,
    "start_time": "2022-05-19T19:05:37.046Z"
   },
   {
    "duration": 27,
    "start_time": "2022-05-19T19:05:37.057Z"
   },
   {
    "duration": 246,
    "start_time": "2022-05-19T19:05:37.086Z"
   },
   {
    "duration": 256,
    "start_time": "2022-05-19T19:05:37.333Z"
   },
   {
    "duration": 34,
    "start_time": "2022-05-19T19:05:37.590Z"
   },
   {
    "duration": 4,
    "start_time": "2022-05-19T19:05:37.626Z"
   },
   {
    "duration": 28,
    "start_time": "2022-05-19T19:05:37.632Z"
   },
   {
    "duration": 23,
    "start_time": "2022-05-19T19:05:37.661Z"
   },
   {
    "duration": 13,
    "start_time": "2022-05-19T19:05:37.685Z"
   },
   {
    "duration": 390,
    "start_time": "2022-05-19T19:05:37.700Z"
   },
   {
    "duration": 9,
    "start_time": "2022-05-19T19:05:38.092Z"
   },
   {
    "duration": 19,
    "start_time": "2022-05-19T19:05:38.102Z"
   },
   {
    "duration": 18,
    "start_time": "2022-05-19T19:05:38.124Z"
   },
   {
    "duration": 29,
    "start_time": "2022-05-19T19:05:38.143Z"
   },
   {
    "duration": 24,
    "start_time": "2022-05-19T19:05:38.174Z"
   },
   {
    "duration": 18,
    "start_time": "2022-05-19T19:05:38.200Z"
   },
   {
    "duration": 25,
    "start_time": "2022-05-19T19:05:38.219Z"
   },
   {
    "duration": 38,
    "start_time": "2022-05-19T19:05:38.246Z"
   },
   {
    "duration": 20,
    "start_time": "2022-05-19T19:05:38.286Z"
   },
   {
    "duration": 29,
    "start_time": "2022-05-19T19:05:38.308Z"
   },
   {
    "duration": 360,
    "start_time": "2022-05-19T19:05:38.339Z"
   },
   {
    "duration": 11,
    "start_time": "2022-05-19T19:05:38.701Z"
   },
   {
    "duration": 21,
    "start_time": "2022-05-19T19:05:38.714Z"
   },
   {
    "duration": 20,
    "start_time": "2022-05-19T19:05:38.737Z"
   },
   {
    "duration": 25,
    "start_time": "2022-05-19T19:05:38.759Z"
   },
   {
    "duration": 3,
    "start_time": "2022-05-19T19:05:38.786Z"
   },
   {
    "duration": 34,
    "start_time": "2022-05-19T19:05:38.791Z"
   },
   {
    "duration": 20,
    "start_time": "2022-05-19T19:05:38.827Z"
   },
   {
    "duration": 18,
    "start_time": "2022-05-19T19:05:38.849Z"
   },
   {
    "duration": 30,
    "start_time": "2022-05-19T19:05:38.869Z"
   },
   {
    "duration": 12,
    "start_time": "2022-05-19T19:05:38.901Z"
   },
   {
    "duration": 9,
    "start_time": "2022-05-19T19:05:38.915Z"
   },
   {
    "duration": 7,
    "start_time": "2022-05-19T19:05:38.929Z"
   },
   {
    "duration": 5,
    "start_time": "2022-05-19T19:05:38.938Z"
   },
   {
    "duration": 10,
    "start_time": "2022-05-19T19:05:38.944Z"
   },
   {
    "duration": 14,
    "start_time": "2022-05-19T19:05:38.955Z"
   },
   {
    "duration": 6,
    "start_time": "2022-05-19T19:05:38.971Z"
   },
   {
    "duration": 6,
    "start_time": "2022-05-19T19:05:38.979Z"
   },
   {
    "duration": 6,
    "start_time": "2022-05-19T19:05:38.986Z"
   },
   {
    "duration": 12,
    "start_time": "2022-05-19T19:05:38.993Z"
   },
   {
    "duration": 6,
    "start_time": "2022-05-19T19:05:39.007Z"
   },
   {
    "duration": 4,
    "start_time": "2022-05-19T19:05:39.015Z"
   },
   {
    "duration": 11,
    "start_time": "2022-05-19T19:05:39.020Z"
   },
   {
    "duration": 4,
    "start_time": "2022-05-19T19:05:39.033Z"
   },
   {
    "duration": 6,
    "start_time": "2022-05-19T19:05:39.038Z"
   },
   {
    "duration": 5,
    "start_time": "2022-05-19T19:06:25.561Z"
   },
   {
    "duration": 1623,
    "start_time": "2022-05-20T07:23:22.756Z"
   },
   {
    "duration": 201,
    "start_time": "2022-05-20T07:23:24.381Z"
   },
   {
    "duration": 4,
    "start_time": "2022-05-20T07:23:24.584Z"
   },
   {
    "duration": 34,
    "start_time": "2022-05-20T07:23:24.591Z"
   },
   {
    "duration": 8,
    "start_time": "2022-05-20T07:23:24.628Z"
   },
   {
    "duration": 23,
    "start_time": "2022-05-20T07:23:24.638Z"
   },
   {
    "duration": 45,
    "start_time": "2022-05-20T07:23:24.662Z"
   },
   {
    "duration": 10,
    "start_time": "2022-05-20T07:23:24.709Z"
   },
   {
    "duration": 7,
    "start_time": "2022-05-20T07:23:24.721Z"
   },
   {
    "duration": 10,
    "start_time": "2022-05-20T07:23:24.732Z"
   },
   {
    "duration": 5,
    "start_time": "2022-05-20T07:23:24.744Z"
   },
   {
    "duration": 44,
    "start_time": "2022-05-20T07:23:24.751Z"
   },
   {
    "duration": 6,
    "start_time": "2022-05-20T07:23:24.797Z"
   },
   {
    "duration": 10,
    "start_time": "2022-05-20T07:23:24.806Z"
   },
   {
    "duration": 5,
    "start_time": "2022-05-20T07:23:24.818Z"
   },
   {
    "duration": 12,
    "start_time": "2022-05-20T07:23:24.825Z"
   },
   {
    "duration": 15,
    "start_time": "2022-05-20T07:23:24.839Z"
   },
   {
    "duration": 33,
    "start_time": "2022-05-20T07:23:24.856Z"
   },
   {
    "duration": 11,
    "start_time": "2022-05-20T07:23:24.891Z"
   },
   {
    "duration": 9,
    "start_time": "2022-05-20T07:23:24.905Z"
   },
   {
    "duration": 8,
    "start_time": "2022-05-20T07:23:24.917Z"
   },
   {
    "duration": 7,
    "start_time": "2022-05-20T07:23:24.927Z"
   },
   {
    "duration": 63,
    "start_time": "2022-05-20T07:23:24.936Z"
   },
   {
    "duration": 11,
    "start_time": "2022-05-20T07:23:25.001Z"
   },
   {
    "duration": 11,
    "start_time": "2022-05-20T07:23:25.014Z"
   },
   {
    "duration": 11,
    "start_time": "2022-05-20T07:23:25.028Z"
   },
   {
    "duration": 12,
    "start_time": "2022-05-20T07:23:25.041Z"
   },
   {
    "duration": 37,
    "start_time": "2022-05-20T07:23:25.056Z"
   },
   {
    "duration": 18,
    "start_time": "2022-05-20T07:23:25.094Z"
   },
   {
    "duration": 11,
    "start_time": "2022-05-20T07:23:25.114Z"
   },
   {
    "duration": 20,
    "start_time": "2022-05-20T07:23:25.127Z"
   },
   {
    "duration": 8,
    "start_time": "2022-05-20T07:23:25.149Z"
   },
   {
    "duration": 6,
    "start_time": "2022-05-20T07:23:25.159Z"
   },
   {
    "duration": 7,
    "start_time": "2022-05-20T07:23:25.183Z"
   },
   {
    "duration": 17,
    "start_time": "2022-05-20T07:23:25.192Z"
   },
   {
    "duration": 5,
    "start_time": "2022-05-20T07:23:25.211Z"
   },
   {
    "duration": 9,
    "start_time": "2022-05-20T07:23:25.218Z"
   },
   {
    "duration": 6,
    "start_time": "2022-05-20T07:23:25.229Z"
   },
   {
    "duration": 9,
    "start_time": "2022-05-20T07:23:25.236Z"
   },
   {
    "duration": 9,
    "start_time": "2022-05-20T07:23:25.247Z"
   },
   {
    "duration": 36,
    "start_time": "2022-05-20T07:23:25.258Z"
   },
   {
    "duration": 14,
    "start_time": "2022-05-20T07:23:25.296Z"
   },
   {
    "duration": 10,
    "start_time": "2022-05-20T07:23:25.312Z"
   },
   {
    "duration": 8,
    "start_time": "2022-05-20T07:23:25.324Z"
   },
   {
    "duration": 6,
    "start_time": "2022-05-20T07:23:25.334Z"
   },
   {
    "duration": 59,
    "start_time": "2022-05-20T07:23:25.342Z"
   },
   {
    "duration": 26,
    "start_time": "2022-05-20T07:23:25.403Z"
   },
   {
    "duration": 14,
    "start_time": "2022-05-20T07:23:25.431Z"
   },
   {
    "duration": 33,
    "start_time": "2022-05-20T07:23:44.246Z"
   }
  ],
  "hide_input": false,
  "kernelspec": {
   "display_name": "Python 3 (ipykernel)",
   "language": "python",
   "name": "python3"
  },
  "language_info": {
   "codemirror_mode": {
    "name": "ipython",
    "version": 3
   },
   "file_extension": ".py",
   "mimetype": "text/x-python",
   "name": "python",
   "nbconvert_exporter": "python",
   "pygments_lexer": "ipython3",
   "version": "3.9.7"
  },
  "latex_envs": {
   "LaTeX_envs_menu_present": true,
   "autoclose": false,
   "autocomplete": true,
   "bibliofile": "biblio.bib",
   "cite_by": "apalike",
   "current_citInitial": 1,
   "eqLabelWithNumbers": true,
   "eqNumInitial": 1,
   "hotkeys": {
    "equation": "Ctrl-E",
    "itemize": "Ctrl-I"
   },
   "labels_anchors": false,
   "latex_user_defs": false,
   "report_style_numbering": false,
   "user_envs_cfg": false
  },
  "toc": {
   "base_numbering": 1,
   "nav_menu": {},
   "number_sections": true,
   "sideBar": true,
   "skip_h1_title": true,
   "title_cell": "Table of Contents",
   "title_sidebar": "Contents",
   "toc_cell": false,
   "toc_position": {},
   "toc_section_display": true,
   "toc_window_display": true
  }
 },
 "nbformat": 4,
 "nbformat_minor": 5
}
