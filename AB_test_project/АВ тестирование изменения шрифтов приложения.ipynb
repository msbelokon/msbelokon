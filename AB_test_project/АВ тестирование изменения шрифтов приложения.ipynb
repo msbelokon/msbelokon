{
 "cells": [
  {
   "cell_type": "markdown",
   "id": "e7c6c8f9",
   "metadata": {},
   "source": [
    "## Цель исследования\n",
    "\n",
    "Определить повлияло ли изменение шрифта в приложении на конверсию.\n",
    "\n",
    "## Ход исследования:\n",
    "\n",
    "- Изучить данные, провести обработку данных, определить базовые данные исследования: период, количество пользователей в группах, события\n",
    "- Исследовать текущий датасет по ключевым параметрам: построить воронку по событиям, определить конверсии каждого события.\n",
    "- Провести A/A и A/B тестирования, написать функции позволяющие автоматизировать сравнение конверсий"
   ]
  },
  {
   "cell_type": "markdown",
   "id": "49cc953b",
   "metadata": {},
   "source": [
    "## Оглавление"
   ]
  },
  {
   "cell_type": "markdown",
   "id": "2f0a4897",
   "metadata": {},
   "source": [
    "[Шаг 1. Откройте файл с данными и изучите общую информацию](#1)  \n",
    "\n",
    "[1.1 Обзор данных](#11)  \n",
    "[1.2 Исследование данных](#12)  \n",
    "[1.3 Преобразование и проверка данных](#13)  \n",
    "\n",
    "[Шаг 2. Подготовьте данные](#2)  \n",
    "\n",
    "[Шаг 3. Изучите и проверьте данные](#3)  \n",
    "\n",
    "[Шаг 4. Изучите воронку событий](#4)  \n",
    "[4.1. Подготовка воронки событий](#41)  \n",
    "[4.2. Воронка событий](#42)  \n",
    "\n",
    "[Шаг 5. Изучите результаты эксперимента](#5)  \n",
    "\n",
    "[5.1. Подготовка данных к A/B тесту](#51)  \n",
    "[5.2. A/A эксперимент](#52)  \n",
    "[5.3. A/B эксперимент](#53)  "
   ]
  },
  {
   "cell_type": "markdown",
   "id": "c2736b6e",
   "metadata": {},
   "source": [
    "### Шаг 1. Откройте файл с данными и изучите общую информацию<a name=\"1\"></a>"
   ]
  },
  {
   "cell_type": "code",
   "execution_count": 1,
   "id": "f346ee79",
   "metadata": {},
   "outputs": [],
   "source": [
    "import pandas as pd\n",
    "import numpy as np\n",
    "import datetime\n",
    "from datetime import datetime\n",
    "from matplotlib import pyplot as plt\n",
    "import matplotlib.dates as mdates\n",
    "import math as mth\n",
    "from scipy import stats as st\n",
    "from plotly import graph_objects as go\n",
    "import plotly.express as px"
   ]
  },
  {
   "cell_type": "code",
   "execution_count": 2,
   "id": "b904df53",
   "metadata": {},
   "outputs": [],
   "source": [
    "try:\n",
    "    path = '/datasets/logs_exp.csv'\n",
    "    df = pd.read_csv(path, sep='\\t')\n",
    "except:\n",
    "    path = 'C:/Users/maxbe/Desktop/Яндекс.Практикум/python проекты/ya_project_collecting_2/logs_exp.csv'\n",
    "    df = pd.read_csv(path, sep='\\t')"
   ]
  },
  {
   "cell_type": "markdown",
   "id": "b0408e68",
   "metadata": {},
   "source": [
    "### Шаг 2. Подготовьте данные<a name=\"2\"></a>"
   ]
  },
  {
   "cell_type": "markdown",
   "id": "97888801",
   "metadata": {},
   "source": [
    "- Замените названия столбцов на удобные для вас\n",
    "- Проверьте пропуски и типы данных. Откорректируйте, если нужно\n",
    "- Добавьте столбец даты и времени, а также отдельный столбец дат"
   ]
  },
  {
   "cell_type": "markdown",
   "id": "5ab5f8af",
   "metadata": {},
   "source": [
    "Информация о датасете"
   ]
  },
  {
   "cell_type": "code",
   "execution_count": 3,
   "id": "5dc5ed8b",
   "metadata": {
    "scrolled": true
   },
   "outputs": [
    {
     "name": "stdout",
     "output_type": "stream",
     "text": [
      "<class 'pandas.core.frame.DataFrame'>\n",
      "RangeIndex: 244126 entries, 0 to 244125\n",
      "Data columns (total 4 columns):\n",
      " #   Column          Non-Null Count   Dtype \n",
      "---  ------          --------------   ----- \n",
      " 0   EventName       244126 non-null  object\n",
      " 1   DeviceIDHash    244126 non-null  int64 \n",
      " 2   EventTimestamp  244126 non-null  int64 \n",
      " 3   ExpId           244126 non-null  int64 \n",
      "dtypes: int64(3), object(1)\n",
      "memory usage: 7.5+ MB\n"
     ]
    }
   ],
   "source": [
    "df.info()"
   ]
  },
  {
   "cell_type": "code",
   "execution_count": 4,
   "id": "57d171f1",
   "metadata": {},
   "outputs": [
    {
     "data": {
      "text/html": [
       "<div>\n",
       "<style scoped>\n",
       "    .dataframe tbody tr th:only-of-type {\n",
       "        vertical-align: middle;\n",
       "    }\n",
       "\n",
       "    .dataframe tbody tr th {\n",
       "        vertical-align: top;\n",
       "    }\n",
       "\n",
       "    .dataframe thead th {\n",
       "        text-align: right;\n",
       "    }\n",
       "</style>\n",
       "<table border=\"1\" class=\"dataframe\">\n",
       "  <thead>\n",
       "    <tr style=\"text-align: right;\">\n",
       "      <th></th>\n",
       "      <th>EventName</th>\n",
       "      <th>DeviceIDHash</th>\n",
       "      <th>EventTimestamp</th>\n",
       "      <th>ExpId</th>\n",
       "    </tr>\n",
       "  </thead>\n",
       "  <tbody>\n",
       "    <tr>\n",
       "      <th>115623</th>\n",
       "      <td>MainScreenAppear</td>\n",
       "      <td>6929303458198089480</td>\n",
       "      <td>1564909365</td>\n",
       "      <td>248</td>\n",
       "    </tr>\n",
       "    <tr>\n",
       "      <th>195875</th>\n",
       "      <td>MainScreenAppear</td>\n",
       "      <td>3296122068432336013</td>\n",
       "      <td>1565098637</td>\n",
       "      <td>247</td>\n",
       "    </tr>\n",
       "  </tbody>\n",
       "</table>\n",
       "</div>"
      ],
      "text/plain": [
       "               EventName         DeviceIDHash  EventTimestamp  ExpId\n",
       "115623  MainScreenAppear  6929303458198089480      1564909365    248\n",
       "195875  MainScreenAppear  3296122068432336013      1565098637    247"
      ]
     },
     "execution_count": 4,
     "metadata": {},
     "output_type": "execute_result"
    }
   ],
   "source": [
    "df.sample(2)"
   ]
  },
  {
   "cell_type": "markdown",
   "id": "04106e6b",
   "metadata": {},
   "source": [
    "Заменим тип данных EventTimestamp на datetime64[ns]"
   ]
  },
  {
   "cell_type": "code",
   "execution_count": 5,
   "id": "16b72571",
   "metadata": {},
   "outputs": [],
   "source": [
    "df['EventTimestamp'] = pd.to_datetime(df['EventTimestamp'], unit='s')"
   ]
  },
  {
   "cell_type": "markdown",
   "id": "f37f1086",
   "metadata": {},
   "source": [
    "Проверка"
   ]
  },
  {
   "cell_type": "code",
   "execution_count": 6,
   "id": "16054c49",
   "metadata": {},
   "outputs": [
    {
     "data": {
      "text/plain": [
       "EventName                 object\n",
       "DeviceIDHash               int64\n",
       "EventTimestamp    datetime64[ns]\n",
       "ExpId                      int64\n",
       "dtype: object"
      ]
     },
     "execution_count": 6,
     "metadata": {},
     "output_type": "execute_result"
    }
   ],
   "source": [
    "df.dtypes"
   ]
  },
  {
   "cell_type": "markdown",
   "id": "5666d72b",
   "metadata": {},
   "source": [
    "Заменим названия столбцов"
   ]
  },
  {
   "cell_type": "code",
   "execution_count": 7,
   "id": "a3720a40",
   "metadata": {},
   "outputs": [],
   "source": [
    "df = df.rename(columns={'EventName' : 'event', 'DeviceIDHash': 'user_id', 'EventTimestamp': 'datetime', 'ExpId': 'group'})"
   ]
  },
  {
   "cell_type": "markdown",
   "id": "4820ce09",
   "metadata": {},
   "source": [
    "Проверка"
   ]
  },
  {
   "cell_type": "code",
   "execution_count": 8,
   "id": "865826de",
   "metadata": {},
   "outputs": [
    {
     "data": {
      "text/html": [
       "<div>\n",
       "<style scoped>\n",
       "    .dataframe tbody tr th:only-of-type {\n",
       "        vertical-align: middle;\n",
       "    }\n",
       "\n",
       "    .dataframe tbody tr th {\n",
       "        vertical-align: top;\n",
       "    }\n",
       "\n",
       "    .dataframe thead th {\n",
       "        text-align: right;\n",
       "    }\n",
       "</style>\n",
       "<table border=\"1\" class=\"dataframe\">\n",
       "  <thead>\n",
       "    <tr style=\"text-align: right;\">\n",
       "      <th></th>\n",
       "      <th>event</th>\n",
       "      <th>user_id</th>\n",
       "      <th>datetime</th>\n",
       "      <th>group</th>\n",
       "    </tr>\n",
       "  </thead>\n",
       "  <tbody>\n",
       "    <tr>\n",
       "      <th>160457</th>\n",
       "      <td>CartScreenAppear</td>\n",
       "      <td>6613527411922640441</td>\n",
       "      <td>2019-08-05 13:58:25</td>\n",
       "      <td>246</td>\n",
       "    </tr>\n",
       "    <tr>\n",
       "      <th>2133</th>\n",
       "      <td>MainScreenAppear</td>\n",
       "      <td>5894170077720152065</td>\n",
       "      <td>2019-07-31 21:20:39</td>\n",
       "      <td>248</td>\n",
       "    </tr>\n",
       "  </tbody>\n",
       "</table>\n",
       "</div>"
      ],
      "text/plain": [
       "                   event              user_id            datetime  group\n",
       "160457  CartScreenAppear  6613527411922640441 2019-08-05 13:58:25    246\n",
       "2133    MainScreenAppear  5894170077720152065 2019-07-31 21:20:39    248"
      ]
     },
     "execution_count": 8,
     "metadata": {},
     "output_type": "execute_result"
    }
   ],
   "source": [
    "df.sample(2)"
   ]
  },
  {
   "cell_type": "markdown",
   "id": "7bd7857c",
   "metadata": {},
   "source": [
    "**Проверка на явные дубликаты**"
   ]
  },
  {
   "cell_type": "code",
   "execution_count": 9,
   "id": "f280d5ff",
   "metadata": {
    "scrolled": true
   },
   "outputs": [
    {
     "name": "stdout",
     "output_type": "stream",
     "text": [
      "Дублей в датасете: 413\n"
     ]
    }
   ],
   "source": [
    "print('Дублей в датасете:', df.duplicated().sum())"
   ]
  },
  {
   "cell_type": "markdown",
   "id": "020e51fd",
   "metadata": {},
   "source": [
    "т.к. есть точное время и идентификатор пользователя у нас не может быть одинаковых строк.  \n",
    "Скорее всего это ошибка записи данных.  \n",
    "Удалим явные дубликаты"
   ]
  },
  {
   "cell_type": "code",
   "execution_count": 10,
   "id": "81c0d5af",
   "metadata": {},
   "outputs": [],
   "source": [
    "df = df.drop_duplicates().reset_index(drop=True) "
   ]
  },
  {
   "cell_type": "code",
   "execution_count": 11,
   "id": "77bae8af",
   "metadata": {},
   "outputs": [
    {
     "name": "stdout",
     "output_type": "stream",
     "text": [
      "Дублей в датасете после очистки: 0\n"
     ]
    }
   ],
   "source": [
    "print('Дублей в датасете после очистки:', df.duplicated().sum())"
   ]
  },
  {
   "cell_type": "markdown",
   "id": "e998700f",
   "metadata": {},
   "source": [
    "**Проверка на пропуски**"
   ]
  },
  {
   "cell_type": "code",
   "execution_count": 12,
   "id": "cd10c057",
   "metadata": {},
   "outputs": [
    {
     "data": {
      "text/plain": [
       "event       0\n",
       "user_id     0\n",
       "datetime    0\n",
       "group       0\n",
       "dtype: int64"
      ]
     },
     "execution_count": 12,
     "metadata": {},
     "output_type": "execute_result"
    }
   ],
   "source": [
    "df.isna().sum()"
   ]
  },
  {
   "cell_type": "markdown",
   "id": "4d9f38d0",
   "metadata": {},
   "source": [
    "Добавим столбец дат"
   ]
  },
  {
   "cell_type": "code",
   "execution_count": 13,
   "id": "7a21b4c2",
   "metadata": {},
   "outputs": [],
   "source": [
    "df['date'] = pd.to_datetime(df['datetime']).dt.date"
   ]
  },
  {
   "cell_type": "code",
   "execution_count": 14,
   "id": "88f57a73",
   "metadata": {},
   "outputs": [],
   "source": [
    "df['date'] = df['date'].astype('datetime64[ns]')"
   ]
  },
  {
   "cell_type": "code",
   "execution_count": 15,
   "id": "4e81232d",
   "metadata": {},
   "outputs": [
    {
     "data": {
      "text/html": [
       "<div>\n",
       "<style scoped>\n",
       "    .dataframe tbody tr th:only-of-type {\n",
       "        vertical-align: middle;\n",
       "    }\n",
       "\n",
       "    .dataframe tbody tr th {\n",
       "        vertical-align: top;\n",
       "    }\n",
       "\n",
       "    .dataframe thead th {\n",
       "        text-align: right;\n",
       "    }\n",
       "</style>\n",
       "<table border=\"1\" class=\"dataframe\">\n",
       "  <thead>\n",
       "    <tr style=\"text-align: right;\">\n",
       "      <th></th>\n",
       "      <th>event</th>\n",
       "      <th>user_id</th>\n",
       "      <th>datetime</th>\n",
       "      <th>group</th>\n",
       "      <th>date</th>\n",
       "    </tr>\n",
       "  </thead>\n",
       "  <tbody>\n",
       "    <tr>\n",
       "      <th>84871</th>\n",
       "      <td>MainScreenAppear</td>\n",
       "      <td>7787161900943974716</td>\n",
       "      <td>2019-08-03 10:02:57</td>\n",
       "      <td>248</td>\n",
       "      <td>2019-08-03</td>\n",
       "    </tr>\n",
       "    <tr>\n",
       "      <th>171964</th>\n",
       "      <td>PaymentScreenSuccessful</td>\n",
       "      <td>2457989834692826118</td>\n",
       "      <td>2019-08-05 18:21:24</td>\n",
       "      <td>248</td>\n",
       "      <td>2019-08-05</td>\n",
       "    </tr>\n",
       "  </tbody>\n",
       "</table>\n",
       "</div>"
      ],
      "text/plain": [
       "                          event              user_id            datetime  \\\n",
       "84871          MainScreenAppear  7787161900943974716 2019-08-03 10:02:57   \n",
       "171964  PaymentScreenSuccessful  2457989834692826118 2019-08-05 18:21:24   \n",
       "\n",
       "        group       date  \n",
       "84871     248 2019-08-03  \n",
       "171964    248 2019-08-05  "
      ]
     },
     "execution_count": 15,
     "metadata": {},
     "output_type": "execute_result"
    }
   ],
   "source": [
    "df.sample(2)"
   ]
  },
  {
   "cell_type": "markdown",
   "id": "68f5f1f5",
   "metadata": {},
   "source": [
    "Проверим на неявные дубликаты столбцы 'group' и 'event'"
   ]
  },
  {
   "cell_type": "code",
   "execution_count": 16,
   "id": "f2b85e5d",
   "metadata": {},
   "outputs": [
    {
     "data": {
      "text/plain": [
       "array([246, 248, 247], dtype=int64)"
      ]
     },
     "execution_count": 16,
     "metadata": {},
     "output_type": "execute_result"
    }
   ],
   "source": [
    "df['group'].unique()"
   ]
  },
  {
   "cell_type": "code",
   "execution_count": 17,
   "id": "dd86fd5e",
   "metadata": {},
   "outputs": [
    {
     "data": {
      "text/plain": [
       "array(['MainScreenAppear', 'PaymentScreenSuccessful', 'CartScreenAppear',\n",
       "       'OffersScreenAppear', 'Tutorial'], dtype=object)"
      ]
     },
     "execution_count": 17,
     "metadata": {},
     "output_type": "execute_result"
    }
   ],
   "source": [
    "df['event'].unique()"
   ]
  },
  {
   "cell_type": "markdown",
   "id": "597136ba",
   "metadata": {},
   "source": [
    "Проверка на уникальность пользователей в группах (один пользователь не должен быть в двух группах)"
   ]
  },
  {
   "cell_type": "code",
   "execution_count": 18,
   "id": "ddb45f67",
   "metadata": {},
   "outputs": [
    {
     "name": "stdout",
     "output_type": "stream",
     "text": [
      "Количество пересекающихся пользователей 246 и 247: 0\n",
      "Количество пересекающихся пользователей 247 и 248: 0\n",
      "Количество пересекающихся пользователей 246 и 248: 0\n"
     ]
    }
   ],
   "source": [
    "users_246 = df[df['group'] == '246']['user_id'].unique()\n",
    "users_247 = df[df['group'] == '247']['user_id'].unique()\n",
    "users_248 = df[df['group'] == '248']['user_id'].unique()\n",
    "\n",
    "visitors_dubbled = pd.Series(np.intersect1d(users_246, users_247))\n",
    "print('Количество пересекающихся пользователей 246 и 247:', len(visitors_dubbled))\n",
    "visitors_dubbled = pd.Series(np.intersect1d(users_247, users_248))\n",
    "print('Количество пересекающихся пользователей 247 и 248:', len(visitors_dubbled))\n",
    "visitors_dubbled = pd.Series(np.intersect1d(users_246, users_248))\n",
    "print('Количество пересекающихся пользователей 246 и 248:', len(visitors_dubbled))"
   ]
  },
  {
   "cell_type": "markdown",
   "id": "a657e5e5",
   "metadata": {},
   "source": [
    "<div style=\"border:solid purple 2px; padding: 20px\">  \n",
    "    \n",
    "Итоги предобраотки:\n",
    "- пропуск отсутствуют\n",
    "- явные дубликаты удалили\n",
    "- неявные дубликаты отсутствуют\n",
    "- заменили названия столбцов\n",
    "- добавили дату без времени\n",
    "\n",
    "</div>"
   ]
  },
  {
   "cell_type": "markdown",
   "id": "d8a80c0a",
   "metadata": {},
   "source": [
    "### Шаг 3. Изучите и проверьте данные<a name=\"3\"></a>"
   ]
  },
  {
   "cell_type": "markdown",
   "id": "9c409650",
   "metadata": {},
   "source": [
    "**Озор данных**\n",
    "- Сколько всего событий в логе?\n",
    "- Сколько всего пользователей в логе?\n",
    "- Сколько в среднем событий приходится на пользователя?\n",
    "- Данными за какой период вы располагаете?\n",
    "- Найдите максимальную и минимальную дату\n",
    "\n",
    "**Исследование данных**  \n",
    "- Постройте гистограмму по дате и времени.  \n",
    "- Можно ли быть уверенным, что у вас одинаково полные данные за весь период? \n",
    "\n",
    "**Преобразование и проверка данных**\n",
    "- Технически в логи новых дней по некоторым пользователям могут «доезжать» события из прошлого — это может «перекашивать данные». Определите, с какого момента данные полные и отбросьте более старые. Данными за какой период времени вы располагаете на самом деле?\n",
    "- Много ли событий и пользователей вы потеряли, отбросив старые данные?\n",
    "- Проверьте, что у вас есть пользователи из всех трёх экспериментальных групп."
   ]
  },
  {
   "cell_type": "markdown",
   "id": "cd81c7ee",
   "metadata": {},
   "source": [
    "### Обзор данных<a name=\"11\"></a>"
   ]
  },
  {
   "cell_type": "code",
   "execution_count": 19,
   "id": "caa5ec57",
   "metadata": {},
   "outputs": [
    {
     "name": "stdout",
     "output_type": "stream",
     "text": [
      "Событий в логе: 243713\n",
      "Пользователей в логе: 7551\n",
      "Событий в среднем на одного пользователя: 32.28\n"
     ]
    }
   ],
   "source": [
    "print('Событий в логе:', len(df['event']))\n",
    "print('Пользователей в логе:', len(df['user_id'].unique()))\n",
    "avg_events = round(len(df['event']) / len(df['user_id'].unique()), 2)\n",
    "print('Событий в среднем на одного пользователя:', avg_events)"
   ]
  },
  {
   "cell_type": "code",
   "execution_count": 20,
   "id": "493fedc1",
   "metadata": {},
   "outputs": [
    {
     "name": "stdout",
     "output_type": "stream",
     "text": [
      "События в логах за период с 25 Jul 2019, 04:43:36 по 07 Aug 2019, 21:15:17\n",
      "Общая продолжительность периода с логами: 13 days 16:31:41\n"
     ]
    }
   ],
   "source": [
    "first_date = df['datetime'].min().strftime(\"%d %b %Y, %H:%M:%S\")\n",
    "last_date = df['datetime'].max().strftime(\"%d %b %Y, %H:%M:%S\")\n",
    "date_diff = df['datetime'].max() - df['datetime'].min()\n",
    "print(f'События в логах за период с {first_date} по {last_date}')\n",
    "print('Общая продолжительность периода с логами:', str(date_diff))"
   ]
  },
  {
   "cell_type": "code",
   "execution_count": 21,
   "id": "001594ca",
   "metadata": {},
   "outputs": [
    {
     "name": "stdout",
     "output_type": "stream",
     "text": [
      "Минимальная дата: 25 Jul 2019, 04:43:36\n",
      "Максимальная дата: 07 Aug 2019, 21:15:17\n"
     ]
    }
   ],
   "source": [
    "print('Минимальная дата:', first_date)\n",
    "print('Максимальная дата:', last_date)"
   ]
  },
  {
   "cell_type": "markdown",
   "id": "2015742d",
   "metadata": {},
   "source": [
    "### Исследование данных<a name=\"12\"></a>"
   ]
  },
  {
   "cell_type": "markdown",
   "id": "86a625d3",
   "metadata": {},
   "source": [
    "Постройте гистограмму по дате и времени."
   ]
  },
  {
   "cell_type": "code",
   "execution_count": 22,
   "id": "d06b03dc",
   "metadata": {},
   "outputs": [],
   "source": [
    "date_count = df.groupby('date').agg({'event': 'count'}).reset_index()"
   ]
  },
  {
   "cell_type": "code",
   "execution_count": 23,
   "id": "db854fd1",
   "metadata": {},
   "outputs": [],
   "source": [
    "date_count = date_count.rename(columns={'event' : 'count'})"
   ]
  },
  {
   "cell_type": "code",
   "execution_count": 24,
   "id": "ab393dbc",
   "metadata": {},
   "outputs": [
    {
     "data": {
      "text/html": [
       "<div>\n",
       "<style scoped>\n",
       "    .dataframe tbody tr th:only-of-type {\n",
       "        vertical-align: middle;\n",
       "    }\n",
       "\n",
       "    .dataframe tbody tr th {\n",
       "        vertical-align: top;\n",
       "    }\n",
       "\n",
       "    .dataframe thead th {\n",
       "        text-align: right;\n",
       "    }\n",
       "</style>\n",
       "<table border=\"1\" class=\"dataframe\">\n",
       "  <thead>\n",
       "    <tr style=\"text-align: right;\">\n",
       "      <th></th>\n",
       "      <th>date</th>\n",
       "      <th>count</th>\n",
       "    </tr>\n",
       "  </thead>\n",
       "  <tbody>\n",
       "    <tr>\n",
       "      <th>0</th>\n",
       "      <td>2019-07-25</td>\n",
       "      <td>9</td>\n",
       "    </tr>\n",
       "    <tr>\n",
       "      <th>1</th>\n",
       "      <td>2019-07-26</td>\n",
       "      <td>31</td>\n",
       "    </tr>\n",
       "    <tr>\n",
       "      <th>2</th>\n",
       "      <td>2019-07-27</td>\n",
       "      <td>55</td>\n",
       "    </tr>\n",
       "    <tr>\n",
       "      <th>3</th>\n",
       "      <td>2019-07-28</td>\n",
       "      <td>105</td>\n",
       "    </tr>\n",
       "    <tr>\n",
       "      <th>4</th>\n",
       "      <td>2019-07-29</td>\n",
       "      <td>184</td>\n",
       "    </tr>\n",
       "    <tr>\n",
       "      <th>5</th>\n",
       "      <td>2019-07-30</td>\n",
       "      <td>412</td>\n",
       "    </tr>\n",
       "    <tr>\n",
       "      <th>6</th>\n",
       "      <td>2019-07-31</td>\n",
       "      <td>2030</td>\n",
       "    </tr>\n",
       "    <tr>\n",
       "      <th>7</th>\n",
       "      <td>2019-08-01</td>\n",
       "      <td>36141</td>\n",
       "    </tr>\n",
       "    <tr>\n",
       "      <th>8</th>\n",
       "      <td>2019-08-02</td>\n",
       "      <td>35554</td>\n",
       "    </tr>\n",
       "    <tr>\n",
       "      <th>9</th>\n",
       "      <td>2019-08-03</td>\n",
       "      <td>33282</td>\n",
       "    </tr>\n",
       "    <tr>\n",
       "      <th>10</th>\n",
       "      <td>2019-08-04</td>\n",
       "      <td>32968</td>\n",
       "    </tr>\n",
       "    <tr>\n",
       "      <th>11</th>\n",
       "      <td>2019-08-05</td>\n",
       "      <td>36058</td>\n",
       "    </tr>\n",
       "    <tr>\n",
       "      <th>12</th>\n",
       "      <td>2019-08-06</td>\n",
       "      <td>35788</td>\n",
       "    </tr>\n",
       "    <tr>\n",
       "      <th>13</th>\n",
       "      <td>2019-08-07</td>\n",
       "      <td>31096</td>\n",
       "    </tr>\n",
       "  </tbody>\n",
       "</table>\n",
       "</div>"
      ],
      "text/plain": [
       "         date  count\n",
       "0  2019-07-25      9\n",
       "1  2019-07-26     31\n",
       "2  2019-07-27     55\n",
       "3  2019-07-28    105\n",
       "4  2019-07-29    184\n",
       "5  2019-07-30    412\n",
       "6  2019-07-31   2030\n",
       "7  2019-08-01  36141\n",
       "8  2019-08-02  35554\n",
       "9  2019-08-03  33282\n",
       "10 2019-08-04  32968\n",
       "11 2019-08-05  36058\n",
       "12 2019-08-06  35788\n",
       "13 2019-08-07  31096"
      ]
     },
     "execution_count": 24,
     "metadata": {},
     "output_type": "execute_result"
    }
   ],
   "source": [
    "date_count"
   ]
  },
  {
   "cell_type": "code",
   "execution_count": 25,
   "id": "37e0d141",
   "metadata": {},
   "outputs": [],
   "source": [
    "keys = list(date_count['date'])\n",
    "vals = list(date_count ['count'])"
   ]
  },
  {
   "cell_type": "code",
   "execution_count": 26,
   "id": "b25b31e4",
   "metadata": {},
   "outputs": [
    {
     "data": {
      "image/png": "[encoded data removed]",
      "text/plain": [
       "<Figure size 1200x400 with 1 Axes>"
      ]
     },
     "metadata": {},
     "output_type": "display_data"
    }
   ],
   "source": [
    "plt.figure(figsize=(12, 4))\n",
    "plt.bar(keys, vals, color='#48C9AB')\n",
    "ax = plt.gca()\n",
    "\n",
    "ax.xaxis.set_major_locator(mdates.DayLocator(interval=1))\n",
    "ax.xaxis.set_major_formatter(mdates.DateFormatter('%d-%m-%Y'))\n",
    "plt.gcf().autofmt_xdate()\n",
    "plt.xlabel('Дата');\n",
    "plt.ylabel('Частота');\n",
    "plt.title('Частотность событий по дате');\n",
    "plt.show()"
   ]
  },
  {
   "cell_type": "markdown",
   "id": "1b124ce3",
   "metadata": {},
   "source": [
    "<div style=\"border:solid purple 2px; padding: 20px\">  \n",
    "    \n",
    "Мы не можем быть уверены, что у нас полные данные за весь период.  \n",
    "Исходя из данных A/B тест скорее всего полноценно старовал 01.08.2019 и продолжался неделю по 07.08.2019.\n",
    "\n",
    "Возьмем данные за период с 01.08.2019 по 07.08.2019.  \n",
    "Удалим остальные данные.\n",
    "</div>"
   ]
  },
  {
   "cell_type": "markdown",
   "id": "98e16537",
   "metadata": {},
   "source": [
    "### Преобразование и проверка данных<a name=\"13\"></a>"
   ]
  },
  {
   "cell_type": "markdown",
   "id": "db1b767c",
   "metadata": {},
   "source": [
    "Удалим данные за периоды с 2019-07-24 по 2019-07-31 и за 2019-08-08"
   ]
  },
  {
   "cell_type": "code",
   "execution_count": 27,
   "id": "dfc1a40d",
   "metadata": {},
   "outputs": [
    {
     "name": "stdout",
     "output_type": "stream",
     "text": [
      "До удаления было записей: 243713\n",
      "До удаления было пользователей: 7551\n"
     ]
    }
   ],
   "source": [
    "before_drop = len(df)\n",
    "u_before_drop = len(df['user_id'].unique())\n",
    "print('До удаления было записей:', before_drop)\n",
    "print('До удаления было пользователей:', u_before_drop)"
   ]
  },
  {
   "cell_type": "code",
   "execution_count": 28,
   "id": "f550e9b9",
   "metadata": {},
   "outputs": [],
   "source": [
    "drop_dates = pd.date_range(\n",
    "    '24-07-2019',\n",
    "    '31-07-2019'\n",
    ").strftime('%Y-%m-%d').tolist()"
   ]
  },
  {
   "cell_type": "code",
   "execution_count": 29,
   "id": "ccd9a596",
   "metadata": {},
   "outputs": [],
   "source": [
    "drop_dates.append('2019-08-08')"
   ]
  },
  {
   "cell_type": "code",
   "execution_count": 30,
   "id": "9762eb05",
   "metadata": {
    "scrolled": false
   },
   "outputs": [
    {
     "data": {
      "text/plain": [
       "['2019-07-24',\n",
       " '2019-07-25',\n",
       " '2019-07-26',\n",
       " '2019-07-27',\n",
       " '2019-07-28',\n",
       " '2019-07-29',\n",
       " '2019-07-30',\n",
       " '2019-07-31',\n",
       " '2019-08-08']"
      ]
     },
     "execution_count": 30,
     "metadata": {},
     "output_type": "execute_result"
    }
   ],
   "source": [
    "drop_dates"
   ]
  },
  {
   "cell_type": "code",
   "execution_count": 31,
   "id": "1e27c443",
   "metadata": {
    "scrolled": true
   },
   "outputs": [],
   "source": [
    "df['date_str'] = df['date'].apply(lambda x: str(x))"
   ]
  },
  {
   "cell_type": "code",
   "execution_count": 32,
   "id": "d8355ec7",
   "metadata": {},
   "outputs": [],
   "source": [
    "df['date_str'] = df['date_str'].apply(lambda x: x[0:10])"
   ]
  },
  {
   "cell_type": "code",
   "execution_count": 33,
   "id": "ffa7c158",
   "metadata": {},
   "outputs": [],
   "source": [
    "df.drop(df.loc[df['date_str'].isin(drop_dates)].index, inplace=True)"
   ]
  },
  {
   "cell_type": "code",
   "execution_count": 34,
   "id": "8a69ce29",
   "metadata": {},
   "outputs": [],
   "source": [
    "df.drop(columns=['date_str']);"
   ]
  },
  {
   "cell_type": "code",
   "execution_count": 35,
   "id": "d68a9a63",
   "metadata": {},
   "outputs": [
    {
     "name": "stdout",
     "output_type": "stream",
     "text": [
      " После удаления стало записей: 240887\n",
      " Было удалено данных 2826 \n",
      " Удаленных % 1.01\n"
     ]
    }
   ],
   "source": [
    "print(' После удаления стало записей:', len(df))\n",
    "print(' Было удалено данных', before_drop-len(df), '\\n', 'Удаленных %', round(before_drop/len(df),2))"
   ]
  },
  {
   "cell_type": "code",
   "execution_count": 36,
   "id": "2f6edfaf",
   "metadata": {},
   "outputs": [
    {
     "name": "stdout",
     "output_type": "stream",
     "text": [
      " После удаления стало Пользователей: 7534\n",
      " Было удалено пользователей 17 \n",
      " Удаленных % 0.0\n"
     ]
    }
   ],
   "source": [
    "print(' После удаления стало Пользователей:', len(df['user_id'].unique()))\n",
    "print(' Было удалено пользователей', u_before_drop-len(\n",
    "    df['user_id'].unique()), '\\n', 'Удаленных %', round((u_before_drop-len(\n",
    "        df['user_id'].unique()))/len(df['user_id'].unique()), 2))"
   ]
  },
  {
   "cell_type": "markdown",
   "id": "9e647aaf",
   "metadata": {},
   "source": [
    "Событий удалили 2826, но пользователей осталось столько же, значит у этих пользователей было несколько действий."
   ]
  },
  {
   "cell_type": "markdown",
   "id": "7013d038",
   "metadata": {},
   "source": [
    "Посчитаем заново события в расчете на пользователя"
   ]
  },
  {
   "cell_type": "code",
   "execution_count": 37,
   "id": "dbf40d9b",
   "metadata": {},
   "outputs": [
    {
     "name": "stdout",
     "output_type": "stream",
     "text": [
      "Событий в среднем на одного пользователя: 31.97\n"
     ]
    }
   ],
   "source": [
    "avg_events = round(len(df['event']) / len(df['user_id'].unique()), 2)\n",
    "print('Событий в среднем на одного пользователя:', avg_events)"
   ]
  },
  {
   "cell_type": "markdown",
   "id": "e6f2e3bd",
   "metadata": {},
   "source": [
    "Посчитаем сколько пользователей в каждой группе"
   ]
  },
  {
   "cell_type": "code",
   "execution_count": 38,
   "id": "6785bee4",
   "metadata": {
    "scrolled": true
   },
   "outputs": [
    {
     "name": "stdout",
     "output_type": "stream",
     "text": [
      "Групп в датасете 246 247 248 \n",
      "\n",
      "Пользователей в группе 246: 2484\n",
      "Пользователей в группе 247: 2513\n",
      "Пользователей в группе 248: 2537\n"
     ]
    }
   ],
   "source": [
    "print('Групп в датасете', *df['group'].unique(), '\\n')\n",
    "print('Пользователей в группе 246:', len(df[df['group'] == 246]['user_id'].unique()))\n",
    "print('Пользователей в группе 247:', len(df[df['group'] == 247]['user_id'].unique()))\n",
    "print('Пользователей в группе 248:', len(df[df['group'] == 248]['user_id'].unique()))"
   ]
  },
  {
   "cell_type": "markdown",
   "id": "4d36b769",
   "metadata": {},
   "source": [
    "Все группы на месте, количество пользователей распределено равномерно, можно работать."
   ]
  },
  {
   "cell_type": "markdown",
   "id": "e28f0a52",
   "metadata": {},
   "source": [
    "<div style=\"border:solid purple 2px; padding: 20px\">  \n",
    "    \n",
    "По итогам данного блока:\n",
    "- Были удалены события не входящие в период исследования, событий удалено 2826, пользователей удалено 17\n",
    "- Определены минимальная и максимальная дата датасета '2019-08-01' по '2019-08-07'\n",
    "- Определен период исследования - 1 неделя\n",
    "- Удалены даты с недостаточным объемом данных\n",
    "- Изучили данные: событий 240 887, в среднем событий на одного пользователя 31.97, пользователей в каждой группе 2500 +- 50\n",
    "\n",
    "</div>"
   ]
  },
  {
   "cell_type": "markdown",
   "id": "ae857be3",
   "metadata": {},
   "source": [
    "### Шаг 4. Изучите воронку событий<a name=\"4\"></a>"
   ]
  },
  {
   "cell_type": "markdown",
   "id": "c68dbb0f",
   "metadata": {},
   "source": [
    "**Подготовка воронки событий**\n",
    "- Посмотрите, какие события есть в логах, как часто они встречаются. Отсортируйте события по частоте.  \n",
    "- Посчитайте, сколько пользователей совершали каждое из этих событий. Отсортируйте события по числу пользователей. Посчитайте долю пользователей, которые хоть раз совершали событие.  \n",
    "- Предположите, в каком порядке происходят события. Все ли они выстраиваются в последовательную цепочку? Их не нужно учитывать при расчёте воронки.  \n",
    "\n",
    "**Воронка событий**\n",
    "- По воронке событий посчитайте, какая доля пользователей проходит на следующий шаг воронки (от числа пользователей на предыдущем). То есть для последовательности событий A → B → C посчитайте отношение числа пользователей с событием B к количеству пользователей с событием A, а также отношение числа пользователей с событием C к количеству пользователей с событием B.  \n",
    "- На каком шаге теряете больше всего пользователей?  \n",
    "- Какая доля пользователей доходит от первого события до оплаты?  "
   ]
  },
  {
   "cell_type": "markdown",
   "id": "297d28de",
   "metadata": {},
   "source": [
    "### Подготовка воронки событий<a name=\"41\"></a>"
   ]
  },
  {
   "cell_type": "markdown",
   "id": "bd9aea79",
   "metadata": {},
   "source": [
    "**Посмотрим, какие события есть в логах, как часто они встречаются. Отсортируем события по частоте**"
   ]
  },
  {
   "cell_type": "code",
   "execution_count": 39,
   "id": "4cd0dd7d",
   "metadata": {
    "scrolled": false
   },
   "outputs": [
    {
     "data": {
      "text/html": [
       "<div>\n",
       "<style scoped>\n",
       "    .dataframe tbody tr th:only-of-type {\n",
       "        vertical-align: middle;\n",
       "    }\n",
       "\n",
       "    .dataframe tbody tr th {\n",
       "        vertical-align: top;\n",
       "    }\n",
       "\n",
       "    .dataframe thead th {\n",
       "        text-align: right;\n",
       "    }\n",
       "</style>\n",
       "<table border=\"1\" class=\"dataframe\">\n",
       "  <thead>\n",
       "    <tr style=\"text-align: right;\">\n",
       "      <th></th>\n",
       "      <th>event</th>\n",
       "      <th>count</th>\n",
       "    </tr>\n",
       "  </thead>\n",
       "  <tbody>\n",
       "    <tr>\n",
       "      <th>0</th>\n",
       "      <td>Tutorial</td>\n",
       "      <td>1005</td>\n",
       "    </tr>\n",
       "    <tr>\n",
       "      <th>1</th>\n",
       "      <td>PaymentScreenSuccessful</td>\n",
       "      <td>33918</td>\n",
       "    </tr>\n",
       "    <tr>\n",
       "      <th>2</th>\n",
       "      <td>CartScreenAppear</td>\n",
       "      <td>42303</td>\n",
       "    </tr>\n",
       "    <tr>\n",
       "      <th>3</th>\n",
       "      <td>OffersScreenAppear</td>\n",
       "      <td>46333</td>\n",
       "    </tr>\n",
       "    <tr>\n",
       "      <th>4</th>\n",
       "      <td>MainScreenAppear</td>\n",
       "      <td>117328</td>\n",
       "    </tr>\n",
       "  </tbody>\n",
       "</table>\n",
       "</div>"
      ],
      "text/plain": [
       "                     event   count\n",
       "0                 Tutorial    1005\n",
       "1  PaymentScreenSuccessful   33918\n",
       "2         CartScreenAppear   42303\n",
       "3       OffersScreenAppear   46333\n",
       "4         MainScreenAppear  117328"
      ]
     },
     "execution_count": 39,
     "metadata": {},
     "output_type": "execute_result"
    }
   ],
   "source": [
    "df_events = df.groupby('event').agg({'user_id': 'count'}).reset_index()\n",
    "df_events = df_events.rename(\n",
    "    columns={'user_id' : 'count'}).sort_values(by='count', ascending=True).reset_index(drop=True)\n",
    "df_events"
   ]
  },
  {
   "cell_type": "markdown",
   "id": "e76be2c5",
   "metadata": {},
   "source": [
    "<div style=\"border:solid purple 2px; padding: 20px\">  \n",
    "    \n",
    "Этап с переходом от главного экрана к странице с преложением дает наибольшую просадку.  \n",
    "Прохождение обучения (инструкции) скорее всего является необязательным этапом, который пользователи пропускают.\n",
    "\n",
    "</div>"
   ]
  },
  {
   "cell_type": "markdown",
   "id": "6b017420",
   "metadata": {},
   "source": [
    "**Посчитаем, сколько пользователей совершали каждое из этих событий.  \n",
    "Отсортируем события по числу пользователей.  \n",
    "Посчитаем долю пользователей, которые хоть раз совершали событие.**"
   ]
  },
  {
   "cell_type": "code",
   "execution_count": 40,
   "id": "011d76da",
   "metadata": {},
   "outputs": [
    {
     "data": {
      "text/html": [
       "<div>\n",
       "<style scoped>\n",
       "    .dataframe tbody tr th:only-of-type {\n",
       "        vertical-align: middle;\n",
       "    }\n",
       "\n",
       "    .dataframe tbody tr th {\n",
       "        vertical-align: top;\n",
       "    }\n",
       "\n",
       "    .dataframe thead th {\n",
       "        text-align: right;\n",
       "    }\n",
       "</style>\n",
       "<table border=\"1\" class=\"dataframe\">\n",
       "  <thead>\n",
       "    <tr style=\"text-align: right;\">\n",
       "      <th></th>\n",
       "      <th>event</th>\n",
       "      <th>nunique</th>\n",
       "    </tr>\n",
       "  </thead>\n",
       "  <tbody>\n",
       "    <tr>\n",
       "      <th>0</th>\n",
       "      <td>Tutorial</td>\n",
       "      <td>840</td>\n",
       "    </tr>\n",
       "    <tr>\n",
       "      <th>1</th>\n",
       "      <td>PaymentScreenSuccessful</td>\n",
       "      <td>3539</td>\n",
       "    </tr>\n",
       "    <tr>\n",
       "      <th>2</th>\n",
       "      <td>CartScreenAppear</td>\n",
       "      <td>3734</td>\n",
       "    </tr>\n",
       "    <tr>\n",
       "      <th>3</th>\n",
       "      <td>OffersScreenAppear</td>\n",
       "      <td>4593</td>\n",
       "    </tr>\n",
       "    <tr>\n",
       "      <th>4</th>\n",
       "      <td>MainScreenAppear</td>\n",
       "      <td>7419</td>\n",
       "    </tr>\n",
       "  </tbody>\n",
       "</table>\n",
       "</div>"
      ],
      "text/plain": [
       "                     event  nunique\n",
       "0                 Tutorial      840\n",
       "1  PaymentScreenSuccessful     3539\n",
       "2         CartScreenAppear     3734\n",
       "3       OffersScreenAppear     4593\n",
       "4         MainScreenAppear     7419"
      ]
     },
     "execution_count": 40,
     "metadata": {},
     "output_type": "execute_result"
    }
   ],
   "source": [
    "df_users = df.groupby('event').agg({'user_id': 'nunique'}).reset_index()\n",
    "df_users = df_users.rename(columns={'user_id': 'nunique'}).sort_values(by='nunique', ascending=True).reset_index(drop=True)\n",
    "df_users"
   ]
  },
  {
   "cell_type": "markdown",
   "id": "7bbfe51c",
   "metadata": {},
   "source": [
    "Пользователь с одним действием - пользователь совершивший одно любое событие"
   ]
  },
  {
   "cell_type": "code",
   "execution_count": 41,
   "id": "2f59038b",
   "metadata": {},
   "outputs": [
    {
     "name": "stdout",
     "output_type": "stream",
     "text": [
      "Пользователей, совершивших хотя бы одной дейсвтие: 7534\n",
      "Всего пользователей 7534\n",
      "% активных пользователей 100.0\n"
     ]
    }
   ],
   "source": [
    "event_by_users = df.groupby('user_id').agg({'event': 'nunique'}).reset_index()\n",
    "print('Пользователей, совершивших хотя бы одной дейсвтие:', len(event_by_users.query('event>=1')))\n",
    "print('Всего пользователей', len(df['user_id'].unique()))\n",
    "print('% активных пользователей', round(len(event_by_users.query('event>=1'))/len(df['user_id'].unique()) * 100, 1))"
   ]
  },
  {
   "cell_type": "markdown",
   "id": "4b3f9a04",
   "metadata": {},
   "source": [
    "<div style=\"border:solid purple 2px; padding: 20px\">  \n",
    "    \n",
    "Этап с переходом от главного экрана к странице с преложением дает наибольшую просадку.  \n",
    "Прохождение обучения (инструкции) скорее всего является необязательным этапом, который пользователи пропускают.  \n",
    "Также заметно снижение переходов из приложения в корзину.\n",
    "\n",
    "Самый успешный этап - переход из корзины на экран оплаты.  \n",
    "100% пользователей совершившили хотя бы одно действие в приложении.   \n",
    "\n",
    "Наши пользователи очень активны, в среднем пользователь совершает 32 события.\n",
    "</div>"
   ]
  },
  {
   "cell_type": "markdown",
   "id": "f56caebc",
   "metadata": {},
   "source": [
    "Запишем события по пользователям без события Tutorial"
   ]
  },
  {
   "cell_type": "code",
   "execution_count": 42,
   "id": "84bc35dc",
   "metadata": {},
   "outputs": [
    {
     "data": {
      "text/html": [
       "<div>\n",
       "<style scoped>\n",
       "    .dataframe tbody tr th:only-of-type {\n",
       "        vertical-align: middle;\n",
       "    }\n",
       "\n",
       "    .dataframe tbody tr th {\n",
       "        vertical-align: top;\n",
       "    }\n",
       "\n",
       "    .dataframe thead th {\n",
       "        text-align: right;\n",
       "    }\n",
       "</style>\n",
       "<table border=\"1\" class=\"dataframe\">\n",
       "  <thead>\n",
       "    <tr style=\"text-align: right;\">\n",
       "      <th></th>\n",
       "      <th>event</th>\n",
       "      <th>nunique</th>\n",
       "    </tr>\n",
       "  </thead>\n",
       "  <tbody>\n",
       "    <tr>\n",
       "      <th>0</th>\n",
       "      <td>PaymentScreenSuccessful</td>\n",
       "      <td>3539</td>\n",
       "    </tr>\n",
       "    <tr>\n",
       "      <th>1</th>\n",
       "      <td>CartScreenAppear</td>\n",
       "      <td>3734</td>\n",
       "    </tr>\n",
       "    <tr>\n",
       "      <th>2</th>\n",
       "      <td>OffersScreenAppear</td>\n",
       "      <td>4593</td>\n",
       "    </tr>\n",
       "    <tr>\n",
       "      <th>3</th>\n",
       "      <td>MainScreenAppear</td>\n",
       "      <td>7419</td>\n",
       "    </tr>\n",
       "  </tbody>\n",
       "</table>\n",
       "</div>"
      ],
      "text/plain": [
       "                     event  nunique\n",
       "0  PaymentScreenSuccessful     3539\n",
       "1         CartScreenAppear     3734\n",
       "2       OffersScreenAppear     4593\n",
       "3         MainScreenAppear     7419"
      ]
     },
     "execution_count": 42,
     "metadata": {},
     "output_type": "execute_result"
    }
   ],
   "source": [
    "df_users = df_users.drop([0]).reset_index(drop=True)\n",
    "df_users"
   ]
  },
  {
   "cell_type": "markdown",
   "id": "af1e0768",
   "metadata": {},
   "source": [
    "**Предположите, в каком порядке происходят события.  \n",
    "Все ли они выстраиваются в последовательную цепочку?  \n",
    "Их не нужно учитывать при расчёте воронки.**  "
   ]
  },
  {
   "cell_type": "markdown",
   "id": "1b64c4de",
   "metadata": {},
   "source": [
    "<div style=\"border:solid purple 2px; padding: 20px\"> \n",
    "События выстраиваются в логичную цепочку, кроме 'Tutorial'.  \n",
    "Скорее Tutorial - это необязательная инструкция как пользователя работать с приложением, которая появляется после посещения главной страницы.  \n",
    "Инструкцию можно удалить из воронки.\n",
    "\n",
    "Воронка выглядит следующим образом:\n",
    "1. MainScreenAppear - главная страница\n",
    "2. OffersScreenAppear - страница товарного предложения (карточка)\n",
    "3. CartScreenAppear\t - добавление в корзину\n",
    "4. PaymentScreenSuccessful - успешная оплата товара\n",
    "</div>"
   ]
  },
  {
   "cell_type": "markdown",
   "id": "ac568aa5",
   "metadata": {},
   "source": [
    "### Воронка событий<a name=\"42\"></a>"
   ]
  },
  {
   "cell_type": "markdown",
   "id": "b0cebbd5",
   "metadata": {},
   "source": [
    "**По воронке событий посчитаем, какая доля пользователей проходит на следующий шаг воронки**"
   ]
  },
  {
   "cell_type": "code",
   "execution_count": 43,
   "id": "83a87d78",
   "metadata": {},
   "outputs": [
    {
     "data": {
      "text/html": [
       "<div>\n",
       "<style scoped>\n",
       "    .dataframe tbody tr th:only-of-type {\n",
       "        vertical-align: middle;\n",
       "    }\n",
       "\n",
       "    .dataframe tbody tr th {\n",
       "        vertical-align: top;\n",
       "    }\n",
       "\n",
       "    .dataframe thead th {\n",
       "        text-align: right;\n",
       "    }\n",
       "</style>\n",
       "<table border=\"1\" class=\"dataframe\">\n",
       "  <thead>\n",
       "    <tr style=\"text-align: right;\">\n",
       "      <th></th>\n",
       "      <th>event</th>\n",
       "      <th>nunique</th>\n",
       "    </tr>\n",
       "  </thead>\n",
       "  <tbody>\n",
       "    <tr>\n",
       "      <th>0</th>\n",
       "      <td>PaymentScreenSuccessful</td>\n",
       "      <td>3539</td>\n",
       "    </tr>\n",
       "    <tr>\n",
       "      <th>1</th>\n",
       "      <td>CartScreenAppear</td>\n",
       "      <td>3734</td>\n",
       "    </tr>\n",
       "    <tr>\n",
       "      <th>2</th>\n",
       "      <td>OffersScreenAppear</td>\n",
       "      <td>4593</td>\n",
       "    </tr>\n",
       "    <tr>\n",
       "      <th>3</th>\n",
       "      <td>MainScreenAppear</td>\n",
       "      <td>7419</td>\n",
       "    </tr>\n",
       "  </tbody>\n",
       "</table>\n",
       "</div>"
      ],
      "text/plain": [
       "                     event  nunique\n",
       "0  PaymentScreenSuccessful     3539\n",
       "1         CartScreenAppear     3734\n",
       "2       OffersScreenAppear     4593\n",
       "3         MainScreenAppear     7419"
      ]
     },
     "execution_count": 43,
     "metadata": {},
     "output_type": "execute_result"
    }
   ],
   "source": [
    "df_users"
   ]
  },
  {
   "cell_type": "code",
   "execution_count": 44,
   "id": "b903b0a8",
   "metadata": {},
   "outputs": [
    {
     "data": {
      "text/plain": [
       "3734"
      ]
     },
     "execution_count": 44,
     "metadata": {},
     "output_type": "execute_result"
    }
   ],
   "source": [
    "df_users.loc[1,'nunique']"
   ]
  },
  {
   "cell_type": "code",
   "execution_count": 45,
   "id": "67f1b8ae",
   "metadata": {},
   "outputs": [],
   "source": [
    "conversion = []\n",
    "for i in range(0, len(df_users['nunique'])):\n",
    "    if i == 3:\n",
    "        conversion.append(np.nan)\n",
    "    else:\n",
    "        conversion.append(round(df_users.loc[i,'nunique']/df_users.loc[i+1,'nunique'] * 100,2))"
   ]
  },
  {
   "cell_type": "code",
   "execution_count": 46,
   "id": "b71d7523",
   "metadata": {},
   "outputs": [],
   "source": [
    "df_users['conversion'] = conversion"
   ]
  },
  {
   "cell_type": "code",
   "execution_count": 47,
   "id": "af898cf3",
   "metadata": {},
   "outputs": [
    {
     "data": {
      "text/plain": [
       "7419"
      ]
     },
     "execution_count": 47,
     "metadata": {},
     "output_type": "execute_result"
    }
   ],
   "source": [
    "df_users.loc[3, 'nunique']"
   ]
  },
  {
   "cell_type": "markdown",
   "id": "8d4039be",
   "metadata": {},
   "source": [
    "**Рассчитаем конверсию из каждого предыдущего события**"
   ]
  },
  {
   "cell_type": "code",
   "execution_count": 48,
   "id": "75197979",
   "metadata": {},
   "outputs": [
    {
     "name": "stdout",
     "output_type": "stream",
     "text": [
      "Конверсия в карточку товара 61.91 %\n",
      "Конверсия добавление в корзину 81.3 %\n",
      "Конверсия в оплату 94.78 % \n",
      "\n",
      "Конверсия всех посетителей в оплату 47.7 %\n"
     ]
    }
   ],
   "source": [
    "print('Конверсия в карточку товара', df_users.loc[2,'conversion'], '%')\n",
    "print('Конверсия добавление в корзину', df_users.loc[1,'conversion'], '%')\n",
    "print('Конверсия в оплату', df_users.loc[0,'conversion'], '%', '\\n')\n",
    "conversion_in_payment = round(df_users.loc[0,'nunique'] / df_users.loc[len(df_users['nunique'])-1, 'nunique'] * 100, 2)\n",
    "print('Конверсия всех посетителей в оплату', conversion_in_payment, '%')"
   ]
  },
  {
   "cell_type": "markdown",
   "id": "923e741d",
   "metadata": {},
   "source": [
    "**Рассчитаем конверсию по отношению к общему числу пользователей**"
   ]
  },
  {
   "cell_type": "code",
   "execution_count": 49,
   "id": "5a9ad4e3",
   "metadata": {},
   "outputs": [],
   "source": [
    "df_users['users_total'] = len(df['user_id'].unique())"
   ]
  },
  {
   "cell_type": "code",
   "execution_count": 50,
   "id": "3c310beb",
   "metadata": {},
   "outputs": [],
   "source": [
    "df_users['conversion_by_user'] = round(df_users['nunique'] / df_users['users_total'] * 100, 2)"
   ]
  },
  {
   "cell_type": "code",
   "execution_count": 51,
   "id": "e4070489",
   "metadata": {
    "scrolled": true
   },
   "outputs": [
    {
     "name": "stdout",
     "output_type": "stream",
     "text": [
      "Конверсия пользователя на главную страницу 98.47 %\n",
      "Конверсия пользователя в карточку товара 60.96 %\n",
      "Конверсия пользователя добавление в корзину 49.56 %\n",
      "Конверсия пользователя в оплату 46.97 % \n",
      "\n"
     ]
    }
   ],
   "source": [
    "print('Конверсия пользователя на главную страницу', df_users.loc[3,'conversion_by_user'], '%')\n",
    "print('Конверсия пользователя в карточку товара', df_users.loc[2,'conversion_by_user'], '%')\n",
    "print('Конверсия пользователя добавление в корзину', df_users.loc[1,'conversion_by_user'], '%')\n",
    "print('Конверсия пользователя в оплату', df_users.loc[0,'conversion_by_user'], '%', '\\n')\n",
    "conversion_in_payment = round(df_users.loc[0,'nunique'] / df_users.loc[len(df_users['nunique'])-1, 'nunique'] * 100, 2)"
   ]
  },
  {
   "cell_type": "markdown",
   "id": "b6b11deb",
   "metadata": {},
   "source": [
    "<div style=\"border:solid purple 2px; padding: 20px\">   \n",
    "    \n",
    "Наибольшие потери происходят на начальных этапах - просмотр карточки товара и добавление в корзину.  \n",
    "Например, до просмотра карточки товара доходит всего 61% пользователей.  \n",
    "    \n",
    "Конверсия из корзины в оплату высокая.  \n",
    "Возможно стоит упростить добавление товаров в корзину или поработать над навигацией каталога.\n",
    "\n",
    "Общая конверсия в оплату составляется 47%.\n",
    "</div>"
   ]
  },
  {
   "cell_type": "markdown",
   "id": "3e1c7b10",
   "metadata": {},
   "source": [
    "### Шаг 5. Изучите результаты эксперимента<a name=\"1\"></a>"
   ]
  },
  {
   "cell_type": "markdown",
   "id": "b6ae6c4d",
   "metadata": {},
   "source": [
    "**Подготовка данных к A/B тесту**\n",
    "- Сколько пользователей в каждой экспериментальной группе?  \n",
    "\n",
    "**A/A эксперимент**   \n",
    "\n",
    "- Есть 2 контрольные группы для А/А-эксперимента, чтобы проверить корректность всех механизмов и расчётов.  \n",
    "Проверьте, находят ли статистические критерии разницу между выборками 246 и 247.  \n",
    "- Выберите самое популярное событие. Посчитайте число пользователей, совершивших это событие в каждой из контрольных групп. Посчитайте долю пользователей, совершивших это событие. Проверьте, будет ли отличие между группами статистически достоверным. Проделайте то же самое для всех других событий (удобно обернуть проверку в отдельную функцию). Можно ли сказать, что разбиение на группы работает корректно?  \n",
    "\n",
    "**A/B эксперимент**  \n",
    "\n",
    "- Аналогично поступите с группой с изменённым шрифтом. Сравните результаты с каждой из контрольных групп в отдельности по каждому событию. Сравните результаты с объединённой контрольной группой. Какие выводы из эксперимента можно сделать?\n",
    "- Какой уровень значимости вы выбрали при проверке статистических гипотез выше? Посчитайте, сколько проверок статистических гипотез вы сделали. При уровне значимости 0.1 каждый десятый раз можно получать ложный результат. Какой уровень значимости стоит применить? Если вы хотите изменить его, проделайте предыдущие пункты и проверьте свои выводы."
   ]
  },
  {
   "cell_type": "markdown",
   "id": "0ae02c37",
   "metadata": {},
   "source": [
    "### Подготовка данных к A/B тесту<a name=\"51\"></a>"
   ]
  },
  {
   "cell_type": "markdown",
   "id": "e275609b",
   "metadata": {},
   "source": [
    "**Сколько пользователей в каждой экспериментальной группе?**"
   ]
  },
  {
   "cell_type": "code",
   "execution_count": 52,
   "id": "11891209",
   "metadata": {},
   "outputs": [
    {
     "name": "stdout",
     "output_type": "stream",
     "text": [
      "Пользователей в группе 246: 2484\n",
      "Пользователей в группе 247: 2513\n",
      "Пользователей в группе 248: 2537\n"
     ]
    }
   ],
   "source": [
    "print('Пользователей в группе 246:', len(df[df['group'] == 246]['user_id'].unique()))\n",
    "print('Пользователей в группе 247:', len(df[df['group'] == 247]['user_id'].unique()))\n",
    "print('Пользователей в группе 248:', len(df[df['group'] == 248]['user_id'].unique()))"
   ]
  },
  {
   "cell_type": "code",
   "execution_count": 53,
   "id": "4f6df932",
   "metadata": {},
   "outputs": [
    {
     "name": "stdout",
     "output_type": "stream",
     "text": [
      "Разница в количестве пользователей между контрольными группами составляет: 1.15 %\n"
     ]
    }
   ],
   "source": [
    "print('Разница в количестве пользователей между контрольными группами составляет:', \n",
    "    round((len(df[df['group'] == 247]['user_id'].unique())-len(\n",
    "        df[df['group'] == 246]['user_id'].unique())) / len(df[df['group'] == 247]['user_id'].unique()) * 100, 2),'%')"
   ]
  },
  {
   "cell_type": "markdown",
   "id": "ec9fc3fb",
   "metadata": {},
   "source": [
    "Разница в количестве пользователей в контрольных группах небольшая.  \n",
    "Есть две контрольные группы: 246 и 247.  \n",
    "Пользователи этих групп не видели изменения шрифта.  \n",
    "Чтобы определить, что данные системы аналитики корректны и достоверны проведем сначала тест между контрольными группами (A/A)."
   ]
  },
  {
   "cell_type": "markdown",
   "id": "aec5b2e3",
   "metadata": {},
   "source": [
    "**Сгруппируем датасет по событиям в группах. Сформируем датасет для A/A и A/B тестов.**"
   ]
  },
  {
   "cell_type": "code",
   "execution_count": 54,
   "id": "d48e8d0b",
   "metadata": {},
   "outputs": [],
   "source": [
    "users_by_groups = df.pivot_table(\n",
    "    index='group', columns='event', values='user_id', aggfunc='nunique')"
   ]
  },
  {
   "cell_type": "code",
   "execution_count": 55,
   "id": "a02de6fa",
   "metadata": {
    "scrolled": false
   },
   "outputs": [
    {
     "data": {
      "text/html": [
       "<div>\n",
       "<style scoped>\n",
       "    .dataframe tbody tr th:only-of-type {\n",
       "        vertical-align: middle;\n",
       "    }\n",
       "\n",
       "    .dataframe tbody tr th {\n",
       "        vertical-align: top;\n",
       "    }\n",
       "\n",
       "    .dataframe thead th {\n",
       "        text-align: right;\n",
       "    }\n",
       "</style>\n",
       "<table border=\"1\" class=\"dataframe\">\n",
       "  <thead>\n",
       "    <tr style=\"text-align: right;\">\n",
       "      <th>event</th>\n",
       "      <th>CartScreenAppear</th>\n",
       "      <th>MainScreenAppear</th>\n",
       "      <th>OffersScreenAppear</th>\n",
       "      <th>PaymentScreenSuccessful</th>\n",
       "      <th>Tutorial</th>\n",
       "    </tr>\n",
       "    <tr>\n",
       "      <th>group</th>\n",
       "      <th></th>\n",
       "      <th></th>\n",
       "      <th></th>\n",
       "      <th></th>\n",
       "      <th></th>\n",
       "    </tr>\n",
       "  </thead>\n",
       "  <tbody>\n",
       "    <tr>\n",
       "      <th>246</th>\n",
       "      <td>1266</td>\n",
       "      <td>2450</td>\n",
       "      <td>1542</td>\n",
       "      <td>1200</td>\n",
       "      <td>278</td>\n",
       "    </tr>\n",
       "    <tr>\n",
       "      <th>247</th>\n",
       "      <td>1238</td>\n",
       "      <td>2476</td>\n",
       "      <td>1520</td>\n",
       "      <td>1158</td>\n",
       "      <td>283</td>\n",
       "    </tr>\n",
       "    <tr>\n",
       "      <th>248</th>\n",
       "      <td>1230</td>\n",
       "      <td>2493</td>\n",
       "      <td>1531</td>\n",
       "      <td>1181</td>\n",
       "      <td>279</td>\n",
       "    </tr>\n",
       "  </tbody>\n",
       "</table>\n",
       "</div>"
      ],
      "text/plain": [
       "event  CartScreenAppear  MainScreenAppear  OffersScreenAppear  \\\n",
       "group                                                           \n",
       "246                1266              2450                1542   \n",
       "247                1238              2476                1520   \n",
       "248                1230              2493                1531   \n",
       "\n",
       "event  PaymentScreenSuccessful  Tutorial  \n",
       "group                                     \n",
       "246                       1200       278  \n",
       "247                       1158       283  \n",
       "248                       1181       279  "
      ]
     },
     "execution_count": 55,
     "metadata": {},
     "output_type": "execute_result"
    }
   ],
   "source": [
    "users_by_groups"
   ]
  },
  {
   "cell_type": "markdown",
   "id": "936708f1",
   "metadata": {},
   "source": [
    "Добавим данные по общему количеству пользователей каждой группы"
   ]
  },
  {
   "cell_type": "code",
   "execution_count": 56,
   "id": "841105c3",
   "metadata": {},
   "outputs": [],
   "source": [
    "unique_users = []\n",
    "unique_users.append(len(df[df['group'] == 246]['user_id'].unique()))\n",
    "unique_users.append(len(df[df['group'] == 247]['user_id'].unique()))\n",
    "unique_users.append(len(df[df['group'] == 248]['user_id'].unique()))"
   ]
  },
  {
   "cell_type": "code",
   "execution_count": 57,
   "id": "89010160",
   "metadata": {},
   "outputs": [],
   "source": [
    "users_by_groups['Users'] = unique_users"
   ]
  },
  {
   "cell_type": "code",
   "execution_count": 58,
   "id": "21fc1e05",
   "metadata": {},
   "outputs": [
    {
     "data": {
      "text/html": [
       "<div>\n",
       "<style scoped>\n",
       "    .dataframe tbody tr th:only-of-type {\n",
       "        vertical-align: middle;\n",
       "    }\n",
       "\n",
       "    .dataframe tbody tr th {\n",
       "        vertical-align: top;\n",
       "    }\n",
       "\n",
       "    .dataframe thead th {\n",
       "        text-align: right;\n",
       "    }\n",
       "</style>\n",
       "<table border=\"1\" class=\"dataframe\">\n",
       "  <thead>\n",
       "    <tr style=\"text-align: right;\">\n",
       "      <th>event</th>\n",
       "      <th>CartScreenAppear</th>\n",
       "      <th>MainScreenAppear</th>\n",
       "      <th>OffersScreenAppear</th>\n",
       "      <th>PaymentScreenSuccessful</th>\n",
       "      <th>Tutorial</th>\n",
       "      <th>Users</th>\n",
       "    </tr>\n",
       "    <tr>\n",
       "      <th>group</th>\n",
       "      <th></th>\n",
       "      <th></th>\n",
       "      <th></th>\n",
       "      <th></th>\n",
       "      <th></th>\n",
       "      <th></th>\n",
       "    </tr>\n",
       "  </thead>\n",
       "  <tbody>\n",
       "    <tr>\n",
       "      <th>246</th>\n",
       "      <td>1266</td>\n",
       "      <td>2450</td>\n",
       "      <td>1542</td>\n",
       "      <td>1200</td>\n",
       "      <td>278</td>\n",
       "      <td>2484</td>\n",
       "    </tr>\n",
       "    <tr>\n",
       "      <th>247</th>\n",
       "      <td>1238</td>\n",
       "      <td>2476</td>\n",
       "      <td>1520</td>\n",
       "      <td>1158</td>\n",
       "      <td>283</td>\n",
       "      <td>2513</td>\n",
       "    </tr>\n",
       "    <tr>\n",
       "      <th>248</th>\n",
       "      <td>1230</td>\n",
       "      <td>2493</td>\n",
       "      <td>1531</td>\n",
       "      <td>1181</td>\n",
       "      <td>279</td>\n",
       "      <td>2537</td>\n",
       "    </tr>\n",
       "  </tbody>\n",
       "</table>\n",
       "</div>"
      ],
      "text/plain": [
       "event  CartScreenAppear  MainScreenAppear  OffersScreenAppear  \\\n",
       "group                                                           \n",
       "246                1266              2450                1542   \n",
       "247                1238              2476                1520   \n",
       "248                1230              2493                1531   \n",
       "\n",
       "event  PaymentScreenSuccessful  Tutorial  Users  \n",
       "group                                            \n",
       "246                       1200       278   2484  \n",
       "247                       1158       283   2513  \n",
       "248                       1181       279   2537  "
      ]
     },
     "execution_count": 58,
     "metadata": {},
     "output_type": "execute_result"
    }
   ],
   "source": [
    "users_by_groups"
   ]
  },
  {
   "cell_type": "markdown",
   "id": "b3d6b868",
   "metadata": {},
   "source": [
    "Объединим данные контрольных групп 246 и 247 "
   ]
  },
  {
   "cell_type": "code",
   "execution_count": 59,
   "id": "fc46e197",
   "metadata": {},
   "outputs": [
    {
     "data": {
      "text/plain": [
       "array([3734, 7419, 4593, 3539,  840, 7534], dtype=int64)"
      ]
     },
     "execution_count": 59,
     "metadata": {},
     "output_type": "execute_result"
    }
   ],
   "source": [
    "users_by_groups.sum(axis=0).values"
   ]
  },
  {
   "cell_type": "code",
   "execution_count": 60,
   "id": "b25680f4",
   "metadata": {},
   "outputs": [],
   "source": [
    "users_by_groups.loc['246+247'] = users_by_groups.sum(axis=0).values"
   ]
  },
  {
   "cell_type": "markdown",
   "id": "4b664fd6",
   "metadata": {},
   "source": [
    "Создадим таблицу, где будет конверсия каждого события в разрезе групп"
   ]
  },
  {
   "cell_type": "code",
   "execution_count": 61,
   "id": "28537374",
   "metadata": {},
   "outputs": [
    {
     "data": {
      "text/plain": [
       "array([246, 247, 248, '246+247'], dtype=object)"
      ]
     },
     "execution_count": 61,
     "metadata": {},
     "output_type": "execute_result"
    }
   ],
   "source": [
    "users_by_groups.index.values"
   ]
  },
  {
   "cell_type": "code",
   "execution_count": 62,
   "id": "1e352756",
   "metadata": {},
   "outputs": [],
   "source": [
    "coversion_by_groups = {'Group': list(users_by_groups.index)}\n",
    "coversion_by_groups = pd.DataFrame(coversion_by_groups)\n",
    "for i in users_by_groups.columns[0:5]:\n",
    "    coversion_by_groups[i] = list(round(users_by_groups[i] / users_by_groups['Users'] * 100, 2))"
   ]
  },
  {
   "cell_type": "code",
   "execution_count": 63,
   "id": "c6e0420d",
   "metadata": {},
   "outputs": [
    {
     "data": {
      "text/html": [
       "<div>\n",
       "<style scoped>\n",
       "    .dataframe tbody tr th:only-of-type {\n",
       "        vertical-align: middle;\n",
       "    }\n",
       "\n",
       "    .dataframe tbody tr th {\n",
       "        vertical-align: top;\n",
       "    }\n",
       "\n",
       "    .dataframe thead th {\n",
       "        text-align: right;\n",
       "    }\n",
       "</style>\n",
       "<table border=\"1\" class=\"dataframe\">\n",
       "  <thead>\n",
       "    <tr style=\"text-align: right;\">\n",
       "      <th></th>\n",
       "      <th>Group</th>\n",
       "      <th>CartScreenAppear</th>\n",
       "      <th>MainScreenAppear</th>\n",
       "      <th>OffersScreenAppear</th>\n",
       "      <th>PaymentScreenSuccessful</th>\n",
       "      <th>Tutorial</th>\n",
       "    </tr>\n",
       "  </thead>\n",
       "  <tbody>\n",
       "    <tr>\n",
       "      <th>0</th>\n",
       "      <td>246</td>\n",
       "      <td>50.97</td>\n",
       "      <td>98.63</td>\n",
       "      <td>62.08</td>\n",
       "      <td>48.31</td>\n",
       "      <td>11.19</td>\n",
       "    </tr>\n",
       "    <tr>\n",
       "      <th>1</th>\n",
       "      <td>247</td>\n",
       "      <td>49.26</td>\n",
       "      <td>98.53</td>\n",
       "      <td>60.49</td>\n",
       "      <td>46.08</td>\n",
       "      <td>11.26</td>\n",
       "    </tr>\n",
       "    <tr>\n",
       "      <th>2</th>\n",
       "      <td>248</td>\n",
       "      <td>48.48</td>\n",
       "      <td>98.27</td>\n",
       "      <td>60.35</td>\n",
       "      <td>46.55</td>\n",
       "      <td>11.00</td>\n",
       "    </tr>\n",
       "    <tr>\n",
       "      <th>3</th>\n",
       "      <td>246+247</td>\n",
       "      <td>49.56</td>\n",
       "      <td>98.47</td>\n",
       "      <td>60.96</td>\n",
       "      <td>46.97</td>\n",
       "      <td>11.15</td>\n",
       "    </tr>\n",
       "  </tbody>\n",
       "</table>\n",
       "</div>"
      ],
      "text/plain": [
       "     Group  CartScreenAppear  MainScreenAppear  OffersScreenAppear  \\\n",
       "0      246             50.97             98.63               62.08   \n",
       "1      247             49.26             98.53               60.49   \n",
       "2      248             48.48             98.27               60.35   \n",
       "3  246+247             49.56             98.47               60.96   \n",
       "\n",
       "   PaymentScreenSuccessful  Tutorial  \n",
       "0                    48.31     11.19  \n",
       "1                    46.08     11.26  \n",
       "2                    46.55     11.00  \n",
       "3                    46.97     11.15  "
      ]
     },
     "execution_count": 63,
     "metadata": {},
     "output_type": "execute_result"
    }
   ],
   "source": [
    "coversion_by_groups"
   ]
  },
  {
   "cell_type": "markdown",
   "id": "2187b72f",
   "metadata": {},
   "source": [
    "Финальная таблица для A/A и A/B тестов"
   ]
  },
  {
   "cell_type": "code",
   "execution_count": 64,
   "id": "221020a8",
   "metadata": {},
   "outputs": [
    {
     "data": {
      "text/html": [
       "<div>\n",
       "<style scoped>\n",
       "    .dataframe tbody tr th:only-of-type {\n",
       "        vertical-align: middle;\n",
       "    }\n",
       "\n",
       "    .dataframe tbody tr th {\n",
       "        vertical-align: top;\n",
       "    }\n",
       "\n",
       "    .dataframe thead th {\n",
       "        text-align: right;\n",
       "    }\n",
       "</style>\n",
       "<table border=\"1\" class=\"dataframe\">\n",
       "  <thead>\n",
       "    <tr style=\"text-align: right;\">\n",
       "      <th>event</th>\n",
       "      <th>CartScreenAppear</th>\n",
       "      <th>MainScreenAppear</th>\n",
       "      <th>OffersScreenAppear</th>\n",
       "      <th>PaymentScreenSuccessful</th>\n",
       "      <th>Tutorial</th>\n",
       "      <th>Users</th>\n",
       "    </tr>\n",
       "    <tr>\n",
       "      <th>group</th>\n",
       "      <th></th>\n",
       "      <th></th>\n",
       "      <th></th>\n",
       "      <th></th>\n",
       "      <th></th>\n",
       "      <th></th>\n",
       "    </tr>\n",
       "  </thead>\n",
       "  <tbody>\n",
       "    <tr>\n",
       "      <th>246</th>\n",
       "      <td>1266</td>\n",
       "      <td>2450</td>\n",
       "      <td>1542</td>\n",
       "      <td>1200</td>\n",
       "      <td>278</td>\n",
       "      <td>2484</td>\n",
       "    </tr>\n",
       "    <tr>\n",
       "      <th>247</th>\n",
       "      <td>1238</td>\n",
       "      <td>2476</td>\n",
       "      <td>1520</td>\n",
       "      <td>1158</td>\n",
       "      <td>283</td>\n",
       "      <td>2513</td>\n",
       "    </tr>\n",
       "    <tr>\n",
       "      <th>248</th>\n",
       "      <td>1230</td>\n",
       "      <td>2493</td>\n",
       "      <td>1531</td>\n",
       "      <td>1181</td>\n",
       "      <td>279</td>\n",
       "      <td>2537</td>\n",
       "    </tr>\n",
       "    <tr>\n",
       "      <th>246+247</th>\n",
       "      <td>3734</td>\n",
       "      <td>7419</td>\n",
       "      <td>4593</td>\n",
       "      <td>3539</td>\n",
       "      <td>840</td>\n",
       "      <td>7534</td>\n",
       "    </tr>\n",
       "  </tbody>\n",
       "</table>\n",
       "</div>"
      ],
      "text/plain": [
       "event    CartScreenAppear  MainScreenAppear  OffersScreenAppear  \\\n",
       "group                                                             \n",
       "246                  1266              2450                1542   \n",
       "247                  1238              2476                1520   \n",
       "248                  1230              2493                1531   \n",
       "246+247              3734              7419                4593   \n",
       "\n",
       "event    PaymentScreenSuccessful  Tutorial  Users  \n",
       "group                                              \n",
       "246                         1200       278   2484  \n",
       "247                         1158       283   2513  \n",
       "248                         1181       279   2537  \n",
       "246+247                     3539       840   7534  "
      ]
     },
     "execution_count": 64,
     "metadata": {},
     "output_type": "execute_result"
    }
   ],
   "source": [
    "users_by_groups"
   ]
  },
  {
   "cell_type": "markdown",
   "id": "58c1063e",
   "metadata": {},
   "source": [
    "### А/А-эксперимент<a name=\"52\"></a>"
   ]
  },
  {
   "cell_type": "markdown",
   "id": "1d718bdc",
   "metadata": {},
   "source": [
    "_______________________________________________________________________________________________________________________________\n",
    "**Сформулируем гипотезы**\n",
    "\n",
    "Нулевая гипотеза:  \n",
    "H0 - конверсия пользователя в оплату в контрольных группах 246 и 247 **не различается**\n",
    "\n",
    "Альтернативная гипотеза:  \n",
    "H1 - конверсия пользователя в оплату в контрольных группах 246 и 247 **различается**\n",
    "_______________________________________________________________________________________________________________________________"
   ]
  },
  {
   "cell_type": "markdown",
   "id": "4a4a2cf8",
   "metadata": {},
   "source": [
    "**Применим Z-критерий для нахождения p-value.  \n",
    "Напишем функцию для вычисления p-value с помощью z-критерия.  \n",
    "Сравним конверсию в покупку для групп 246 и 247**"
   ]
  },
  {
   "cell_type": "markdown",
   "id": "55b6c892",
   "metadata": {},
   "source": [
    "Функция принимает на вход:  \n",
    "    \n",
    "- success1 - успех первой группы (покупка)  \n",
    "- gr1 - размер первой группы  \n",
    "- success2 - успех второй группы (покупка)  \n",
    "- gr2 - размер второй группы  \n",
    "- alph - уровень статистической значимости\n",
    "\n",
    "Возвращает два аргумента:\n",
    "- output - текстовый вывод результата теста\n",
    "- p_value - значение p-value"
   ]
  },
  {
   "cell_type": "code",
   "execution_count": 65,
   "id": "3be45423",
   "metadata": {},
   "outputs": [],
   "source": [
    "def z_value(success1, gr1, success2, gr2, alph):\n",
    "    alpha = alph  # критический уровень статистической значимости\n",
    "\n",
    "    p1 = success1/gr1 # пропорция успехов в первой группе\n",
    "    p2 = success2/gr2 # пропорция успехов во второй группе\n",
    "    p_combined = (success1+success2) / (gr1+gr2)\n",
    "\n",
    "    difference = p1 - p2\n",
    "    z = difference / mth.sqrt(p_combined * (1 - p_combined) * (1/gr1 + 1/gr2))\n",
    "    distr = st.norm(0, 1)\n",
    "    p_value = round((1 - distr.cdf(abs(z))) * 2, 4)\n",
    "    if p_value < alpha:\n",
    "        output = 'Отвергаем H0, конверсии отличаются'\n",
    "    else:\n",
    "        output = 'Принимаем H0, конверсии не отличаются'\n",
    "    return output, p_value"
   ]
  },
  {
   "cell_type": "markdown",
   "id": "75246458",
   "metadata": {},
   "source": [
    "Добавим данные на вход в функцию."
   ]
  },
  {
   "cell_type": "code",
   "execution_count": 66,
   "id": "d05148ef",
   "metadata": {},
   "outputs": [],
   "source": [
    "group1 = users_by_groups.loc[246, 'Users']\n",
    "res1= users_by_groups.loc[246, 'PaymentScreenSuccessful']\n",
    "group2 = users_by_groups.loc[247, 'Users']\n",
    "res2= users_by_groups.loc[247, 'PaymentScreenSuccessful']"
   ]
  },
  {
   "cell_type": "code",
   "execution_count": 67,
   "id": "5ec4d763",
   "metadata": {},
   "outputs": [],
   "source": [
    "z_value(res1, group1, res2, group2, 0.05);"
   ]
  },
  {
   "cell_type": "code",
   "execution_count": 68,
   "id": "fe33dab1",
   "metadata": {
    "scrolled": false
   },
   "outputs": [
    {
     "name": "stdout",
     "output_type": "stream",
     "text": [
      " p-value 0.1146 \n",
      " Принимаем H0, конверсии не отличаются\n"
     ]
    }
   ],
   "source": [
    "print(' p-value', z_value(res1, group1, res2, group2, 0.05)[1], '\\n', z_value(res1, group1, res2, group2, 0.05)[0])"
   ]
  },
  {
   "cell_type": "markdown",
   "id": "1b603c88",
   "metadata": {},
   "source": [
    "<div style=\"border:solid purple 2px; padding: 20px\">   \n",
    "    \n",
    "Полученное значение p-value говорит о том, что вероятность получить одинаковые значения большая, а именно 11.46%.  \n",
    "Такая вероятность больше целевых 5%, чтобы делать вывод о значимом различии между конверсиями контрольных групп.    \n",
    "\n",
    "Данные получаемые из системы аналитики достоверны, разбиение на группы корректно, можно проводить основной A/B тест.\n",
    "</div>"
   ]
  },
  {
   "cell_type": "markdown",
   "id": "81e5bb1c",
   "metadata": {},
   "source": [
    "**Проведем A/A тест для всех других событий**"
   ]
  },
  {
   "cell_type": "code",
   "execution_count": 69,
   "id": "85677561",
   "metadata": {},
   "outputs": [
    {
     "data": {
      "text/plain": [
       "Index(['CartScreenAppear', 'MainScreenAppear', 'OffersScreenAppear',\n",
       "       'PaymentScreenSuccessful', 'Tutorial', 'Users'],\n",
       "      dtype='object', name='event')"
      ]
     },
     "execution_count": 69,
     "metadata": {},
     "output_type": "execute_result"
    }
   ],
   "source": [
    "users_by_groups.columns"
   ]
  },
  {
   "cell_type": "markdown",
   "id": "bf06672f",
   "metadata": {},
   "source": [
    "Сохраним события в отдельный список для работы в цикле"
   ]
  },
  {
   "cell_type": "code",
   "execution_count": 70,
   "id": "a275bc3e",
   "metadata": {},
   "outputs": [],
   "source": [
    "AA_events = list(users_by_groups.columns)"
   ]
  },
  {
   "cell_type": "code",
   "execution_count": 71,
   "id": "963848b4",
   "metadata": {},
   "outputs": [],
   "source": [
    "AA_events = [i for i in AA_events if i not in ('PaymentScreenSuccessful', 'Users')]"
   ]
  },
  {
   "cell_type": "markdown",
   "id": "892ec4b9",
   "metadata": {},
   "source": [
    "_______________________________________________________________________________________________________________________________\n",
    "**Сформулируем универсальную гипотезу**\n",
    "\n",
    "Нулевая гипотеза:  \n",
    "H0 - конверсия пользователя для события **N** группах 246 и 247 **не различается**\n",
    "\n",
    "Альтернативная гипотеза:  \n",
    "H1 - конверсия пользователя для события **N** в контрольных группах 246 и 247 **различается**\n",
    "_______________________________________________________________________________________________________________________________"
   ]
  },
  {
   "cell_type": "code",
   "execution_count": 72,
   "id": "c18353f9",
   "metadata": {},
   "outputs": [
    {
     "name": "stdout",
     "output_type": "stream",
     "text": [
      "\n",
      "                      Статистический тест для события CartScreenAppear                      \n",
      "\n",
      "p-value: 0.2288\n",
      "Принимаем H0, конверсии не отличаются\n",
      "\n",
      "                      Статистический тест для события MainScreenAppear                      \n",
      "\n",
      "p-value: 0.7571\n",
      "Принимаем H0, конверсии не отличаются\n",
      "\n",
      "                     Статистический тест для события OffersScreenAppear                     \n",
      "\n",
      "p-value: 0.2481\n",
      "Принимаем H0, конверсии не отличаются\n",
      "\n",
      "                          Статистический тест для события Tutorial                          \n",
      "\n",
      "p-value: 0.9377\n",
      "Принимаем H0, конверсии не отличаются\n"
     ]
    }
   ],
   "source": [
    "for i in AA_events:\n",
    "    group1 = users_by_groups.loc[246, 'Users']\n",
    "    res1= users_by_groups.loc[246, i]\n",
    "    group2 = users_by_groups.loc[247, 'Users']\n",
    "    res2= users_by_groups.loc[247, i]\n",
    "    print('\\n',f' Статистический тест для события {i}'.center(90), '\\n')\n",
    "    y = z_value(res1, group1, res2, group2, 0.05)\n",
    "    print('p-value:', y[1])\n",
    "    print(y[0])"
   ]
  },
  {
   "cell_type": "markdown",
   "id": "f59262cc",
   "metadata": {},
   "source": [
    "<div style=\"border:solid purple 2px; padding: 20px\">   \n",
    "    \n",
    "Ни по одному из событий статистический тест не показал различие в конверсии.\n",
    "\n",
    "Данные получаемые из системы аналитики достоверны, разбиение на группы корректно, можно проводить основной A/B тест.\n",
    "\n",
    "</div>"
   ]
  },
  {
   "cell_type": "markdown",
   "id": "57cd5a8f",
   "metadata": {},
   "source": [
    "### А/B-эксперимент<a name=\"53\"></a>"
   ]
  },
  {
   "cell_type": "markdown",
   "id": "9f2853b7",
   "metadata": {},
   "source": [
    "_______________________________________________________________________________________________________________________________\n",
    "**Сформулируем гипотезы**\n",
    "\n",
    "Нулевая гипотеза:  \n",
    "H0 - конверсия пользователя в экспериментальной и контрольной группах 246 и 247 **не различается**\n",
    "\n",
    "Альтернативная гипотеза:  \n",
    "H1 - конверсия пользователя в экспериментальной и контрольной группах 246 и 247 **различается**\n",
    "_______________________________________________________________________________________________________________________________"
   ]
  },
  {
   "cell_type": "markdown",
   "id": "8de02312",
   "metadata": {},
   "source": [
    "**Проведем А/B-эксперимент для экспериментальной группы.  \n",
    "Сравним экспериментальную группу с двумя контрольными и объединенной.**  \n",
    "\n",
    "Использовать будем ранее написанную функцию Z-критерия.  \n",
    "p-value определим на уровне 5%.  \n",
    "\n",
    "Этот уровень обаладает достаточной чувствительностью для приложения.  \n",
    "Больший уровень чувсвительности нужен в отраслях, требующих большей точности.  \n",
    "Например, медицинская.  "
   ]
  },
  {
   "cell_type": "markdown",
   "id": "fec78d90",
   "metadata": {},
   "source": [
    "Напишем функцию , которая получает на вход dataframe с событиями и возвращает dataframe с результатами статистического теста.  \n",
    "\n",
    "Функция будет принимать на вход:\n",
    "- экспериментальную группу (название)\n",
    "- название столбца с общим количеством пользователей\n",
    "- dataframe, в котором:  \n",
    "строки - это группы  \n",
    "столбцы - это события  \n",
    "значения - это количество пользователей, совершившее событие  \n",
    "\n",
    "Возвращать  \n",
    "- dataframe, где экспериментальная группа сравнивается с контрольными группами:  \n",
    "строки - это события  \n",
    "столбцы - это результат стат.теста и вывод для каждой группы"
   ]
  },
  {
   "cell_type": "code",
   "execution_count": 73,
   "id": "3d19f828",
   "metadata": {},
   "outputs": [],
   "source": [
    "def z_value_dataframe(gr_name, u_name, df):\n",
    "    AB_groups = list(df.index.values)\n",
    "    AB_events = list(df.columns)\n",
    "    AB_groups.remove(gr_name)\n",
    "    AB_events.remove(u_name)\n",
    "    data = {'Event': AB_events}\n",
    "    dataframe = pd.DataFrame(data)\n",
    "    for j in AB_groups:\n",
    "        test_values = []\n",
    "        test_results = []\n",
    "        for i in AB_events:\n",
    "            group1 = users_by_groups.loc[gr_name, u_name]\n",
    "            res1= users_by_groups.loc[gr_name, i]\n",
    "            group2 = users_by_groups.loc[j, u_name]\n",
    "            res2= users_by_groups.loc[j, i]\n",
    "            result = z_value(res1, group1, res2, group2, 0.05)\n",
    "            test_values.append(result[1])\n",
    "            test_results.append(result[0])\n",
    "        col_v = str(j) + ' p-value '\n",
    "        col_r = str(j) + ' result'\n",
    "        dataframe[col_v] = test_values\n",
    "        dataframe[col_r] = test_results\n",
    "    return dataframe"
   ]
  },
  {
   "cell_type": "code",
   "execution_count": 74,
   "id": "d70581c4",
   "metadata": {},
   "outputs": [
    {
     "name": "stdout",
     "output_type": "stream",
     "text": [
      "                                   Сравнение экспериментальной группы с контрольными                                    \n"
     ]
    },
    {
     "data": {
      "text/html": [
       "<div>\n",
       "<style scoped>\n",
       "    .dataframe tbody tr th:only-of-type {\n",
       "        vertical-align: middle;\n",
       "    }\n",
       "\n",
       "    .dataframe tbody tr th {\n",
       "        vertical-align: top;\n",
       "    }\n",
       "\n",
       "    .dataframe thead th {\n",
       "        text-align: right;\n",
       "    }\n",
       "</style>\n",
       "<table border=\"1\" class=\"dataframe\">\n",
       "  <thead>\n",
       "    <tr style=\"text-align: right;\">\n",
       "      <th></th>\n",
       "      <th>Event</th>\n",
       "      <th>246 p-value</th>\n",
       "      <th>246 result</th>\n",
       "      <th>247 p-value</th>\n",
       "      <th>247 result</th>\n",
       "      <th>246+247 p-value</th>\n",
       "      <th>246+247 result</th>\n",
       "    </tr>\n",
       "  </thead>\n",
       "  <tbody>\n",
       "    <tr>\n",
       "      <th>0</th>\n",
       "      <td>CartScreenAppear</td>\n",
       "      <td>0.0784</td>\n",
       "      <td>Принимаем H0, конверсии не отличаются</td>\n",
       "      <td>0.5786</td>\n",
       "      <td>Принимаем H0, конверсии не отличаются</td>\n",
       "      <td>0.3469</td>\n",
       "      <td>Принимаем H0, конверсии не отличаются</td>\n",
       "    </tr>\n",
       "    <tr>\n",
       "      <th>1</th>\n",
       "      <td>MainScreenAppear</td>\n",
       "      <td>0.2950</td>\n",
       "      <td>Принимаем H0, конверсии не отличаются</td>\n",
       "      <td>0.4587</td>\n",
       "      <td>Принимаем H0, конверсии не отличаются</td>\n",
       "      <td>0.4674</td>\n",
       "      <td>Принимаем H0, конверсии не отличаются</td>\n",
       "    </tr>\n",
       "    <tr>\n",
       "      <th>2</th>\n",
       "      <td>OffersScreenAppear</td>\n",
       "      <td>0.2084</td>\n",
       "      <td>Принимаем H0, конверсии не отличаются</td>\n",
       "      <td>0.9198</td>\n",
       "      <td>Принимаем H0, конверсии не отличаются</td>\n",
       "      <td>0.5820</td>\n",
       "      <td>Принимаем H0, конверсии не отличаются</td>\n",
       "    </tr>\n",
       "    <tr>\n",
       "      <th>3</th>\n",
       "      <td>PaymentScreenSuccessful</td>\n",
       "      <td>0.2123</td>\n",
       "      <td>Принимаем H0, конверсии не отличаются</td>\n",
       "      <td>0.7373</td>\n",
       "      <td>Принимаем H0, конверсии не отличаются</td>\n",
       "      <td>0.7121</td>\n",
       "      <td>Принимаем H0, конверсии не отличаются</td>\n",
       "    </tr>\n",
       "    <tr>\n",
       "      <th>4</th>\n",
       "      <td>Tutorial</td>\n",
       "      <td>0.8264</td>\n",
       "      <td>Принимаем H0, конверсии не отличаются</td>\n",
       "      <td>0.7653</td>\n",
       "      <td>Принимаем H0, конверсии не отличаются</td>\n",
       "      <td>0.8329</td>\n",
       "      <td>Принимаем H0, конверсии не отличаются</td>\n",
       "    </tr>\n",
       "  </tbody>\n",
       "</table>\n",
       "</div>"
      ],
      "text/plain": [
       "                     Event  246 p-value   \\\n",
       "0         CartScreenAppear        0.0784   \n",
       "1         MainScreenAppear        0.2950   \n",
       "2       OffersScreenAppear        0.2084   \n",
       "3  PaymentScreenSuccessful        0.2123   \n",
       "4                 Tutorial        0.8264   \n",
       "\n",
       "                              246 result  247 p-value   \\\n",
       "0  Принимаем H0, конверсии не отличаются        0.5786   \n",
       "1  Принимаем H0, конверсии не отличаются        0.4587   \n",
       "2  Принимаем H0, конверсии не отличаются        0.9198   \n",
       "3  Принимаем H0, конверсии не отличаются        0.7373   \n",
       "4  Принимаем H0, конверсии не отличаются        0.7653   \n",
       "\n",
       "                              247 result  246+247 p-value   \\\n",
       "0  Принимаем H0, конверсии не отличаются            0.3469   \n",
       "1  Принимаем H0, конверсии не отличаются            0.4674   \n",
       "2  Принимаем H0, конверсии не отличаются            0.5820   \n",
       "3  Принимаем H0, конверсии не отличаются            0.7121   \n",
       "4  Принимаем H0, конверсии не отличаются            0.8329   \n",
       "\n",
       "                          246+247 result  \n",
       "0  Принимаем H0, конверсии не отличаются  \n",
       "1  Принимаем H0, конверсии не отличаются  \n",
       "2  Принимаем H0, конверсии не отличаются  \n",
       "3  Принимаем H0, конверсии не отличаются  \n",
       "4  Принимаем H0, конверсии не отличаются  "
      ]
     },
     "execution_count": 74,
     "metadata": {},
     "output_type": "execute_result"
    }
   ],
   "source": [
    "print(f'Сравнение экспериментальной группы с контрольными'.center(120))\n",
    "z_value_dataframe(248, 'Users', users_by_groups)"
   ]
  },
  {
   "cell_type": "markdown",
   "id": "12f2c54a",
   "metadata": {},
   "source": [
    "**Вывод**\n"
   ]
  },
  {
   "cell_type": "markdown",
   "id": "f9f1b8c7",
   "metadata": {},
   "source": [
    "<div style=\"border:solid purple 2px; padding: 20px\">   \n",
    "    \n",
    "Ни по одному из событий статистический тест не показал различие в конверсии экспериментальной группы с контрольными.  \n",
    "Полученное значение p-value показывает вероятность получить одинаковые значения.  \n",
    "Если вероятность больше 5%, то мы не можем делать вывод о значимом различии между конверсиями экспериментальной и контрольной групп.  \n",
    "Все вероятности получить одинаковые значения лежат в диапазоне выше 5%.\n",
    "\n",
    "Менеджеры зря опасались падения конверсии, замена шрифтов повлияет на конверсию пользователей в приложении.  \n",
    "Можно оставить новые шрифты и провести A/B тест на большем периоде времени (2-3 недели).  \n",
    "С помощью уже написанных функций проверить результаты повторно.\n",
    "\n",
    "</div>"
   ]
  },
  {
   "cell_type": "markdown",
   "id": "20e91c33",
   "metadata": {},
   "source": [
    "<div style=\"border:solid purple 2px; padding: 20px\">   \n",
    "    \n",
    "Итого в проектной работе:  \n",
    "    \n",
    "- предобработали данные: удалили дубликаты, добавили столбец с датой, перименовали столбцы  \n",
    "- изучили датасет: количество пользователей, конверсии каждого этапа, общая конверсия в покупку, вывели конверсии по каждому событию в разрезе групп  \n",
    "- провели A/A и A/B тесты для каждого события, автоматизировали тесты с помощью функций, выявили отсутствие различий между группами  \n",
    "\n",
    "</div>"
   ]
  }
 ],
 "metadata": {
  "ExecuteTimeLog": [
   {
    "duration": 1274,
    "start_time": "2022-07-24T05:01:18.957Z"
   },
   {
    "duration": 1176,
    "start_time": "2022-07-24T05:01:20.233Z"
   },
   {
    "duration": 28,
    "start_time": "2022-07-24T05:01:21.411Z"
   },
   {
    "duration": 18,
    "start_time": "2022-07-24T05:01:21.442Z"
   },
   {
    "duration": 1921,
    "start_time": "2022-07-24T05:01:21.462Z"
   },
   {
    "duration": 0,
    "start_time": "2022-07-24T05:01:23.389Z"
   },
   {
    "duration": 0,
    "start_time": "2022-07-24T05:01:23.390Z"
   },
   {
    "duration": 0,
    "start_time": "2022-07-24T05:01:23.392Z"
   },
   {
    "duration": 0,
    "start_time": "2022-07-24T05:01:23.393Z"
   },
   {
    "duration": 0,
    "start_time": "2022-07-24T05:01:23.395Z"
   },
   {
    "duration": 0,
    "start_time": "2022-07-24T05:01:23.397Z"
   },
   {
    "duration": 0,
    "start_time": "2022-07-24T05:01:23.399Z"
   },
   {
    "duration": 0,
    "start_time": "2022-07-24T05:01:23.400Z"
   },
   {
    "duration": 0,
    "start_time": "2022-07-24T05:01:23.401Z"
   },
   {
    "duration": 0,
    "start_time": "2022-07-24T05:01:23.403Z"
   },
   {
    "duration": 0,
    "start_time": "2022-07-24T05:01:23.404Z"
   },
   {
    "duration": 0,
    "start_time": "2022-07-24T05:01:23.405Z"
   },
   {
    "duration": 1,
    "start_time": "2022-07-24T05:01:23.406Z"
   },
   {
    "duration": 0,
    "start_time": "2022-07-24T05:01:23.408Z"
   },
   {
    "duration": 0,
    "start_time": "2022-07-24T05:01:23.409Z"
   },
   {
    "duration": 0,
    "start_time": "2022-07-24T05:01:23.411Z"
   },
   {
    "duration": 0,
    "start_time": "2022-07-24T05:01:23.412Z"
   },
   {
    "duration": 0,
    "start_time": "2022-07-24T05:01:23.414Z"
   },
   {
    "duration": 0,
    "start_time": "2022-07-24T05:01:23.415Z"
   },
   {
    "duration": 0,
    "start_time": "2022-07-24T05:01:23.417Z"
   },
   {
    "duration": 0,
    "start_time": "2022-07-24T05:01:23.418Z"
   },
   {
    "duration": 0,
    "start_time": "2022-07-24T05:01:23.419Z"
   },
   {
    "duration": 0,
    "start_time": "2022-07-24T05:01:23.421Z"
   },
   {
    "duration": 1,
    "start_time": "2022-07-24T05:01:23.422Z"
   },
   {
    "duration": 0,
    "start_time": "2022-07-24T05:01:23.424Z"
   },
   {
    "duration": 0,
    "start_time": "2022-07-24T05:01:23.426Z"
   },
   {
    "duration": 0,
    "start_time": "2022-07-24T05:01:23.428Z"
   },
   {
    "duration": 0,
    "start_time": "2022-07-24T05:01:23.429Z"
   },
   {
    "duration": 0,
    "start_time": "2022-07-24T05:01:23.430Z"
   },
   {
    "duration": 0,
    "start_time": "2022-07-24T05:01:23.432Z"
   },
   {
    "duration": 0,
    "start_time": "2022-07-24T05:01:23.434Z"
   },
   {
    "duration": 0,
    "start_time": "2022-07-24T05:01:23.435Z"
   },
   {
    "duration": 0,
    "start_time": "2022-07-24T05:01:23.437Z"
   },
   {
    "duration": 0,
    "start_time": "2022-07-24T05:01:23.438Z"
   },
   {
    "duration": 0,
    "start_time": "2022-07-24T05:01:23.439Z"
   },
   {
    "duration": 0,
    "start_time": "2022-07-24T05:01:23.441Z"
   },
   {
    "duration": 0,
    "start_time": "2022-07-24T05:01:23.442Z"
   },
   {
    "duration": 0,
    "start_time": "2022-07-24T05:01:23.443Z"
   },
   {
    "duration": 0,
    "start_time": "2022-07-24T05:01:23.444Z"
   },
   {
    "duration": 0,
    "start_time": "2022-07-24T05:01:23.449Z"
   },
   {
    "duration": 0,
    "start_time": "2022-07-24T05:01:23.450Z"
   },
   {
    "duration": 0,
    "start_time": "2022-07-24T05:01:23.511Z"
   },
   {
    "duration": 0,
    "start_time": "2022-07-24T05:01:23.512Z"
   },
   {
    "duration": 0,
    "start_time": "2022-07-24T05:01:23.514Z"
   },
   {
    "duration": 0,
    "start_time": "2022-07-24T05:01:23.515Z"
   },
   {
    "duration": 0,
    "start_time": "2022-07-24T05:01:23.517Z"
   },
   {
    "duration": 0,
    "start_time": "2022-07-24T05:01:23.519Z"
   },
   {
    "duration": 0,
    "start_time": "2022-07-24T05:01:23.520Z"
   },
   {
    "duration": 0,
    "start_time": "2022-07-24T05:01:23.521Z"
   },
   {
    "duration": 0,
    "start_time": "2022-07-24T05:01:23.522Z"
   },
   {
    "duration": 0,
    "start_time": "2022-07-24T05:01:23.524Z"
   },
   {
    "duration": 0,
    "start_time": "2022-07-24T05:01:23.526Z"
   },
   {
    "duration": 0,
    "start_time": "2022-07-24T05:01:23.528Z"
   },
   {
    "duration": 0,
    "start_time": "2022-07-24T05:01:23.529Z"
   },
   {
    "duration": 0,
    "start_time": "2022-07-24T05:01:23.530Z"
   },
   {
    "duration": 0,
    "start_time": "2022-07-24T05:01:23.531Z"
   },
   {
    "duration": 0,
    "start_time": "2022-07-24T05:01:23.533Z"
   },
   {
    "duration": 0,
    "start_time": "2022-07-24T05:01:23.534Z"
   },
   {
    "duration": 0,
    "start_time": "2022-07-24T05:01:23.536Z"
   },
   {
    "duration": 0,
    "start_time": "2022-07-24T05:01:23.538Z"
   },
   {
    "duration": 0,
    "start_time": "2022-07-24T05:01:23.540Z"
   },
   {
    "duration": 0,
    "start_time": "2022-07-24T05:01:23.542Z"
   },
   {
    "duration": 0,
    "start_time": "2022-07-24T05:01:23.543Z"
   },
   {
    "duration": 0,
    "start_time": "2022-07-24T05:01:23.544Z"
   },
   {
    "duration": 1256,
    "start_time": "2022-07-24T08:11:49.311Z"
   },
   {
    "duration": 619,
    "start_time": "2022-07-24T08:11:50.569Z"
   },
   {
    "duration": 28,
    "start_time": "2022-07-24T08:11:53.432Z"
   },
   {
    "duration": 17,
    "start_time": "2022-07-24T08:11:54.475Z"
   },
   {
    "duration": 974,
    "start_time": "2022-07-24T08:11:56.133Z"
   },
   {
    "duration": 161,
    "start_time": "2022-07-24T08:12:31.607Z"
   },
   {
    "duration": 3,
    "start_time": "2022-07-24T08:12:37.592Z"
   },
   {
    "duration": 179,
    "start_time": "2022-07-24T08:12:37.597Z"
   },
   {
    "duration": 19,
    "start_time": "2022-07-24T08:12:37.778Z"
   },
   {
    "duration": 32,
    "start_time": "2022-07-24T08:12:37.798Z"
   },
   {
    "duration": 12,
    "start_time": "2022-07-24T08:12:37.832Z"
   },
   {
    "duration": 4,
    "start_time": "2022-07-24T08:12:37.846Z"
   },
   {
    "duration": 11,
    "start_time": "2022-07-24T08:12:37.852Z"
   },
   {
    "duration": 12,
    "start_time": "2022-07-24T08:12:37.865Z"
   },
   {
    "duration": 77,
    "start_time": "2022-07-24T08:12:37.878Z"
   },
   {
    "duration": 70,
    "start_time": "2022-07-24T08:12:37.957Z"
   },
   {
    "duration": 48,
    "start_time": "2022-07-24T08:12:38.030Z"
   },
   {
    "duration": 15,
    "start_time": "2022-07-24T08:12:38.079Z"
   },
   {
    "duration": 92,
    "start_time": "2022-07-24T08:12:38.096Z"
   },
   {
    "duration": 56,
    "start_time": "2022-07-24T08:12:38.190Z"
   },
   {
    "duration": 16,
    "start_time": "2022-07-24T08:12:38.248Z"
   },
   {
    "duration": 5,
    "start_time": "2022-07-24T08:12:38.266Z"
   },
   {
    "duration": 21,
    "start_time": "2022-07-24T08:12:38.272Z"
   },
   {
    "duration": 31,
    "start_time": "2022-07-24T08:12:38.294Z"
   },
   {
    "duration": 8,
    "start_time": "2022-07-24T08:12:38.327Z"
   },
   {
    "duration": 7,
    "start_time": "2022-07-24T08:12:38.337Z"
   },
   {
    "duration": 4,
    "start_time": "2022-07-24T08:12:38.346Z"
   },
   {
    "duration": 20,
    "start_time": "2022-07-24T08:12:38.351Z"
   },
   {
    "duration": 2,
    "start_time": "2022-07-24T08:12:38.373Z"
   },
   {
    "duration": 10,
    "start_time": "2022-07-24T08:12:38.377Z"
   },
   {
    "duration": 36,
    "start_time": "2022-07-24T08:12:38.388Z"
   },
   {
    "duration": 283,
    "start_time": "2022-07-24T08:12:38.425Z"
   },
   {
    "duration": 4,
    "start_time": "2022-07-24T08:12:38.710Z"
   },
   {
    "duration": 5,
    "start_time": "2022-07-24T08:12:38.724Z"
   },
   {
    "duration": 6,
    "start_time": "2022-07-24T08:12:38.733Z"
   },
   {
    "duration": 8,
    "start_time": "2022-07-24T08:12:38.740Z"
   },
   {
    "duration": 1077,
    "start_time": "2022-07-24T08:12:38.750Z"
   },
   {
    "duration": 65,
    "start_time": "2022-07-24T08:12:39.829Z"
   },
   {
    "duration": 50,
    "start_time": "2022-07-24T08:12:39.895Z"
   },
   {
    "duration": 6,
    "start_time": "2022-07-24T08:12:39.947Z"
   },
   {
    "duration": 8,
    "start_time": "2022-07-24T08:12:39.954Z"
   },
   {
    "duration": 7,
    "start_time": "2022-07-24T08:12:39.964Z"
   },
   {
    "duration": 55,
    "start_time": "2022-07-24T08:12:39.972Z"
   },
   {
    "duration": 28,
    "start_time": "2022-07-24T08:12:40.028Z"
   },
   {
    "duration": 70,
    "start_time": "2022-07-24T08:12:40.057Z"
   },
   {
    "duration": 130,
    "start_time": "2022-07-24T08:12:40.128Z"
   },
   {
    "duration": 8,
    "start_time": "2022-07-24T08:12:40.260Z"
   },
   {
    "duration": 9,
    "start_time": "2022-07-24T08:12:40.269Z"
   },
   {
    "duration": 6,
    "start_time": "2022-07-24T08:12:40.279Z"
   },
   {
    "duration": 6,
    "start_time": "2022-07-24T08:12:40.286Z"
   },
   {
    "duration": 7,
    "start_time": "2022-07-24T08:12:40.294Z"
   },
   {
    "duration": 23,
    "start_time": "2022-07-24T08:12:40.302Z"
   },
   {
    "duration": 7,
    "start_time": "2022-07-24T08:12:40.326Z"
   },
   {
    "duration": 27,
    "start_time": "2022-07-24T08:12:40.335Z"
   },
   {
    "duration": 25,
    "start_time": "2022-07-24T08:12:40.364Z"
   },
   {
    "duration": 90,
    "start_time": "2022-07-24T08:12:40.390Z"
   },
   {
    "duration": 7,
    "start_time": "2022-07-24T08:12:40.481Z"
   },
   {
    "duration": 45,
    "start_time": "2022-07-24T08:12:40.489Z"
   },
   {
    "duration": 3,
    "start_time": "2022-07-24T08:12:40.536Z"
   },
   {
    "duration": 10,
    "start_time": "2022-07-24T08:12:40.541Z"
   },
   {
    "duration": 8,
    "start_time": "2022-07-24T08:12:40.552Z"
   },
   {
    "duration": 10,
    "start_time": "2022-07-24T08:12:40.561Z"
   },
   {
    "duration": 11,
    "start_time": "2022-07-24T08:12:40.573Z"
   },
   {
    "duration": 16,
    "start_time": "2022-07-24T08:12:40.586Z"
   },
   {
    "duration": 21,
    "start_time": "2022-07-24T08:12:40.603Z"
   },
   {
    "duration": 4,
    "start_time": "2022-07-24T08:12:40.626Z"
   },
   {
    "duration": 5,
    "start_time": "2022-07-24T08:12:40.632Z"
   },
   {
    "duration": 6,
    "start_time": "2022-07-24T08:12:40.639Z"
   },
   {
    "duration": 8,
    "start_time": "2022-07-24T08:12:40.647Z"
   },
   {
    "duration": 6,
    "start_time": "2022-07-24T08:12:40.657Z"
   },
   {
    "duration": 8,
    "start_time": "2022-07-24T08:12:40.664Z"
   },
   {
    "duration": 7,
    "start_time": "2022-07-24T08:12:40.673Z"
   },
   {
    "duration": 12,
    "start_time": "2022-07-24T08:12:40.681Z"
   },
   {
    "duration": 5,
    "start_time": "2022-07-24T08:12:40.723Z"
   },
   {
    "duration": 30,
    "start_time": "2022-07-24T08:12:40.729Z"
   },
   {
    "duration": 1004,
    "start_time": "2022-07-24T08:14:48.566Z"
   },
   {
    "duration": 157,
    "start_time": "2022-07-24T08:14:49.572Z"
   },
   {
    "duration": 22,
    "start_time": "2022-07-24T08:14:49.731Z"
   },
   {
    "duration": 22,
    "start_time": "2022-07-24T08:14:49.755Z"
   },
   {
    "duration": 15,
    "start_time": "2022-07-24T08:14:49.779Z"
   },
   {
    "duration": 5,
    "start_time": "2022-07-24T08:14:49.795Z"
   },
   {
    "duration": 11,
    "start_time": "2022-07-24T08:14:49.823Z"
   },
   {
    "duration": 14,
    "start_time": "2022-07-24T08:14:49.835Z"
   },
   {
    "duration": 80,
    "start_time": "2022-07-24T08:14:49.851Z"
   },
   {
    "duration": 63,
    "start_time": "2022-07-24T08:14:49.935Z"
   },
   {
    "duration": 68,
    "start_time": "2022-07-24T08:14:50.000Z"
   },
   {
    "duration": 16,
    "start_time": "2022-07-24T08:14:50.070Z"
   },
   {
    "duration": 88,
    "start_time": "2022-07-24T08:14:50.088Z"
   },
   {
    "duration": 58,
    "start_time": "2022-07-24T08:14:50.178Z"
   },
   {
    "duration": 15,
    "start_time": "2022-07-24T08:14:50.238Z"
   },
   {
    "duration": 5,
    "start_time": "2022-07-24T08:14:50.255Z"
   },
   {
    "duration": 23,
    "start_time": "2022-07-24T08:14:50.262Z"
   },
   {
    "duration": 9,
    "start_time": "2022-07-24T08:14:50.287Z"
   },
   {
    "duration": 33,
    "start_time": "2022-07-24T08:14:50.298Z"
   },
   {
    "duration": 9,
    "start_time": "2022-07-24T08:14:50.332Z"
   },
   {
    "duration": 14,
    "start_time": "2022-07-24T08:14:50.343Z"
   },
   {
    "duration": 21,
    "start_time": "2022-07-24T08:14:50.358Z"
   },
   {
    "duration": 3,
    "start_time": "2022-07-24T08:14:50.381Z"
   },
   {
    "duration": 11,
    "start_time": "2022-07-24T08:14:50.386Z"
   },
   {
    "duration": 6,
    "start_time": "2022-07-24T08:14:50.398Z"
   },
   {
    "duration": 306,
    "start_time": "2022-07-24T08:14:50.406Z"
   },
   {
    "duration": 3,
    "start_time": "2022-07-24T08:14:50.714Z"
   },
   {
    "duration": 5,
    "start_time": "2022-07-24T08:14:50.723Z"
   },
   {
    "duration": 6,
    "start_time": "2022-07-24T08:14:50.730Z"
   },
   {
    "duration": 9,
    "start_time": "2022-07-24T08:14:50.737Z"
   },
   {
    "duration": 1104,
    "start_time": "2022-07-24T08:14:50.748Z"
   },
   {
    "duration": 74,
    "start_time": "2022-07-24T08:14:51.854Z"
   },
   {
    "duration": 41,
    "start_time": "2022-07-24T08:14:51.930Z"
   },
   {
    "duration": 7,
    "start_time": "2022-07-24T08:14:51.973Z"
   },
   {
    "duration": 10,
    "start_time": "2022-07-24T08:14:51.981Z"
   },
   {
    "duration": 8,
    "start_time": "2022-07-24T08:14:51.993Z"
   },
   {
    "duration": 51,
    "start_time": "2022-07-24T08:14:52.003Z"
   },
   {
    "duration": 27,
    "start_time": "2022-07-24T08:14:52.056Z"
   },
   {
    "duration": 74,
    "start_time": "2022-07-24T08:14:52.085Z"
   },
   {
    "duration": 131,
    "start_time": "2022-07-24T08:14:52.160Z"
   },
   {
    "duration": 17,
    "start_time": "2022-07-24T08:14:52.293Z"
   },
   {
    "duration": 17,
    "start_time": "2022-07-24T08:14:52.311Z"
   },
   {
    "duration": 6,
    "start_time": "2022-07-24T08:14:52.330Z"
   },
   {
    "duration": 5,
    "start_time": "2022-07-24T08:14:52.338Z"
   },
   {
    "duration": 7,
    "start_time": "2022-07-24T08:14:52.344Z"
   },
   {
    "duration": 11,
    "start_time": "2022-07-24T08:14:52.352Z"
   },
   {
    "duration": 14,
    "start_time": "2022-07-24T08:14:52.364Z"
   },
   {
    "duration": 36,
    "start_time": "2022-07-24T08:14:52.380Z"
   },
   {
    "duration": 28,
    "start_time": "2022-07-24T08:14:52.418Z"
   },
   {
    "duration": 65,
    "start_time": "2022-07-24T08:14:52.448Z"
   },
   {
    "duration": 7,
    "start_time": "2022-07-24T08:14:52.524Z"
   },
   {
    "duration": 35,
    "start_time": "2022-07-24T08:14:52.532Z"
   },
   {
    "duration": 4,
    "start_time": "2022-07-24T08:14:52.569Z"
   },
   {
    "duration": 14,
    "start_time": "2022-07-24T08:14:52.575Z"
   },
   {
    "duration": 11,
    "start_time": "2022-07-24T08:14:52.591Z"
   },
   {
    "duration": 20,
    "start_time": "2022-07-24T08:14:52.604Z"
   },
   {
    "duration": 16,
    "start_time": "2022-07-24T08:14:52.625Z"
   },
   {
    "duration": 13,
    "start_time": "2022-07-24T08:14:52.643Z"
   },
   {
    "duration": 15,
    "start_time": "2022-07-24T08:14:52.657Z"
   },
   {
    "duration": 6,
    "start_time": "2022-07-24T08:14:52.673Z"
   },
   {
    "duration": 9,
    "start_time": "2022-07-24T08:14:52.681Z"
   },
   {
    "duration": 10,
    "start_time": "2022-07-24T08:14:52.691Z"
   },
   {
    "duration": 11,
    "start_time": "2022-07-24T08:14:52.702Z"
   },
   {
    "duration": 11,
    "start_time": "2022-07-24T08:14:52.715Z"
   },
   {
    "duration": 11,
    "start_time": "2022-07-24T08:14:52.728Z"
   },
   {
    "duration": 13,
    "start_time": "2022-07-24T08:14:52.741Z"
   },
   {
    "duration": 19,
    "start_time": "2022-07-24T08:14:52.756Z"
   },
   {
    "duration": 5,
    "start_time": "2022-07-24T08:14:52.777Z"
   },
   {
    "duration": 40,
    "start_time": "2022-07-24T08:14:52.784Z"
   },
   {
    "duration": 48,
    "start_time": "2022-07-24T08:15:39.602Z"
   },
   {
    "duration": 1194,
    "start_time": "2022-07-24T12:43:54.594Z"
   },
   {
    "duration": 527,
    "start_time": "2022-07-24T12:43:55.790Z"
   },
   {
    "duration": 22,
    "start_time": "2022-07-24T12:43:56.319Z"
   },
   {
    "duration": 16,
    "start_time": "2022-07-24T12:43:56.343Z"
   },
   {
    "duration": 14,
    "start_time": "2022-07-24T12:43:56.361Z"
   },
   {
    "duration": 5,
    "start_time": "2022-07-24T12:43:56.376Z"
   },
   {
    "duration": 42,
    "start_time": "2022-07-24T12:43:56.382Z"
   },
   {
    "duration": 14,
    "start_time": "2022-07-24T12:43:56.426Z"
   },
   {
    "duration": 63,
    "start_time": "2022-07-24T12:43:56.441Z"
   },
   {
    "duration": 69,
    "start_time": "2022-07-24T12:43:56.525Z"
   },
   {
    "duration": 65,
    "start_time": "2022-07-24T12:43:56.596Z"
   },
   {
    "duration": 16,
    "start_time": "2022-07-24T12:43:56.662Z"
   },
   {
    "duration": 101,
    "start_time": "2022-07-24T12:43:56.679Z"
   },
   {
    "duration": 57,
    "start_time": "2022-07-24T12:43:56.782Z"
   },
   {
    "duration": 17,
    "start_time": "2022-07-24T12:43:56.841Z"
   },
   {
    "duration": 4,
    "start_time": "2022-07-24T12:43:56.860Z"
   },
   {
    "duration": 30,
    "start_time": "2022-07-24T12:43:56.866Z"
   },
   {
    "duration": 30,
    "start_time": "2022-07-24T12:43:56.898Z"
   },
   {
    "duration": 9,
    "start_time": "2022-07-24T12:43:56.930Z"
   },
   {
    "duration": 7,
    "start_time": "2022-07-24T12:43:56.941Z"
   },
   {
    "duration": 21,
    "start_time": "2022-07-24T12:43:56.950Z"
   },
   {
    "duration": 54,
    "start_time": "2022-07-24T12:43:56.973Z"
   },
   {
    "duration": 15,
    "start_time": "2022-07-24T12:43:57.029Z"
   },
   {
    "duration": 51,
    "start_time": "2022-07-24T12:43:57.046Z"
   },
   {
    "duration": 9,
    "start_time": "2022-07-24T12:43:57.100Z"
   },
   {
    "duration": 421,
    "start_time": "2022-07-24T12:43:57.111Z"
   },
   {
    "duration": 4,
    "start_time": "2022-07-24T12:43:57.534Z"
   },
   {
    "duration": 4,
    "start_time": "2022-07-24T12:43:57.542Z"
   },
   {
    "duration": 6,
    "start_time": "2022-07-24T12:43:57.548Z"
   },
   {
    "duration": 6,
    "start_time": "2022-07-24T12:43:57.555Z"
   },
   {
    "duration": 1158,
    "start_time": "2022-07-24T12:43:57.563Z"
   },
   {
    "duration": 62,
    "start_time": "2022-07-24T12:43:58.724Z"
   },
   {
    "duration": 57,
    "start_time": "2022-07-24T12:43:58.787Z"
   },
   {
    "duration": 8,
    "start_time": "2022-07-24T12:43:58.846Z"
   },
   {
    "duration": 16,
    "start_time": "2022-07-24T12:43:58.855Z"
   },
   {
    "duration": 8,
    "start_time": "2022-07-24T12:43:58.874Z"
   },
   {
    "duration": 45,
    "start_time": "2022-07-24T12:43:58.884Z"
   },
   {
    "duration": 27,
    "start_time": "2022-07-24T12:43:58.930Z"
   },
   {
    "duration": 66,
    "start_time": "2022-07-24T12:43:58.959Z"
   },
   {
    "duration": 136,
    "start_time": "2022-07-24T12:43:59.027Z"
   },
   {
    "duration": 9,
    "start_time": "2022-07-24T12:43:59.165Z"
   },
   {
    "duration": 11,
    "start_time": "2022-07-24T12:43:59.176Z"
   },
   {
    "duration": 11,
    "start_time": "2022-07-24T12:43:59.189Z"
   },
   {
    "duration": 22,
    "start_time": "2022-07-24T12:43:59.202Z"
   },
   {
    "duration": 6,
    "start_time": "2022-07-24T12:43:59.226Z"
   },
   {
    "duration": 7,
    "start_time": "2022-07-24T12:43:59.234Z"
   },
   {
    "duration": 8,
    "start_time": "2022-07-24T12:43:59.243Z"
   },
   {
    "duration": 36,
    "start_time": "2022-07-24T12:43:59.253Z"
   },
   {
    "duration": 65,
    "start_time": "2022-07-24T12:43:59.291Z"
   },
   {
    "duration": 83,
    "start_time": "2022-07-24T12:43:59.357Z"
   },
   {
    "duration": 8,
    "start_time": "2022-07-24T12:43:59.442Z"
   },
   {
    "duration": 31,
    "start_time": "2022-07-24T12:43:59.452Z"
   },
   {
    "duration": 5,
    "start_time": "2022-07-24T12:43:59.484Z"
   },
   {
    "duration": 12,
    "start_time": "2022-07-24T12:43:59.490Z"
   },
   {
    "duration": 7,
    "start_time": "2022-07-24T12:43:59.523Z"
   },
   {
    "duration": 9,
    "start_time": "2022-07-24T12:43:59.531Z"
   },
   {
    "duration": 13,
    "start_time": "2022-07-24T12:43:59.541Z"
   },
   {
    "duration": 16,
    "start_time": "2022-07-24T12:43:59.556Z"
   },
   {
    "duration": 14,
    "start_time": "2022-07-24T12:43:59.575Z"
   },
   {
    "duration": 33,
    "start_time": "2022-07-24T12:43:59.590Z"
   },
   {
    "duration": 11,
    "start_time": "2022-07-24T12:43:59.625Z"
   },
   {
    "duration": 8,
    "start_time": "2022-07-24T12:43:59.638Z"
   },
   {
    "duration": 10,
    "start_time": "2022-07-24T12:43:59.647Z"
   },
   {
    "duration": 9,
    "start_time": "2022-07-24T12:43:59.659Z"
   },
   {
    "duration": 5,
    "start_time": "2022-07-24T12:43:59.670Z"
   },
   {
    "duration": 7,
    "start_time": "2022-07-24T12:43:59.677Z"
   },
   {
    "duration": 17,
    "start_time": "2022-07-24T12:43:59.686Z"
   },
   {
    "duration": 21,
    "start_time": "2022-07-24T12:43:59.705Z"
   },
   {
    "duration": 38,
    "start_time": "2022-07-24T12:43:59.727Z"
   },
   {
    "duration": 1268,
    "start_time": "2022-07-25T04:52:11.684Z"
   },
   {
    "duration": 554,
    "start_time": "2022-07-25T04:52:12.955Z"
   },
   {
    "duration": 27,
    "start_time": "2022-07-25T04:52:13.512Z"
   },
   {
    "duration": 26,
    "start_time": "2022-07-25T04:52:13.542Z"
   },
   {
    "duration": 19,
    "start_time": "2022-07-25T04:52:13.570Z"
   },
   {
    "duration": 6,
    "start_time": "2022-07-25T04:52:13.592Z"
   },
   {
    "duration": 11,
    "start_time": "2022-07-25T04:52:13.623Z"
   },
   {
    "duration": 28,
    "start_time": "2022-07-25T04:52:13.636Z"
   },
   {
    "duration": 78,
    "start_time": "2022-07-25T04:52:13.666Z"
   },
   {
    "duration": 85,
    "start_time": "2022-07-25T04:52:13.747Z"
   },
   {
    "duration": 57,
    "start_time": "2022-07-25T04:52:13.834Z"
   },
   {
    "duration": 33,
    "start_time": "2022-07-25T04:52:13.893Z"
   },
   {
    "duration": 103,
    "start_time": "2022-07-25T04:52:13.927Z"
   },
   {
    "duration": 58,
    "start_time": "2022-07-25T04:52:14.032Z"
   },
   {
    "duration": 40,
    "start_time": "2022-07-25T04:52:14.092Z"
   },
   {
    "duration": 5,
    "start_time": "2022-07-25T04:52:14.134Z"
   },
   {
    "duration": 27,
    "start_time": "2022-07-25T04:52:14.141Z"
   },
   {
    "duration": 15,
    "start_time": "2022-07-25T04:52:14.170Z"
   },
   {
    "duration": 13,
    "start_time": "2022-07-25T04:52:14.187Z"
   },
   {
    "duration": 26,
    "start_time": "2022-07-25T04:52:14.202Z"
   },
   {
    "duration": 8,
    "start_time": "2022-07-25T04:52:14.229Z"
   },
   {
    "duration": 25,
    "start_time": "2022-07-25T04:52:14.239Z"
   },
   {
    "duration": 3,
    "start_time": "2022-07-25T04:52:14.266Z"
   },
   {
    "duration": 13,
    "start_time": "2022-07-25T04:52:14.271Z"
   },
   {
    "duration": 13,
    "start_time": "2022-07-25T04:52:14.285Z"
   },
   {
    "duration": 385,
    "start_time": "2022-07-25T04:52:14.299Z"
   },
   {
    "duration": 6,
    "start_time": "2022-07-25T04:52:14.686Z"
   },
   {
    "duration": 3,
    "start_time": "2022-07-25T04:52:14.697Z"
   },
   {
    "duration": 20,
    "start_time": "2022-07-25T04:52:14.702Z"
   },
   {
    "duration": 18,
    "start_time": "2022-07-25T04:52:14.724Z"
   },
   {
    "duration": 1201,
    "start_time": "2022-07-25T04:52:14.744Z"
   },
   {
    "duration": 76,
    "start_time": "2022-07-25T04:52:15.947Z"
   },
   {
    "duration": 56,
    "start_time": "2022-07-25T04:52:16.025Z"
   },
   {
    "duration": 7,
    "start_time": "2022-07-25T04:52:16.083Z"
   },
   {
    "duration": 19,
    "start_time": "2022-07-25T04:52:16.092Z"
   },
   {
    "duration": 30,
    "start_time": "2022-07-25T04:52:16.113Z"
   },
   {
    "duration": 11,
    "start_time": "2022-07-25T04:52:16.144Z"
   },
   {
    "duration": 32,
    "start_time": "2022-07-25T04:52:16.156Z"
   },
   {
    "duration": 40,
    "start_time": "2022-07-25T04:52:16.190Z"
   },
   {
    "duration": 54,
    "start_time": "2022-07-25T04:52:16.231Z"
   },
   {
    "duration": 138,
    "start_time": "2022-07-25T04:52:16.287Z"
   },
   {
    "duration": 7,
    "start_time": "2022-07-25T04:52:16.427Z"
   },
   {
    "duration": 11,
    "start_time": "2022-07-25T04:52:16.435Z"
   },
   {
    "duration": 11,
    "start_time": "2022-07-25T04:52:16.448Z"
   },
   {
    "duration": 16,
    "start_time": "2022-07-25T04:52:16.460Z"
   },
   {
    "duration": 23,
    "start_time": "2022-07-25T04:52:16.477Z"
   },
   {
    "duration": 13,
    "start_time": "2022-07-25T04:52:16.502Z"
   },
   {
    "duration": 17,
    "start_time": "2022-07-25T04:52:16.517Z"
   },
   {
    "duration": 18,
    "start_time": "2022-07-25T04:52:16.535Z"
   },
   {
    "duration": 5,
    "start_time": "2022-07-25T04:52:16.554Z"
   },
   {
    "duration": 14,
    "start_time": "2022-07-25T04:52:16.561Z"
   },
   {
    "duration": 7,
    "start_time": "2022-07-25T04:52:16.577Z"
   },
   {
    "duration": 16,
    "start_time": "2022-07-25T04:52:16.586Z"
   },
   {
    "duration": 4,
    "start_time": "2022-07-25T04:52:16.604Z"
   },
   {
    "duration": 288,
    "start_time": "2022-07-25T04:52:16.610Z"
   },
   {
    "duration": 32,
    "start_time": "2022-07-25T04:52:16.899Z"
   },
   {
    "duration": 25,
    "start_time": "2022-07-25T04:52:16.933Z"
   },
   {
    "duration": 124,
    "start_time": "2022-07-25T04:52:16.961Z"
   },
   {
    "duration": 7,
    "start_time": "2022-07-25T04:52:17.087Z"
   },
   {
    "duration": 57,
    "start_time": "2022-07-25T04:52:17.096Z"
   },
   {
    "duration": 3,
    "start_time": "2022-07-25T04:52:17.155Z"
   },
   {
    "duration": 10,
    "start_time": "2022-07-25T04:52:17.160Z"
   },
   {
    "duration": 8,
    "start_time": "2022-07-25T04:52:17.172Z"
   },
   {
    "duration": 8,
    "start_time": "2022-07-25T04:52:17.182Z"
   },
   {
    "duration": 10,
    "start_time": "2022-07-25T04:52:17.191Z"
   },
   {
    "duration": 27,
    "start_time": "2022-07-25T04:52:17.202Z"
   },
   {
    "duration": 17,
    "start_time": "2022-07-25T04:52:17.231Z"
   },
   {
    "duration": 17,
    "start_time": "2022-07-25T04:52:17.250Z"
   },
   {
    "duration": 14,
    "start_time": "2022-07-25T04:52:17.268Z"
   },
   {
    "duration": 11,
    "start_time": "2022-07-25T04:52:17.284Z"
   },
   {
    "duration": 7,
    "start_time": "2022-07-25T04:52:17.296Z"
   },
   {
    "duration": 8,
    "start_time": "2022-07-25T04:52:17.304Z"
   },
   {
    "duration": 9,
    "start_time": "2022-07-25T04:52:17.313Z"
   },
   {
    "duration": 11,
    "start_time": "2022-07-25T04:52:17.323Z"
   },
   {
    "duration": 6,
    "start_time": "2022-07-25T04:52:17.335Z"
   },
   {
    "duration": 18,
    "start_time": "2022-07-25T04:52:17.342Z"
   },
   {
    "duration": 5,
    "start_time": "2022-07-25T04:52:17.361Z"
   },
   {
    "duration": 53,
    "start_time": "2022-07-25T04:52:17.368Z"
   }
  ],
  "hide_input": false,
  "kernelspec": {
   "display_name": "Python 3",
   "language": "python",
   "name": "python3"
  },
  "language_info": {
   "codemirror_mode": {
    "name": "ipython",
    "version": 3
   },
   "file_extension": ".py",
   "mimetype": "text/x-python",
   "name": "python",
   "nbconvert_exporter": "python",
   "pygments_lexer": "ipython3",
   "version": "3.8.5"
  },
  "latex_envs": {
   "LaTeX_envs_menu_present": true,
   "autoclose": false,
   "autocomplete": true,
   "bibliofile": "biblio.bib",
   "cite_by": "apalike",
   "current_citInitial": 1,
   "eqLabelWithNumbers": true,
   "eqNumInitial": 1,
   "hotkeys": {
    "equation": "Ctrl-E",
    "itemize": "Ctrl-I"
   },
   "labels_anchors": false,
   "latex_user_defs": false,
   "report_style_numbering": false,
   "user_envs_cfg": false
  },
  "toc": {
   "base_numbering": 1,
   "nav_menu": {},
   "number_sections": true,
   "sideBar": true,
   "skip_h1_title": true,
   "title_cell": "Table of Contents",
   "title_sidebar": "Contents",
   "toc_cell": false,
   "toc_position": {},
   "toc_section_display": true,
   "toc_window_display": false
  }
 },
 "nbformat": 4,
 "nbformat_minor": 5
}
